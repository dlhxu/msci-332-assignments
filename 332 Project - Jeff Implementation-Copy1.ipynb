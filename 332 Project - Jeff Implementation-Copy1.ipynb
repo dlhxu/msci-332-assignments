{
 "cells": [
  {
   "cell_type": "code",
   "execution_count": 12,
   "metadata": {},
   "outputs": [
    {
     "name": "stdout",
     "output_type": "stream",
     "text": [
      "Number of tables: 5\n",
      "Table widths: [4, 3, 3, 2, 2]\n",
      "Table heights: [3, 3, 4, 2, 2]\n",
      "Table underperformance matrix: [[1, 1, 1, 1, 1], [1, 1, 1, 1, 1], [1, 1, 1, 1, 1], [1, 1, 1, 1, 1], [1, 1, 1, 1, 1]]\n",
      "Gurobi Optimizer version 9.0.3 build v9.0.3rc0 (win64)\n",
      "Optimize a model with 110 rows, 77 columns and 380 nonzeros\n",
      "Model fingerprint: 0xd358a945\n",
      "Variable types: 12 continuous, 65 integer (65 binary)\n",
      "Coefficient statistics:\n",
      "  Matrix range     [1e+00, 3e+01]\n",
      "  Objective range  [3e-01, 1e+00]\n",
      "  Bounds range     [1e+00, 1e+00]\n",
      "  RHS range        [1e+00, 2e+02]\n",
      "Found heuristic solution: objective 203.0000000\n",
      "Presolve removed 49 rows and 12 columns\n",
      "Presolve time: 0.00s\n",
      "Presolved: 61 rows, 65 columns, 215 nonzeros\n",
      "Variable types: 10 continuous, 55 integer (55 binary)\n",
      "\n",
      "Root relaxation: objective 1.105000e+02, 10 iterations, 0.00 seconds\n",
      "\n",
      "    Nodes    |    Current Node    |     Objective Bounds      |     Work\n",
      " Expl Unexpl |  Obj  Depth IntInf | Incumbent    BestBd   Gap | It/Node Time\n",
      "\n",
      "     0     0  110.50000    0    6  203.00000  110.50000  45.6%     -    0s\n",
      "H    0     0                     170.0000000  110.50000  35.0%     -    0s\n",
      "H    0     0                     142.5000000  110.50000  22.5%     -    0s\n",
      "H    0     0                     110.5000000  110.50000  0.00%     -    0s\n",
      "     0     0  110.50000    0    6  110.50000  110.50000  0.00%     -    0s\n",
      "\n",
      "Explored 1 nodes (10 simplex iterations) in 0.02 seconds\n",
      "Thread count was 8 (of 8 available processors)\n",
      "\n",
      "Solution count 4: 110.5 142.5 170 203 \n",
      "\n",
      "Optimal solution found (tolerance 1.00e-04)\n",
      "Best objective 1.105000000000e+02, best bound 1.105000000000e+02, gap 0.0000%\n",
      "Room size: 195 m^2\n",
      "Table 0 was not used. Position: ( 0.0 , 0.0 ). Capacity: 3 Table space height: 5 Table space width: 6\n",
      "Table 1 was  used. Position: ( 6.0 , 6.0 ). Capacity: 3 Table space height: 5 Table space width: 5\n",
      "Table 2 was  used. Position: ( 6.0 , 0.0 ). Capacity: 3 Table space height: 6 Table space width: 5\n",
      "Table 3 was  used. Position: ( 0.0 , 0.0 ). Capacity: 3 Table space height: 4 Table space width: 4\n",
      "Table 4 was  used. Position: ( 0.0 , 0.0 ). Capacity: 3 Table space height: 4 Table space width: 4\n",
      "Goal 1: Unused space must be under 2 m^2.\n",
      "Goal 1 Result: Unused space was 108.0 m^2.\n",
      "Goal 2: Facility capacity must be over 10 to remain profitable.\n",
      "Goal 2 Result: Facility capacity was unmet by 1.0 .\n",
      "Underperformance level for this table setup is 3.0\n"
     ]
    },
    {
     "data": {
      "application/vnd.plotly.v1+json": {
       "config": {
        "plotlyServerURL": "https://plot.ly"
       },
       "data": [
        {
         "fill": "toself",
         "type": "scatter",
         "x": [
          0,
          15,
          "none",
          15,
          15,
          "none",
          0,
          0,
          6,
          6,
          0,
          "none",
          0,
          15,
          "none",
          15,
          15,
          "none",
          6,
          6,
          11,
          11,
          6,
          "none",
          0,
          15,
          "none",
          15,
          15,
          "none",
          6,
          6,
          11,
          11,
          6,
          "none"
         ],
         "y": [
          13,
          13,
          "none",
          0,
          13,
          "none",
          0,
          5,
          5,
          0,
          0,
          "none",
          13,
          13,
          "none",
          0,
          13,
          "none",
          6,
          11,
          11,
          6,
          6,
          "none",
          13,
          13,
          "none",
          0,
          13,
          "none",
          0,
          6,
          6,
          0,
          0,
          "none"
         ]
        }
       ],
       "layout": {
        "template": {
         "data": {
          "bar": [
           {
            "error_x": {
             "color": "#2a3f5f"
            },
            "error_y": {
             "color": "#2a3f5f"
            },
            "marker": {
             "line": {
              "color": "#E5ECF6",
              "width": 0.5
             }
            },
            "type": "bar"
           }
          ],
          "barpolar": [
           {
            "marker": {
             "line": {
              "color": "#E5ECF6",
              "width": 0.5
             }
            },
            "type": "barpolar"
           }
          ],
          "carpet": [
           {
            "aaxis": {
             "endlinecolor": "#2a3f5f",
             "gridcolor": "white",
             "linecolor": "white",
             "minorgridcolor": "white",
             "startlinecolor": "#2a3f5f"
            },
            "baxis": {
             "endlinecolor": "#2a3f5f",
             "gridcolor": "white",
             "linecolor": "white",
             "minorgridcolor": "white",
             "startlinecolor": "#2a3f5f"
            },
            "type": "carpet"
           }
          ],
          "choropleth": [
           {
            "colorbar": {
             "outlinewidth": 0,
             "ticks": ""
            },
            "type": "choropleth"
           }
          ],
          "contour": [
           {
            "colorbar": {
             "outlinewidth": 0,
             "ticks": ""
            },
            "colorscale": [
             [
              0,
              "#0d0887"
             ],
             [
              0.1111111111111111,
              "#46039f"
             ],
             [
              0.2222222222222222,
              "#7201a8"
             ],
             [
              0.3333333333333333,
              "#9c179e"
             ],
             [
              0.4444444444444444,
              "#bd3786"
             ],
             [
              0.5555555555555556,
              "#d8576b"
             ],
             [
              0.6666666666666666,
              "#ed7953"
             ],
             [
              0.7777777777777778,
              "#fb9f3a"
             ],
             [
              0.8888888888888888,
              "#fdca26"
             ],
             [
              1,
              "#f0f921"
             ]
            ],
            "type": "contour"
           }
          ],
          "contourcarpet": [
           {
            "colorbar": {
             "outlinewidth": 0,
             "ticks": ""
            },
            "type": "contourcarpet"
           }
          ],
          "heatmap": [
           {
            "colorbar": {
             "outlinewidth": 0,
             "ticks": ""
            },
            "colorscale": [
             [
              0,
              "#0d0887"
             ],
             [
              0.1111111111111111,
              "#46039f"
             ],
             [
              0.2222222222222222,
              "#7201a8"
             ],
             [
              0.3333333333333333,
              "#9c179e"
             ],
             [
              0.4444444444444444,
              "#bd3786"
             ],
             [
              0.5555555555555556,
              "#d8576b"
             ],
             [
              0.6666666666666666,
              "#ed7953"
             ],
             [
              0.7777777777777778,
              "#fb9f3a"
             ],
             [
              0.8888888888888888,
              "#fdca26"
             ],
             [
              1,
              "#f0f921"
             ]
            ],
            "type": "heatmap"
           }
          ],
          "heatmapgl": [
           {
            "colorbar": {
             "outlinewidth": 0,
             "ticks": ""
            },
            "colorscale": [
             [
              0,
              "#0d0887"
             ],
             [
              0.1111111111111111,
              "#46039f"
             ],
             [
              0.2222222222222222,
              "#7201a8"
             ],
             [
              0.3333333333333333,
              "#9c179e"
             ],
             [
              0.4444444444444444,
              "#bd3786"
             ],
             [
              0.5555555555555556,
              "#d8576b"
             ],
             [
              0.6666666666666666,
              "#ed7953"
             ],
             [
              0.7777777777777778,
              "#fb9f3a"
             ],
             [
              0.8888888888888888,
              "#fdca26"
             ],
             [
              1,
              "#f0f921"
             ]
            ],
            "type": "heatmapgl"
           }
          ],
          "histogram": [
           {
            "marker": {
             "colorbar": {
              "outlinewidth": 0,
              "ticks": ""
             }
            },
            "type": "histogram"
           }
          ],
          "histogram2d": [
           {
            "colorbar": {
             "outlinewidth": 0,
             "ticks": ""
            },
            "colorscale": [
             [
              0,
              "#0d0887"
             ],
             [
              0.1111111111111111,
              "#46039f"
             ],
             [
              0.2222222222222222,
              "#7201a8"
             ],
             [
              0.3333333333333333,
              "#9c179e"
             ],
             [
              0.4444444444444444,
              "#bd3786"
             ],
             [
              0.5555555555555556,
              "#d8576b"
             ],
             [
              0.6666666666666666,
              "#ed7953"
             ],
             [
              0.7777777777777778,
              "#fb9f3a"
             ],
             [
              0.8888888888888888,
              "#fdca26"
             ],
             [
              1,
              "#f0f921"
             ]
            ],
            "type": "histogram2d"
           }
          ],
          "histogram2dcontour": [
           {
            "colorbar": {
             "outlinewidth": 0,
             "ticks": ""
            },
            "colorscale": [
             [
              0,
              "#0d0887"
             ],
             [
              0.1111111111111111,
              "#46039f"
             ],
             [
              0.2222222222222222,
              "#7201a8"
             ],
             [
              0.3333333333333333,
              "#9c179e"
             ],
             [
              0.4444444444444444,
              "#bd3786"
             ],
             [
              0.5555555555555556,
              "#d8576b"
             ],
             [
              0.6666666666666666,
              "#ed7953"
             ],
             [
              0.7777777777777778,
              "#fb9f3a"
             ],
             [
              0.8888888888888888,
              "#fdca26"
             ],
             [
              1,
              "#f0f921"
             ]
            ],
            "type": "histogram2dcontour"
           }
          ],
          "mesh3d": [
           {
            "colorbar": {
             "outlinewidth": 0,
             "ticks": ""
            },
            "type": "mesh3d"
           }
          ],
          "parcoords": [
           {
            "line": {
             "colorbar": {
              "outlinewidth": 0,
              "ticks": ""
             }
            },
            "type": "parcoords"
           }
          ],
          "pie": [
           {
            "automargin": true,
            "type": "pie"
           }
          ],
          "scatter": [
           {
            "marker": {
             "colorbar": {
              "outlinewidth": 0,
              "ticks": ""
             }
            },
            "type": "scatter"
           }
          ],
          "scatter3d": [
           {
            "line": {
             "colorbar": {
              "outlinewidth": 0,
              "ticks": ""
             }
            },
            "marker": {
             "colorbar": {
              "outlinewidth": 0,
              "ticks": ""
             }
            },
            "type": "scatter3d"
           }
          ],
          "scattercarpet": [
           {
            "marker": {
             "colorbar": {
              "outlinewidth": 0,
              "ticks": ""
             }
            },
            "type": "scattercarpet"
           }
          ],
          "scattergeo": [
           {
            "marker": {
             "colorbar": {
              "outlinewidth": 0,
              "ticks": ""
             }
            },
            "type": "scattergeo"
           }
          ],
          "scattergl": [
           {
            "marker": {
             "colorbar": {
              "outlinewidth": 0,
              "ticks": ""
             }
            },
            "type": "scattergl"
           }
          ],
          "scattermapbox": [
           {
            "marker": {
             "colorbar": {
              "outlinewidth": 0,
              "ticks": ""
             }
            },
            "type": "scattermapbox"
           }
          ],
          "scatterpolar": [
           {
            "marker": {
             "colorbar": {
              "outlinewidth": 0,
              "ticks": ""
             }
            },
            "type": "scatterpolar"
           }
          ],
          "scatterpolargl": [
           {
            "marker": {
             "colorbar": {
              "outlinewidth": 0,
              "ticks": ""
             }
            },
            "type": "scatterpolargl"
           }
          ],
          "scatterternary": [
           {
            "marker": {
             "colorbar": {
              "outlinewidth": 0,
              "ticks": ""
             }
            },
            "type": "scatterternary"
           }
          ],
          "surface": [
           {
            "colorbar": {
             "outlinewidth": 0,
             "ticks": ""
            },
            "colorscale": [
             [
              0,
              "#0d0887"
             ],
             [
              0.1111111111111111,
              "#46039f"
             ],
             [
              0.2222222222222222,
              "#7201a8"
             ],
             [
              0.3333333333333333,
              "#9c179e"
             ],
             [
              0.4444444444444444,
              "#bd3786"
             ],
             [
              0.5555555555555556,
              "#d8576b"
             ],
             [
              0.6666666666666666,
              "#ed7953"
             ],
             [
              0.7777777777777778,
              "#fb9f3a"
             ],
             [
              0.8888888888888888,
              "#fdca26"
             ],
             [
              1,
              "#f0f921"
             ]
            ],
            "type": "surface"
           }
          ],
          "table": [
           {
            "cells": {
             "fill": {
              "color": "#EBF0F8"
             },
             "line": {
              "color": "white"
             }
            },
            "header": {
             "fill": {
              "color": "#C8D4E3"
             },
             "line": {
              "color": "white"
             }
            },
            "type": "table"
           }
          ]
         },
         "layout": {
          "annotationdefaults": {
           "arrowcolor": "#2a3f5f",
           "arrowhead": 0,
           "arrowwidth": 1
          },
          "coloraxis": {
           "colorbar": {
            "outlinewidth": 0,
            "ticks": ""
           }
          },
          "colorscale": {
           "diverging": [
            [
             0,
             "#8e0152"
            ],
            [
             0.1,
             "#c51b7d"
            ],
            [
             0.2,
             "#de77ae"
            ],
            [
             0.3,
             "#f1b6da"
            ],
            [
             0.4,
             "#fde0ef"
            ],
            [
             0.5,
             "#f7f7f7"
            ],
            [
             0.6,
             "#e6f5d0"
            ],
            [
             0.7,
             "#b8e186"
            ],
            [
             0.8,
             "#7fbc41"
            ],
            [
             0.9,
             "#4d9221"
            ],
            [
             1,
             "#276419"
            ]
           ],
           "sequential": [
            [
             0,
             "#0d0887"
            ],
            [
             0.1111111111111111,
             "#46039f"
            ],
            [
             0.2222222222222222,
             "#7201a8"
            ],
            [
             0.3333333333333333,
             "#9c179e"
            ],
            [
             0.4444444444444444,
             "#bd3786"
            ],
            [
             0.5555555555555556,
             "#d8576b"
            ],
            [
             0.6666666666666666,
             "#ed7953"
            ],
            [
             0.7777777777777778,
             "#fb9f3a"
            ],
            [
             0.8888888888888888,
             "#fdca26"
            ],
            [
             1,
             "#f0f921"
            ]
           ],
           "sequentialminus": [
            [
             0,
             "#0d0887"
            ],
            [
             0.1111111111111111,
             "#46039f"
            ],
            [
             0.2222222222222222,
             "#7201a8"
            ],
            [
             0.3333333333333333,
             "#9c179e"
            ],
            [
             0.4444444444444444,
             "#bd3786"
            ],
            [
             0.5555555555555556,
             "#d8576b"
            ],
            [
             0.6666666666666666,
             "#ed7953"
            ],
            [
             0.7777777777777778,
             "#fb9f3a"
            ],
            [
             0.8888888888888888,
             "#fdca26"
            ],
            [
             1,
             "#f0f921"
            ]
           ]
          },
          "colorway": [
           "#636efa",
           "#EF553B",
           "#00cc96",
           "#ab63fa",
           "#FFA15A",
           "#19d3f3",
           "#FF6692",
           "#B6E880",
           "#FF97FF",
           "#FECB52"
          ],
          "font": {
           "color": "#2a3f5f"
          },
          "geo": {
           "bgcolor": "white",
           "lakecolor": "white",
           "landcolor": "#E5ECF6",
           "showlakes": true,
           "showland": true,
           "subunitcolor": "white"
          },
          "hoverlabel": {
           "align": "left"
          },
          "hovermode": "closest",
          "mapbox": {
           "style": "light"
          },
          "paper_bgcolor": "white",
          "plot_bgcolor": "#E5ECF6",
          "polar": {
           "angularaxis": {
            "gridcolor": "white",
            "linecolor": "white",
            "ticks": ""
           },
           "bgcolor": "#E5ECF6",
           "radialaxis": {
            "gridcolor": "white",
            "linecolor": "white",
            "ticks": ""
           }
          },
          "scene": {
           "xaxis": {
            "backgroundcolor": "#E5ECF6",
            "gridcolor": "white",
            "gridwidth": 2,
            "linecolor": "white",
            "showbackground": true,
            "ticks": "",
            "zerolinecolor": "white"
           },
           "yaxis": {
            "backgroundcolor": "#E5ECF6",
            "gridcolor": "white",
            "gridwidth": 2,
            "linecolor": "white",
            "showbackground": true,
            "ticks": "",
            "zerolinecolor": "white"
           },
           "zaxis": {
            "backgroundcolor": "#E5ECF6",
            "gridcolor": "white",
            "gridwidth": 2,
            "linecolor": "white",
            "showbackground": true,
            "ticks": "",
            "zerolinecolor": "white"
           }
          },
          "shapedefaults": {
           "line": {
            "color": "#2a3f5f"
           }
          },
          "ternary": {
           "aaxis": {
            "gridcolor": "white",
            "linecolor": "white",
            "ticks": ""
           },
           "baxis": {
            "gridcolor": "white",
            "linecolor": "white",
            "ticks": ""
           },
           "bgcolor": "#E5ECF6",
           "caxis": {
            "gridcolor": "white",
            "linecolor": "white",
            "ticks": ""
           }
          },
          "title": {
           "x": 0.05
          },
          "xaxis": {
           "automargin": true,
           "gridcolor": "white",
           "linecolor": "white",
           "ticks": "",
           "title": {
            "standoff": 15
           },
           "zerolinecolor": "white",
           "zerolinewidth": 2
          },
          "yaxis": {
           "automargin": true,
           "gridcolor": "white",
           "linecolor": "white",
           "ticks": "",
           "title": {
            "standoff": 15
           },
           "zerolinecolor": "white",
           "zerolinewidth": 2
          }
         }
        }
       }
      },
      "text/html": [
       "<div>                            <div id=\"d6670237-b604-4a3a-be34-98124d01af7d\" class=\"plotly-graph-div\" style=\"height:525px; width:100%;\"></div>            <script type=\"text/javascript\">                require([\"plotly\"], function(Plotly) {                    window.PLOTLYENV=window.PLOTLYENV || {};                                    if (document.getElementById(\"d6670237-b604-4a3a-be34-98124d01af7d\")) {                    Plotly.newPlot(                        \"d6670237-b604-4a3a-be34-98124d01af7d\",                        [{\"fill\": \"toself\", \"type\": \"scatter\", \"x\": [0, 15, \"none\", 15, 15, \"none\", 0.0, 0.0, 6.0, 6.0, 0.0, \"none\", 0, 15, \"none\", 15, 15, \"none\", 6.0, 6.0, 11.0, 11.0, 6.0, \"none\", 0, 15, \"none\", 15, 15, \"none\", 6.0, 6.0, 11.0, 11.0, 6.0, \"none\"], \"y\": [13, 13, \"none\", 0, 13, \"none\", 0.0, 5.0, 5.0, 0.0, 0.0, \"none\", 13, 13, \"none\", 0, 13, \"none\", 6.0, 11.0, 11.0, 6.0, 6.0, \"none\", 13, 13, \"none\", 0, 13, \"none\", 0.0, 6.0, 6.0, 0.0, 0.0, \"none\"]}],                        {\"template\": {\"data\": {\"bar\": [{\"error_x\": {\"color\": \"#2a3f5f\"}, \"error_y\": {\"color\": \"#2a3f5f\"}, \"marker\": {\"line\": {\"color\": \"#E5ECF6\", \"width\": 0.5}}, \"type\": \"bar\"}], \"barpolar\": [{\"marker\": {\"line\": {\"color\": \"#E5ECF6\", \"width\": 0.5}}, \"type\": \"barpolar\"}], \"carpet\": [{\"aaxis\": {\"endlinecolor\": \"#2a3f5f\", \"gridcolor\": \"white\", \"linecolor\": \"white\", \"minorgridcolor\": \"white\", \"startlinecolor\": \"#2a3f5f\"}, \"baxis\": {\"endlinecolor\": \"#2a3f5f\", \"gridcolor\": \"white\", \"linecolor\": \"white\", \"minorgridcolor\": \"white\", \"startlinecolor\": \"#2a3f5f\"}, \"type\": \"carpet\"}], \"choropleth\": [{\"colorbar\": {\"outlinewidth\": 0, \"ticks\": \"\"}, \"type\": \"choropleth\"}], \"contour\": [{\"colorbar\": {\"outlinewidth\": 0, \"ticks\": \"\"}, \"colorscale\": [[0.0, \"#0d0887\"], [0.1111111111111111, \"#46039f\"], [0.2222222222222222, \"#7201a8\"], [0.3333333333333333, \"#9c179e\"], [0.4444444444444444, \"#bd3786\"], [0.5555555555555556, \"#d8576b\"], [0.6666666666666666, \"#ed7953\"], [0.7777777777777778, \"#fb9f3a\"], [0.8888888888888888, \"#fdca26\"], [1.0, \"#f0f921\"]], \"type\": \"contour\"}], \"contourcarpet\": [{\"colorbar\": {\"outlinewidth\": 0, \"ticks\": \"\"}, \"type\": \"contourcarpet\"}], \"heatmap\": [{\"colorbar\": {\"outlinewidth\": 0, \"ticks\": \"\"}, \"colorscale\": [[0.0, \"#0d0887\"], [0.1111111111111111, \"#46039f\"], [0.2222222222222222, \"#7201a8\"], [0.3333333333333333, \"#9c179e\"], [0.4444444444444444, \"#bd3786\"], [0.5555555555555556, \"#d8576b\"], [0.6666666666666666, \"#ed7953\"], [0.7777777777777778, \"#fb9f3a\"], [0.8888888888888888, \"#fdca26\"], [1.0, \"#f0f921\"]], \"type\": \"heatmap\"}], \"heatmapgl\": [{\"colorbar\": {\"outlinewidth\": 0, \"ticks\": \"\"}, \"colorscale\": [[0.0, \"#0d0887\"], [0.1111111111111111, \"#46039f\"], [0.2222222222222222, \"#7201a8\"], [0.3333333333333333, \"#9c179e\"], [0.4444444444444444, \"#bd3786\"], [0.5555555555555556, \"#d8576b\"], [0.6666666666666666, \"#ed7953\"], [0.7777777777777778, \"#fb9f3a\"], [0.8888888888888888, \"#fdca26\"], [1.0, \"#f0f921\"]], \"type\": \"heatmapgl\"}], \"histogram\": [{\"marker\": {\"colorbar\": {\"outlinewidth\": 0, \"ticks\": \"\"}}, \"type\": \"histogram\"}], \"histogram2d\": [{\"colorbar\": {\"outlinewidth\": 0, \"ticks\": \"\"}, \"colorscale\": [[0.0, \"#0d0887\"], [0.1111111111111111, \"#46039f\"], [0.2222222222222222, \"#7201a8\"], [0.3333333333333333, \"#9c179e\"], [0.4444444444444444, \"#bd3786\"], [0.5555555555555556, \"#d8576b\"], [0.6666666666666666, \"#ed7953\"], [0.7777777777777778, \"#fb9f3a\"], [0.8888888888888888, \"#fdca26\"], [1.0, \"#f0f921\"]], \"type\": \"histogram2d\"}], \"histogram2dcontour\": [{\"colorbar\": {\"outlinewidth\": 0, \"ticks\": \"\"}, \"colorscale\": [[0.0, \"#0d0887\"], [0.1111111111111111, \"#46039f\"], [0.2222222222222222, \"#7201a8\"], [0.3333333333333333, \"#9c179e\"], [0.4444444444444444, \"#bd3786\"], [0.5555555555555556, \"#d8576b\"], [0.6666666666666666, \"#ed7953\"], [0.7777777777777778, \"#fb9f3a\"], [0.8888888888888888, \"#fdca26\"], [1.0, \"#f0f921\"]], \"type\": \"histogram2dcontour\"}], \"mesh3d\": [{\"colorbar\": {\"outlinewidth\": 0, \"ticks\": \"\"}, \"type\": \"mesh3d\"}], \"parcoords\": [{\"line\": {\"colorbar\": {\"outlinewidth\": 0, \"ticks\": \"\"}}, \"type\": \"parcoords\"}], \"pie\": [{\"automargin\": true, \"type\": \"pie\"}], \"scatter\": [{\"marker\": {\"colorbar\": {\"outlinewidth\": 0, \"ticks\": \"\"}}, \"type\": \"scatter\"}], \"scatter3d\": [{\"line\": {\"colorbar\": {\"outlinewidth\": 0, \"ticks\": \"\"}}, \"marker\": {\"colorbar\": {\"outlinewidth\": 0, \"ticks\": \"\"}}, \"type\": \"scatter3d\"}], \"scattercarpet\": [{\"marker\": {\"colorbar\": {\"outlinewidth\": 0, \"ticks\": \"\"}}, \"type\": \"scattercarpet\"}], \"scattergeo\": [{\"marker\": {\"colorbar\": {\"outlinewidth\": 0, \"ticks\": \"\"}}, \"type\": \"scattergeo\"}], \"scattergl\": [{\"marker\": {\"colorbar\": {\"outlinewidth\": 0, \"ticks\": \"\"}}, \"type\": \"scattergl\"}], \"scattermapbox\": [{\"marker\": {\"colorbar\": {\"outlinewidth\": 0, \"ticks\": \"\"}}, \"type\": \"scattermapbox\"}], \"scatterpolar\": [{\"marker\": {\"colorbar\": {\"outlinewidth\": 0, \"ticks\": \"\"}}, \"type\": \"scatterpolar\"}], \"scatterpolargl\": [{\"marker\": {\"colorbar\": {\"outlinewidth\": 0, \"ticks\": \"\"}}, \"type\": \"scatterpolargl\"}], \"scatterternary\": [{\"marker\": {\"colorbar\": {\"outlinewidth\": 0, \"ticks\": \"\"}}, \"type\": \"scatterternary\"}], \"surface\": [{\"colorbar\": {\"outlinewidth\": 0, \"ticks\": \"\"}, \"colorscale\": [[0.0, \"#0d0887\"], [0.1111111111111111, \"#46039f\"], [0.2222222222222222, \"#7201a8\"], [0.3333333333333333, \"#9c179e\"], [0.4444444444444444, \"#bd3786\"], [0.5555555555555556, \"#d8576b\"], [0.6666666666666666, \"#ed7953\"], [0.7777777777777778, \"#fb9f3a\"], [0.8888888888888888, \"#fdca26\"], [1.0, \"#f0f921\"]], \"type\": \"surface\"}], \"table\": [{\"cells\": {\"fill\": {\"color\": \"#EBF0F8\"}, \"line\": {\"color\": \"white\"}}, \"header\": {\"fill\": {\"color\": \"#C8D4E3\"}, \"line\": {\"color\": \"white\"}}, \"type\": \"table\"}]}, \"layout\": {\"annotationdefaults\": {\"arrowcolor\": \"#2a3f5f\", \"arrowhead\": 0, \"arrowwidth\": 1}, \"coloraxis\": {\"colorbar\": {\"outlinewidth\": 0, \"ticks\": \"\"}}, \"colorscale\": {\"diverging\": [[0, \"#8e0152\"], [0.1, \"#c51b7d\"], [0.2, \"#de77ae\"], [0.3, \"#f1b6da\"], [0.4, \"#fde0ef\"], [0.5, \"#f7f7f7\"], [0.6, \"#e6f5d0\"], [0.7, \"#b8e186\"], [0.8, \"#7fbc41\"], [0.9, \"#4d9221\"], [1, \"#276419\"]], \"sequential\": [[0.0, \"#0d0887\"], [0.1111111111111111, \"#46039f\"], [0.2222222222222222, \"#7201a8\"], [0.3333333333333333, \"#9c179e\"], [0.4444444444444444, \"#bd3786\"], [0.5555555555555556, \"#d8576b\"], [0.6666666666666666, \"#ed7953\"], [0.7777777777777778, \"#fb9f3a\"], [0.8888888888888888, \"#fdca26\"], [1.0, \"#f0f921\"]], \"sequentialminus\": [[0.0, \"#0d0887\"], [0.1111111111111111, \"#46039f\"], [0.2222222222222222, \"#7201a8\"], [0.3333333333333333, \"#9c179e\"], [0.4444444444444444, \"#bd3786\"], [0.5555555555555556, \"#d8576b\"], [0.6666666666666666, \"#ed7953\"], [0.7777777777777778, \"#fb9f3a\"], [0.8888888888888888, \"#fdca26\"], [1.0, \"#f0f921\"]]}, \"colorway\": [\"#636efa\", \"#EF553B\", \"#00cc96\", \"#ab63fa\", \"#FFA15A\", \"#19d3f3\", \"#FF6692\", \"#B6E880\", \"#FF97FF\", \"#FECB52\"], \"font\": {\"color\": \"#2a3f5f\"}, \"geo\": {\"bgcolor\": \"white\", \"lakecolor\": \"white\", \"landcolor\": \"#E5ECF6\", \"showlakes\": true, \"showland\": true, \"subunitcolor\": \"white\"}, \"hoverlabel\": {\"align\": \"left\"}, \"hovermode\": \"closest\", \"mapbox\": {\"style\": \"light\"}, \"paper_bgcolor\": \"white\", \"plot_bgcolor\": \"#E5ECF6\", \"polar\": {\"angularaxis\": {\"gridcolor\": \"white\", \"linecolor\": \"white\", \"ticks\": \"\"}, \"bgcolor\": \"#E5ECF6\", \"radialaxis\": {\"gridcolor\": \"white\", \"linecolor\": \"white\", \"ticks\": \"\"}}, \"scene\": {\"xaxis\": {\"backgroundcolor\": \"#E5ECF6\", \"gridcolor\": \"white\", \"gridwidth\": 2, \"linecolor\": \"white\", \"showbackground\": true, \"ticks\": \"\", \"zerolinecolor\": \"white\"}, \"yaxis\": {\"backgroundcolor\": \"#E5ECF6\", \"gridcolor\": \"white\", \"gridwidth\": 2, \"linecolor\": \"white\", \"showbackground\": true, \"ticks\": \"\", \"zerolinecolor\": \"white\"}, \"zaxis\": {\"backgroundcolor\": \"#E5ECF6\", \"gridcolor\": \"white\", \"gridwidth\": 2, \"linecolor\": \"white\", \"showbackground\": true, \"ticks\": \"\", \"zerolinecolor\": \"white\"}}, \"shapedefaults\": {\"line\": {\"color\": \"#2a3f5f\"}}, \"ternary\": {\"aaxis\": {\"gridcolor\": \"white\", \"linecolor\": \"white\", \"ticks\": \"\"}, \"baxis\": {\"gridcolor\": \"white\", \"linecolor\": \"white\", \"ticks\": \"\"}, \"bgcolor\": \"#E5ECF6\", \"caxis\": {\"gridcolor\": \"white\", \"linecolor\": \"white\", \"ticks\": \"\"}}, \"title\": {\"x\": 0.05}, \"xaxis\": {\"automargin\": true, \"gridcolor\": \"white\", \"linecolor\": \"white\", \"ticks\": \"\", \"title\": {\"standoff\": 15}, \"zerolinecolor\": \"white\", \"zerolinewidth\": 2}, \"yaxis\": {\"automargin\": true, \"gridcolor\": \"white\", \"linecolor\": \"white\", \"ticks\": \"\", \"title\": {\"standoff\": 15}, \"zerolinecolor\": \"white\", \"zerolinewidth\": 2}}}},                        {\"responsive\": true}                    ).then(function(){\n",
       "                            \n",
       "var gd = document.getElementById('d6670237-b604-4a3a-be34-98124d01af7d');\n",
       "var x = new MutationObserver(function (mutations, observer) {{\n",
       "        var display = window.getComputedStyle(gd).display;\n",
       "        if (!display || display === 'none') {{\n",
       "            console.log([gd, 'removed!']);\n",
       "            Plotly.purge(gd);\n",
       "            observer.disconnect();\n",
       "        }}\n",
       "}});\n",
       "\n",
       "// Listen for the removal of the full notebook cells\n",
       "var notebookContainer = gd.closest('#notebook-container');\n",
       "if (notebookContainer) {{\n",
       "    x.observe(notebookContainer, {childList: true});\n",
       "}}\n",
       "\n",
       "// Listen for the clearing of the current output cell\n",
       "var outputEl = gd.closest('.output');\n",
       "if (outputEl) {{\n",
       "    x.observe(outputEl, {childList: true});\n",
       "}}\n",
       "\n",
       "                        })                };                });            </script>        </div>"
      ]
     },
     "metadata": {},
     "output_type": "display_data"
    }
   ],
   "source": [
    "import json \n",
    "import gurobipy as gp\n",
    "from gurobipy import GRB\n",
    "import pandas as pd\n",
    "from gurobipy import quicksum\n",
    "import plotly.graph_objects as go\n",
    "\n",
    "with open('generated_instances.json') as f:\n",
    "  loaded_instances = json.load(f)\n",
    "\n",
    "# instance is an object containing generated instance parameters\n",
    "def solveModel(instance, iteration):\n",
    "    # STEP 1: DEFINE THE MODEL\n",
    "    m = gp.Model()\n",
    "    \n",
    "    # STEP 2: DEFINE THE PARAMETERS THAT WILL BE USED\n",
    "    \n",
    "    #number of tables\n",
    "    N = instance['num_tables']\n",
    "    print(\"Number of tables:\", N)\n",
    "    \n",
    "    #Minimum physical distance required between tables\n",
    "    d = 2\n",
    "    \n",
    "    #capacity for each table\n",
    "    c = [table['capacity'] for table in instance['tables']]\n",
    "    \n",
    "    #width for each table\n",
    "    w = [table['width'] for table in instance['tables']]\n",
    "    print(\"Table widths:\", w)\n",
    "   \n",
    "    #account for physical distancing margin\n",
    "    for i in range(len(w)):\n",
    "        w[i] += d\n",
    "\n",
    "    #height for each table\n",
    "    h = [table['height'] for table in instance['tables']]\n",
    "    print(\"Table heights:\", h)\n",
    "    \n",
    "    #account for physical distancing margin\n",
    "    for i in range(len(h)):\n",
    "        h[i] += d\n",
    "    \n",
    "    #Width of dining space\n",
    "    Rw = instance['width']\n",
    "\n",
    "    #Height of dining space\n",
    "    Rh = instance['height']\n",
    "    \n",
    "    #Unused table space goal\n",
    "    U = 2\n",
    "\n",
    "    #Minimum desired establishment capacity goal\n",
    "    C = \n",
    "\n",
    "    #Underperformance measure of staff when table i and j are used Uij[rows][columns]\n",
    "    Uij =  [[1 for table in instance['tables']] for table in instance['tables'] ]\n",
    "    print(\"Table underperformance matrix:\", Uij)\n",
    "  \n",
    "    # STEP 3: DEFINE DECISION VARIABLES\n",
    "    \n",
    "    #binary, if table i is used\n",
    "    f = {}\n",
    "    for i in range(N):\n",
    "        f[i] = m.addVar(vtype=GRB.BINARY, name=\"f_\" +str(i))\n",
    "\n",
    "    #bottom left x coordinate of table i\n",
    "    x = {}\n",
    "    for i in range(N):\n",
    "        x[i] = m.addVar(vtype=GRB.CONTINUOUS, name=\"x_\"+str(i))\n",
    "\n",
    "    #bottom left y coordinate of table i\n",
    "    y = {}\n",
    "    for i in range(N):\n",
    "        y[i] = m.addVar(vtype=GRB.CONTINUOUS, name=\"y_\"+str(i))\n",
    "\n",
    "\n",
    "    #binary, if table i is located left to table j\n",
    "    l = {}\n",
    "    for i in range(N):\n",
    "        for j in range(N):\n",
    "            if i != j:\n",
    "                l[i, j] = m.addVar(vtype=GRB.BINARY, name=\"l_\" +str(i)+str(j))\n",
    "\n",
    "    #binary, if table i is located below to table j\n",
    "    b = {}\n",
    "    for i in range(N):\n",
    "        for j in range(N):\n",
    "            if i != j:\n",
    "                b[i, j] = m.addVar(vtype=GRB.BINARY, name=\"b_\" +str(i)+str(j))\n",
    "\n",
    "    #binary, if table i and table j are both used\n",
    "    g = {}\n",
    "    for i in range(N):\n",
    "        for j in range(N):\n",
    "            if i != j:\n",
    "                g[i, j] = m.addVar(vtype=GRB.BINARY, name=\"g_\" +str(i)+str(j))\n",
    "\n",
    "    #surplus for goal 1  \n",
    "    g1={}\n",
    "    g1 = m.addVar(vtype=GRB.CONTINUOUS, name=\"g1\")\n",
    "\n",
    "    #slack/surplus for goal 2\n",
    "    g2={}\n",
    "    g2= m.addVar(vtype=GRB.CONTINUOUS, name=\"g2\")\n",
    "    \n",
    "    \n",
    "    # STEP 4: DEFINE OBJECTIVE FUNCTION\n",
    "    nonlinearobj = quicksum((g[i, j]*Uij[i][j])/2 for i in range(N) for j in range(N) if i != j)\n",
    "    m.setObjective(g1+g2+(1/2*nonlinearobj), GRB.MINIMIZE)\n",
    "    \n",
    "    # Step 5: ADD CONSTRAINTS\n",
    "    # no overlap\n",
    "    m.addConstrs(l[i,j] + l[j,i] + b[i,j] + b[j,i] + (1-f[i]) + (1-f[j])  >= 1 for i in range(N) for j in range(N) if i != j)\n",
    "\n",
    "    # If a table i is to the left of table j, table i's right edge x coordinate  must be less than table j's x left edge x coordinate\n",
    "    m.addConstrs(x[i] + w[i] <= (x[j] + Rw - Rw*l[i,j]) for i in range(N) for j in range(N) if i != j)\n",
    "\n",
    "    #If table i is below j, table i's top edge y coordinate must be less than table j's bottom edge y coordinate\n",
    "    m.addConstrs(y[i] + h[i] <= (y[j] + Rh - Rh*b[i,j]) for i in range(N) for j in range(N) if i != j)\n",
    "\n",
    "    #table space must exist within the dining space\n",
    "    m.addConstrs(x[i] >= 0 for i in range(N))\n",
    "    m.addConstrs(x[i]+w[i]<= Rw for i in range (N))\n",
    "    m.addConstrs(y[i] >= 0 for i in range(N))\n",
    "    m.addConstrs(y[i]+h[i]<= Rh for i in range (N))\n",
    "\n",
    "    #Unused table space must be under U - GOAL 1\n",
    "    m.addConstrs((Rw*Rh) - quicksum((w[i])*(h[i])*f[i] for i in range(N)) - g1 == U for i in range(N))\n",
    "\n",
    "    #Facility capacity must be over C to remain profitable - GOAL 2\n",
    "    m.addConstrs(quicksum(f[i]*c[i] for i in range(N)) + g2 == C for i in range(N))\n",
    "\n",
    "    #Quadratic constraint\n",
    "    m.addConstrs(g[i,j] >= f[i] + f[j] - 1 for i in range(N) for j in range(N) if i != j)\n",
    "\n",
    "    #update model\n",
    "    m.update()\n",
    "    \n",
    "    # STEP 6: SOLVE THE MODEL\n",
    "    m.optimize()\n",
    "    \n",
    "    # STEP 7: VISUALLY DISPLAY RESULTS\n",
    "    #Parameters\n",
    "    print(\"Room size:\", Rw*Rh, \"m^2\")\n",
    "    #Tables:\n",
    "    for i in f:\n",
    "        print(\"Table\", i, \"was\", \"not\" if i==0 else \"\", \"used.\", \"Position:\", \"(\", x[i].x,\",\",y[i].x,\").\", \"Capacity:\", c[i], \"Table space height:\", h[i], \"Table space width:\", w[i])\n",
    "    #Goal 1 print\n",
    "    print(\"Goal 1: Unused space must be under\", U, \"m^2.\", )\n",
    "    print(\"Goal 1 Result: Unused space was\", g1.x, \"m^2.\", )\n",
    "    \n",
    "    #Goal 2 print\n",
    "    print(\"Goal 2: Facility capacity must be over\", C, \"to remain profitable.\", )\n",
    "    print(\"Goal 2 Result: Facility capacity was unmet by\", g2.x, \".\", )\n",
    "    \n",
    "    #nonlinear element print\n",
    "    print(\"Underperformance level for this table setup is\", nonlinearobj.getValue())\n",
    "    tableUsedData = []\n",
    "    \n",
    "#     for tableUsed in f:\n",
    "#         tableUsedData.append(f[tableUsed].x)\n",
    "#     xCoords = []\n",
    "#     for i in x:\n",
    "#         xCoords.append(x[i].x)\n",
    "#     yCoords = []\n",
    "#     for i in y:\n",
    "#         yCoords.append(y[i].x)\n",
    "#     d = {'ifUsed' : tableUsedData, 'x-coord' : xCoords, 'y-coord' : yCoords, 'capacity' : c, 'table space width' : w, 'table space height' : h}\n",
    "#     df = pd.DataFrame(data=d)\n",
    "    \n",
    "    # STEP 8: CREATE VISUALIZATION USING PLOTLY\n",
    "    xCoordPlot = []\n",
    "    yCoordPlot = []\n",
    "    for i in f:\n",
    "        if(f[i].x == 1):\n",
    "            #top border\n",
    "            xCoordPlot.append(0)\n",
    "            xCoordPlot.append(Rw)\n",
    "            yCoordPlot.append(Rh)\n",
    "            yCoordPlot.append(Rh)\n",
    "            xCoordPlot.append(\"none\")\n",
    "            yCoordPlot.append(\"none\")\n",
    "\n",
    "            #right border\n",
    "            xCoordPlot.append(Rw)\n",
    "            xCoordPlot.append(Rw)\n",
    "            yCoordPlot.append(0)\n",
    "            yCoordPlot.append(Rh)\n",
    "            xCoordPlot.append(\"none\")\n",
    "            yCoordPlot.append(\"none\")\n",
    "            #x\n",
    "            xCoordPlot.append(x[i].x)\n",
    "            xCoordPlot.append(x[i].x)\n",
    "            xCoordPlot.append(x[i].x + w[i])\n",
    "            xCoordPlot.append(x[i].x + w[i])\n",
    "            xCoordPlot.append(x[i].x)\n",
    "            xCoordPlot.append(\"none\")\n",
    "            #y\n",
    "            yCoordPlot.append(y[i].x)\n",
    "            yCoordPlot.append(y[i].x + h[i])\n",
    "            yCoordPlot.append(y[i].x + h[i])\n",
    "            yCoordPlot.append(y[i].x)\n",
    "            yCoordPlot.append(y[i].x)\n",
    "            yCoordPlot.append(\"none\")\n",
    "            \n",
    "    fig = go.Figure(go.Scatter(x=xCoordPlot, y=yCoordPlot, fill=\"toself\"))\n",
    "    fig.show()\n",
    "    # STEP 9: SAVE MODEL, SOLUTION, PLOTLY FIGURE, AND DECISION VARIABLE VALUES TO /solved_models/ DIRECTORY\n",
    "   # m.write('solved_models/instance_%d_out.lp' % iteration)\n",
    "    #m.write('solved_models/instance_%d_out.json' % iteration)\n",
    "    #fig.write_image('solved_models/instance_%d_fig.png' % iteration, engine='kaleido')\n",
    "    #df.to_csv('solved_models/instance_%d_out.csv' % iteration, index=False)\n",
    "\n",
    "#testInstance = {'restaurant_size': 'small', 'num_tables': 3, 'width': 7, 'height': 7, 'tables': [{'size': 'small', 'width': 1, 'height': 1, 'capacity': 2}, {'size': 'medium', 'width': 1, 'height': 2, 'capacity': 2}, {'size': 'large', 'width': 2, 'height': 2, 'capacity': 2}]}\n",
    "testInstance = {\"restaurant_size\": \"small\", \"num_tables\": 5, \"width\": 15, \"height\": 13, \"tables\": [{\"size\": \"large\", \"width\": 4, \"height\": 3, \"capacity\": 3}, {\"size\": \"medium\", \"width\": 3, \"height\": 3, \"capacity\": 3}, {\"size\": \"large\", \"width\": 3, \"height\": 4, \"capacity\": 3}, {\"size\": \"small\", \"width\": 2, \"height\": 2, \"capacity\": 3}, {\"size\": \"small\", \"width\": 2, \"height\": 2, \"capacity\": 3}]}\n",
    "solveModel(testInstance, 1)\n",
    "# iteration = 0\n",
    "# for instance in loaded_instances:\n",
    "#     print(instance)\n",
    "#     solveModel(instance, iteration)\n",
    "#     iteration+=1"
   ]
  },
  {
   "cell_type": "code",
   "execution_count": null,
   "metadata": {},
   "outputs": [],
   "source": []
  }
 ],
 "metadata": {
  "kernelspec": {
   "display_name": "Python 3",
   "language": "python",
   "name": "python3"
  },
  "language_info": {
   "codemirror_mode": {
    "name": "ipython",
    "version": 3
   },
   "file_extension": ".py",
   "mimetype": "text/x-python",
   "name": "python",
   "nbconvert_exporter": "python",
   "pygments_lexer": "ipython3",
   "version": "3.8.3"
  }
 },
 "nbformat": 4,
 "nbformat_minor": 4
}
