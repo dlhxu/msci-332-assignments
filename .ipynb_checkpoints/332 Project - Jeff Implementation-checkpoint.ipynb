{
 "cells": [
  {
   "cell_type": "raw",
   "metadata": {},
   "source": [
    "## Creating and solving your Application 1 with Gurobi\n",
    "\n",
    "### Restaurant Capacity Maximization Problem\n",
    "\n"
   ]
  },
  {
   "cell_type": "markdown",
   "metadata": {},
   "source": [
    "**Decision Variables**\n",
    "\n",
    "$f_i$ : 1 if table i  is used, 0 otherwise, where $i=1...N$\n",
    "\n",
    "$g_{ij}:$ 1 if both table i and j are used, 0 otherwise,  \n",
    "\n",
    "$x_i =$ bottom left x coordinate of table i\n",
    "\n",
    "$y_i =$ bottom left x coordinate of table i\n",
    "\n",
    "$l_{ij} =$ 1 if table i is located left to j\n",
    "\n",
    "$b_{ij} =$ 1 if table i is located below j\n",
    "\n",
    "**Parameters**\n",
    "\n",
    "$d$ : The minimum physical distance required between tables\n",
    "\n",
    "$c_i =$ max # people that can be seated @ table i, where $i=1...N$\n",
    "\n",
    "$C$ = Minimum desired establishment capacity\n",
    "\n",
    "$w_i =$ width of table i\n",
    "\n",
    "$h_i =$ height of table i\n",
    "\n",
    "$R_w =$ width of dining space\n",
    "\n",
    "$R_h =$ height of dining space\n",
    "\n",
    "$U_{ij}$ = Underperformance measure of staff when table i and j are used\n",
    "\n",
    "**Objective Function:\n",
    "\n",
    "$min$ $z$ = $g_1^+ + g_2^- +\\sum_{i=1}^{N}\\sum_{j=1, i\\neq j}^{N}g_{ij}U_{ij}$\n",
    "\n",
    "**s.t**\n",
    "Force non-linear element to be 0 or 1:\n",
    "\n",
    "$g_{ij} >= f_i+f_j-1 \\ i, j \\in T and \\ i \\neq j$\n",
    "\n",
    "No overlap if the following constraint is true:\n",
    "\n",
    "$l_{ij} + l_{ji} + b_{ij} + b_{ji} + (1-x_i) + (1-x_j) >= 1, \\ i, j \\in T, \\ i<j$ \n",
    "\n",
    "If a table i is to the left of table j, table i's right edge x coordinate  must be less than table j's x left edge x coordinate:\n",
    "\n",
    "$x_i +w_i +d/2 <= x_j + W - W_{ij}, \\ i, j \\in T$\n",
    "\n",
    "If table i is below j, table i's top edge y coordinate must be less than table j's bottom edge y coordinate:\n",
    "\n",
    "$y_i +h_i+d/2 <= y_j + H - H_{ij}, \\ i, j \\in T$\n",
    "\n",
    "Tables must exist within the dining space:\n",
    "\n",
    "$x_i >= 0, \\ i \\in T$\n",
    "\n",
    "$x_i+w_i+d/2 <= R_x, \\ i \\in T$\n",
    "\n",
    "$y_i >= 0, \\ i \\in T$\n",
    "\n",
    "$y_i+h_i+d/2 <= R_h, \\ i \\in T$\n",
    "\n",
    "Unused table space must be under U:\n",
    "\n",
    "$R_wR_h \\ - \\sum_{i=1}^{N}f_i(w_i+d/2)(h_i+d/2) - (g_1^+-g_1^-) = U, \\ i \\in T$ \n",
    "\n",
    "Facility capacity must be over C to remain profitable\n",
    "\n",
    "$\\sum_{i=1}^{N}c_if_i - (g_2^+-g_2^-) = C, \\ i \\in T$\n",
    "\n",
    "Binary variable constraints:\n",
    "\n",
    "$l_{ij}, b_{ij} \\ \\in {0,1}$\n",
    "\n",
    "$f_{i} \\ \\in {0,1}$\n",
    "\n",
    "$g_{ij}\\in {0,1}$"
   ]
  },
  {
   "cell_type": "markdown",
   "metadata": {},
   "source": [
    "#### Step 1: Import grobipy module"
   ]
  },
  {
   "cell_type": "code",
   "execution_count": 464,
   "metadata": {},
   "outputs": [],
   "source": [
    "import gurobipy as gp\n",
    "from gurobipy import GRB\n",
    "import pandas as pd\n"
   ]
  },
  {
   "cell_type": "markdown",
   "metadata": {},
   "source": [
    "#### Step 2: Define the model"
   ]
  },
  {
   "cell_type": "code",
   "execution_count": 465,
   "metadata": {},
   "outputs": [],
   "source": [
    "m = gp.Model()"
   ]
  },
  {
   "cell_type": "markdown",
   "metadata": {},
   "source": [
    "#### Step 3: Define the sets and sizes"
   ]
  },
  {
   "cell_type": "code",
   "execution_count": 466,
   "metadata": {},
   "outputs": [],
   "source": [
    "#number of tables\n",
    "N = 3\n"
   ]
  },
  {
   "cell_type": "markdown",
   "metadata": {},
   "source": [
    "#### Step 4: Define the parameters"
   ]
  },
  {
   "cell_type": "code",
   "execution_count": 467,
   "metadata": {},
   "outputs": [],
   "source": [
    "\n",
    "    #capacity for each table\n",
    "    #'c': [2, 8],\n",
    "    \n",
    "    #width for each table\n",
    "    w= [1, 1, 2]\n",
    "    \n",
    "    #height for each table\n",
    "    h= [1, 2, 2]\n",
    "    \n",
    "    #Minimum physical distane required between tables\n",
    "    d= 2\n",
    "    \n",
    "    #Width of dining space\n",
    "    Rw= 3\n",
    "\n",
    "    #Height of dining space\n",
    "    Rh=2\n",
    "\n",
    "    #Minimum desired establishment capacity\n",
    "    #'C': 10,\n",
    "\n",
    "    #Underperformance measure of staff when table i and j are used\n",
    "    #'Uij': [[1,1,1,1], [1,1,1,1], [1,1,1,1], [1,1,1,1]]\n",
    "    \n",
    "\n",
    "\n",
    "\n",
    "\n",
    "\n",
    "\n",
    "\n"
   ]
  },
  {
   "cell_type": "markdown",
   "metadata": {},
   "source": [
    "#### Step 5: Define decision variables"
   ]
  },
  {
   "cell_type": "code",
   "execution_count": 468,
   "metadata": {},
   "outputs": [],
   "source": [
    "#binary, if table i is used\n",
    "f = {}\n",
    "for i in range(N):\n",
    "    f[i] = m.addVar(vtype=GRB.BINARY, obj = ((w[i]*h[i])), name=\"f_\" +str(i))\n",
    "    \n",
    "#TODO: binary, if both table i and j are used\n",
    "\n",
    "#bottom left x coordinate of table i\n",
    "x = {}\n",
    "for i in range(N):\n",
    "    x[i] = m.addVar(vtype=GRB.CONTINUOUS, name=\"x_\"+str(i))\n",
    "    \n",
    "#bottom left y coordinate of table i\n",
    "y = {}\n",
    "for i in range(N):\n",
    "    y[i] = m.addVar(vtype=GRB.CONTINUOUS, name=\"y_\"+str(i))\n",
    "    \n",
    "    \n",
    "#binary, if table i is located left to table j\n",
    "l = {}\n",
    "for i in range(N):\n",
    "    for j in range(N):\n",
    "        if i != j:\n",
    "            l[i, j] = m.addVar(vtype=GRB.BINARY, name=\"l_\" +str(i)+str(j))\n",
    "\n",
    "#binary, if table i is located below to table j\n",
    "b = {}\n",
    "for i in range(N):\n",
    "    for j in range(N):\n",
    "        if i != j:\n",
    "            b[i, j] = m.addVar(vtype=GRB.BINARY, name=\"b_\" +str(i)+str(j))"
   ]
  },
  {
   "cell_type": "markdown",
   "metadata": {},
   "source": [
    "#### Step 6: Set the objective function"
   ]
  },
  {
   "cell_type": "code",
   "execution_count": 470,
   "metadata": {},
   "outputs": [
    {
     "ename": "AttributeError",
     "evalue": "Index out of range for attribute 'VarName'",
     "output_type": "error",
     "traceback": [
      "\u001b[1;31m---------------------------------------------------------------------------\u001b[0m",
      "\u001b[1;31mAttributeError\u001b[0m                            Traceback (most recent call last)",
      "\u001b[1;32m<ipython-input-470-a8805941147e>\u001b[0m in \u001b[0;36m<module>\u001b[1;34m\u001b[0m\n\u001b[0;32m      8\u001b[0m     \u001b[0mtableHeight\u001b[0m \u001b[1;33m+=\u001b[0m \u001b[0mifUsed\u001b[0m\u001b[1;33m*\u001b[0m\u001b[0mh\u001b[0m\u001b[1;33m[\u001b[0m\u001b[0mindex\u001b[0m\u001b[1;33m]\u001b[0m\u001b[1;33m\u001b[0m\u001b[1;33m\u001b[0m\u001b[0m\n\u001b[0;32m      9\u001b[0m     \u001b[0mtotalTableArea\u001b[0m \u001b[1;33m+=\u001b[0m \u001b[0mtableWidth\u001b[0m\u001b[1;33m*\u001b[0m\u001b[0mtableHeight\u001b[0m\u001b[1;33m\u001b[0m\u001b[1;33m\u001b[0m\u001b[0m\n\u001b[1;32m---> 10\u001b[1;33m \u001b[0mprint\u001b[0m \u001b[1;33m(\u001b[0m\u001b[0mtotalTableArea\u001b[0m\u001b[1;33m)\u001b[0m\u001b[1;33m\u001b[0m\u001b[1;33m\u001b[0m\u001b[0m\n\u001b[0m\u001b[0;32m     11\u001b[0m \u001b[1;33m\u001b[0m\u001b[0m\n\u001b[0;32m     12\u001b[0m \u001b[1;33m\u001b[0m\u001b[0m\n",
      "\u001b[1;32mquadexpr.pxi\u001b[0m in \u001b[0;36mgurobipy.QuadExpr.__repr__\u001b[1;34m()\u001b[0m\n",
      "\u001b[1;32mvar.pxi\u001b[0m in \u001b[0;36mgurobipy.Var.getAttr\u001b[1;34m()\u001b[0m\n",
      "\u001b[1;32mattrutil.pxi\u001b[0m in \u001b[0;36mgurobipy.__getattr\u001b[1;34m()\u001b[0m\n",
      "\u001b[1;31mAttributeError\u001b[0m: Index out of range for attribute 'VarName'"
     ]
    }
   ],
   "source": [
    "#sum all table areas\n",
    "totalTableArea = 0\n",
    "for index in f:\n",
    "    tableWidth = 0\n",
    "    tableHeight = 0\n",
    "    ifUsed = f[index].x\n",
    "    tableWidth += ifUsed*w[index]\n",
    "    tableHeight += ifUsed*h[index]\n",
    "    totalTableArea += tableWidth*tableHeight\n",
    "print (totalTableArea)\n",
    "    \n",
    "    \n",
    "    \n",
    "m.setObjective(totalTableArea, GRB.MAXIMIZE)\n"
   ]
  },
  {
   "cell_type": "markdown",
   "metadata": {},
   "source": [
    "#### Step 7: Add constraints"
   ]
  },
  {
   "cell_type": "code",
   "execution_count": 455,
   "metadata": {},
   "outputs": [],
   "source": [
    "# no overlap\n",
    "m.addConstrs(l[i,j] + l[j,i] + b[i,j] + b[j,i] + (1-f[i]) + (1-f[j])  >= 1 for i in range(N) for j in range(N) if i != j)\n",
    "# If a table i is to the left of table j, table i's right edge x coordinate  must be less than table j's x left edge x coordinate\n",
    "m.addConstrs(x[i] + w[i] <= (x[j] + Rw - Rw*l[i,j]) for i in range(N) for j in range(N) if i != j)\n",
    "#If table i is below j, table i's top edge y coordinate must be less than table j's bottom edge y coordinate\n",
    "m.addConstrs(y[i] + h[i] <= (y[j] + Rh - Rh*b[i,j]) for i in range(N) for j in range(N) if i != j)\n",
    "#table space must exist within the dining space\n",
    "m.addConstrs(x[i] >= 0 for i in range(N))\n",
    "m.addConstrs(x[i]+w[i]<= Rw for i in range (N))\n",
    "m.addConstrs(y[i] >= 0 for i in range(N))\n",
    "m.addConstrs(y[i]+h[i]<= Rh for i in range (N))\n",
    "m.update()"
   ]
  },
  {
   "cell_type": "markdown",
   "metadata": {},
   "source": [
    "#### Step 8: Solve the model"
   ]
  },
  {
   "cell_type": "code",
   "execution_count": 456,
   "metadata": {},
   "outputs": [
    {
     "name": "stdout",
     "output_type": "stream",
     "text": [
      "Gurobi Optimizer version 9.0.3 build v9.0.3rc0 (win64)\n",
      "Optimize a model with 60 rows, 21 columns and 168 nonzeros\n",
      "Model fingerprint: 0xd6fa14de\n",
      "Variable types: 6 continuous, 15 integer (15 binary)\n",
      "Coefficient statistics:\n",
      "  Matrix range     [1e+00, 3e+00]\n",
      "  Objective range  [0e+00, 0e+00]\n",
      "  Bounds range     [1e+00, 1e+00]\n",
      "  RHS range        [1e+00, 2e+00]\n",
      "\n",
      "MIP start from previous solve produced solution with objective 6 (0.01s)\n",
      "Loaded MIP start from previous solve with objective 6\n",
      "\n",
      "\n",
      "Explored 0 nodes (0 simplex iterations) in 0.01 seconds\n",
      "Thread count was 1 (of 8 available processors)\n",
      "\n",
      "Solution count 1: 6 \n",
      "\n",
      "Optimal solution found (tolerance 1.00e-04)\n",
      "Best objective 6.000000000000e+00, best bound 6.000000000000e+00, gap 0.0000%\n"
     ]
    }
   ],
   "source": [
    "m.optimize()"
   ]
  },
  {
   "cell_type": "markdown",
   "metadata": {},
   "source": [
    "#### Insert variable values"
   ]
  },
  {
   "cell_type": "code",
   "execution_count": 457,
   "metadata": {
    "scrolled": true
   },
   "outputs": [
    {
     "name": "stdout",
     "output_type": "stream",
     "text": [
      "3\n",
      "2\n",
      "f_0 0\n",
      "f_1 1\n",
      "f_2 1\n",
      "x_0 0\n",
      "x_1 2\n",
      "x_2 0\n",
      "y_0 0\n",
      "y_1 0\n",
      "y_2 0\n",
      "l_01 1\n",
      "l_02 0\n",
      "l_10 0\n",
      "l_12 0\n",
      "l_20 0\n",
      "l_21 1\n",
      "b_01 0\n",
      "b_02 0\n",
      "b_10 0\n",
      "b_12 0\n",
      "b_20 0\n",
      "b_21 0\n"
     ]
    }
   ],
   "source": [
    "print(Rw)\n",
    "print(Rh)\n",
    "for myVars in m.getVars():\n",
    "    print('%s %g' % (myVars.varName, myVars.x))\n",
    "    "
   ]
  },
  {
   "cell_type": "code",
   "execution_count": 458,
   "metadata": {},
   "outputs": [
    {
     "data": {
      "text/html": [
       "<div>\n",
       "<style scoped>\n",
       "    .dataframe tbody tr th:only-of-type {\n",
       "        vertical-align: middle;\n",
       "    }\n",
       "\n",
       "    .dataframe tbody tr th {\n",
       "        vertical-align: top;\n",
       "    }\n",
       "\n",
       "    .dataframe thead th {\n",
       "        text-align: right;\n",
       "    }\n",
       "</style>\n",
       "<table border=\"1\" class=\"dataframe\">\n",
       "  <thead>\n",
       "    <tr style=\"text-align: right;\">\n",
       "      <th></th>\n",
       "      <th>c</th>\n",
       "      <th>w</th>\n",
       "      <th>h</th>\n",
       "    </tr>\n",
       "  </thead>\n",
       "  <tbody>\n",
       "    <tr>\n",
       "      <th>0</th>\n",
       "      <td>NaN</td>\n",
       "      <td>[2, 1]</td>\n",
       "      <td>[2, 1]</td>\n",
       "    </tr>\n",
       "  </tbody>\n",
       "</table>\n",
       "</div>"
      ],
      "text/plain": [
       "    c       w       h\n",
       "0 NaN  [2, 1]  [2, 1]"
      ]
     },
     "metadata": {},
     "output_type": "display_data"
    }
   ],
   "source": [
    "df = pd.DataFrame(dataSet, columns=['c', 'w', 'h'])\n",
    "display(df)"
   ]
  },
  {
   "cell_type": "code",
   "execution_count": null,
   "metadata": {},
   "outputs": [],
   "source": []
  },
  {
   "cell_type": "code",
   "execution_count": null,
   "metadata": {},
   "outputs": [],
   "source": []
  }
 ],
 "metadata": {
  "kernelspec": {
   "display_name": "Python 3",
   "language": "python",
   "name": "python3"
  },
  "language_info": {
   "codemirror_mode": {
    "name": "ipython",
    "version": 3
   },
   "file_extension": ".py",
   "mimetype": "text/x-python",
   "name": "python",
   "nbconvert_exporter": "python",
   "pygments_lexer": "ipython3",
   "version": "3.8.3"
  }
 },
 "nbformat": 4,
 "nbformat_minor": 4
}
