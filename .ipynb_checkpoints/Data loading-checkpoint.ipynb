{
 "cells": [
  {
   "cell_type": "code",
   "execution_count": 2,
   "metadata": {},
   "outputs": [],
   "source": [
    "import csv"
   ]
  },
  {
   "cell_type": "code",
   "execution_count": 3,
   "metadata": {},
   "outputs": [],
   "source": [
    "restaurant_configs = {}\n",
    "with open('restaurant_data.csv', newline='') as csvfile:\n",
    "    reader = csv.DictReader(csvfile)\n",
    "    for row in reader:\n",
    "#         print(row['restaurant_size'], row['max_tables'], row['max_width'],row['max_height'])\n",
    "        restaurant_configs[row['restaurant_size']]=row"
   ]
  },
  {
   "cell_type": "markdown",
   "metadata": {},
   "source": [
    "## Generate instances\n",
    "5 instances are generated for each restaurant size type, with width, height, and number of tables +-25% of the maximum for each value for each generated instance"
   ]
  },
  {
   "cell_type": "code",
   "execution_count": 30,
   "metadata": {},
   "outputs": [],
   "source": [
    "import random\n",
    "\n",
    "def randomScale(size, restaurant_feature, b):\n",
    "    val = int(restaurant_configs[size][restaurant_feature])\n",
    "    scaleVal = int(val*b)\n",
    "    return random.randint(val-scaleVal, val+scaleVal)"
   ]
  },
  {
   "cell_type": "code",
   "execution_count": 31,
   "metadata": {},
   "outputs": [
    {
     "data": {
      "text/plain": [
       "6"
      ]
     },
     "execution_count": 31,
     "metadata": {},
     "output_type": "execute_result"
    }
   ],
   "source": [
    "randomScale('small', 'max_tables', 0.25)"
   ]
  },
  {
   "cell_type": "code",
   "execution_count": 41,
   "metadata": {},
   "outputs": [],
   "source": [
    "def generateInstance(size, scaleFactor):\n",
    "    instance = {}\n",
    "    instance['restaurant_size'] = size\n",
    "    instance['num_tables'] = randomScale(size, 'max_tables', scaleFactor)\n",
    "    instance['width'] = randomScale(size, 'max_width', scaleFactor)\n",
    "    instance['height'] = randomScale(size, 'max_height', scaleFactor)\n",
    "    return instance"
   ]
  },
  {
   "cell_type": "code",
   "execution_count": 42,
   "metadata": {},
   "outputs": [],
   "source": [
    "instances = []\n",
    "scaleFactor = 0.25\n",
    "def generateInstances():\n",
    "    # generate 5 instances for small restaurant\n",
    "    for i in range(5):\n",
    "        instances.append(generateInstance('small', scaleFactor))\n",
    "        instances.append(generateInstance('medium', scaleFactor))\n",
    "        instances.append(generateInstance('large', scaleFactor))"
   ]
  },
  {
   "cell_type": "code",
   "execution_count": 43,
   "metadata": {},
   "outputs": [],
   "source": [
    "generateInstances()"
   ]
  },
  {
   "cell_type": "code",
   "execution_count": 44,
   "metadata": {},
   "outputs": [
    {
     "name": "stdout",
     "output_type": "stream",
     "text": [
      "[{'restaurant_size': 'small', 'num_tables': 6, 'width': 16, 'height': 13}, {'restaurant_size': 'medium', 'num_tables': 13, 'width': 36, 'height': 32}, {'restaurant_size': 'large', 'num_tables': 28, 'width': 50, 'height': 34}, {'restaurant_size': 'small', 'num_tables': 7, 'width': 17, 'height': 12}, {'restaurant_size': 'medium', 'num_tables': 20, 'width': 23, 'height': 26}, {'restaurant_size': 'large', 'num_tables': 22, 'width': 53, 'height': 54}, {'restaurant_size': 'small', 'num_tables': 9, 'width': 14, 'height': 13}, {'restaurant_size': 'medium', 'num_tables': 13, 'width': 25, 'height': 28}, {'restaurant_size': 'large', 'num_tables': 23, 'width': 43, 'height': 47}, {'restaurant_size': 'small', 'num_tables': 10, 'width': 12, 'height': 18}, {'restaurant_size': 'medium', 'num_tables': 14, 'width': 33, 'height': 37}, {'restaurant_size': 'large', 'num_tables': 27, 'width': 37, 'height': 48}, {'restaurant_size': 'small', 'num_tables': 9, 'width': 14, 'height': 18}, {'restaurant_size': 'medium', 'num_tables': 13, 'width': 27, 'height': 24}, {'restaurant_size': 'large', 'num_tables': 20, 'width': 39, 'height': 37}]\n"
     ]
    }
   ],
   "source": [
    "print(instances)"
   ]
  },
  {
   "cell_type": "code",
   "execution_count": 69,
   "metadata": {},
   "outputs": [
    {
     "name": "stdout",
     "output_type": "stream",
     "text": [
      "\n",
      " instance details: \n",
      " restaurant size: small \n",
      " tables: 6 \n",
      " width: 16 \n",
      " height: 13 \n",
      " tables: [{'size': 'small', 'width': 1, 'height': 1}, {'size': 'small', 'width': 1, 'height': 1}, {'size': 'large', 'width': 5, 'height': 3}, {'size': 'small', 'width': 1, 'height': 1}, {'size': 'small', 'width': 1, 'height': 1}, {'size': 'large', 'width': 3, 'height': 4}] \n",
      "  \n",
      "\n",
      " instance details: \n",
      " restaurant size: medium \n",
      " tables: 13 \n",
      " width: 36 \n",
      " height: 32 \n",
      " tables: [{'size': 'medium', 'width': 2, 'height': 2}, {'size': 'large', 'width': 3, 'height': 3}, {'size': 'large', 'width': 3, 'height': 3}, {'size': 'small', 'width': 1, 'height': 1}, {'size': 'small', 'width': 1, 'height': 1}, {'size': 'medium', 'width': 2, 'height': 2}, {'size': 'large', 'width': 5, 'height': 4}, {'size': 'large', 'width': 3, 'height': 3}, {'size': 'medium', 'width': 2, 'height': 2}, {'size': 'small', 'width': 1, 'height': 1}, {'size': 'large', 'width': 5, 'height': 5}, {'size': 'medium', 'width': 2, 'height': 2}, {'size': 'large', 'width': 5, 'height': 4}] \n",
      "  \n",
      "\n",
      " instance details: \n",
      " restaurant size: large \n",
      " tables: 28 \n",
      " width: 50 \n",
      " height: 34 \n",
      " tables: [{'size': 'medium', 'width': 2, 'height': 2}, {'size': 'small', 'width': 1, 'height': 1}, {'size': 'medium', 'width': 2, 'height': 2}, {'size': 'large', 'width': 3, 'height': 5}, {'size': 'medium', 'width': 2, 'height': 2}, {'size': 'small', 'width': 1, 'height': 1}, {'size': 'small', 'width': 1, 'height': 1}, {'size': 'large', 'width': 3, 'height': 4}, {'size': 'medium', 'width': 2, 'height': 2}, {'size': 'small', 'width': 1, 'height': 1}, {'size': 'large', 'width': 4, 'height': 5}, {'size': 'small', 'width': 1, 'height': 1}, {'size': 'medium', 'width': 2, 'height': 2}, {'size': 'large', 'width': 5, 'height': 3}, {'size': 'small', 'width': 1, 'height': 1}, {'size': 'medium', 'width': 2, 'height': 2}, {'size': 'large', 'width': 3, 'height': 3}, {'size': 'large', 'width': 5, 'height': 4}, {'size': 'medium', 'width': 2, 'height': 2}, {'size': 'small', 'width': 1, 'height': 1}, {'size': 'medium', 'width': 2, 'height': 2}, {'size': 'medium', 'width': 2, 'height': 2}, {'size': 'medium', 'width': 2, 'height': 2}, {'size': 'medium', 'width': 2, 'height': 2}, {'size': 'medium', 'width': 2, 'height': 2}, {'size': 'large', 'width': 3, 'height': 5}, {'size': 'large', 'width': 4, 'height': 5}, {'size': 'small', 'width': 1, 'height': 1}] \n",
      "  \n",
      "\n",
      " instance details: \n",
      " restaurant size: small \n",
      " tables: 7 \n",
      " width: 17 \n",
      " height: 12 \n",
      " tables: [{'size': 'small', 'width': 1, 'height': 1}, {'size': 'large', 'width': 5, 'height': 5}, {'size': 'large', 'width': 4, 'height': 3}, {'size': 'medium', 'width': 2, 'height': 2}, {'size': 'medium', 'width': 2, 'height': 2}, {'size': 'small', 'width': 1, 'height': 1}, {'size': 'medium', 'width': 2, 'height': 2}] \n",
      "  \n",
      "\n",
      " instance details: \n",
      " restaurant size: medium \n",
      " tables: 20 \n",
      " width: 23 \n",
      " height: 26 \n",
      " tables: [{'size': 'large', 'width': 4, 'height': 5}, {'size': 'medium', 'width': 2, 'height': 2}, {'size': 'medium', 'width': 2, 'height': 2}, {'size': 'medium', 'width': 2, 'height': 2}, {'size': 'medium', 'width': 2, 'height': 2}, {'size': 'medium', 'width': 2, 'height': 2}, {'size': 'small', 'width': 1, 'height': 1}, {'size': 'large', 'width': 3, 'height': 3}, {'size': 'large', 'width': 3, 'height': 4}, {'size': 'medium', 'width': 2, 'height': 2}, {'size': 'small', 'width': 1, 'height': 1}, {'size': 'large', 'width': 5, 'height': 4}, {'size': 'small', 'width': 1, 'height': 1}, {'size': 'small', 'width': 1, 'height': 1}, {'size': 'small', 'width': 1, 'height': 1}, {'size': 'medium', 'width': 2, 'height': 2}, {'size': 'medium', 'width': 2, 'height': 2}, {'size': 'large', 'width': 5, 'height': 4}, {'size': 'small', 'width': 1, 'height': 1}, {'size': 'large', 'width': 3, 'height': 3}] \n",
      "  \n",
      "\n",
      " instance details: \n",
      " restaurant size: large \n",
      " tables: 22 \n",
      " width: 53 \n",
      " height: 54 \n",
      " tables: [{'size': 'small', 'width': 1, 'height': 1}, {'size': 'medium', 'width': 2, 'height': 2}, {'size': 'large', 'width': 5, 'height': 4}, {'size': 'large', 'width': 4, 'height': 3}, {'size': 'small', 'width': 1, 'height': 1}, {'size': 'small', 'width': 1, 'height': 1}, {'size': 'large', 'width': 3, 'height': 4}, {'size': 'small', 'width': 1, 'height': 1}, {'size': 'medium', 'width': 2, 'height': 2}, {'size': 'large', 'width': 5, 'height': 4}, {'size': 'medium', 'width': 2, 'height': 2}, {'size': 'small', 'width': 1, 'height': 1}, {'size': 'large', 'width': 5, 'height': 3}, {'size': 'small', 'width': 1, 'height': 1}, {'size': 'large', 'width': 4, 'height': 5}, {'size': 'large', 'width': 3, 'height': 3}, {'size': 'medium', 'width': 2, 'height': 2}, {'size': 'medium', 'width': 2, 'height': 2}, {'size': 'medium', 'width': 2, 'height': 2}, {'size': 'small', 'width': 1, 'height': 1}, {'size': 'large', 'width': 4, 'height': 5}, {'size': 'large', 'width': 3, 'height': 5}] \n",
      "  \n",
      "\n",
      " instance details: \n",
      " restaurant size: small \n",
      " tables: 9 \n",
      " width: 14 \n",
      " height: 13 \n",
      " tables: [{'size': 'small', 'width': 1, 'height': 1}, {'size': 'medium', 'width': 2, 'height': 2}, {'size': 'small', 'width': 1, 'height': 1}, {'size': 'small', 'width': 1, 'height': 1}, {'size': 'medium', 'width': 2, 'height': 2}, {'size': 'large', 'width': 3, 'height': 4}, {'size': 'small', 'width': 1, 'height': 1}, {'size': 'large', 'width': 4, 'height': 5}, {'size': 'small', 'width': 1, 'height': 1}] \n",
      "  \n",
      "\n",
      " instance details: \n",
      " restaurant size: medium \n",
      " tables: 13 \n",
      " width: 25 \n",
      " height: 28 \n",
      " tables: [{'size': 'medium', 'width': 2, 'height': 2}, {'size': 'medium', 'width': 2, 'height': 2}, {'size': 'small', 'width': 1, 'height': 1}, {'size': 'small', 'width': 1, 'height': 1}, {'size': 'medium', 'width': 2, 'height': 2}, {'size': 'small', 'width': 1, 'height': 1}, {'size': 'medium', 'width': 2, 'height': 2}, {'size': 'medium', 'width': 2, 'height': 2}, {'size': 'large', 'width': 4, 'height': 3}, {'size': 'medium', 'width': 2, 'height': 2}, {'size': 'small', 'width': 1, 'height': 1}, {'size': 'medium', 'width': 2, 'height': 2}, {'size': 'small', 'width': 1, 'height': 1}] \n",
      "  \n",
      "\n",
      " instance details: \n",
      " restaurant size: large \n",
      " tables: 23 \n",
      " width: 43 \n",
      " height: 47 \n",
      " tables: [{'size': 'large', 'width': 3, 'height': 4}, {'size': 'large', 'width': 4, 'height': 5}, {'size': 'small', 'width': 1, 'height': 1}, {'size': 'large', 'width': 5, 'height': 4}, {'size': 'medium', 'width': 2, 'height': 2}, {'size': 'small', 'width': 1, 'height': 1}, {'size': 'small', 'width': 1, 'height': 1}, {'size': 'small', 'width': 1, 'height': 1}, {'size': 'large', 'width': 3, 'height': 5}, {'size': 'small', 'width': 1, 'height': 1}, {'size': 'small', 'width': 1, 'height': 1}, {'size': 'large', 'width': 3, 'height': 3}, {'size': 'small', 'width': 1, 'height': 1}, {'size': 'small', 'width': 1, 'height': 1}, {'size': 'large', 'width': 4, 'height': 4}, {'size': 'medium', 'width': 2, 'height': 2}, {'size': 'medium', 'width': 2, 'height': 2}, {'size': 'large', 'width': 5, 'height': 4}, {'size': 'large', 'width': 3, 'height': 4}, {'size': 'medium', 'width': 2, 'height': 2}, {'size': 'medium', 'width': 2, 'height': 2}, {'size': 'medium', 'width': 2, 'height': 2}, {'size': 'medium', 'width': 2, 'height': 2}] \n",
      "  \n",
      "\n",
      " instance details: \n",
      " restaurant size: small \n",
      " tables: 10 \n",
      " width: 12 \n",
      " height: 18 \n",
      " tables: [{'size': 'large', 'width': 3, 'height': 3}, {'size': 'large', 'width': 5, 'height': 4}, {'size': 'large', 'width': 4, 'height': 5}, {'size': 'large', 'width': 5, 'height': 4}, {'size': 'medium', 'width': 2, 'height': 2}, {'size': 'medium', 'width': 2, 'height': 2}, {'size': 'small', 'width': 1, 'height': 1}, {'size': 'small', 'width': 1, 'height': 1}, {'size': 'medium', 'width': 2, 'height': 2}, {'size': 'large', 'width': 3, 'height': 5}] \n",
      "  \n",
      "\n",
      " instance details: \n",
      " restaurant size: medium \n",
      " tables: 14 \n",
      " width: 33 \n",
      " height: 37 \n",
      " tables: [{'size': 'small', 'width': 1, 'height': 1}, {'size': 'large', 'width': 3, 'height': 3}, {'size': 'medium', 'width': 2, 'height': 2}, {'size': 'small', 'width': 1, 'height': 1}, {'size': 'medium', 'width': 2, 'height': 2}, {'size': 'small', 'width': 1, 'height': 1}, {'size': 'small', 'width': 1, 'height': 1}, {'size': 'medium', 'width': 2, 'height': 2}, {'size': 'large', 'width': 4, 'height': 5}, {'size': 'medium', 'width': 2, 'height': 2}, {'size': 'medium', 'width': 2, 'height': 2}, {'size': 'large', 'width': 5, 'height': 3}, {'size': 'large', 'width': 4, 'height': 5}, {'size': 'large', 'width': 5, 'height': 4}] \n",
      "  \n",
      "\n",
      " instance details: \n",
      " restaurant size: large \n",
      " tables: 27 \n",
      " width: 37 \n",
      " height: 48 \n",
      " tables: [{'size': 'large', 'width': 5, 'height': 3}, {'size': 'medium', 'width': 2, 'height': 2}, {'size': 'small', 'width': 1, 'height': 1}, {'size': 'medium', 'width': 2, 'height': 2}, {'size': 'large', 'width': 3, 'height': 4}, {'size': 'large', 'width': 5, 'height': 3}, {'size': 'small', 'width': 1, 'height': 1}, {'size': 'medium', 'width': 2, 'height': 2}, {'size': 'large', 'width': 3, 'height': 5}, {'size': 'large', 'width': 4, 'height': 4}, {'size': 'medium', 'width': 2, 'height': 2}, {'size': 'large', 'width': 4, 'height': 3}, {'size': 'small', 'width': 1, 'height': 1}, {'size': 'large', 'width': 3, 'height': 4}, {'size': 'medium', 'width': 2, 'height': 2}, {'size': 'medium', 'width': 2, 'height': 2}, {'size': 'medium', 'width': 2, 'height': 2}, {'size': 'small', 'width': 1, 'height': 1}, {'size': 'small', 'width': 1, 'height': 1}, {'size': 'medium', 'width': 2, 'height': 2}, {'size': 'large', 'width': 4, 'height': 5}, {'size': 'large', 'width': 3, 'height': 5}, {'size': 'medium', 'width': 2, 'height': 2}, {'size': 'small', 'width': 1, 'height': 1}, {'size': 'large', 'width': 3, 'height': 5}, {'size': 'small', 'width': 1, 'height': 1}, {'size': 'large', 'width': 5, 'height': 5}] \n",
      "  \n",
      "\n",
      " instance details: \n",
      " restaurant size: small \n",
      " tables: 9 \n",
      " width: 14 \n",
      " height: 18 \n",
      " tables: [{'size': 'large', 'width': 4, 'height': 4}, {'size': 'small', 'width': 1, 'height': 1}, {'size': 'large', 'width': 3, 'height': 5}, {'size': 'small', 'width': 1, 'height': 1}, {'size': 'small', 'width': 1, 'height': 1}, {'size': 'medium', 'width': 2, 'height': 2}, {'size': 'medium', 'width': 2, 'height': 2}, {'size': 'medium', 'width': 2, 'height': 2}, {'size': 'small', 'width': 1, 'height': 1}] \n",
      "  \n",
      "\n",
      " instance details: \n",
      " restaurant size: medium \n",
      " tables: 13 \n",
      " width: 27 \n",
      " height: 24 \n",
      " tables: [{'size': 'small', 'width': 1, 'height': 1}, {'size': 'large', 'width': 5, 'height': 3}, {'size': 'large', 'width': 3, 'height': 3}, {'size': 'medium', 'width': 2, 'height': 2}, {'size': 'large', 'width': 3, 'height': 5}, {'size': 'small', 'width': 1, 'height': 1}, {'size': 'small', 'width': 1, 'height': 1}, {'size': 'small', 'width': 1, 'height': 1}, {'size': 'small', 'width': 1, 'height': 1}, {'size': 'medium', 'width': 2, 'height': 2}, {'size': 'small', 'width': 1, 'height': 1}, {'size': 'small', 'width': 1, 'height': 1}, {'size': 'small', 'width': 1, 'height': 1}] \n",
      "  \n",
      "\n",
      " instance details: \n",
      " restaurant size: large \n",
      " tables: 20 \n",
      " width: 39 \n",
      " height: 37 \n",
      " tables: [{'size': 'small', 'width': 1, 'height': 1}, {'size': 'large', 'width': 4, 'height': 4}, {'size': 'large', 'width': 3, 'height': 5}, {'size': 'small', 'width': 1, 'height': 1}, {'size': 'medium', 'width': 2, 'height': 2}, {'size': 'large', 'width': 5, 'height': 4}, {'size': 'medium', 'width': 2, 'height': 2}, {'size': 'large', 'width': 3, 'height': 4}, {'size': 'small', 'width': 1, 'height': 1}, {'size': 'large', 'width': 5, 'height': 4}, {'size': 'medium', 'width': 2, 'height': 2}, {'size': 'small', 'width': 1, 'height': 1}, {'size': 'large', 'width': 5, 'height': 3}, {'size': 'medium', 'width': 2, 'height': 2}, {'size': 'large', 'width': 4, 'height': 4}, {'size': 'medium', 'width': 2, 'height': 2}, {'size': 'large', 'width': 5, 'height': 3}, {'size': 'medium', 'width': 2, 'height': 2}, {'size': 'small', 'width': 1, 'height': 1}, {'size': 'small', 'width': 1, 'height': 1}] \n",
      "  \n"
     ]
    }
   ],
   "source": [
    "for instance in instances:\n",
    "    print('\\n instance details: \\n restaurant size: %s \\n tables: %d \\n width: %d \\n height: %d \\n tables: %s \\n  ' % (instance['restaurant_size'], instance['num_tables'], instance['width'], instance['height'], instance['tables']))"
   ]
  },
  {
   "cell_type": "markdown",
   "metadata": {},
   "source": [
    "## Generate tables\n",
    "for every instance in the instances array, tables will be generated according to the value of the tables field of that instance"
   ]
  },
  {
   "cell_type": "code",
   "execution_count": 37,
   "metadata": {},
   "outputs": [],
   "source": [
    "table_configs = {}\n",
    "with open('table_data.csv', newline='') as csvfile:\n",
    "    reader = csv.DictReader(csvfile)\n",
    "    for row in reader:\n",
    "        table_configs[row['table_size']]=row"
   ]
  },
  {
   "cell_type": "code",
   "execution_count": 56,
   "metadata": {},
   "outputs": [],
   "source": [
    "def tableFeatureScaler(size,table_feature,scale_factor):\n",
    "    val = int(table_configs[size][table_feature])\n",
    "    scaleVal = int(val*scale_factor)\n",
    "    return random.randint(val-scaleVal, val+scaleVal)"
   ]
  },
  {
   "cell_type": "code",
   "execution_count": 67,
   "metadata": {},
   "outputs": [],
   "source": [
    "def generateTable():\n",
    "    table = {}\n",
    "    scale_factor = 0.25\n",
    "    # get a random number int out of 1-3 to determine type of table to generate\n",
    "    val = random.randint(1,3)\n",
    "    if(val == 1):\n",
    "        table['size'] = 'small'\n",
    "        table['width'] = tableFeatureScaler('small', 'max_width', scale_factor)\n",
    "        table['height'] = tableFeatureScaler('small', 'max_height', scale_factor)\n",
    "    elif(val == 2): \n",
    "        table['size'] = 'medium'\n",
    "        table['width'] = tableFeatureScaler('medium', 'max_width', scale_factor)\n",
    "        table['height'] = tableFeatureScaler('medium', 'max_height', scale_factor)\n",
    "    # val is 3\n",
    "    else: \n",
    "        table['size'] = 'large'\n",
    "        table['width'] = tableFeatureScaler('large', 'max_width', scale_factor)\n",
    "        table['height'] = tableFeatureScaler('large', 'max_height', scale_factor)\n",
    "    return table"
   ]
  },
  {
   "cell_type": "code",
   "execution_count": 64,
   "metadata": {},
   "outputs": [],
   "source": [
    "def generateTables(num_tables):\n",
    "    tables = []\n",
    "    for i in range(num_tables):\n",
    "        tables.append(generateTable())\n",
    "    return tables"
   ]
  },
  {
   "cell_type": "code",
   "execution_count": 68,
   "metadata": {},
   "outputs": [],
   "source": [
    "for instance in instances:\n",
    "    instance['tables'] = generateTables(instance['num_tables'])"
   ]
  },
  {
   "cell_type": "code",
   "execution_count": 60,
   "metadata": {},
   "outputs": [
    {
     "name": "stdout",
     "output_type": "stream",
     "text": [
      "{'small': {'table_size': 'small', 'max_width': '1', 'max_height': '1', 'occupancy': '2'}, 'medium': {'table_size': 'medium', 'max_width': '2', 'max_height': '2', 'occupancy': '4'}, 'large': {'table_size': 'large', 'max_width': '4', 'max_height': '4', 'occupancy': '8'}}\n"
     ]
    }
   ],
   "source": [
    "print(table_configs)"
   ]
  },
  {
   "cell_type": "code",
   "execution_count": null,
   "metadata": {},
   "outputs": [],
   "source": [
    "with open('generated_instances.csv', 'w', newline='') as csvfile:\n",
    "    fieldnames = ['restaurant_size', 'num_tables', 'width', 'height', \n",
    "                 'tables']\n",
    "    writer = csv.DictWriter(csvfile, fieldnames=fieldnames)\n",
    "\n",
    "    writer.writeheader()\n",
    "    for instance in instances:\n",
    "        write.writerow(instance)"
   ]
  }
 ],
 "metadata": {
  "kernelspec": {
   "display_name": "Python 3",
   "language": "python",
   "name": "python3"
  },
  "language_info": {
   "codemirror_mode": {
    "name": "ipython",
    "version": 3
   },
   "file_extension": ".py",
   "mimetype": "text/x-python",
   "name": "python",
   "nbconvert_exporter": "python",
   "pygments_lexer": "ipython3",
   "version": "3.8.3"
  }
 },
 "nbformat": 4,
 "nbformat_minor": 4
}
