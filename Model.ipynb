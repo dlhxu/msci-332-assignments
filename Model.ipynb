{
 "cells": [
  {
   "cell_type": "markdown",
   "metadata": {},
   "source": [
    "## Creating and solving Application 1 with Gurobi\n",
    "\n",
    "### Restaurant Capacity Maximization Problem\n",
    "\n"
   ]
  },
  {
   "cell_type": "markdown",
   "metadata": {},
   "source": [
    "Note: Refer to readme file for run instructions"
   ]
  },
  {
   "cell_type": "markdown",
   "metadata": {},
   "source": [
    "**Decision Variables**\n",
    "\n",
    "$f_i$ : 1 if table i  is used, 0 otherwise, where $i=1...N$\n",
    "\n",
    "$g_{ij}:$ 1 if both table i and j are used, 0 otherwise,  \n",
    "\n",
    "$x_i =$ bottom left x coordinate of table i\n",
    "\n",
    "$y_i =$ bottom left x coordinate of table i\n",
    "\n",
    "$l_{ij} =$ 1 if table i is located left to j\n",
    "\n",
    "$b_{ij} =$ 1 if table i is located below j\n",
    "\n",
    "\n",
    "**Parameters**\n",
    "\n",
    "$d$ : The minimum physical distance required between tables\n",
    "\n",
    "$c_i =$ max # people that can be seated @ table i, where $i=1...N$\n",
    "\n",
    "$C$ = Minimum desired establishment capacity\n",
    "\n",
    "$w_i =$ width of table i + d\n",
    "\n",
    "$h_i =$ height of table i + d\n",
    "\n",
    "$R_w =$ width of dining space\n",
    "\n",
    "$R_h =$ height of dining space\n",
    "\n",
    "$U_{ij}$ = Underperformance measure of staff when table i and j are used\n",
    "\n",
    "\n",
    "**Objective Function**\n",
    "\n",
    "$min$ $z$ = $g_1^+ + g_2^- +\\sum_{i=1}^{N}\\sum_{j=1, i\\neq j}^{N}g_{ij}U_{ij}$\n",
    "\n",
    "\n",
    "**Constraints**\n",
    "\n",
    "**s.t**\n",
    "Force non-linear element to be 0 or 1:\n",
    "\n",
    "$g_{ij} >= f_i+f_j-1 \\ i, j \\in T and \\ i \\neq j$\n",
    "\n",
    "No overlap if the following constraint is true:\n",
    "\n",
    "$l_{ij} + l_{ji} + b_{ij} + b_{ji} + (1-x_i) + (1-x_j) >= 1, \\ i, j \\in T, \\ i<j$ \n",
    "\n",
    "If a table i is to the left of table j, table i's right edge x coordinate  must be less than table j's x left edge x coordinate:\n",
    "\n",
    "$x_i +w_i <= x_j + W - Wl_{ij}, \\ i, j \\in T$\n",
    "\n",
    "If table i is below j, table i's top edge y coordinate must be less than table j's bottom edge y coordinate:\n",
    "\n",
    "$y_i +h_i <= y_j + H - Hb_{ij}, \\ i, j \\in T$\n",
    "\n",
    "Tables must exist within the dining space:\n",
    "\n",
    "$x_i >= 0, \\ i \\in T$\n",
    "\n",
    "$x_i+w_i <= R_x, \\ i \\in T$\n",
    "\n",
    "$y_i >= 0, \\ i \\in T$\n",
    "\n",
    "$y_i+h_i <= R_h, \\ i \\in T$\n",
    "\n",
    "Unused table space must be under U:\n",
    "\n",
    "$R_wR_h \\ - \\sum_{i=1}^{N}f_i(w_i)(h_i) - (g_1^+-g_1^-) = U, \\ i \\in T$ \n",
    "\n",
    "Facility capacity must be over C to remain profitable\n",
    "\n",
    "$\\sum_{i=1}^{N}c_if_i - (g_2^+-g_2^-) = C, \\ i \\in T$\n",
    "\n",
    "Binary variable constraints:\n",
    "\n",
    "$l_{ij}, b_{ij} \\ \\in {0,1}$\n",
    "\n",
    "$f_{i} \\ \\in {0,1}$\n",
    "\n",
    "$g_{ij}\\in {0,1}$"
   ]
  },
  {
   "cell_type": "markdown",
   "metadata": {},
   "source": [
    "## Solution of sample instance\n",
    "First, we will use a small instance to demonstrate the individual steps that the programmatic approach uses to solve the generated instances"
   ]
  },
  {
   "cell_type": "markdown",
   "metadata": {},
   "source": [
    "#### Step 1: Import grobipy module"
   ]
  },
  {
   "cell_type": "code",
   "execution_count": 112,
   "metadata": {},
   "outputs": [],
   "source": [
    "import gurobipy as gp\n",
    "from gurobipy import GRB\n",
    "import pandas as pd\n",
    "from gurobipy import quicksum\n",
    "import plotly.graph_objects as go"
   ]
  },
  {
   "cell_type": "markdown",
   "metadata": {},
   "source": [
    "#### Step 2: Define the model"
   ]
  },
  {
   "cell_type": "code",
   "execution_count": 113,
   "metadata": {},
   "outputs": [],
   "source": [
    "m = gp.Model()"
   ]
  },
  {
   "cell_type": "markdown",
   "metadata": {},
   "source": [
    "#### Step 3: Import generated instance data"
   ]
  },
  {
   "cell_type": "code",
   "execution_count": 114,
   "metadata": {},
   "outputs": [],
   "source": [
    "# this step is done in the programmatic looping solution"
   ]
  },
  {
   "cell_type": "markdown",
   "metadata": {},
   "source": [
    "#### Step 4: Define the parameters"
   ]
  },
  {
   "cell_type": "code",
   "execution_count": 115,
   "metadata": {},
   "outputs": [],
   "source": [
    "# number of tables\n",
    "N = 3\n",
    "\n",
    "# Minimum physical distane required between tables\n",
    "d = 2\n",
    "\n",
    "# capacity for each table\n",
    "c = [2, 2, 2]\n",
    "\n",
    "# width for each table\n",
    "w = [1, 1, 2]\n",
    "\n",
    "# account for physical distancing margin\n",
    "for i in range(len(w)):\n",
    "    w[i] += d\n",
    "\n",
    "# height for each table\n",
    "h = [1, 2, 2]\n",
    "\n",
    "# account for physical distancing margin\n",
    "for i in range(len(h)):\n",
    "    h[i] += d\n",
    "\n",
    "# Width of dining space\n",
    "Rw = 7\n",
    "\n",
    "# Height of dining space\n",
    "Rh = 7\n",
    "\n",
    "# Unused table space goal\n",
    "U = 2\n",
    "\n",
    "# Minimum desired establishment capacity goal\n",
    "C = 10\n",
    "\n",
    "# Underperformance measure of staff when table i and j are used Uij[rows][columns]\n",
    "Uij =  [[1,1,1],\n",
    "        [1,1,1],\n",
    "        [1,1,1]]"
   ]
  },
  {
   "cell_type": "markdown",
   "metadata": {},
   "source": [
    "#### Step 5: Define decision variables"
   ]
  },
  {
   "cell_type": "code",
   "execution_count": 116,
   "metadata": {},
   "outputs": [],
   "source": [
    "# binary, if table i is used\n",
    "f = {}\n",
    "for i in range(N):\n",
    "    f[i] = m.addVar(vtype=GRB.BINARY, name=\"f_\" +str(i))\n",
    "\n",
    "# bottom left x coordinate of table i\n",
    "x = {}\n",
    "for i in range(N):\n",
    "    x[i] = m.addVar(vtype=GRB.CONTINUOUS, name=\"x_\"+str(i))\n",
    "    \n",
    "# bottom left y coordinate of table i\n",
    "y = {}\n",
    "for i in range(N):\n",
    "    y[i] = m.addVar(vtype=GRB.CONTINUOUS, name=\"y_\"+str(i))\n",
    "    \n",
    "    \n",
    "# binary, if table i is located left to table j\n",
    "l = {}\n",
    "for i in range(N):\n",
    "    for j in range(N):\n",
    "        if i != j:\n",
    "            l[i, j] = m.addVar(vtype=GRB.BINARY, name=\"l_\" +str(i)+str(j))\n",
    "\n",
    "# binary, if table i is located below to table j\n",
    "b = {}\n",
    "for i in range(N):\n",
    "    for j in range(N):\n",
    "        if i != j:\n",
    "            b[i, j] = m.addVar(vtype=GRB.BINARY, name=\"b_\" +str(i)+str(j))\n",
    "\n",
    "# binary, if table i and table j are both used\n",
    "g = {}\n",
    "for i in range(N):\n",
    "    for j in range(N):\n",
    "        if i != j:\n",
    "            g[i, j] = m.addVar(vtype=GRB.BINARY, name=\"g_\" +str(i)+str(j))\n",
    "\n",
    "# surplus for goal 1  \n",
    "g1surplus={}\n",
    "g1surplus = m.addVar(vtype=GRB.CONTINUOUS, name=\"g1surplus\")\n",
    "    \n",
    "# slack for goal 1  \n",
    "g1slack={}\n",
    "g1slack = m.addVar(vtype=GRB.CONTINUOUS, name=\"g1slack\")\n",
    "\n",
    "# surplus for goal 2\n",
    "g2surplus={}\n",
    "g2surplus= m.addVar(vtype=GRB.CONTINUOUS, name=\"g2surplus\")\n",
    "\n",
    "# slack/surplus for goal 2\n",
    "g2slack={}\n",
    "g2slack= m.addVar(vtype=GRB.CONTINUOUS, name=\"g2slack\")"
   ]
  },
  {
   "cell_type": "markdown",
   "metadata": {},
   "source": [
    "#### Step 6: Set the objective function"
   ]
  },
  {
   "cell_type": "code",
   "execution_count": 117,
   "metadata": {},
   "outputs": [],
   "source": [
    "nonlinearobj = quicksum((g[i, j]*Uij[i][j])/2 for i in range(N) for j in range(N) if i != j)\n",
    "m.setObjective(g1surplus+g2slack+(nonlinearobj), GRB.MINIMIZE)"
   ]
  },
  {
   "cell_type": "markdown",
   "metadata": {},
   "source": [
    "#### Step 7: Add constraints"
   ]
  },
  {
   "cell_type": "code",
   "execution_count": 118,
   "metadata": {},
   "outputs": [],
   "source": [
    "# no overlap\n",
    "m.addConstrs(l[i,j] + l[j,i] + b[i,j] + b[j,i] + (1-f[i]) + (1-f[j])  >= 1 for i in range(N) for j in range(N) if i != j)\n",
    "\n",
    "# If a table i is to the left of table j, table i's right edge x coordinate  must be less than table j's x left edge x coordinate\n",
    "m.addConstrs(x[i] + w[i] <= (x[j] + Rw - Rw*l[i,j]) for i in range(N) for j in range(N) if i != j)\n",
    "\n",
    "# If table i is below j, table i's top edge y coordinate must be less than table j's bottom edge y coordinate\n",
    "m.addConstrs(y[i] + h[i] <= (y[j] + Rh - Rh*b[i,j]) for i in range(N) for j in range(N) if i != j)\n",
    "\n",
    "# table space must exist within the dining space\n",
    "m.addConstrs(x[i] >= 0 for i in range(N))\n",
    "m.addConstrs(x[i]+w[i]<= Rw for i in range (N))\n",
    "m.addConstrs(y[i] >= 0 for i in range(N))\n",
    "m.addConstrs(y[i]+h[i]<= Rh for i in range (N))\n",
    "\n",
    "# Unused table space must be under U - GOAL 1\n",
    "m.addConstrs((Rw*Rh) - quicksum((w[i])*(h[i])*f[i] for i in range(N)) - g1surplus + g1slack == U for i in range(N))\n",
    "\n",
    "# Facility capacity must be over C to remain profitable - GOAL 2\n",
    "m.addConstrs(quicksum(f[i]*c[i] for i in range(N)) + g2slack - g2surplus == C for i in range(N))\n",
    "\n",
    "# Quadratic constraint\n",
    "m.addConstrs(g[i,j] >= f[i] + f[j] - 1 for i in range(N) for j in range(N) if i != j)\n",
    "\n",
    "# update model\n",
    "m.update()"
   ]
  },
  {
   "cell_type": "markdown",
   "metadata": {},
   "source": [
    "#### Step 8: Solve the model"
   ]
  },
  {
   "cell_type": "code",
   "execution_count": 119,
   "metadata": {
    "scrolled": true
   },
   "outputs": [
    {
     "name": "stdout",
     "output_type": "stream",
     "text": [
      "Gurobi Optimizer version 9.0.3 build v9.0.3rc0 (win64)\n",
      "Optimize a model with 42 rows, 31 columns and 132 nonzeros\n",
      "Model fingerprint: 0xb5d3c80a\n",
      "Variable types: 10 continuous, 21 integer (21 binary)\n",
      "Coefficient statistics:\n",
      "  Matrix range     [1e+00, 2e+01]\n",
      "  Objective range  [5e-01, 1e+00]\n",
      "  Bounds range     [1e+00, 1e+00]\n",
      "  RHS range        [1e+00, 5e+01]\n",
      "Found heuristic solution: objective 39.0000000\n",
      "Presolve removed 26 rows and 11 columns\n",
      "Presolve time: 0.00s\n",
      "Presolved: 16 rows, 20 columns, 53 nonzeros\n",
      "Variable types: 3 continuous, 17 integer (17 binary)\n",
      "\n",
      "Root relaxation: objective 1.700000e+01, 6 iterations, 0.00 seconds\n",
      "\n",
      "    Nodes    |    Current Node    |     Objective Bounds      |     Work\n",
      " Expl Unexpl |  Obj  Depth IntInf | Incumbent    BestBd   Gap | It/Node Time\n",
      "\n",
      "     0     0   17.00000    0    6   39.00000   17.00000  56.4%     -    0s\n",
      "H    0     0                      29.0000000   17.00000  41.4%     -    0s\n",
      "H    0     0                      17.0000000   17.00000  0.00%     -    0s\n",
      "     0     0   17.00000    0    6   17.00000   17.00000  0.00%     -    0s\n",
      "\n",
      "Explored 1 nodes (6 simplex iterations) in 0.02 seconds\n",
      "Thread count was 8 (of 8 available processors)\n",
      "\n",
      "Solution count 3: 17 29 39 \n",
      "\n",
      "Optimal solution found (tolerance 1.00e-04)\n",
      "Best objective 1.700000000000e+01, best bound 1.700000000000e+01, gap 0.0000%\n"
     ]
    }
   ],
   "source": [
    "m.optimize()"
   ]
  },
  {
   "cell_type": "markdown",
   "metadata": {},
   "source": [
    "#### Insert variable values"
   ]
  },
  {
   "cell_type": "code",
   "execution_count": 120,
   "metadata": {},
   "outputs": [
    {
     "name": "stdout",
     "output_type": "stream",
     "text": [
      "Room size: 49 m^2\n",
      "Table 0 was not used. Position: ( 0.0 , 0.0 ). Capacity: 2 Table space height: 3 Table space width: 3\n",
      "Table 1 was  used. Position: ( 4.0 , 0.0 ). Capacity: 2 Table space height: 4 Table space width: 3\n",
      "Table 2 was  used. Position: ( 0.0 , 3.0 ). Capacity: 2 Table space height: 4 Table space width: 4\n",
      "Goal 1: Unused space must be under 2 m^2.\n",
      "Goal 1 Result: Unused space was 10.0 m^2.\n",
      "Goal 2: Facility capacity must be over 10 to remain profitable.\n",
      "Goal 2 Result: Facility capacity was unmet by 4.0 .\n",
      "Underperformance level for this table setup is 3.0\n"
     ]
    },
    {
     "data": {
      "text/html": [
       "<div>\n",
       "<style scoped>\n",
       "    .dataframe tbody tr th:only-of-type {\n",
       "        vertical-align: middle;\n",
       "    }\n",
       "\n",
       "    .dataframe tbody tr th {\n",
       "        vertical-align: top;\n",
       "    }\n",
       "\n",
       "    .dataframe thead th {\n",
       "        text-align: right;\n",
       "    }\n",
       "</style>\n",
       "<table border=\"1\" class=\"dataframe\">\n",
       "  <thead>\n",
       "    <tr style=\"text-align: right;\">\n",
       "      <th></th>\n",
       "      <th>ifUsed</th>\n",
       "      <th>x-coord</th>\n",
       "      <th>y-coord</th>\n",
       "      <th>capacity</th>\n",
       "      <th>table space width</th>\n",
       "      <th>table space height</th>\n",
       "    </tr>\n",
       "  </thead>\n",
       "  <tbody>\n",
       "    <tr>\n",
       "      <th>0</th>\n",
       "      <td>1.0</td>\n",
       "      <td>0.0</td>\n",
       "      <td>0.0</td>\n",
       "      <td>2</td>\n",
       "      <td>3</td>\n",
       "      <td>3</td>\n",
       "    </tr>\n",
       "    <tr>\n",
       "      <th>1</th>\n",
       "      <td>1.0</td>\n",
       "      <td>4.0</td>\n",
       "      <td>0.0</td>\n",
       "      <td>2</td>\n",
       "      <td>3</td>\n",
       "      <td>4</td>\n",
       "    </tr>\n",
       "    <tr>\n",
       "      <th>2</th>\n",
       "      <td>1.0</td>\n",
       "      <td>0.0</td>\n",
       "      <td>3.0</td>\n",
       "      <td>2</td>\n",
       "      <td>4</td>\n",
       "      <td>4</td>\n",
       "    </tr>\n",
       "  </tbody>\n",
       "</table>\n",
       "</div>"
      ],
      "text/plain": [
       "   ifUsed  x-coord  y-coord  capacity  table space width  table space height\n",
       "0     1.0      0.0      0.0         2                  3                   3\n",
       "1     1.0      4.0      0.0         2                  3                   4\n",
       "2     1.0      0.0      3.0         2                  4                   4"
      ]
     },
     "execution_count": 120,
     "metadata": {},
     "output_type": "execute_result"
    }
   ],
   "source": [
    "# Parameters\n",
    "print(\"Room size:\", Rw*Rh, \"m^2\")\n",
    "# Tables:\n",
    "for i in f:\n",
    "    print(\"Table\", i, \"was\", \"not\" if i==0 else \"\", \"used.\", \"Position:\", \"(\", x[i].x,\",\",y[i].x,\").\", \"Capacity:\", c[i], \"Table space height:\", h[i], \"Table space width:\", w[i])\n",
    "# Goal 1 print\n",
    "print(\"Goal 1: Unused space must be under\", U, \"m^2.\", )\n",
    "print(\"Goal 1 Result: Unused space was\", g1surplus.x, \"m^2.\", )\n",
    "# Goal 2 print\n",
    "print(\"Goal 2: Facility capacity must be over\", C, \"to remain profitable.\", )\n",
    "print(\"Goal 2 Result: Facility capacity was unmet by\", g2slack.x, \".\", )\n",
    "# nonlinear element print\n",
    "print(\"Underperformance level for this table setup is\", nonlinearobj.getValue())\n",
    "tableUsedData = []\n",
    "for tableUsed in f:\n",
    "    tableUsedData.append(f[tableUsed].x)\n",
    "xCoords = []\n",
    "for i in x:\n",
    "    xCoords.append(x[i].x)\n",
    "yCoords = []\n",
    "for i in y:\n",
    "    yCoords.append(y[i].x)\n",
    "d = {'ifUsed' : tableUsedData, 'x-coord' : xCoords, 'y-coord' : yCoords, 'capacity' : c, 'table space width' : w, 'table space height' : h}\n",
    "df = pd.DataFrame(data=d)\n",
    "df\n",
    "\n"
   ]
  },
  {
   "cell_type": "code",
   "execution_count": 121,
   "metadata": {
    "scrolled": false
   },
   "outputs": [
    {
     "data": {
      "application/vnd.plotly.v1+json": {
       "config": {
        "plotlyServerURL": "https://plot.ly"
       },
       "data": [
        {
         "fill": "toself",
         "type": "scatter",
         "x": [
          0,
          7,
          "none",
          7,
          7,
          "none",
          0,
          0,
          3,
          3,
          0,
          "none",
          0,
          7,
          "none",
          7,
          7,
          "none",
          4,
          4,
          7,
          7,
          4,
          "none",
          0,
          7,
          "none",
          7,
          7,
          "none",
          0,
          0,
          4,
          4,
          0,
          "none"
         ],
         "y": [
          7,
          7,
          "none",
          0,
          7,
          "none",
          0,
          3,
          3,
          0,
          0,
          "none",
          7,
          7,
          "none",
          0,
          7,
          "none",
          0,
          4,
          4,
          0,
          0,
          "none",
          7,
          7,
          "none",
          0,
          7,
          "none",
          3,
          7,
          7,
          3,
          3,
          "none"
         ]
        }
       ],
       "layout": {
        "template": {
         "data": {
          "bar": [
           {
            "error_x": {
             "color": "#2a3f5f"
            },
            "error_y": {
             "color": "#2a3f5f"
            },
            "marker": {
             "line": {
              "color": "#E5ECF6",
              "width": 0.5
             }
            },
            "type": "bar"
           }
          ],
          "barpolar": [
           {
            "marker": {
             "line": {
              "color": "#E5ECF6",
              "width": 0.5
             }
            },
            "type": "barpolar"
           }
          ],
          "carpet": [
           {
            "aaxis": {
             "endlinecolor": "#2a3f5f",
             "gridcolor": "white",
             "linecolor": "white",
             "minorgridcolor": "white",
             "startlinecolor": "#2a3f5f"
            },
            "baxis": {
             "endlinecolor": "#2a3f5f",
             "gridcolor": "white",
             "linecolor": "white",
             "minorgridcolor": "white",
             "startlinecolor": "#2a3f5f"
            },
            "type": "carpet"
           }
          ],
          "choropleth": [
           {
            "colorbar": {
             "outlinewidth": 0,
             "ticks": ""
            },
            "type": "choropleth"
           }
          ],
          "contour": [
           {
            "colorbar": {
             "outlinewidth": 0,
             "ticks": ""
            },
            "colorscale": [
             [
              0,
              "#0d0887"
             ],
             [
              0.1111111111111111,
              "#46039f"
             ],
             [
              0.2222222222222222,
              "#7201a8"
             ],
             [
              0.3333333333333333,
              "#9c179e"
             ],
             [
              0.4444444444444444,
              "#bd3786"
             ],
             [
              0.5555555555555556,
              "#d8576b"
             ],
             [
              0.6666666666666666,
              "#ed7953"
             ],
             [
              0.7777777777777778,
              "#fb9f3a"
             ],
             [
              0.8888888888888888,
              "#fdca26"
             ],
             [
              1,
              "#f0f921"
             ]
            ],
            "type": "contour"
           }
          ],
          "contourcarpet": [
           {
            "colorbar": {
             "outlinewidth": 0,
             "ticks": ""
            },
            "type": "contourcarpet"
           }
          ],
          "heatmap": [
           {
            "colorbar": {
             "outlinewidth": 0,
             "ticks": ""
            },
            "colorscale": [
             [
              0,
              "#0d0887"
             ],
             [
              0.1111111111111111,
              "#46039f"
             ],
             [
              0.2222222222222222,
              "#7201a8"
             ],
             [
              0.3333333333333333,
              "#9c179e"
             ],
             [
              0.4444444444444444,
              "#bd3786"
             ],
             [
              0.5555555555555556,
              "#d8576b"
             ],
             [
              0.6666666666666666,
              "#ed7953"
             ],
             [
              0.7777777777777778,
              "#fb9f3a"
             ],
             [
              0.8888888888888888,
              "#fdca26"
             ],
             [
              1,
              "#f0f921"
             ]
            ],
            "type": "heatmap"
           }
          ],
          "heatmapgl": [
           {
            "colorbar": {
             "outlinewidth": 0,
             "ticks": ""
            },
            "colorscale": [
             [
              0,
              "#0d0887"
             ],
             [
              0.1111111111111111,
              "#46039f"
             ],
             [
              0.2222222222222222,
              "#7201a8"
             ],
             [
              0.3333333333333333,
              "#9c179e"
             ],
             [
              0.4444444444444444,
              "#bd3786"
             ],
             [
              0.5555555555555556,
              "#d8576b"
             ],
             [
              0.6666666666666666,
              "#ed7953"
             ],
             [
              0.7777777777777778,
              "#fb9f3a"
             ],
             [
              0.8888888888888888,
              "#fdca26"
             ],
             [
              1,
              "#f0f921"
             ]
            ],
            "type": "heatmapgl"
           }
          ],
          "histogram": [
           {
            "marker": {
             "colorbar": {
              "outlinewidth": 0,
              "ticks": ""
             }
            },
            "type": "histogram"
           }
          ],
          "histogram2d": [
           {
            "colorbar": {
             "outlinewidth": 0,
             "ticks": ""
            },
            "colorscale": [
             [
              0,
              "#0d0887"
             ],
             [
              0.1111111111111111,
              "#46039f"
             ],
             [
              0.2222222222222222,
              "#7201a8"
             ],
             [
              0.3333333333333333,
              "#9c179e"
             ],
             [
              0.4444444444444444,
              "#bd3786"
             ],
             [
              0.5555555555555556,
              "#d8576b"
             ],
             [
              0.6666666666666666,
              "#ed7953"
             ],
             [
              0.7777777777777778,
              "#fb9f3a"
             ],
             [
              0.8888888888888888,
              "#fdca26"
             ],
             [
              1,
              "#f0f921"
             ]
            ],
            "type": "histogram2d"
           }
          ],
          "histogram2dcontour": [
           {
            "colorbar": {
             "outlinewidth": 0,
             "ticks": ""
            },
            "colorscale": [
             [
              0,
              "#0d0887"
             ],
             [
              0.1111111111111111,
              "#46039f"
             ],
             [
              0.2222222222222222,
              "#7201a8"
             ],
             [
              0.3333333333333333,
              "#9c179e"
             ],
             [
              0.4444444444444444,
              "#bd3786"
             ],
             [
              0.5555555555555556,
              "#d8576b"
             ],
             [
              0.6666666666666666,
              "#ed7953"
             ],
             [
              0.7777777777777778,
              "#fb9f3a"
             ],
             [
              0.8888888888888888,
              "#fdca26"
             ],
             [
              1,
              "#f0f921"
             ]
            ],
            "type": "histogram2dcontour"
           }
          ],
          "mesh3d": [
           {
            "colorbar": {
             "outlinewidth": 0,
             "ticks": ""
            },
            "type": "mesh3d"
           }
          ],
          "parcoords": [
           {
            "line": {
             "colorbar": {
              "outlinewidth": 0,
              "ticks": ""
             }
            },
            "type": "parcoords"
           }
          ],
          "pie": [
           {
            "automargin": true,
            "type": "pie"
           }
          ],
          "scatter": [
           {
            "marker": {
             "colorbar": {
              "outlinewidth": 0,
              "ticks": ""
             }
            },
            "type": "scatter"
           }
          ],
          "scatter3d": [
           {
            "line": {
             "colorbar": {
              "outlinewidth": 0,
              "ticks": ""
             }
            },
            "marker": {
             "colorbar": {
              "outlinewidth": 0,
              "ticks": ""
             }
            },
            "type": "scatter3d"
           }
          ],
          "scattercarpet": [
           {
            "marker": {
             "colorbar": {
              "outlinewidth": 0,
              "ticks": ""
             }
            },
            "type": "scattercarpet"
           }
          ],
          "scattergeo": [
           {
            "marker": {
             "colorbar": {
              "outlinewidth": 0,
              "ticks": ""
             }
            },
            "type": "scattergeo"
           }
          ],
          "scattergl": [
           {
            "marker": {
             "colorbar": {
              "outlinewidth": 0,
              "ticks": ""
             }
            },
            "type": "scattergl"
           }
          ],
          "scattermapbox": [
           {
            "marker": {
             "colorbar": {
              "outlinewidth": 0,
              "ticks": ""
             }
            },
            "type": "scattermapbox"
           }
          ],
          "scatterpolar": [
           {
            "marker": {
             "colorbar": {
              "outlinewidth": 0,
              "ticks": ""
             }
            },
            "type": "scatterpolar"
           }
          ],
          "scatterpolargl": [
           {
            "marker": {
             "colorbar": {
              "outlinewidth": 0,
              "ticks": ""
             }
            },
            "type": "scatterpolargl"
           }
          ],
          "scatterternary": [
           {
            "marker": {
             "colorbar": {
              "outlinewidth": 0,
              "ticks": ""
             }
            },
            "type": "scatterternary"
           }
          ],
          "surface": [
           {
            "colorbar": {
             "outlinewidth": 0,
             "ticks": ""
            },
            "colorscale": [
             [
              0,
              "#0d0887"
             ],
             [
              0.1111111111111111,
              "#46039f"
             ],
             [
              0.2222222222222222,
              "#7201a8"
             ],
             [
              0.3333333333333333,
              "#9c179e"
             ],
             [
              0.4444444444444444,
              "#bd3786"
             ],
             [
              0.5555555555555556,
              "#d8576b"
             ],
             [
              0.6666666666666666,
              "#ed7953"
             ],
             [
              0.7777777777777778,
              "#fb9f3a"
             ],
             [
              0.8888888888888888,
              "#fdca26"
             ],
             [
              1,
              "#f0f921"
             ]
            ],
            "type": "surface"
           }
          ],
          "table": [
           {
            "cells": {
             "fill": {
              "color": "#EBF0F8"
             },
             "line": {
              "color": "white"
             }
            },
            "header": {
             "fill": {
              "color": "#C8D4E3"
             },
             "line": {
              "color": "white"
             }
            },
            "type": "table"
           }
          ]
         },
         "layout": {
          "annotationdefaults": {
           "arrowcolor": "#2a3f5f",
           "arrowhead": 0,
           "arrowwidth": 1
          },
          "coloraxis": {
           "colorbar": {
            "outlinewidth": 0,
            "ticks": ""
           }
          },
          "colorscale": {
           "diverging": [
            [
             0,
             "#8e0152"
            ],
            [
             0.1,
             "#c51b7d"
            ],
            [
             0.2,
             "#de77ae"
            ],
            [
             0.3,
             "#f1b6da"
            ],
            [
             0.4,
             "#fde0ef"
            ],
            [
             0.5,
             "#f7f7f7"
            ],
            [
             0.6,
             "#e6f5d0"
            ],
            [
             0.7,
             "#b8e186"
            ],
            [
             0.8,
             "#7fbc41"
            ],
            [
             0.9,
             "#4d9221"
            ],
            [
             1,
             "#276419"
            ]
           ],
           "sequential": [
            [
             0,
             "#0d0887"
            ],
            [
             0.1111111111111111,
             "#46039f"
            ],
            [
             0.2222222222222222,
             "#7201a8"
            ],
            [
             0.3333333333333333,
             "#9c179e"
            ],
            [
             0.4444444444444444,
             "#bd3786"
            ],
            [
             0.5555555555555556,
             "#d8576b"
            ],
            [
             0.6666666666666666,
             "#ed7953"
            ],
            [
             0.7777777777777778,
             "#fb9f3a"
            ],
            [
             0.8888888888888888,
             "#fdca26"
            ],
            [
             1,
             "#f0f921"
            ]
           ],
           "sequentialminus": [
            [
             0,
             "#0d0887"
            ],
            [
             0.1111111111111111,
             "#46039f"
            ],
            [
             0.2222222222222222,
             "#7201a8"
            ],
            [
             0.3333333333333333,
             "#9c179e"
            ],
            [
             0.4444444444444444,
             "#bd3786"
            ],
            [
             0.5555555555555556,
             "#d8576b"
            ],
            [
             0.6666666666666666,
             "#ed7953"
            ],
            [
             0.7777777777777778,
             "#fb9f3a"
            ],
            [
             0.8888888888888888,
             "#fdca26"
            ],
            [
             1,
             "#f0f921"
            ]
           ]
          },
          "colorway": [
           "#636efa",
           "#EF553B",
           "#00cc96",
           "#ab63fa",
           "#FFA15A",
           "#19d3f3",
           "#FF6692",
           "#B6E880",
           "#FF97FF",
           "#FECB52"
          ],
          "font": {
           "color": "#2a3f5f"
          },
          "geo": {
           "bgcolor": "white",
           "lakecolor": "white",
           "landcolor": "#E5ECF6",
           "showlakes": true,
           "showland": true,
           "subunitcolor": "white"
          },
          "hoverlabel": {
           "align": "left"
          },
          "hovermode": "closest",
          "mapbox": {
           "style": "light"
          },
          "paper_bgcolor": "white",
          "plot_bgcolor": "#E5ECF6",
          "polar": {
           "angularaxis": {
            "gridcolor": "white",
            "linecolor": "white",
            "ticks": ""
           },
           "bgcolor": "#E5ECF6",
           "radialaxis": {
            "gridcolor": "white",
            "linecolor": "white",
            "ticks": ""
           }
          },
          "scene": {
           "xaxis": {
            "backgroundcolor": "#E5ECF6",
            "gridcolor": "white",
            "gridwidth": 2,
            "linecolor": "white",
            "showbackground": true,
            "ticks": "",
            "zerolinecolor": "white"
           },
           "yaxis": {
            "backgroundcolor": "#E5ECF6",
            "gridcolor": "white",
            "gridwidth": 2,
            "linecolor": "white",
            "showbackground": true,
            "ticks": "",
            "zerolinecolor": "white"
           },
           "zaxis": {
            "backgroundcolor": "#E5ECF6",
            "gridcolor": "white",
            "gridwidth": 2,
            "linecolor": "white",
            "showbackground": true,
            "ticks": "",
            "zerolinecolor": "white"
           }
          },
          "shapedefaults": {
           "line": {
            "color": "#2a3f5f"
           }
          },
          "ternary": {
           "aaxis": {
            "gridcolor": "white",
            "linecolor": "white",
            "ticks": ""
           },
           "baxis": {
            "gridcolor": "white",
            "linecolor": "white",
            "ticks": ""
           },
           "bgcolor": "#E5ECF6",
           "caxis": {
            "gridcolor": "white",
            "linecolor": "white",
            "ticks": ""
           }
          },
          "title": {
           "x": 0.05
          },
          "xaxis": {
           "automargin": true,
           "gridcolor": "white",
           "linecolor": "white",
           "ticks": "",
           "title": {
            "standoff": 15
           },
           "zerolinecolor": "white",
           "zerolinewidth": 2
          },
          "yaxis": {
           "automargin": true,
           "gridcolor": "white",
           "linecolor": "white",
           "ticks": "",
           "title": {
            "standoff": 15
           },
           "zerolinecolor": "white",
           "zerolinewidth": 2
          }
         }
        }
       }
      },
      "text/html": [
       "<div>                            <div id=\"c137ffba-5b20-4817-bd1e-ef65915ac6e8\" class=\"plotly-graph-div\" style=\"height:525px; width:100%;\"></div>            <script type=\"text/javascript\">                require([\"plotly\"], function(Plotly) {                    window.PLOTLYENV=window.PLOTLYENV || {};                                    if (document.getElementById(\"c137ffba-5b20-4817-bd1e-ef65915ac6e8\")) {                    Plotly.newPlot(                        \"c137ffba-5b20-4817-bd1e-ef65915ac6e8\",                        [{\"fill\": \"toself\", \"type\": \"scatter\", \"x\": [0, 7, \"none\", 7, 7, \"none\", 0.0, 0.0, 3.0, 3.0, 0.0, \"none\", 0, 7, \"none\", 7, 7, \"none\", 4.0, 4.0, 7.0, 7.0, 4.0, \"none\", 0, 7, \"none\", 7, 7, \"none\", 0.0, 0.0, 4.0, 4.0, 0.0, \"none\"], \"y\": [7, 7, \"none\", 0, 7, \"none\", 0.0, 3.0, 3.0, 0.0, 0.0, \"none\", 7, 7, \"none\", 0, 7, \"none\", 0.0, 4.0, 4.0, 0.0, 0.0, \"none\", 7, 7, \"none\", 0, 7, \"none\", 3.0, 7.0, 7.0, 3.0, 3.0, \"none\"]}],                        {\"template\": {\"data\": {\"bar\": [{\"error_x\": {\"color\": \"#2a3f5f\"}, \"error_y\": {\"color\": \"#2a3f5f\"}, \"marker\": {\"line\": {\"color\": \"#E5ECF6\", \"width\": 0.5}}, \"type\": \"bar\"}], \"barpolar\": [{\"marker\": {\"line\": {\"color\": \"#E5ECF6\", \"width\": 0.5}}, \"type\": \"barpolar\"}], \"carpet\": [{\"aaxis\": {\"endlinecolor\": \"#2a3f5f\", \"gridcolor\": \"white\", \"linecolor\": \"white\", \"minorgridcolor\": \"white\", \"startlinecolor\": \"#2a3f5f\"}, \"baxis\": {\"endlinecolor\": \"#2a3f5f\", \"gridcolor\": \"white\", \"linecolor\": \"white\", \"minorgridcolor\": \"white\", \"startlinecolor\": \"#2a3f5f\"}, \"type\": \"carpet\"}], \"choropleth\": [{\"colorbar\": {\"outlinewidth\": 0, \"ticks\": \"\"}, \"type\": \"choropleth\"}], \"contour\": [{\"colorbar\": {\"outlinewidth\": 0, \"ticks\": \"\"}, \"colorscale\": [[0.0, \"#0d0887\"], [0.1111111111111111, \"#46039f\"], [0.2222222222222222, \"#7201a8\"], [0.3333333333333333, \"#9c179e\"], [0.4444444444444444, \"#bd3786\"], [0.5555555555555556, \"#d8576b\"], [0.6666666666666666, \"#ed7953\"], [0.7777777777777778, \"#fb9f3a\"], [0.8888888888888888, \"#fdca26\"], [1.0, \"#f0f921\"]], \"type\": \"contour\"}], \"contourcarpet\": [{\"colorbar\": {\"outlinewidth\": 0, \"ticks\": \"\"}, \"type\": \"contourcarpet\"}], \"heatmap\": [{\"colorbar\": {\"outlinewidth\": 0, \"ticks\": \"\"}, \"colorscale\": [[0.0, \"#0d0887\"], [0.1111111111111111, \"#46039f\"], [0.2222222222222222, \"#7201a8\"], [0.3333333333333333, \"#9c179e\"], [0.4444444444444444, \"#bd3786\"], [0.5555555555555556, \"#d8576b\"], [0.6666666666666666, \"#ed7953\"], [0.7777777777777778, \"#fb9f3a\"], [0.8888888888888888, \"#fdca26\"], [1.0, \"#f0f921\"]], \"type\": \"heatmap\"}], \"heatmapgl\": [{\"colorbar\": {\"outlinewidth\": 0, \"ticks\": \"\"}, \"colorscale\": [[0.0, \"#0d0887\"], [0.1111111111111111, \"#46039f\"], [0.2222222222222222, \"#7201a8\"], [0.3333333333333333, \"#9c179e\"], [0.4444444444444444, \"#bd3786\"], [0.5555555555555556, \"#d8576b\"], [0.6666666666666666, \"#ed7953\"], [0.7777777777777778, \"#fb9f3a\"], [0.8888888888888888, \"#fdca26\"], [1.0, \"#f0f921\"]], \"type\": \"heatmapgl\"}], \"histogram\": [{\"marker\": {\"colorbar\": {\"outlinewidth\": 0, \"ticks\": \"\"}}, \"type\": \"histogram\"}], \"histogram2d\": [{\"colorbar\": {\"outlinewidth\": 0, \"ticks\": \"\"}, \"colorscale\": [[0.0, \"#0d0887\"], [0.1111111111111111, \"#46039f\"], [0.2222222222222222, \"#7201a8\"], [0.3333333333333333, \"#9c179e\"], [0.4444444444444444, \"#bd3786\"], [0.5555555555555556, \"#d8576b\"], [0.6666666666666666, \"#ed7953\"], [0.7777777777777778, \"#fb9f3a\"], [0.8888888888888888, \"#fdca26\"], [1.0, \"#f0f921\"]], \"type\": \"histogram2d\"}], \"histogram2dcontour\": [{\"colorbar\": {\"outlinewidth\": 0, \"ticks\": \"\"}, \"colorscale\": [[0.0, \"#0d0887\"], [0.1111111111111111, \"#46039f\"], [0.2222222222222222, \"#7201a8\"], [0.3333333333333333, \"#9c179e\"], [0.4444444444444444, \"#bd3786\"], [0.5555555555555556, \"#d8576b\"], [0.6666666666666666, \"#ed7953\"], [0.7777777777777778, \"#fb9f3a\"], [0.8888888888888888, \"#fdca26\"], [1.0, \"#f0f921\"]], \"type\": \"histogram2dcontour\"}], \"mesh3d\": [{\"colorbar\": {\"outlinewidth\": 0, \"ticks\": \"\"}, \"type\": \"mesh3d\"}], \"parcoords\": [{\"line\": {\"colorbar\": {\"outlinewidth\": 0, \"ticks\": \"\"}}, \"type\": \"parcoords\"}], \"pie\": [{\"automargin\": true, \"type\": \"pie\"}], \"scatter\": [{\"marker\": {\"colorbar\": {\"outlinewidth\": 0, \"ticks\": \"\"}}, \"type\": \"scatter\"}], \"scatter3d\": [{\"line\": {\"colorbar\": {\"outlinewidth\": 0, \"ticks\": \"\"}}, \"marker\": {\"colorbar\": {\"outlinewidth\": 0, \"ticks\": \"\"}}, \"type\": \"scatter3d\"}], \"scattercarpet\": [{\"marker\": {\"colorbar\": {\"outlinewidth\": 0, \"ticks\": \"\"}}, \"type\": \"scattercarpet\"}], \"scattergeo\": [{\"marker\": {\"colorbar\": {\"outlinewidth\": 0, \"ticks\": \"\"}}, \"type\": \"scattergeo\"}], \"scattergl\": [{\"marker\": {\"colorbar\": {\"outlinewidth\": 0, \"ticks\": \"\"}}, \"type\": \"scattergl\"}], \"scattermapbox\": [{\"marker\": {\"colorbar\": {\"outlinewidth\": 0, \"ticks\": \"\"}}, \"type\": \"scattermapbox\"}], \"scatterpolar\": [{\"marker\": {\"colorbar\": {\"outlinewidth\": 0, \"ticks\": \"\"}}, \"type\": \"scatterpolar\"}], \"scatterpolargl\": [{\"marker\": {\"colorbar\": {\"outlinewidth\": 0, \"ticks\": \"\"}}, \"type\": \"scatterpolargl\"}], \"scatterternary\": [{\"marker\": {\"colorbar\": {\"outlinewidth\": 0, \"ticks\": \"\"}}, \"type\": \"scatterternary\"}], \"surface\": [{\"colorbar\": {\"outlinewidth\": 0, \"ticks\": \"\"}, \"colorscale\": [[0.0, \"#0d0887\"], [0.1111111111111111, \"#46039f\"], [0.2222222222222222, \"#7201a8\"], [0.3333333333333333, \"#9c179e\"], [0.4444444444444444, \"#bd3786\"], [0.5555555555555556, \"#d8576b\"], [0.6666666666666666, \"#ed7953\"], [0.7777777777777778, \"#fb9f3a\"], [0.8888888888888888, \"#fdca26\"], [1.0, \"#f0f921\"]], \"type\": \"surface\"}], \"table\": [{\"cells\": {\"fill\": {\"color\": \"#EBF0F8\"}, \"line\": {\"color\": \"white\"}}, \"header\": {\"fill\": {\"color\": \"#C8D4E3\"}, \"line\": {\"color\": \"white\"}}, \"type\": \"table\"}]}, \"layout\": {\"annotationdefaults\": {\"arrowcolor\": \"#2a3f5f\", \"arrowhead\": 0, \"arrowwidth\": 1}, \"coloraxis\": {\"colorbar\": {\"outlinewidth\": 0, \"ticks\": \"\"}}, \"colorscale\": {\"diverging\": [[0, \"#8e0152\"], [0.1, \"#c51b7d\"], [0.2, \"#de77ae\"], [0.3, \"#f1b6da\"], [0.4, \"#fde0ef\"], [0.5, \"#f7f7f7\"], [0.6, \"#e6f5d0\"], [0.7, \"#b8e186\"], [0.8, \"#7fbc41\"], [0.9, \"#4d9221\"], [1, \"#276419\"]], \"sequential\": [[0.0, \"#0d0887\"], [0.1111111111111111, \"#46039f\"], [0.2222222222222222, \"#7201a8\"], [0.3333333333333333, \"#9c179e\"], [0.4444444444444444, \"#bd3786\"], [0.5555555555555556, \"#d8576b\"], [0.6666666666666666, \"#ed7953\"], [0.7777777777777778, \"#fb9f3a\"], [0.8888888888888888, \"#fdca26\"], [1.0, \"#f0f921\"]], \"sequentialminus\": [[0.0, \"#0d0887\"], [0.1111111111111111, \"#46039f\"], [0.2222222222222222, \"#7201a8\"], [0.3333333333333333, \"#9c179e\"], [0.4444444444444444, \"#bd3786\"], [0.5555555555555556, \"#d8576b\"], [0.6666666666666666, \"#ed7953\"], [0.7777777777777778, \"#fb9f3a\"], [0.8888888888888888, \"#fdca26\"], [1.0, \"#f0f921\"]]}, \"colorway\": [\"#636efa\", \"#EF553B\", \"#00cc96\", \"#ab63fa\", \"#FFA15A\", \"#19d3f3\", \"#FF6692\", \"#B6E880\", \"#FF97FF\", \"#FECB52\"], \"font\": {\"color\": \"#2a3f5f\"}, \"geo\": {\"bgcolor\": \"white\", \"lakecolor\": \"white\", \"landcolor\": \"#E5ECF6\", \"showlakes\": true, \"showland\": true, \"subunitcolor\": \"white\"}, \"hoverlabel\": {\"align\": \"left\"}, \"hovermode\": \"closest\", \"mapbox\": {\"style\": \"light\"}, \"paper_bgcolor\": \"white\", \"plot_bgcolor\": \"#E5ECF6\", \"polar\": {\"angularaxis\": {\"gridcolor\": \"white\", \"linecolor\": \"white\", \"ticks\": \"\"}, \"bgcolor\": \"#E5ECF6\", \"radialaxis\": {\"gridcolor\": \"white\", \"linecolor\": \"white\", \"ticks\": \"\"}}, \"scene\": {\"xaxis\": {\"backgroundcolor\": \"#E5ECF6\", \"gridcolor\": \"white\", \"gridwidth\": 2, \"linecolor\": \"white\", \"showbackground\": true, \"ticks\": \"\", \"zerolinecolor\": \"white\"}, \"yaxis\": {\"backgroundcolor\": \"#E5ECF6\", \"gridcolor\": \"white\", \"gridwidth\": 2, \"linecolor\": \"white\", \"showbackground\": true, \"ticks\": \"\", \"zerolinecolor\": \"white\"}, \"zaxis\": {\"backgroundcolor\": \"#E5ECF6\", \"gridcolor\": \"white\", \"gridwidth\": 2, \"linecolor\": \"white\", \"showbackground\": true, \"ticks\": \"\", \"zerolinecolor\": \"white\"}}, \"shapedefaults\": {\"line\": {\"color\": \"#2a3f5f\"}}, \"ternary\": {\"aaxis\": {\"gridcolor\": \"white\", \"linecolor\": \"white\", \"ticks\": \"\"}, \"baxis\": {\"gridcolor\": \"white\", \"linecolor\": \"white\", \"ticks\": \"\"}, \"bgcolor\": \"#E5ECF6\", \"caxis\": {\"gridcolor\": \"white\", \"linecolor\": \"white\", \"ticks\": \"\"}}, \"title\": {\"x\": 0.05}, \"xaxis\": {\"automargin\": true, \"gridcolor\": \"white\", \"linecolor\": \"white\", \"ticks\": \"\", \"title\": {\"standoff\": 15}, \"zerolinecolor\": \"white\", \"zerolinewidth\": 2}, \"yaxis\": {\"automargin\": true, \"gridcolor\": \"white\", \"linecolor\": \"white\", \"ticks\": \"\", \"title\": {\"standoff\": 15}, \"zerolinecolor\": \"white\", \"zerolinewidth\": 2}}}},                        {\"responsive\": true}                    ).then(function(){\n",
       "                            \n",
       "var gd = document.getElementById('c137ffba-5b20-4817-bd1e-ef65915ac6e8');\n",
       "var x = new MutationObserver(function (mutations, observer) {{\n",
       "        var display = window.getComputedStyle(gd).display;\n",
       "        if (!display || display === 'none') {{\n",
       "            console.log([gd, 'removed!']);\n",
       "            Plotly.purge(gd);\n",
       "            observer.disconnect();\n",
       "        }}\n",
       "}});\n",
       "\n",
       "// Listen for the removal of the full notebook cells\n",
       "var notebookContainer = gd.closest('#notebook-container');\n",
       "if (notebookContainer) {{\n",
       "    x.observe(notebookContainer, {childList: true});\n",
       "}}\n",
       "\n",
       "// Listen for the clearing of the current output cell\n",
       "var outputEl = gd.closest('.output');\n",
       "if (outputEl) {{\n",
       "    x.observe(outputEl, {childList: true});\n",
       "}}\n",
       "\n",
       "                        })                };                });            </script>        </div>"
      ]
     },
     "metadata": {},
     "output_type": "display_data"
    }
   ],
   "source": [
    "xCoordPlot = []\n",
    "yCoordPlot = []\n",
    "for i in f:\n",
    "    if(f[i].x == 1):\n",
    "        #top border\n",
    "        xCoordPlot.append(0)\n",
    "        xCoordPlot.append(Rw)\n",
    "        yCoordPlot.append(Rh)\n",
    "        yCoordPlot.append(Rh)\n",
    "        xCoordPlot.append(\"none\")\n",
    "        yCoordPlot.append(\"none\")\n",
    "        \n",
    "        #right border\n",
    "        xCoordPlot.append(Rw)\n",
    "        xCoordPlot.append(Rw)\n",
    "        yCoordPlot.append(0)\n",
    "        yCoordPlot.append(Rh)\n",
    "        xCoordPlot.append(\"none\")\n",
    "        yCoordPlot.append(\"none\")\n",
    "        #x\n",
    "        xCoordPlot.append(x[i].x)\n",
    "        xCoordPlot.append(x[i].x)\n",
    "        xCoordPlot.append(x[i].x + w[i])\n",
    "        xCoordPlot.append(x[i].x + w[i])\n",
    "        xCoordPlot.append(x[i].x)\n",
    "        xCoordPlot.append(\"none\")\n",
    "        #y\n",
    "        yCoordPlot.append(y[i].x)\n",
    "        yCoordPlot.append(y[i].x + h[i])\n",
    "        yCoordPlot.append(y[i].x + h[i])\n",
    "        yCoordPlot.append(y[i].x)\n",
    "        yCoordPlot.append(y[i].x)\n",
    "        yCoordPlot.append(\"none\")\n",
    "fig = go.Figure(go.Scatter(x=xCoordPlot, y=yCoordPlot, fill=\"toself\"))\n",
    "fig.show()"
   ]
  },
  {
   "cell_type": "markdown",
   "metadata": {},
   "source": [
    "## Programmatic looping solution"
   ]
  },
  {
   "cell_type": "markdown",
   "metadata": {},
   "source": [
    "Here, we will be importing our previously generated instance data. This data exists in JSON format, and is easily loaded in a useable Dict format by using the python json module. We will be solving all of these instances, and the solution data including the generated model, solution data, and decision variable values will be outputted to the '/solved_models/' directory."
   ]
  },
  {
   "cell_type": "markdown",
   "metadata": {},
   "source": [
    "### Read in generated instances"
   ]
  },
  {
   "cell_type": "code",
   "execution_count": 122,
   "metadata": {},
   "outputs": [],
   "source": [
    "import json \n",
    "with open('generated_instances.json') as f:\n",
    "  loaded_instances = json.load(f)"
   ]
  },
  {
   "cell_type": "markdown",
   "metadata": {},
   "source": [
    "### Define a function to wrap the entire solving flow from above section"
   ]
  },
  {
   "cell_type": "code",
   "execution_count": 125,
   "metadata": {},
   "outputs": [],
   "source": [
    "# instance is an object containing generated instance parameters\n",
    "def solveModel(instance, iteration):\n",
    "    print(\"INSTANCE #\", iteration)\n",
    "    # STEP 1: DEFINE THE MODEL\n",
    "    m = gp.Model()\n",
    "    \n",
    "    # STEP 2: DEFINE THE PARAMETERS THAT WILL BE USED\n",
    "    \n",
    "    # number of tables\n",
    "    N = instance['num_tables']\n",
    "    print(\"Number of tables:\", N)\n",
    "    \n",
    "    # Minimum physical distance required between tables\n",
    "    d = 2\n",
    "    \n",
    "    # capacity for each table\n",
    "    c = [table['capacity'] for table in instance['tables']]\n",
    "    \n",
    "    # width for each table\n",
    "    w = [table['width'] for table in instance['tables']]\n",
    "    print(\"Table widths:\", w)\n",
    "   \n",
    "    # account for physical distancing margin\n",
    "    for i in range(len(w)):\n",
    "        w[i] += d\n",
    "\n",
    "    # height for each table\n",
    "    h = [table['height'] for table in instance['tables']]\n",
    "    print(\"Table heights:\", h)\n",
    "    \n",
    "    # account for physical distancing margin\n",
    "    for i in range(len(h)):\n",
    "        h[i] += d\n",
    "    \n",
    "    # Width of dining space\n",
    "    Rw = instance['width']\n",
    "\n",
    "    # Height of dining space\n",
    "    Rh = instance['height']\n",
    "    \n",
    "    # Unused table space goal\n",
    "    U = 20\n",
    "\n",
    "    # Minimum desired establishment capacity goal\n",
    "    # For the purposes of this assignment, C is assumed to be half of the maximum capacity of an instance. \n",
    "    # In a real scenario, the owner of the restaurant would provide C as a parameter\n",
    "    C = (sum(c) // 2)\n",
    "    print ('Minimum desired capacity: %d' % C)\n",
    "    \n",
    "    # Underperformance measure of staff when table i and j are used Uij[rows][columns]\n",
    "    # For the purposes of this assignment, the Uij matrix is assumed to have an equal value for all indices. \n",
    "    # In a real scenario, the restaurant owner would provide this matrix as a parameter\n",
    "    Uij =  [[1 for table in instance['tables']] for table in instance['tables'] ]\n",
    "    print(\"Table underperformance matrix:\", Uij)\n",
    "  \n",
    "    # STEP 3: DEFINE DECISION VARIABLES\n",
    "    \n",
    "    # binary, if table i is used\n",
    "    f = {}\n",
    "    for i in range(N):\n",
    "        f[i] = m.addVar(vtype=GRB.BINARY, name=\"f_\" +str(i))\n",
    "\n",
    "    # bottom left x coordinate of table i\n",
    "    x = {}\n",
    "    for i in range(N):\n",
    "        x[i] = m.addVar(vtype=GRB.CONTINUOUS, name=\"x_\"+str(i))\n",
    "\n",
    "    # bottom left y coordinate of table i\n",
    "    y = {}\n",
    "    for i in range(N):\n",
    "        y[i] = m.addVar(vtype=GRB.CONTINUOUS, name=\"y_\"+str(i))\n",
    "\n",
    "\n",
    "    #binary, if table i is located left to table j\n",
    "    l = {}\n",
    "    for i in range(N):\n",
    "        for j in range(N):\n",
    "            if i != j:\n",
    "                l[i, j] = m.addVar(vtype=GRB.BINARY, name=\"l_\" +str(i)+str(j))\n",
    "\n",
    "    # binary, if table i is located below to table j\n",
    "    b = {}\n",
    "    for i in range(N):\n",
    "        for j in range(N):\n",
    "            if i != j:\n",
    "                b[i, j] = m.addVar(vtype=GRB.BINARY, name=\"b_\" +str(i)+str(j))\n",
    "\n",
    "    # binary, if table i and table j are both used\n",
    "    g = {}\n",
    "    for i in range(N):\n",
    "        for j in range(N):\n",
    "            if i != j:\n",
    "                g[i, j] = m.addVar(vtype=GRB.BINARY, name=\"g_\" +str(i)+str(j))\n",
    "\n",
    "    # surplus for goal 1  \n",
    "    g1surplus={}\n",
    "    g1surplus = m.addVar(vtype=GRB.CONTINUOUS, name=\"g1surplus\")\n",
    "    \n",
    "    # slack for goal 1  \n",
    "    g1slack={}\n",
    "    g1slack = m.addVar(vtype=GRB.CONTINUOUS, name=\"g1slack\")\n",
    "    \n",
    "    \n",
    "    # surplus for goal 2\n",
    "    g2surplus={}\n",
    "    g2surplus= m.addVar(vtype=GRB.CONTINUOUS, name=\"g2surplus\")\n",
    "\n",
    "    # slack/surplus for goal 2\n",
    "    g2slack={}\n",
    "    g2slack= m.addVar(vtype=GRB.CONTINUOUS, name=\"g2slack\")\n",
    "    \n",
    "    \n",
    "    # STEP 4: DEFINE OBJECTIVE FUNCTION\n",
    "    nonlinearobj = quicksum((g[i, j]*Uij[i][j])/2 for i in range(N) for j in range(N) if i != j)\n",
    "    m.setObjective(g1surplus+g2slack+(nonlinearobj), GRB.MINIMIZE)\n",
    "    \n",
    "    # Step 5: ADD CONSTRAINTS\n",
    "    # no overlap\n",
    "    m.addConstrs(l[i,j] + l[j,i] + b[i,j] + b[j,i] + (1-f[i]) + (1-f[j])  >= 1 for i in range(N) for j in range(N) if i != j)\n",
    "\n",
    "    # If a table i is to the left of table j, table i's right edge x coordinate  must be less than table j's x left edge x coordinate\n",
    "    m.addConstrs(x[i] + w[i] <= (x[j] + Rw - Rw*l[i,j]) for i in range(N) for j in range(N) if i != j)\n",
    "\n",
    "    # If table i is below j, table i's top edge y coordinate must be less than table j's bottom edge y coordinate\n",
    "    m.addConstrs(y[i] + h[i] <= (y[j] + Rh - Rh*b[i,j]) for i in range(N) for j in range(N) if i != j)\n",
    "\n",
    "    # table space must exist within the dining space\n",
    "    m.addConstrs(x[i] >= 0 for i in range(N))\n",
    "    m.addConstrs(x[i]+w[i]<= Rw for i in range (N))\n",
    "    m.addConstrs(y[i] >= 0 for i in range(N))\n",
    "    m.addConstrs(y[i]+h[i]<= Rh for i in range (N))\n",
    "\n",
    "    # Unused table space must be under U - GOAL 1\n",
    "    m.addConstrs((Rw*Rh) - quicksum((w[i])*(h[i])*f[i] for i in range(N)) - g1surplus + g1slack == U for i in range(N))\n",
    "\n",
    "    # Facility capacity must be over C to remain profitable - GOAL 2\n",
    "    m.addConstrs(quicksum(f[i]*c[i] for i in range(N)) + g2slack -g2surplus == C for i in range(N))\n",
    "\n",
    "    # Quadratic constraint\n",
    "    m.addConstrs(g[i,j] >= f[i] + f[j] - 1 for i in range(N) for j in range(N) if i != j)\n",
    "\n",
    "    # update model\n",
    "    m.update()\n",
    "    \n",
    "    # STEP 6: SOLVE THE MODEL\n",
    "    m.optimize()\n",
    "    \n",
    "    # STEP 7: VISUALLY DISPLAY RESULTS\n",
    "    # Parameters\n",
    "    print(\"Room size:\", Rw*Rh, \"m^2\")\n",
    "    # Tables:\n",
    "    for i in f:\n",
    "        print(\"Table\", i, \"was\", \"not\" if i==0 else \"\", \"used.\", \"Position:\", \"(\", x[i].x,\",\",y[i].x,\").\", \"Capacity:\", c[i], \"Table space height:\", h[i], \"Table space width:\", w[i])\n",
    "    # Goal 1 print\n",
    "    print(\"Goal 1: Unused space must be under\", U, \"m^2.\", )\n",
    "    print(\"Goal 1 Result: Unused space was\", g1surplus.x, \"m^2.\", )\n",
    "    \n",
    "    # Goal 2 print\n",
    "    print(\"Goal 2: Facility capacity must be over\", C, \"to remain profitable.\", )\n",
    "    print(\"Goal 2 Result: Facility capacity was unmet by\", g2slack.x, \".\", )\n",
    "    \n",
    "    # nonlinear element print\n",
    "    print(\"Underperformance level for this table setup is\", nonlinearobj.getValue())\n",
    "    tableUsedData = []\n",
    "    \n",
    "    for tableUsed in f:\n",
    "        tableUsedData.append(f[tableUsed].x)\n",
    "    xCoords = []\n",
    "    for i in x:\n",
    "        xCoords.append(x[i].x)\n",
    "    yCoords = []\n",
    "    for i in y:\n",
    "        yCoords.append(y[i].x)\n",
    "    d = {'ifUsed' : tableUsedData, 'x-coord' : xCoords, 'y-coord' : yCoords, 'capacity' : c, 'table space width' : w, 'table space height' : h}\n",
    "    df = pd.DataFrame(data=d)\n",
    "    df\n",
    "    \n",
    "    "
   ]
  },
  {
   "cell_type": "code",
   "execution_count": 123,
   "metadata": {},
   "outputs": [],
   "source": [
    "# STEP 8: CREATE VISUALIZATION USING PLOTLY\n",
    "    xCoordPlot = []\n",
    "    yCoordPlot = []\n",
    "    for i in f:\n",
    "        if(f[i].x == 1):\n",
    "            #top border\n",
    "            xCoordPlot.append(0)\n",
    "            xCoordPlot.append(Rw)\n",
    "            yCoordPlot.append(Rh)\n",
    "            yCoordPlot.append(Rh)\n",
    "            xCoordPlot.append(\"none\")\n",
    "            yCoordPlot.append(\"none\")\n",
    "\n",
    "            #right border\n",
    "            xCoordPlot.append(Rw)\n",
    "            xCoordPlot.append(Rw)\n",
    "            yCoordPlot.append(0)\n",
    "            yCoordPlot.append(Rh)\n",
    "            xCoordPlot.append(\"none\")\n",
    "            yCoordPlot.append(\"none\")\n",
    "            #x\n",
    "            xCoordPlot.append(x[i].x)\n",
    "            xCoordPlot.append(x[i].x)\n",
    "            xCoordPlot.append(x[i].x + w[i])\n",
    "            xCoordPlot.append(x[i].x + w[i])\n",
    "            xCoordPlot.append(x[i].x)\n",
    "            xCoordPlot.append(\"none\")\n",
    "            #y\n",
    "            yCoordPlot.append(y[i].x)\n",
    "            yCoordPlot.append(y[i].x + h[i])\n",
    "            yCoordPlot.append(y[i].x + h[i])\n",
    "            yCoordPlot.append(y[i].x)\n",
    "            yCoordPlot.append(y[i].x)\n",
    "            yCoordPlot.append(\"none\")\n",
    "            \n",
    "    fig = go.Figure(go.Scatter(x=xCoordPlot, y=yCoordPlot, fill=\"toself\"))\n",
    "    #fig.show()\n",
    "    \n",
    "    # STEP 9: SAVE MODEL, SOLUTION, PLOTLY FIGURE, AND DECISION VARIABLE VALUES TO /solved_models/ DIRECTORY\n",
    "    #m.write('solved_models/instance_%d_out.lp' % iteration)\n",
    "    #m.write('solved_models/instance_%d_out.json' % iteration)\n",
    "    #fig.write_image('solved_models/instance_%d_fig.png' % iteration, engine='kaleido')\n",
    "    #df.to_csv('solved_models/instance_%d_out.csv' % iteration, index=False)\n",
    "    "
   ]
  },
  {
   "cell_type": "markdown",
   "metadata": {},
   "source": [
    "### Solve all instances"
   ]
  },
  {
   "cell_type": "code",
   "execution_count": 124,
   "metadata": {},
   "outputs": [
    {
     "name": "stdout",
     "output_type": "stream",
     "text": [
      "INSTANCE # 0\n",
      "Number of tables: 5\n",
      "Table widths: [4, 3, 3, 2, 2]\n",
      "Table heights: [3, 3, 4, 2, 2]\n",
      "Minimum desired capacity: 28\n",
      "Table underperformance matrix: [[1, 1, 1, 1, 1], [1, 1, 1, 1, 1], [1, 1, 1, 1, 1], [1, 1, 1, 1, 1], [1, 1, 1, 1, 1]]\n",
      "Gurobi Optimizer version 9.0.3 build v9.0.3rc0 (win64)\n",
      "Optimize a model with 110 rows, 79 columns and 390 nonzeros\n",
      "Model fingerprint: 0x6b867500\n",
      "Variable types: 14 continuous, 65 integer (65 binary)\n",
      "Coefficient statistics:\n",
      "  Matrix range     [1e+00, 3e+01]\n",
      "  Objective range  [5e-01, 1e+00]\n",
      "  Bounds range     [1e+00, 1e+00]\n",
      "  RHS range        [1e+00, 2e+02]\n",
      "Found heuristic solution: objective 203.0000000\n",
      "Presolve removed 49 rows and 13 columns\n",
      "Presolve time: 0.00s\n",
      "Presolved: 61 rows, 66 columns, 216 nonzeros\n",
      "Variable types: 10 continuous, 56 integer (55 binary)\n",
      "\n",
      "Root relaxation: objective 6.800000e+01, 19 iterations, 0.00 seconds\n",
      "\n",
      "    Nodes    |    Current Node    |     Objective Bounds      |     Work\n",
      " Expl Unexpl |  Obj  Depth IntInf | Incumbent    BestBd   Gap | It/Node Time\n",
      "\n",
      "H    0     0                      68.0000000   58.00000  14.7%     -    0s\n",
      "     0     0   68.00000    0   14   68.00000   68.00000  0.00%     -    0s\n",
      "\n",
      "Explored 0 nodes (19 simplex iterations) in 0.03 seconds\n",
      "Thread count was 8 (of 8 available processors)\n",
      "\n",
      "Solution count 2: 68 203 \n",
      "\n",
      "Optimal solution found (tolerance 1.00e-04)\n",
      "Best objective 6.800000000000e+01, best bound 6.800000000000e+01, gap 0.0000%\n",
      "Room size: 195 m^2\n",
      "Table 0 was not used. Position: ( 0.0 , 0.0 ). Capacity: 16 Table space height: 5 Table space width: 6\n",
      "Table 1 was  used. Position: ( 6.0 , 0.0 ). Capacity: 12 Table space height: 5 Table space width: 5\n",
      "Table 2 was  used. Position: ( 0.0 , 5.0 ). Capacity: 12 Table space height: 6 Table space width: 5\n",
      "Table 3 was  used. Position: ( 11.0 , 0.0 ). Capacity: 8 Table space height: 4 Table space width: 4\n",
      "Table 4 was  used. Position: ( 11.0 , 4.0 ). Capacity: 8 Table space height: 4 Table space width: 4\n",
      "Goal 1: Unused space must be under 20 m^2.\n",
      "Goal 1 Result: Unused space was 58.0 m^2.\n",
      "Goal 2: Facility capacity must be over 28 to remain profitable.\n",
      "Goal 2 Result: Facility capacity was unmet by 0.0 .\n",
      "Underperformance level for this table setup is 10.0\n",
      "INSTANCE # 1\n",
      "Number of tables: 8\n",
      "Table widths: [2, 3, 5, 2, 3, 3, 2, 2]\n",
      "Table heights: [2, 3, 4, 2, 3, 3, 2, 2]\n",
      "Minimum desired capacity: 44\n",
      "Table underperformance matrix: [[1, 1, 1, 1, 1, 1, 1, 1], [1, 1, 1, 1, 1, 1, 1, 1], [1, 1, 1, 1, 1, 1, 1, 1], [1, 1, 1, 1, 1, 1, 1, 1], [1, 1, 1, 1, 1, 1, 1, 1], [1, 1, 1, 1, 1, 1, 1, 1], [1, 1, 1, 1, 1, 1, 1, 1], [1, 1, 1, 1, 1, 1, 1, 1]]\n",
      "Gurobi Optimizer version 9.0.3 build v9.0.3rc0 (win64)\n",
      "Optimize a model with 272 rows, 196 columns and 1032 nonzeros\n",
      "Model fingerprint: 0xe831033c\n",
      "Variable types: 20 continuous, 176 integer (176 binary)\n",
      "Coefficient statistics:\n",
      "  Matrix range     [1e+00, 4e+01]\n",
      "  Objective range  [5e-01, 1e+00]\n",
      "  Bounds range     [1e+00, 1e+00]\n",
      "  RHS range        [1e+00, 9e+02]\n",
      "Found heuristic solution: objective 846.0000000\n",
      "Presolve removed 103 rows and 31 columns\n",
      "Presolve time: 0.00s\n",
      "Presolved: 169 rows, 165 columns, 597 nonzeros\n",
      "Variable types: 16 continuous, 149 integer (148 binary)\n",
      "\n",
      "Root relaxation: objective 7.110000e+02, 52 iterations, 0.00 seconds\n",
      "\n",
      "    Nodes    |    Current Node    |     Objective Bounds      |     Work\n",
      " Expl Unexpl |  Obj  Depth IntInf | Incumbent    BestBd   Gap | It/Node Time\n",
      "\n",
      "H    0     0                     711.0000000  683.00000  3.94%     -    0s\n",
      "     0     0     cutoff    0       711.00000  711.00000  0.00%     -    0s\n",
      "\n",
      "Explored 0 nodes (107 simplex iterations) in 0.04 seconds\n",
      "Thread count was 8 (of 8 available processors)\n",
      "\n",
      "Solution count 2: 711 846 \n",
      "\n",
      "Optimal solution found (tolerance 1.00e-04)\n",
      "Best objective 7.110000000000e+02, best bound 7.110000000000e+02, gap 0.0000%\n",
      "Room size: 884 m^2\n",
      "Table 0 was not used. Position: ( 9.0 , 0.0 ). Capacity: 8 Table space height: 4 Table space width: 4\n",
      "Table 1 was  used. Position: ( 0.0 , 0.0 ). Capacity: 12 Table space height: 5 Table space width: 5\n",
      "Table 2 was  used. Position: ( 5.0 , 5.0 ). Capacity: 20 Table space height: 6 Table space width: 7\n",
      "Table 3 was  used. Position: ( 5.0 , 0.0 ). Capacity: 8 Table space height: 4 Table space width: 4\n",
      "Table 4 was  used. Position: ( 0.0 , 5.0 ). Capacity: 12 Table space height: 5 Table space width: 5\n",
      "Table 5 was  used. Position: ( 12.0 , 5.0 ). Capacity: 12 Table space height: 5 Table space width: 5\n",
      "Table 6 was  used. Position: ( 0.0 , 11.0 ). Capacity: 8 Table space height: 4 Table space width: 4\n",
      "Table 7 was  used. Position: ( 0.0 , 15.0 ). Capacity: 8 Table space height: 4 Table space width: 4\n",
      "Goal 1: Unused space must be under 20 m^2.\n",
      "Goal 1 Result: Unused space was 683.0 m^2.\n",
      "Goal 2: Facility capacity must be over 44 to remain profitable.\n",
      "Goal 2 Result: Facility capacity was unmet by 0.0 .\n",
      "Underperformance level for this table setup is 28.0\n",
      "INSTANCE # 2\n",
      "Number of tables: 18\n",
      "Table widths: [3, 2, 3, 3, 5, 2, 3, 2, 3, 3, 5, 3, 3, 4, 2, 2, 3, 3]\n",
      "Table heights: [4, 2, 4, 3, 3, 2, 3, 2, 5, 3, 3, 3, 3, 5, 2, 2, 3, 5]\n",
      "Minimum desired capacity: 108\n",
      "Table underperformance matrix: [[1, 1, 1, 1, 1, 1, 1, 1, 1, 1, 1, 1, 1, 1, 1, 1, 1, 1], [1, 1, 1, 1, 1, 1, 1, 1, 1, 1, 1, 1, 1, 1, 1, 1, 1, 1], [1, 1, 1, 1, 1, 1, 1, 1, 1, 1, 1, 1, 1, 1, 1, 1, 1, 1], [1, 1, 1, 1, 1, 1, 1, 1, 1, 1, 1, 1, 1, 1, 1, 1, 1, 1], [1, 1, 1, 1, 1, 1, 1, 1, 1, 1, 1, 1, 1, 1, 1, 1, 1, 1], [1, 1, 1, 1, 1, 1, 1, 1, 1, 1, 1, 1, 1, 1, 1, 1, 1, 1], [1, 1, 1, 1, 1, 1, 1, 1, 1, 1, 1, 1, 1, 1, 1, 1, 1, 1], [1, 1, 1, 1, 1, 1, 1, 1, 1, 1, 1, 1, 1, 1, 1, 1, 1, 1], [1, 1, 1, 1, 1, 1, 1, 1, 1, 1, 1, 1, 1, 1, 1, 1, 1, 1], [1, 1, 1, 1, 1, 1, 1, 1, 1, 1, 1, 1, 1, 1, 1, 1, 1, 1], [1, 1, 1, 1, 1, 1, 1, 1, 1, 1, 1, 1, 1, 1, 1, 1, 1, 1], [1, 1, 1, 1, 1, 1, 1, 1, 1, 1, 1, 1, 1, 1, 1, 1, 1, 1], [1, 1, 1, 1, 1, 1, 1, 1, 1, 1, 1, 1, 1, 1, 1, 1, 1, 1], [1, 1, 1, 1, 1, 1, 1, 1, 1, 1, 1, 1, 1, 1, 1, 1, 1, 1], [1, 1, 1, 1, 1, 1, 1, 1, 1, 1, 1, 1, 1, 1, 1, 1, 1, 1], [1, 1, 1, 1, 1, 1, 1, 1, 1, 1, 1, 1, 1, 1, 1, 1, 1, 1], [1, 1, 1, 1, 1, 1, 1, 1, 1, 1, 1, 1, 1, 1, 1, 1, 1, 1], [1, 1, 1, 1, 1, 1, 1, 1, 1, 1, 1, 1, 1, 1, 1, 1, 1, 1]]\n",
      "Gurobi Optimizer version 9.0.3 build v9.0.3rc0 (win64)\n",
      "Optimize a model with 1332 rows, 976 columns and 5382 nonzeros\n",
      "Model fingerprint: 0xc745cd5e\n",
      "Variable types: 40 continuous, 936 integer (936 binary)\n",
      "Coefficient statistics:\n",
      "  Matrix range     [1e+00, 5e+01]\n",
      "  Objective range  [5e-01, 1e+00]\n",
      "  Bounds range     [1e+00, 1e+00]\n",
      "  RHS range        [1e+00, 3e+03]\n",
      "Found heuristic solution: objective 2854.0000000\n",
      "Presolve removed 413 rows and 156 columns\n",
      "Presolve time: 0.01s\n",
      "Presolved: 919 rows, 820 columns, 3232 nonzeros\n",
      "Variable types: 36 continuous, 784 integer (783 binary)\n",
      "\n",
      "Root relaxation: objective 2.466500e+03, 246 iterations, 0.00 seconds\n",
      "\n",
      "    Nodes    |    Current Node    |     Objective Bounds      |     Work\n",
      " Expl Unexpl |  Obj  Depth IntInf | Incumbent    BestBd   Gap | It/Node Time\n",
      "\n",
      "     0     0 2466.50000    0   70 2854.00000 2466.50000  13.6%     -    0s\n",
      "H    0     0                    2469.0000000 2466.50000  0.10%     -    0s\n",
      "H    0     0                    2468.0000000 2467.00000  0.04%     -    0s\n",
      "     0     0 2468.00000    0   60 2468.00000 2468.00000  0.00%     -    0s\n",
      "\n",
      "Cutting planes:\n",
      "  Zero half: 3\n",
      "  BQP: 1\n",
      "\n",
      "Explored 1 nodes (521 simplex iterations) in 0.08 seconds\n",
      "Thread count was 8 (of 8 available processors)\n",
      "\n",
      "Solution count 3: 2468 2469 2854 \n",
      "\n",
      "Optimal solution found (tolerance 1.00e-04)\n",
      "Best objective 2.468000000000e+03, best bound 2.468000000000e+03, gap 0.0000%\n",
      "Room size: 2808 m^2\n",
      "Table 0 was not used. Position: ( 5.0 , 10.0 ). Capacity: 12 Table space height: 6 Table space width: 5\n",
      "Table 1 was  used. Position: ( 17.0 , 12.0 ). Capacity: 8 Table space height: 4 Table space width: 4\n",
      "Table 2 was  used. Position: ( 0.0 , 0.0 ). Capacity: 12 Table space height: 6 Table space width: 5\n",
      "Table 3 was  used. Position: ( 10.0 , 0.0 ). Capacity: 12 Table space height: 5 Table space width: 5\n",
      "Table 4 was  used. Position: ( 5.0 , 16.0 ). Capacity: 20 Table space height: 5 Table space width: 7\n",
      "Table 5 was  used. Position: ( 5.0 , 5.0 ). Capacity: 8 Table space height: 4 Table space width: 4\n",
      "Table 6 was  used. Position: ( 0.0 , 6.0 ). Capacity: 12 Table space height: 5 Table space width: 5\n",
      "Table 7 was  used. Position: ( 0.0 , 20.0 ). Capacity: 8 Table space height: 4 Table space width: 4\n",
      "Table 8 was  used. Position: ( 0.0 , 24.0 ). Capacity: 12 Table space height: 7 Table space width: 5\n",
      "Table 9 was  used. Position: ( 0.0 , 15.0 ). Capacity: 12 Table space height: 5 Table space width: 5\n",
      "Table 10 was  used. Position: ( 14.0 , 5.0 ). Capacity: 20 Table space height: 5 Table space width: 7\n",
      "Table 11 was  used. Position: ( 12.0 , 10.0 ). Capacity: 12 Table space height: 5 Table space width: 5\n",
      "Table 12 was  used. Position: ( 21.0 , 0.0 ). Capacity: 12 Table space height: 5 Table space width: 5\n",
      "Table 13 was  used. Position: ( 21.0 , 12.0 ). Capacity: 16 Table space height: 7 Table space width: 6\n",
      "Table 14 was  used. Position: ( 0.0 , 11.0 ). Capacity: 8 Table space height: 4 Table space width: 4\n",
      "Table 15 was  used. Position: ( 26.0 , 0.0 ). Capacity: 8 Table space height: 4 Table space width: 4\n",
      "Table 16 was  used. Position: ( 5.0 , 0.0 ). Capacity: 12 Table space height: 5 Table space width: 5\n",
      "Table 17 was  used. Position: ( 21.0 , 5.0 ). Capacity: 12 Table space height: 7 Table space width: 5\n",
      "Goal 1: Unused space must be under 20 m^2.\n",
      "Goal 1 Result: Unused space was 2348.0 m^2.\n",
      "Goal 2: Facility capacity must be over 108 to remain profitable.\n",
      "Goal 2 Result: Facility capacity was unmet by 0.0 .\n",
      "Underperformance level for this table setup is 120.0\n",
      "INSTANCE # 3\n",
      "Number of tables: 5\n",
      "Table widths: [3, 3, 3, 5, 3]\n",
      "Table heights: [3, 3, 3, 4, 3]\n",
      "Minimum desired capacity: 34\n",
      "Table underperformance matrix: [[1, 1, 1, 1, 1], [1, 1, 1, 1, 1], [1, 1, 1, 1, 1], [1, 1, 1, 1, 1], [1, 1, 1, 1, 1]]\n",
      "Gurobi Optimizer version 9.0.3 build v9.0.3rc0 (win64)\n"
     ]
    },
    {
     "name": "stdout",
     "output_type": "stream",
     "text": [
      "Optimize a model with 110 rows, 79 columns and 390 nonzeros\n",
      "Model fingerprint: 0xc81cb5e6\n",
      "Variable types: 14 continuous, 65 integer (65 binary)\n",
      "Coefficient statistics:\n",
      "  Matrix range     [1e+00, 4e+01]\n",
      "  Objective range  [5e-01, 1e+00]\n",
      "  Bounds range     [1e+00, 1e+00]\n",
      "  RHS range        [1e+00, 1e+02]\n",
      "Found heuristic solution: objective 158.0000000\n",
      "Presolve removed 48 rows and 12 columns\n",
      "Presolve time: 0.00s\n",
      "Presolved: 62 rows, 67 columns, 222 nonzeros\n",
      "Variable types: 10 continuous, 57 integer (56 binary)\n",
      "\n",
      "Root relaxation: objective 1.000000e+01, 20 iterations, 0.00 seconds\n",
      "\n",
      "    Nodes    |    Current Node    |     Objective Bounds      |     Work\n",
      " Expl Unexpl |  Obj  Depth IntInf | Incumbent    BestBd   Gap | It/Node Time\n",
      "\n",
      "     0     0   10.00000    0    2  158.00000   10.00000  93.7%     -    0s\n",
      "H    0     0                      13.0000000   10.00000  23.1%     -    0s\n",
      "     0     0   10.00000    0    2   13.00000   10.00000  23.1%     -    0s\n",
      "     0     0   10.00000    0    2   13.00000   10.00000  23.1%     -    0s\n",
      "     0     0   10.00000    0    9   13.00000   10.00000  23.1%     -    0s\n",
      "     0     0   10.00000    0    9   13.00000   10.00000  23.1%     -    0s\n",
      "     0     0   10.00000    0    2   13.00000   10.00000  23.1%     -    0s\n",
      "     0     0   10.00000    0    4   13.00000   10.00000  23.1%     -    0s\n",
      "     0     0   10.00000    0    9   13.00000   10.00000  23.1%     -    0s\n",
      "     0     0   10.00000    0    4   13.00000   10.00000  23.1%     -    0s\n",
      "     0     0   10.00000    0    4   13.00000   10.00000  23.1%     -    0s\n",
      "     0     2   10.00000    0    4   13.00000   10.00000  23.1%     -    0s\n",
      "\n",
      "Cutting planes:\n",
      "  Gomory: 3\n",
      "  Cover: 4\n",
      "  Implied bound: 4\n",
      "  Clique: 3\n",
      "  MIR: 4\n",
      "  Relax-and-lift: 2\n",
      "\n",
      "Explored 41 nodes (348 simplex iterations) in 0.09 seconds\n",
      "Thread count was 8 (of 8 available processors)\n",
      "\n",
      "Solution count 2: 13 158 \n",
      "\n",
      "Optimal solution found (tolerance 1.00e-04)\n",
      "Best objective 1.300000000000e+01, best bound 1.300000000000e+01, gap 0.0000%\n",
      "Room size: 144 m^2\n",
      "Table 0 was not used. Position: ( 0.0 , 2.0 ). Capacity: 12 Table space height: 5 Table space width: 5\n",
      "Table 1 was  used. Position: ( 0.0 , 0.0 ). Capacity: 12 Table space height: 5 Table space width: 5\n",
      "Table 2 was  used. Position: ( 0.0 , 7.0 ). Capacity: 12 Table space height: 5 Table space width: 5\n",
      "Table 3 was  used. Position: ( 5.0 , 0.0 ). Capacity: 20 Table space height: 6 Table space width: 7\n",
      "Table 4 was  used. Position: ( 5.0 , 6.0 ). Capacity: 12 Table space height: 5 Table space width: 5\n",
      "Goal 1: Unused space must be under 20 m^2.\n",
      "Goal 1 Result: Unused space was 7.0 m^2.\n",
      "Goal 2: Facility capacity must be over 34 to remain profitable.\n",
      "Goal 2 Result: Facility capacity was unmet by 0.0 .\n",
      "Underperformance level for this table setup is 6.0\n",
      "INSTANCE # 4\n",
      "Number of tables: 12\n",
      "Table widths: [3, 2, 3, 2, 2, 5, 3, 3, 3, 2, 3, 3]\n",
      "Table heights: [4, 2, 3, 2, 2, 3, 3, 4, 3, 2, 3, 3]\n",
      "Minimum desired capacity: 68\n",
      "Table underperformance matrix: [[1, 1, 1, 1, 1, 1, 1, 1, 1, 1, 1, 1], [1, 1, 1, 1, 1, 1, 1, 1, 1, 1, 1, 1], [1, 1, 1, 1, 1, 1, 1, 1, 1, 1, 1, 1], [1, 1, 1, 1, 1, 1, 1, 1, 1, 1, 1, 1], [1, 1, 1, 1, 1, 1, 1, 1, 1, 1, 1, 1], [1, 1, 1, 1, 1, 1, 1, 1, 1, 1, 1, 1], [1, 1, 1, 1, 1, 1, 1, 1, 1, 1, 1, 1], [1, 1, 1, 1, 1, 1, 1, 1, 1, 1, 1, 1], [1, 1, 1, 1, 1, 1, 1, 1, 1, 1, 1, 1], [1, 1, 1, 1, 1, 1, 1, 1, 1, 1, 1, 1], [1, 1, 1, 1, 1, 1, 1, 1, 1, 1, 1, 1], [1, 1, 1, 1, 1, 1, 1, 1, 1, 1, 1, 1]]\n",
      "Gurobi Optimizer version 9.0.3 build v9.0.3rc0 (win64)\n",
      "Optimize a model with 600 rows, 436 columns and 2364 nonzeros\n",
      "Model fingerprint: 0xfb9203e3\n",
      "Variable types: 28 continuous, 408 integer (408 binary)\n",
      "Coefficient statistics:\n",
      "  Matrix range     [1e+00, 4e+01]\n",
      "  Objective range  [5e-01, 1e+00]\n",
      "  Bounds range     [1e+00, 1e+00]\n",
      "  RHS range        [1e+00, 6e+02]\n",
      "Found heuristic solution: objective 659.0000000\n",
      "Presolve removed 203 rows and 69 columns\n",
      "Presolve time: 0.00s\n",
      "Presolved: 397 rows, 367 columns, 1399 nonzeros\n",
      "Variable types: 24 continuous, 343 integer (342 binary)\n",
      "\n",
      "Root relaxation: objective 4.100000e+02, 132 iterations, 0.00 seconds\n",
      "\n",
      "    Nodes    |    Current Node    |     Objective Bounds      |     Work\n",
      " Expl Unexpl |  Obj  Depth IntInf | Incumbent    BestBd   Gap | It/Node Time\n",
      "\n",
      "H    0     0                     410.0000000  344.00000  16.1%     -    0s\n",
      "     0     0     cutoff    0       410.00000  410.00000  0.00%     -    0s\n",
      "\n",
      "Explored 0 nodes (267 simplex iterations) in 0.03 seconds\n",
      "Thread count was 8 (of 8 available processors)\n",
      "\n",
      "Solution count 2: 410 659 \n",
      "\n",
      "Optimal solution found (tolerance 1.00e-04)\n",
      "Best objective 4.100000000000e+02, best bound 4.100000000000e+02, gap 0.0000%\n",
      "Room size: 648 m^2\n",
      "Table 0 was not used. Position: ( 0.0 , 8.0 ). Capacity: 12 Table space height: 6 Table space width: 5\n",
      "Table 1 was  used. Position: ( 0.0 , 19.0 ). Capacity: 8 Table space height: 4 Table space width: 4\n",
      "Table 2 was  used. Position: ( 0.0 , 14.0 ). Capacity: 12 Table space height: 5 Table space width: 5\n",
      "Table 3 was  used. Position: ( 0.0 , 0.0 ). Capacity: 8 Table space height: 4 Table space width: 4\n",
      "Table 4 was  used. Position: ( 10.0 , 5.0 ). Capacity: 8 Table space height: 4 Table space width: 4\n",
      "Table 5 was  used. Position: ( 10.0 , 0.0 ). Capacity: 20 Table space height: 5 Table space width: 7\n",
      "Table 6 was  used. Position: ( 5.0 , 0.0 ). Capacity: 12 Table space height: 5 Table space width: 5\n",
      "Table 7 was  used. Position: ( 5.0 , 5.0 ). Capacity: 12 Table space height: 6 Table space width: 5\n",
      "Table 8 was  used. Position: ( 22.0 , 5.0 ). Capacity: 12 Table space height: 5 Table space width: 5\n",
      "Table 9 was  used. Position: ( 14.0 , 5.0 ). Capacity: 8 Table space height: 4 Table space width: 4\n",
      "Table 10 was  used. Position: ( 18.0 , 0.0 ). Capacity: 12 Table space height: 5 Table space width: 5\n",
      "Table 11 was  used. Position: ( 18.0 , 10.0 ). Capacity: 12 Table space height: 5 Table space width: 5\n",
      "Goal 1: Unused space must be under 20 m^2.\n",
      "Goal 1 Result: Unused space was 344.0 m^2.\n",
      "Goal 2: Facility capacity must be over 68 to remain profitable.\n",
      "Goal 2 Result: Facility capacity was unmet by 0.0 .\n",
      "Underperformance level for this table setup is 66.0\n",
      "INSTANCE # 5\n",
      "Number of tables: 16\n",
      "Table widths: [4, 2, 3, 3, 3, 3, 3, 3, 3, 3, 2, 2, 3, 4, 2, 2]\n",
      "Table heights: [4, 2, 3, 3, 3, 3, 4, 3, 3, 5, 2, 2, 3, 5, 2, 2]\n",
      "Minimum desired capacity: 90\n",
      "Table underperformance matrix: [[1, 1, 1, 1, 1, 1, 1, 1, 1, 1, 1, 1, 1, 1, 1, 1], [1, 1, 1, 1, 1, 1, 1, 1, 1, 1, 1, 1, 1, 1, 1, 1], [1, 1, 1, 1, 1, 1, 1, 1, 1, 1, 1, 1, 1, 1, 1, 1], [1, 1, 1, 1, 1, 1, 1, 1, 1, 1, 1, 1, 1, 1, 1, 1], [1, 1, 1, 1, 1, 1, 1, 1, 1, 1, 1, 1, 1, 1, 1, 1], [1, 1, 1, 1, 1, 1, 1, 1, 1, 1, 1, 1, 1, 1, 1, 1], [1, 1, 1, 1, 1, 1, 1, 1, 1, 1, 1, 1, 1, 1, 1, 1], [1, 1, 1, 1, 1, 1, 1, 1, 1, 1, 1, 1, 1, 1, 1, 1], [1, 1, 1, 1, 1, 1, 1, 1, 1, 1, 1, 1, 1, 1, 1, 1], [1, 1, 1, 1, 1, 1, 1, 1, 1, 1, 1, 1, 1, 1, 1, 1], [1, 1, 1, 1, 1, 1, 1, 1, 1, 1, 1, 1, 1, 1, 1, 1], [1, 1, 1, 1, 1, 1, 1, 1, 1, 1, 1, 1, 1, 1, 1, 1], [1, 1, 1, 1, 1, 1, 1, 1, 1, 1, 1, 1, 1, 1, 1, 1], [1, 1, 1, 1, 1, 1, 1, 1, 1, 1, 1, 1, 1, 1, 1, 1], [1, 1, 1, 1, 1, 1, 1, 1, 1, 1, 1, 1, 1, 1, 1, 1], [1, 1, 1, 1, 1, 1, 1, 1, 1, 1, 1, 1, 1, 1, 1, 1]]\n",
      "Gurobi Optimizer version 9.0.3 build v9.0.3rc0 (win64)\n",
      "Optimize a model with 1056 rows, 772 columns and 4240 nonzeros\n",
      "Model fingerprint: 0xbf1f5eee\n",
      "Variable types: 36 continuous, 736 integer (736 binary)\n",
      "Coefficient statistics:\n",
      "  Matrix range     [1e+00, 5e+01]\n",
      "  Objective range  [5e-01, 1e+00]\n",
      "  Bounds range     [1e+00, 1e+00]\n",
      "  RHS range        [1e+00, 2e+03]\n",
      "Found heuristic solution: objective 2364.0000000\n",
      "Presolve removed 335 rows and 123 columns\n",
      "Presolve time: 0.01s\n",
      "Presolved: 721 rows, 649 columns, 2537 nonzeros\n",
      "Variable types: 32 continuous, 617 integer (616 binary)\n",
      "\n",
      "Root relaxation: objective 2.054000e+03, 233 iterations, 0.00 seconds\n",
      "\n",
      "    Nodes    |    Current Node    |     Objective Bounds      |     Work\n",
      " Expl Unexpl |  Obj  Depth IntInf | Incumbent    BestBd   Gap | It/Node Time\n",
      "\n",
      "H    0     0                    2054.0000000 1934.00000  5.84%     -    0s\n",
      "     0     0          -    0      2054.00000 2054.00000  0.00%     -    0s\n",
      "\n",
      "Explored 0 nodes (418 simplex iterations) in 0.05 seconds\n",
      "Thread count was 8 (of 8 available processors)\n",
      "\n",
      "Solution count 2: 2054 2364 \n"
     ]
    },
    {
     "name": "stdout",
     "output_type": "stream",
     "text": [
      "\n",
      "Optimal solution found (tolerance 1.00e-04)\n",
      "Best objective 2.054000000000e+03, best bound 2.054000000000e+03, gap 0.0000%\n",
      "Room size: 2352 m^2\n",
      "Table 0 was not used. Position: ( 0.0 , 13.0 ). Capacity: 16 Table space height: 6 Table space width: 6\n",
      "Table 1 was  used. Position: ( 0.0 , 19.0 ). Capacity: 8 Table space height: 4 Table space width: 4\n",
      "Table 2 was  used. Position: ( 0.0 , 0.0 ). Capacity: 12 Table space height: 5 Table space width: 5\n",
      "Table 3 was  used. Position: ( 5.0 , 27.0 ). Capacity: 12 Table space height: 5 Table space width: 5\n",
      "Table 4 was  used. Position: ( 0.0 , 23.0 ). Capacity: 12 Table space height: 5 Table space width: 5\n",
      "Table 5 was  used. Position: ( 6.0 , 22.0 ). Capacity: 12 Table space height: 5 Table space width: 5\n",
      "Table 6 was  used. Position: ( 6.0 , 13.0 ). Capacity: 12 Table space height: 6 Table space width: 5\n",
      "Table 7 was  used. Position: ( 11.0 , 13.0 ). Capacity: 12 Table space height: 5 Table space width: 5\n",
      "Table 8 was  used. Position: ( 6.0 , 8.0 ). Capacity: 12 Table space height: 5 Table space width: 5\n",
      "Table 9 was  used. Position: ( 0.0 , 6.0 ). Capacity: 12 Table space height: 7 Table space width: 5\n",
      "Table 10 was  used. Position: ( 11.0 , 0.0 ). Capacity: 8 Table space height: 4 Table space width: 4\n",
      "Table 11 was  used. Position: ( 15.0 , 4.0 ). Capacity: 8 Table space height: 4 Table space width: 4\n",
      "Table 12 was  used. Position: ( 11.0 , 8.0 ). Capacity: 12 Table space height: 5 Table space width: 5\n",
      "Table 13 was  used. Position: ( 19.0 , 4.0 ). Capacity: 16 Table space height: 7 Table space width: 6\n",
      "Table 14 was  used. Position: ( 19.0 , 0.0 ). Capacity: 8 Table space height: 4 Table space width: 4\n",
      "Table 15 was  used. Position: ( 25.0 , 0.0 ). Capacity: 8 Table space height: 4 Table space width: 4\n",
      "Goal 1: Unused space must be under 20 m^2.\n",
      "Goal 1 Result: Unused space was 1934.0 m^2.\n",
      "Goal 2: Facility capacity must be over 90 to remain profitable.\n",
      "Goal 2 Result: Facility capacity was unmet by 0.0 .\n",
      "Underperformance level for this table setup is 120.0\n",
      "INSTANCE # 6\n",
      "Number of tables: 4\n",
      "Table widths: [3, 3, 2, 3]\n",
      "Table heights: [3, 3, 2, 5]\n",
      "Minimum desired capacity: 22\n",
      "Table underperformance matrix: [[1, 1, 1, 1], [1, 1, 1, 1], [1, 1, 1, 1], [1, 1, 1, 1]]\n",
      "Gurobi Optimizer version 9.0.3 build v9.0.3rc0 (win64)\n",
      "Optimize a model with 72 rows, 52 columns and 244 nonzeros\n",
      "Model fingerprint: 0x31c4c26a\n",
      "Variable types: 12 continuous, 40 integer (40 binary)\n",
      "Coefficient statistics:\n",
      "  Matrix range     [1e+00, 4e+01]\n",
      "  Objective range  [5e-01, 1e+00]\n",
      "  Bounds range     [1e+00, 1e+00]\n",
      "  RHS range        [1e+00, 2e+02]\n",
      "Found heuristic solution: objective 203.0000000\n",
      "Presolve removed 35 rows and 9 columns\n",
      "Presolve time: 0.00s\n",
      "Presolved: 37 rows, 43 columns, 131 nonzeros\n",
      "Variable types: 8 continuous, 35 integer (34 binary)\n",
      "\n",
      "Root relaxation: objective 1.230000e+02, 12 iterations, 0.00 seconds\n",
      "\n",
      "    Nodes    |    Current Node    |     Objective Bounds      |     Work\n",
      " Expl Unexpl |  Obj  Depth IntInf | Incumbent    BestBd   Gap | It/Node Time\n",
      "\n",
      "H    0     0                     123.0000000  117.00000  4.88%     -    0s\n",
      "     0     0  123.00000    0   12  123.00000  123.00000  0.00%     -    0s\n",
      "\n",
      "Explored 0 nodes (12 simplex iterations) in 0.03 seconds\n",
      "Thread count was 8 (of 8 available processors)\n",
      "\n",
      "Solution count 2: 123 203 \n",
      "\n",
      "Optimal solution found (tolerance 1.00e-04)\n",
      "Best objective 1.230000000000e+02, best bound 1.230000000000e+02, gap 0.0000%\n",
      "Room size: 238 m^2\n",
      "Table 0 was not used. Position: ( 5.0 , 5.0 ). Capacity: 12 Table space height: 5 Table space width: 5\n",
      "Table 1 was  used. Position: ( 0.0 , 0.0 ). Capacity: 12 Table space height: 5 Table space width: 5\n",
      "Table 2 was  used. Position: ( 10.0 , 3.0 ). Capacity: 8 Table space height: 4 Table space width: 4\n",
      "Table 3 was  used. Position: ( 0.0 , 7.0 ). Capacity: 12 Table space height: 7 Table space width: 5\n",
      "Goal 1: Unused space must be under 20 m^2.\n",
      "Goal 1 Result: Unused space was 117.0 m^2.\n",
      "Goal 2: Facility capacity must be over 22 to remain profitable.\n",
      "Goal 2 Result: Facility capacity was unmet by 0.0 .\n",
      "Underperformance level for this table setup is 6.0\n",
      "INSTANCE # 7\n",
      "Number of tables: 11\n",
      "Table widths: [3, 4, 4, 2, 3, 4, 2, 2, 5, 2, 3]\n",
      "Table heights: [5, 4, 3, 2, 3, 5, 2, 2, 5, 2, 3]\n",
      "Minimum desired capacity: 68\n",
      "Table underperformance matrix: [[1, 1, 1, 1, 1, 1, 1, 1, 1, 1, 1], [1, 1, 1, 1, 1, 1, 1, 1, 1, 1, 1], [1, 1, 1, 1, 1, 1, 1, 1, 1, 1, 1], [1, 1, 1, 1, 1, 1, 1, 1, 1, 1, 1], [1, 1, 1, 1, 1, 1, 1, 1, 1, 1, 1], [1, 1, 1, 1, 1, 1, 1, 1, 1, 1, 1], [1, 1, 1, 1, 1, 1, 1, 1, 1, 1, 1], [1, 1, 1, 1, 1, 1, 1, 1, 1, 1, 1], [1, 1, 1, 1, 1, 1, 1, 1, 1, 1, 1], [1, 1, 1, 1, 1, 1, 1, 1, 1, 1, 1], [1, 1, 1, 1, 1, 1, 1, 1, 1, 1, 1]]\n",
      "Gurobi Optimizer version 9.0.3 build v9.0.3rc0 (win64)\n",
      "Optimize a model with 506 rows, 367 columns and 1980 nonzeros\n",
      "Model fingerprint: 0x8a36cc57\n",
      "Variable types: 26 continuous, 341 integer (341 binary)\n",
      "Coefficient statistics:\n",
      "  Matrix range     [1e+00, 5e+01]\n",
      "  Objective range  [5e-01, 1e+00]\n",
      "  Bounds range     [1e+00, 1e+00]\n",
      "  RHS range        [1e+00, 8e+02]\n",
      "Found heuristic solution: objective 842.0000000\n",
      "Presolve removed 175 rows and 58 columns\n",
      "Presolve time: 0.00s\n",
      "Presolved: 331 rows, 309 columns, 1167 nonzeros\n",
      "Variable types: 22 continuous, 287 integer (286 binary)\n",
      "\n",
      "Root relaxation: objective 5.690000e+02, 105 iterations, 0.00 seconds\n",
      "\n",
      "    Nodes    |    Current Node    |     Objective Bounds      |     Work\n",
      " Expl Unexpl |  Obj  Depth IntInf | Incumbent    BestBd   Gap | It/Node Time\n",
      "\n",
      "H    0     0                     569.0000000  514.00000  9.67%     -    0s\n",
      "     0     0     cutoff    0       569.00000  569.00000  0.00%     -    0s\n",
      "\n",
      "Explored 0 nodes (209 simplex iterations) in 0.03 seconds\n",
      "Thread count was 8 (of 8 available processors)\n",
      "\n",
      "Solution count 2: 569 842 \n",
      "\n",
      "Optimal solution found (tolerance 1.00e-04)\n",
      "Best objective 5.690000000000e+02, best bound 5.690000000000e+02, gap 0.0000%\n",
      "Room size: 840 m^2\n",
      "Table 0 was not used. Position: ( 0.0 , 15.0 ). Capacity: 12 Table space height: 7 Table space width: 5\n",
      "Table 1 was  used. Position: ( 0.0 , 0.0 ). Capacity: 16 Table space height: 6 Table space width: 6\n",
      "Table 2 was  used. Position: ( 0.0 , 22.0 ). Capacity: 16 Table space height: 5 Table space width: 6\n",
      "Table 3 was  used. Position: ( 0.0 , 11.0 ). Capacity: 8 Table space height: 4 Table space width: 4\n",
      "Table 4 was  used. Position: ( 0.0 , 6.0 ). Capacity: 12 Table space height: 5 Table space width: 5\n",
      "Table 5 was  used. Position: ( 6.0 , 4.0 ). Capacity: 16 Table space height: 7 Table space width: 6\n",
      "Table 6 was  used. Position: ( 6.0 , 0.0 ). Capacity: 8 Table space height: 4 Table space width: 4\n",
      "Table 7 was  used. Position: ( 6.0 , 11.0 ). Capacity: 8 Table space height: 4 Table space width: 4\n",
      "Table 8 was  used. Position: ( 12.0 , 5.0 ). Capacity: 20 Table space height: 7 Table space width: 7\n",
      "Table 9 was  used. Position: ( 19.0 , 0.0 ). Capacity: 8 Table space height: 4 Table space width: 4\n",
      "Table 10 was  used. Position: ( 12.0 , 0.0 ). Capacity: 12 Table space height: 5 Table space width: 5\n",
      "Goal 1: Unused space must be under 20 m^2.\n",
      "Goal 1 Result: Unused space was 514.0 m^2.\n",
      "Goal 2: Facility capacity must be over 68 to remain profitable.\n",
      "Goal 2 Result: Facility capacity was unmet by 0.0 .\n",
      "Underperformance level for this table setup is 55.0\n",
      "INSTANCE # 8\n",
      "Number of tables: 14\n",
      "Table widths: [4, 2, 2, 4, 3, 2, 4, 3, 2, 4, 2, 3, 3, 3]\n",
      "Table heights: [3, 2, 2, 3, 3, 2, 3, 3, 2, 3, 2, 3, 3, 3]\n",
      "Minimum desired capacity: 82\n",
      "Table underperformance matrix: [[1, 1, 1, 1, 1, 1, 1, 1, 1, 1, 1, 1, 1, 1], [1, 1, 1, 1, 1, 1, 1, 1, 1, 1, 1, 1, 1, 1], [1, 1, 1, 1, 1, 1, 1, 1, 1, 1, 1, 1, 1, 1], [1, 1, 1, 1, 1, 1, 1, 1, 1, 1, 1, 1, 1, 1], [1, 1, 1, 1, 1, 1, 1, 1, 1, 1, 1, 1, 1, 1], [1, 1, 1, 1, 1, 1, 1, 1, 1, 1, 1, 1, 1, 1], [1, 1, 1, 1, 1, 1, 1, 1, 1, 1, 1, 1, 1, 1], [1, 1, 1, 1, 1, 1, 1, 1, 1, 1, 1, 1, 1, 1], [1, 1, 1, 1, 1, 1, 1, 1, 1, 1, 1, 1, 1, 1], [1, 1, 1, 1, 1, 1, 1, 1, 1, 1, 1, 1, 1, 1], [1, 1, 1, 1, 1, 1, 1, 1, 1, 1, 1, 1, 1, 1], [1, 1, 1, 1, 1, 1, 1, 1, 1, 1, 1, 1, 1, 1], [1, 1, 1, 1, 1, 1, 1, 1, 1, 1, 1, 1, 1, 1], [1, 1, 1, 1, 1, 1, 1, 1, 1, 1, 1, 1, 1, 1]]\n",
      "Gurobi Optimizer version 9.0.3 build v9.0.3rc0 (win64)\n",
      "Optimize a model with 812 rows, 592 columns and 3234 nonzeros\n"
     ]
    },
    {
     "name": "stdout",
     "output_type": "stream",
     "text": [
      "Model fingerprint: 0x45bef8b1\n",
      "Variable types: 32 continuous, 560 integer (560 binary)\n",
      "Coefficient statistics:\n",
      "  Matrix range     [1e+00, 4e+01]\n",
      "  Objective range  [5e-01, 1e+00]\n",
      "  Bounds range     [1e+00, 1e+00]\n",
      "  RHS range        [1e+00, 1e+03]\n",
      "Found heuristic solution: objective 1429.0000000\n",
      "Presolve removed 265 rows and 94 columns\n",
      "Presolve time: 0.01s\n",
      "Presolved: 547 rows, 498 columns, 1926 nonzeros\n",
      "Variable types: 28 continuous, 470 integer (469 binary)\n",
      "\n",
      "Root relaxation: objective 1.150000e+03, 162 iterations, 0.00 seconds\n",
      "\n",
      "    Nodes    |    Current Node    |     Objective Bounds      |     Work\n",
      " Expl Unexpl |  Obj  Depth IntInf | Incumbent    BestBd   Gap | It/Node Time\n",
      "\n",
      "H    0     0                    1150.0000000 1059.00000  7.91%     -    0s\n",
      "     0     0          -    0      1150.00000 1150.00000  0.00%     -    0s\n",
      "\n",
      "Explored 0 nodes (360 simplex iterations) in 0.04 seconds\n",
      "Thread count was 8 (of 8 available processors)\n",
      "\n",
      "Solution count 2: 1150 1429 \n",
      "\n",
      "Optimal solution found (tolerance 1.00e-04)\n",
      "Best objective 1.150000000000e+03, best bound 1.150000000000e+03, gap 0.0000%\n",
      "Room size: 1404 m^2\n",
      "Table 0 was not used. Position: ( 0.0 , 14.0 ). Capacity: 16 Table space height: 5 Table space width: 6\n",
      "Table 1 was  used. Position: ( 9.0 , 0.0 ). Capacity: 8 Table space height: 4 Table space width: 4\n",
      "Table 2 was  used. Position: ( 0.0 , 0.0 ). Capacity: 8 Table space height: 4 Table space width: 4\n",
      "Table 3 was  used. Position: ( 0.0 , 5.0 ). Capacity: 16 Table space height: 5 Table space width: 6\n",
      "Table 4 was  used. Position: ( 4.0 , 19.0 ). Capacity: 12 Table space height: 5 Table space width: 5\n",
      "Table 5 was  used. Position: ( 0.0 , 10.0 ). Capacity: 8 Table space height: 4 Table space width: 4\n",
      "Table 6 was  used. Position: ( 10.0 , 4.0 ). Capacity: 16 Table space height: 5 Table space width: 6\n",
      "Table 7 was  used. Position: ( 4.0 , 0.0 ). Capacity: 12 Table space height: 5 Table space width: 5\n",
      "Table 8 was  used. Position: ( 6.0 , 5.0 ). Capacity: 8 Table space height: 4 Table space width: 4\n",
      "Table 9 was  used. Position: ( 9.0 , 14.0 ). Capacity: 16 Table space height: 5 Table space width: 6\n",
      "Table 10 was  used. Position: ( 15.0 , 14.0 ). Capacity: 8 Table space height: 4 Table space width: 4\n",
      "Table 11 was  used. Position: ( 10.0 , 9.0 ). Capacity: 12 Table space height: 5 Table space width: 5\n",
      "Table 12 was  used. Position: ( 16.0 , 0.0 ). Capacity: 12 Table space height: 5 Table space width: 5\n",
      "Table 13 was  used. Position: ( 21.0 , 0.0 ). Capacity: 12 Table space height: 5 Table space width: 5\n",
      "Goal 1: Unused space must be under 20 m^2.\n",
      "Goal 1 Result: Unused space was 1059.0 m^2.\n",
      "Goal 2: Facility capacity must be over 82 to remain profitable.\n",
      "Goal 2 Result: Facility capacity was unmet by 0.0 .\n",
      "Underperformance level for this table setup is 91.0\n",
      "INSTANCE # 9\n",
      "Number of tables: 6\n",
      "Table widths: [2, 2, 4, 3, 3, 2]\n",
      "Table heights: [2, 2, 4, 3, 3, 2]\n",
      "Minimum desired capacity: 32\n",
      "Table underperformance matrix: [[1, 1, 1, 1, 1, 1], [1, 1, 1, 1, 1, 1], [1, 1, 1, 1, 1, 1], [1, 1, 1, 1, 1, 1], [1, 1, 1, 1, 1, 1], [1, 1, 1, 1, 1, 1]]\n",
      "Gurobi Optimizer version 9.0.3 build v9.0.3rc0 (win64)\n",
      "Optimize a model with 156 rows, 112 columns and 570 nonzeros\n",
      "Model fingerprint: 0x1300c606\n",
      "Variable types: 16 continuous, 96 integer (96 binary)\n",
      "Coefficient statistics:\n",
      "  Matrix range     [1e+00, 4e+01]\n",
      "  Objective range  [5e-01, 1e+00]\n",
      "  Bounds range     [1e+00, 1e+00]\n",
      "  RHS range        [1e+00, 2e+02]\n",
      "Found heuristic solution: objective 192.0000000\n",
      "Presolve removed 65 rows and 18 columns\n",
      "Presolve time: 0.00s\n",
      "Presolved: 91 rows, 94 columns, 322 nonzeros\n",
      "Variable types: 12 continuous, 82 integer (81 binary)\n",
      "\n",
      "Root relaxation: objective 6.500000e+01, 32 iterations, 0.00 seconds\n",
      "\n",
      "    Nodes    |    Current Node    |     Objective Bounds      |     Work\n",
      " Expl Unexpl |  Obj  Depth IntInf | Incumbent    BestBd   Gap | It/Node Time\n",
      "\n",
      "H    0     0                      65.0000000   50.00000  23.1%     -    0s\n",
      "     0     0   65.00000    0   18   65.00000   65.00000  0.00%     -    0s\n",
      "\n",
      "Explored 0 nodes (32 simplex iterations) in 0.02 seconds\n",
      "Thread count was 8 (of 8 available processors)\n",
      "\n",
      "Solution count 2: 65 192 \n",
      "\n",
      "Optimal solution found (tolerance 1.00e-04)\n",
      "Best objective 6.500000000000e+01, best bound 6.500000000000e+01, gap 0.0000%\n",
      "Room size: 204 m^2\n",
      "Table 0 was not used. Position: ( 4.0 , 0.0 ). Capacity: 8 Table space height: 4 Table space width: 4\n",
      "Table 1 was  used. Position: ( 0.0 , 0.0 ). Capacity: 8 Table space height: 4 Table space width: 4\n",
      "Table 2 was  used. Position: ( 0.0 , 6.0 ). Capacity: 16 Table space height: 6 Table space width: 6\n",
      "Table 3 was  used. Position: ( 11.0 , 1.0 ). Capacity: 12 Table space height: 5 Table space width: 5\n",
      "Table 4 was  used. Position: ( 6.0 , 4.0 ). Capacity: 12 Table space height: 5 Table space width: 5\n",
      "Table 5 was  used. Position: ( 11.0 , 8.0 ). Capacity: 8 Table space height: 4 Table space width: 4\n",
      "Goal 1: Unused space must be under 20 m^2.\n",
      "Goal 1 Result: Unused space was 50.0 m^2.\n",
      "Goal 2: Facility capacity must be over 32 to remain profitable.\n",
      "Goal 2 Result: Facility capacity was unmet by 0.0 .\n",
      "Underperformance level for this table setup is 15.0\n",
      "INSTANCE # 10\n",
      "Number of tables: 11\n",
      "Table widths: [3, 2, 3, 3, 5, 2, 3, 2, 2, 3, 3]\n",
      "Table heights: [3, 2, 3, 3, 5, 2, 5, 2, 2, 3, 3]\n",
      "Minimum desired capacity: 62\n",
      "Table underperformance matrix: [[1, 1, 1, 1, 1, 1, 1, 1, 1, 1, 1], [1, 1, 1, 1, 1, 1, 1, 1, 1, 1, 1], [1, 1, 1, 1, 1, 1, 1, 1, 1, 1, 1], [1, 1, 1, 1, 1, 1, 1, 1, 1, 1, 1], [1, 1, 1, 1, 1, 1, 1, 1, 1, 1, 1], [1, 1, 1, 1, 1, 1, 1, 1, 1, 1, 1], [1, 1, 1, 1, 1, 1, 1, 1, 1, 1, 1], [1, 1, 1, 1, 1, 1, 1, 1, 1, 1, 1], [1, 1, 1, 1, 1, 1, 1, 1, 1, 1, 1], [1, 1, 1, 1, 1, 1, 1, 1, 1, 1, 1], [1, 1, 1, 1, 1, 1, 1, 1, 1, 1, 1]]\n",
      "Gurobi Optimizer version 9.0.3 build v9.0.3rc0 (win64)\n",
      "Optimize a model with 506 rows, 367 columns and 1980 nonzeros\n",
      "Model fingerprint: 0xf8347bc0\n",
      "Variable types: 26 continuous, 341 integer (341 binary)\n",
      "Coefficient statistics:\n",
      "  Matrix range     [1e+00, 5e+01]\n",
      "  Objective range  [5e-01, 1e+00]\n",
      "  Bounds range     [1e+00, 1e+00]\n",
      "  RHS range        [1e+00, 8e+02]\n",
      "Found heuristic solution: objective 811.0000000\n",
      "Presolve removed 175 rows and 58 columns\n",
      "Presolve time: 0.00s\n",
      "Presolved: 331 rows, 309 columns, 1167 nonzeros\n",
      "Variable types: 22 continuous, 287 integer (286 binary)\n",
      "\n",
      "Root relaxation: objective 5.680000e+02, 119 iterations, 0.00 seconds\n",
      "\n",
      "    Nodes    |    Current Node    |     Objective Bounds      |     Work\n",
      " Expl Unexpl |  Obj  Depth IntInf | Incumbent    BestBd   Gap | It/Node Time\n",
      "\n",
      "H    0     0                     568.0000000  513.00000  9.68%     -    0s\n",
      "     0     0     cutoff    0       568.00000  568.00000  0.00%     -    0s\n",
      "\n",
      "Explored 0 nodes (233 simplex iterations) in 0.03 seconds\n",
      "Thread count was 8 (of 8 available processors)\n",
      "\n",
      "Solution count 2: 568 811 \n",
      "\n",
      "Optimal solution found (tolerance 1.00e-04)\n",
      "Best objective 5.680000000000e+02, best bound 5.680000000000e+02, gap 0.0000%\n",
      "Room size: 806 m^2\n",
      "Table 0 was not used. Position: ( 0.0 , 0.0 ). Capacity: 12 Table space height: 5 Table space width: 5\n",
      "Table 1 was  used. Position: ( 0.0 , 9.0 ). Capacity: 8 Table space height: 4 Table space width: 4\n",
      "Table 2 was  used. Position: ( 5.0 , 4.0 ). Capacity: 12 Table space height: 5 Table space width: 5\n",
      "Table 3 was  used. Position: ( 0.0 , 13.0 ). Capacity: 12 Table space height: 5 Table space width: 5\n",
      "Table 4 was  used. Position: ( 12.0 , 4.0 ). Capacity: 20 Table space height: 7 Table space width: 7\n",
      "Table 5 was  used. Position: ( 8.0 , 0.0 ). Capacity: 8 Table space height: 4 Table space width: 4\n",
      "Table 6 was  used. Position: ( 5.0 , 15.0 ). Capacity: 12 Table space height: 7 Table space width: 5\n",
      "Table 7 was  used. Position: ( 5.0 , 11.0 ). Capacity: 8 Table space height: 4 Table space width: 4\n",
      "Table 8 was  used. Position: ( 12.0 , 0.0 ). Capacity: 8 Table space height: 4 Table space width: 4\n",
      "Table 9 was  used. Position: ( 16.0 , 11.0 ). Capacity: 12 Table space height: 5 Table space width: 5\n",
      "Table 10 was  used. Position: ( 21.0 , 0.0 ). Capacity: 12 Table space height: 5 Table space width: 5\n",
      "Goal 1: Unused space must be under 20 m^2.\n",
      "Goal 1 Result: Unused space was 513.0 m^2.\n",
      "Goal 2: Facility capacity must be over 62 to remain profitable.\n",
      "Goal 2 Result: Facility capacity was unmet by 0.0 .\n",
      "Underperformance level for this table setup is 55.0\n",
      "INSTANCE # 11\n",
      "Number of tables: 16\n",
      "Table widths: [3, 3, 3, 2, 2, 5, 2, 2, 3, 3, 3, 2, 2, 3, 5, 2]\n",
      "Table heights: [3, 3, 3, 2, 2, 5, 2, 2, 3, 3, 3, 2, 2, 5, 3, 2]\n",
      "Minimum desired capacity: 90\n",
      "Table underperformance matrix: [[1, 1, 1, 1, 1, 1, 1, 1, 1, 1, 1, 1, 1, 1, 1, 1], [1, 1, 1, 1, 1, 1, 1, 1, 1, 1, 1, 1, 1, 1, 1, 1], [1, 1, 1, 1, 1, 1, 1, 1, 1, 1, 1, 1, 1, 1, 1, 1], [1, 1, 1, 1, 1, 1, 1, 1, 1, 1, 1, 1, 1, 1, 1, 1], [1, 1, 1, 1, 1, 1, 1, 1, 1, 1, 1, 1, 1, 1, 1, 1], [1, 1, 1, 1, 1, 1, 1, 1, 1, 1, 1, 1, 1, 1, 1, 1], [1, 1, 1, 1, 1, 1, 1, 1, 1, 1, 1, 1, 1, 1, 1, 1], [1, 1, 1, 1, 1, 1, 1, 1, 1, 1, 1, 1, 1, 1, 1, 1], [1, 1, 1, 1, 1, 1, 1, 1, 1, 1, 1, 1, 1, 1, 1, 1], [1, 1, 1, 1, 1, 1, 1, 1, 1, 1, 1, 1, 1, 1, 1, 1], [1, 1, 1, 1, 1, 1, 1, 1, 1, 1, 1, 1, 1, 1, 1, 1], [1, 1, 1, 1, 1, 1, 1, 1, 1, 1, 1, 1, 1, 1, 1, 1], [1, 1, 1, 1, 1, 1, 1, 1, 1, 1, 1, 1, 1, 1, 1, 1], [1, 1, 1, 1, 1, 1, 1, 1, 1, 1, 1, 1, 1, 1, 1, 1], [1, 1, 1, 1, 1, 1, 1, 1, 1, 1, 1, 1, 1, 1, 1, 1], [1, 1, 1, 1, 1, 1, 1, 1, 1, 1, 1, 1, 1, 1, 1, 1]]\n"
     ]
    },
    {
     "name": "stdout",
     "output_type": "stream",
     "text": [
      "Gurobi Optimizer version 9.0.3 build v9.0.3rc0 (win64)\n",
      "Optimize a model with 1056 rows, 772 columns and 4240 nonzeros\n",
      "Model fingerprint: 0x36b2bf7f\n",
      "Variable types: 36 continuous, 736 integer (736 binary)\n",
      "Coefficient statistics:\n",
      "  Matrix range     [1e+00, 5e+01]\n",
      "  Objective range  [5e-01, 1e+00]\n",
      "  Bounds range     [1e+00, 1e+00]\n",
      "  RHS range        [1e+00, 2e+03]\n",
      "Found heuristic solution: objective 1863.0000000\n",
      "Presolve removed 335 rows and 123 columns\n",
      "Presolve time: 0.01s\n",
      "Presolved: 721 rows, 649 columns, 2537 nonzeros\n",
      "Variable types: 32 continuous, 617 integer (616 binary)\n",
      "\n",
      "Root relaxation: objective 1.559000e+03, 261 iterations, 0.00 seconds\n",
      "\n",
      "    Nodes    |    Current Node    |     Objective Bounds      |     Work\n",
      " Expl Unexpl |  Obj  Depth IntInf | Incumbent    BestBd   Gap | It/Node Time\n",
      "\n",
      "H    0     0                    1559.0000000 1439.00000  7.70%     -    0s\n",
      "     0     0          -    0      1559.00000 1559.00000  0.00%     -    0s\n",
      "\n",
      "Explored 0 nodes (453 simplex iterations) in 0.04 seconds\n",
      "Thread count was 8 (of 8 available processors)\n",
      "\n",
      "Solution count 2: 1559 1863 \n",
      "\n",
      "Optimal solution found (tolerance 1.00e-04)\n",
      "Best objective 1.559000000000e+03, best bound 1.559000000000e+03, gap 0.0000%\n",
      "Room size: 1840 m^2\n",
      "Table 0 was not used. Position: ( 0.0 , 4.0 ). Capacity: 12 Table space height: 5 Table space width: 5\n",
      "Table 1 was  used. Position: ( 5.0 , 5.0 ). Capacity: 12 Table space height: 5 Table space width: 5\n",
      "Table 2 was  used. Position: ( 0.0 , 13.0 ). Capacity: 12 Table space height: 5 Table space width: 5\n",
      "Table 3 was  used. Position: ( 4.0 , 0.0 ). Capacity: 8 Table space height: 4 Table space width: 4\n",
      "Table 4 was  used. Position: ( 0.0 , 9.0 ). Capacity: 8 Table space height: 4 Table space width: 4\n",
      "Table 5 was  used. Position: ( 5.0 , 15.0 ). Capacity: 20 Table space height: 7 Table space width: 7\n",
      "Table 6 was  used. Position: ( 0.0 , 0.0 ). Capacity: 8 Table space height: 4 Table space width: 4\n",
      "Table 7 was  used. Position: ( 10.0 , 5.0 ). Capacity: 8 Table space height: 4 Table space width: 4\n",
      "Table 8 was  used. Position: ( 5.0 , 10.0 ). Capacity: 12 Table space height: 5 Table space width: 5\n",
      "Table 9 was  used. Position: ( 10.0 , 0.0 ). Capacity: 12 Table space height: 5 Table space width: 5\n",
      "Table 10 was  used. Position: ( 20.0 , 0.0 ). Capacity: 12 Table space height: 5 Table space width: 5\n",
      "Table 11 was  used. Position: ( 19.0 , 7.0 ). Capacity: 8 Table space height: 4 Table space width: 4\n",
      "Table 12 was  used. Position: ( 15.0 , 7.0 ). Capacity: 8 Table space height: 4 Table space width: 4\n",
      "Table 13 was  used. Position: ( 15.0 , 0.0 ). Capacity: 12 Table space height: 7 Table space width: 5\n",
      "Table 14 was  used. Position: ( 12.0 , 11.0 ). Capacity: 20 Table space height: 5 Table space width: 7\n",
      "Table 15 was  used. Position: ( 25.0 , 0.0 ). Capacity: 8 Table space height: 4 Table space width: 4\n",
      "Goal 1: Unused space must be under 20 m^2.\n",
      "Goal 1 Result: Unused space was 1439.0 m^2.\n",
      "Goal 2: Facility capacity must be over 90 to remain profitable.\n",
      "Goal 2 Result: Facility capacity was unmet by 0.0 .\n",
      "Underperformance level for this table setup is 120.0\n",
      "INSTANCE # 12\n",
      "Number of tables: 6\n",
      "Table widths: [3, 3, 3, 2, 4, 3]\n",
      "Table heights: [3, 3, 3, 2, 4, 4]\n",
      "Minimum desired capacity: 36\n",
      "Table underperformance matrix: [[1, 1, 1, 1, 1, 1], [1, 1, 1, 1, 1, 1], [1, 1, 1, 1, 1, 1], [1, 1, 1, 1, 1, 1], [1, 1, 1, 1, 1, 1], [1, 1, 1, 1, 1, 1]]\n",
      "Gurobi Optimizer version 9.0.3 build v9.0.3rc0 (win64)\n",
      "Optimize a model with 156 rows, 112 columns and 570 nonzeros\n",
      "Model fingerprint: 0xf35f9e2c\n",
      "Variable types: 16 continuous, 96 integer (96 binary)\n",
      "Coefficient statistics:\n",
      "  Matrix range     [1e+00, 4e+01]\n",
      "  Objective range  [5e-01, 1e+00]\n",
      "  Bounds range     [1e+00, 1e+00]\n",
      "  RHS range        [1e+00, 3e+02]\n",
      "Found heuristic solution: objective 249.0000000\n",
      "Presolve removed 65 rows and 18 columns\n",
      "Presolve time: 0.00s\n",
      "Presolved: 91 rows, 94 columns, 322 nonzeros\n",
      "Variable types: 12 continuous, 82 integer (81 binary)\n",
      "\n",
      "Root relaxation: objective 1.080000e+02, 28 iterations, 0.00 seconds\n",
      "\n",
      "    Nodes    |    Current Node    |     Objective Bounds      |     Work\n",
      " Expl Unexpl |  Obj  Depth IntInf | Incumbent    BestBd   Gap | It/Node Time\n",
      "\n",
      "H    0     0                     108.0000000   93.00000  13.9%     -    0s\n",
      "     0     0  108.00000    0   14  108.00000  108.00000  0.00%     -    0s\n",
      "\n",
      "Explored 0 nodes (28 simplex iterations) in 0.03 seconds\n",
      "Thread count was 8 (of 8 available processors)\n",
      "\n",
      "Solution count 2: 108 249 \n",
      "\n",
      "Optimal solution found (tolerance 1.00e-04)\n",
      "Best objective 1.080000000000e+02, best bound 1.080000000000e+02, gap 0.0000%\n",
      "Room size: 270 m^2\n",
      "Table 0 was not used. Position: ( 9.0 , 12.0 ). Capacity: 12 Table space height: 5 Table space width: 5\n",
      "Table 1 was  used. Position: ( 0.0 , 5.0 ). Capacity: 12 Table space height: 5 Table space width: 5\n",
      "Table 2 was  used. Position: ( 0.0 , 0.0 ). Capacity: 12 Table space height: 5 Table space width: 5\n",
      "Table 3 was  used. Position: ( 5.0 , 0.0 ). Capacity: 8 Table space height: 4 Table space width: 4\n",
      "Table 4 was  used. Position: ( 9.0 , 0.0 ). Capacity: 16 Table space height: 6 Table space width: 6\n",
      "Table 5 was  used. Position: ( 10.0 , 6.0 ). Capacity: 12 Table space height: 6 Table space width: 5\n",
      "Goal 1: Unused space must be under 20 m^2.\n",
      "Goal 1 Result: Unused space was 93.0 m^2.\n",
      "Goal 2: Facility capacity must be over 36 to remain profitable.\n",
      "Goal 2 Result: Facility capacity was unmet by 0.0 .\n",
      "Underperformance level for this table setup is 15.0\n",
      "INSTANCE # 13\n",
      "Number of tables: 12\n",
      "Table widths: [3, 5, 2, 3, 2, 3, 4, 5, 4, 5, 2, 4]\n",
      "Table heights: [4, 5, 2, 3, 2, 3, 5, 3, 3, 4, 2, 5]\n",
      "Minimum desired capacity: 84\n",
      "Table underperformance matrix: [[1, 1, 1, 1, 1, 1, 1, 1, 1, 1, 1, 1], [1, 1, 1, 1, 1, 1, 1, 1, 1, 1, 1, 1], [1, 1, 1, 1, 1, 1, 1, 1, 1, 1, 1, 1], [1, 1, 1, 1, 1, 1, 1, 1, 1, 1, 1, 1], [1, 1, 1, 1, 1, 1, 1, 1, 1, 1, 1, 1], [1, 1, 1, 1, 1, 1, 1, 1, 1, 1, 1, 1], [1, 1, 1, 1, 1, 1, 1, 1, 1, 1, 1, 1], [1, 1, 1, 1, 1, 1, 1, 1, 1, 1, 1, 1], [1, 1, 1, 1, 1, 1, 1, 1, 1, 1, 1, 1], [1, 1, 1, 1, 1, 1, 1, 1, 1, 1, 1, 1], [1, 1, 1, 1, 1, 1, 1, 1, 1, 1, 1, 1], [1, 1, 1, 1, 1, 1, 1, 1, 1, 1, 1, 1]]\n",
      "Gurobi Optimizer version 9.0.3 build v9.0.3rc0 (win64)\n",
      "Optimize a model with 600 rows, 436 columns and 2364 nonzeros\n",
      "Model fingerprint: 0xe4f11b9d\n",
      "Variable types: 28 continuous, 408 integer (408 binary)\n",
      "Coefficient statistics:\n",
      "  Matrix range     [1e+00, 5e+01]\n",
      "  Objective range  [5e-01, 1e+00]\n",
      "  Bounds range     [1e+00, 1e+00]\n",
      "  RHS range        [1e+00, 9e+02]\n",
      "Found heuristic solution: objective 893.0000000\n",
      "Presolve removed 203 rows and 69 columns\n",
      "Presolve time: 0.00s\n",
      "Presolved: 397 rows, 367 columns, 1399 nonzeros\n",
      "Variable types: 24 continuous, 343 integer (342 binary)\n",
      "\n",
      "Root relaxation: objective 5.530000e+02, 120 iterations, 0.00 seconds\n",
      "\n",
      "    Nodes    |    Current Node    |     Objective Bounds      |     Work\n",
      " Expl Unexpl |  Obj  Depth IntInf | Incumbent    BestBd   Gap | It/Node Time\n",
      "\n",
      "H    0     0                     553.0000000  487.00000  11.9%     -    0s\n",
      "     0     0     cutoff    0       553.00000  553.00000  0.00%     -    0s\n",
      "\n",
      "Explored 0 nodes (251 simplex iterations) in 0.03 seconds\n",
      "Thread count was 8 (of 8 available processors)\n",
      "\n",
      "Solution count 2: 553 893 \n",
      "\n",
      "Optimal solution found (tolerance 1.00e-04)\n",
      "Best objective 5.530000000000e+02, best bound 5.530000000000e+02, gap 0.0000%\n",
      "Room size: 875 m^2\n",
      "Table 0 was not used. Position: ( 0.0 , 4.0 ). Capacity: 12 Table space height: 6 Table space width: 5\n",
      "Table 1 was  used. Position: ( 5.0 , 5.0 ). Capacity: 20 Table space height: 7 Table space width: 7\n",
      "Table 2 was  used. Position: ( 0.0 , 15.0 ). Capacity: 8 Table space height: 4 Table space width: 4\n",
      "Table 3 was  used. Position: ( 0.0 , 10.0 ). Capacity: 12 Table space height: 5 Table space width: 5\n",
      "Table 4 was  used. Position: ( 0.0 , 0.0 ). Capacity: 8 Table space height: 4 Table space width: 4\n",
      "Table 5 was  used. Position: ( 5.0 , 12.0 ). Capacity: 12 Table space height: 5 Table space width: 5\n",
      "Table 6 was  used. Position: ( 5.0 , 17.0 ). Capacity: 16 Table space height: 7 Table space width: 6\n",
      "Table 7 was  used. Position: ( 5.0 , 0.0 ). Capacity: 20 Table space height: 5 Table space width: 7\n",
      "Table 8 was  used. Position: ( 19.0 , 7.0 ). Capacity: 16 Table space height: 5 Table space width: 6\n",
      "Table 9 was  used. Position: ( 12.0 , 0.0 ). Capacity: 20 Table space height: 6 Table space width: 7\n",
      "Table 10 was  used. Position: ( 15.0 , 6.0 ). Capacity: 8 Table space height: 4 Table space width: 4\n",
      "Table 11 was  used. Position: ( 19.0 , 0.0 ). Capacity: 16 Table space height: 7 Table space width: 6\n",
      "Goal 1: Unused space must be under 20 m^2.\n",
      "Goal 1 Result: Unused space was 487.0 m^2.\n",
      "Goal 2: Facility capacity must be over 84 to remain profitable.\n",
      "Goal 2 Result: Facility capacity was unmet by 0.0 .\n",
      "Underperformance level for this table setup is 66.0\n",
      "INSTANCE # 14\n",
      "Number of tables: 18\n",
      "Table widths: [2, 3, 3, 3, 3, 2, 4, 4, 3, 3, 5, 4, 2, 2, 4, 3, 5, 3]\n",
      "Table heights: [2, 3, 3, 5, 3, 2, 5, 3, 3, 4, 4, 5, 2, 2, 3, 3, 3, 3]\n",
      "Minimum desired capacity: 116\n",
      "Table underperformance matrix: [[1, 1, 1, 1, 1, 1, 1, 1, 1, 1, 1, 1, 1, 1, 1, 1, 1, 1], [1, 1, 1, 1, 1, 1, 1, 1, 1, 1, 1, 1, 1, 1, 1, 1, 1, 1], [1, 1, 1, 1, 1, 1, 1, 1, 1, 1, 1, 1, 1, 1, 1, 1, 1, 1], [1, 1, 1, 1, 1, 1, 1, 1, 1, 1, 1, 1, 1, 1, 1, 1, 1, 1], [1, 1, 1, 1, 1, 1, 1, 1, 1, 1, 1, 1, 1, 1, 1, 1, 1, 1], [1, 1, 1, 1, 1, 1, 1, 1, 1, 1, 1, 1, 1, 1, 1, 1, 1, 1], [1, 1, 1, 1, 1, 1, 1, 1, 1, 1, 1, 1, 1, 1, 1, 1, 1, 1], [1, 1, 1, 1, 1, 1, 1, 1, 1, 1, 1, 1, 1, 1, 1, 1, 1, 1], [1, 1, 1, 1, 1, 1, 1, 1, 1, 1, 1, 1, 1, 1, 1, 1, 1, 1], [1, 1, 1, 1, 1, 1, 1, 1, 1, 1, 1, 1, 1, 1, 1, 1, 1, 1], [1, 1, 1, 1, 1, 1, 1, 1, 1, 1, 1, 1, 1, 1, 1, 1, 1, 1], [1, 1, 1, 1, 1, 1, 1, 1, 1, 1, 1, 1, 1, 1, 1, 1, 1, 1], [1, 1, 1, 1, 1, 1, 1, 1, 1, 1, 1, 1, 1, 1, 1, 1, 1, 1], [1, 1, 1, 1, 1, 1, 1, 1, 1, 1, 1, 1, 1, 1, 1, 1, 1, 1], [1, 1, 1, 1, 1, 1, 1, 1, 1, 1, 1, 1, 1, 1, 1, 1, 1, 1], [1, 1, 1, 1, 1, 1, 1, 1, 1, 1, 1, 1, 1, 1, 1, 1, 1, 1], [1, 1, 1, 1, 1, 1, 1, 1, 1, 1, 1, 1, 1, 1, 1, 1, 1, 1], [1, 1, 1, 1, 1, 1, 1, 1, 1, 1, 1, 1, 1, 1, 1, 1, 1, 1]]\n"
     ]
    },
    {
     "name": "stdout",
     "output_type": "stream",
     "text": [
      "Gurobi Optimizer version 9.0.3 build v9.0.3rc0 (win64)\n",
      "Optimize a model with 1332 rows, 976 columns and 5382 nonzeros\n",
      "Model fingerprint: 0x67d812b6\n",
      "Variable types: 40 continuous, 936 integer (936 binary)\n",
      "Coefficient statistics:\n",
      "  Matrix range     [1e+00, 5e+01]\n",
      "  Objective range  [5e-01, 1e+00]\n",
      "  Bounds range     [1e+00, 1e+00]\n",
      "  RHS range        [1e+00, 2e+03]\n",
      "Found heuristic solution: objective 2184.0000000\n",
      "Presolve removed 413 rows and 156 columns\n",
      "Presolve time: 0.01s\n",
      "Presolved: 919 rows, 820 columns, 3232 nonzeros\n",
      "Variable types: 36 continuous, 784 integer (783 binary)\n",
      "\n",
      "Root relaxation: objective 1.743000e+03, 227 iterations, 0.00 seconds\n",
      "\n",
      "    Nodes    |    Current Node    |     Objective Bounds      |     Work\n",
      " Expl Unexpl |  Obj  Depth IntInf | Incumbent    BestBd   Gap | It/Node Time\n",
      "\n",
      "     0     0 1743.00000    0   61 2184.00000 1743.00000  20.2%     -    0s\n",
      "H    0     0                    1753.0000000 1743.00000  0.57%     -    0s\n",
      "H    0     0                    1744.0000000 1743.00000  0.06%     -    0s\n",
      "\n",
      "Cutting planes:\n",
      "  Implied bound: 1\n",
      "  MIR: 1\n",
      "\n",
      "Explored 1 nodes (578 simplex iterations) in 0.07 seconds\n",
      "Thread count was 8 (of 8 available processors)\n",
      "\n",
      "Solution count 3: 1744 1753 2184 \n",
      "\n",
      "Optimal solution found (tolerance 1.00e-04)\n",
      "Best objective 1.744000000000e+03, best bound 1.744000000000e+03, gap 0.0000%\n",
      "Room size: 2112 m^2\n",
      "Table 0 was not used. Position: ( 23.0 , 5.0 ). Capacity: 8 Table space height: 4 Table space width: 4\n",
      "Table 1 was  used. Position: ( 0.0 , 4.0 ). Capacity: 12 Table space height: 5 Table space width: 5\n",
      "Table 2 was  used. Position: ( 0.0 , 14.0 ). Capacity: 12 Table space height: 5 Table space width: 5\n",
      "Table 3 was  used. Position: ( 0.0 , 19.0 ). Capacity: 12 Table space height: 7 Table space width: 5\n",
      "Table 4 was  used. Position: ( 0.0 , 9.0 ). Capacity: 12 Table space height: 5 Table space width: 5\n",
      "Table 5 was  used. Position: ( 0.0 , 0.0 ). Capacity: 8 Table space height: 4 Table space width: 4\n",
      "Table 6 was  used. Position: ( 5.0 , 19.0 ). Capacity: 16 Table space height: 7 Table space width: 6\n",
      "Table 7 was  used. Position: ( 24.0 , 0.0 ). Capacity: 16 Table space height: 5 Table space width: 6\n",
      "Table 8 was  used. Position: ( 5.0 , 0.0 ). Capacity: 12 Table space height: 5 Table space width: 5\n",
      "Table 9 was  used. Position: ( 5.0 , 11.0 ). Capacity: 12 Table space height: 6 Table space width: 5\n",
      "Table 10 was  used. Position: ( 5.0 , 5.0 ). Capacity: 20 Table space height: 6 Table space width: 7\n",
      "Table 11 was  used. Position: ( 12.0 , 5.0 ). Capacity: 16 Table space height: 7 Table space width: 6\n",
      "Table 12 was  used. Position: ( 0.0 , 14.0 ). Capacity: 8 Table space height: 4 Table space width: 4\n",
      "Table 13 was  used. Position: ( 0.0 , 0.0 ). Capacity: 8 Table space height: 4 Table space width: 4\n",
      "Table 14 was  used. Position: ( 11.0 , 0.0 ). Capacity: 16 Table space height: 5 Table space width: 6\n",
      "Table 15 was  used. Position: ( 18.0 , 5.0 ). Capacity: 12 Table space height: 5 Table space width: 5\n",
      "Table 16 was  used. Position: ( 17.0 , 0.0 ). Capacity: 20 Table space height: 5 Table space width: 7\n",
      "Table 17 was  used. Position: ( 24.0 , 9.0 ). Capacity: 12 Table space height: 5 Table space width: 5\n",
      "Goal 1: Unused space must be under 20 m^2.\n",
      "Goal 1 Result: Unused space was 1624.0 m^2.\n",
      "Goal 2: Facility capacity must be over 116 to remain profitable.\n",
      "Goal 2 Result: Facility capacity was unmet by 0.0 .\n",
      "Underperformance level for this table setup is 120.0\n"
     ]
    }
   ],
   "source": [
    "iteration = 0\n",
    "for instance in loaded_instances:\n",
    "    solveModel(instance, iteration)\n",
    "    iteration+=1"
   ]
  },
  {
   "cell_type": "markdown",
   "metadata": {},
   "source": [
    "## Solutions to models also available in '/solved_models/' directory"
   ]
  }
 ],
 "metadata": {
  "kernelspec": {
   "display_name": "Python 3",
   "language": "python",
   "name": "python3"
  },
  "language_info": {
   "codemirror_mode": {
    "name": "ipython",
    "version": 3
   },
   "file_extension": ".py",
   "mimetype": "text/x-python",
   "name": "python",
   "nbconvert_exporter": "python",
   "pygments_lexer": "ipython3",
   "version": "3.8.3"
  }
 },
 "nbformat": 4,
 "nbformat_minor": 4
}
