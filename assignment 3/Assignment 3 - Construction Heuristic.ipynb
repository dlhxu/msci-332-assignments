{
 "cells": [
  {
   "cell_type": "markdown",
   "metadata": {},
   "source": [
    "# Assignment 3 - Construction Heuristic"
   ]
  },
  {
   "cell_type": "markdown",
   "metadata": {},
   "source": [
    "Note: refer to readme for instructions on running"
   ]
  },
  {
   "cell_type": "markdown",
   "metadata": {},
   "source": [
    "In this assignment, we will continue looking at Topic 1, to optimize the table and space usage of restaurants. \n",
    "This notebook focuses on using a Construction Heuristic to arrive at a feasible solution given an instance."
   ]
  },
  {
   "cell_type": "markdown",
   "metadata": {},
   "source": [
    "## Pseudocode"
   ]
  },
  {
   "cell_type": "markdown",
   "metadata": {},
   "source": [
    "### Description"
   ]
  },
  {
   "cell_type": "markdown",
   "metadata": {},
   "source": [
    "The goal of any construction heuristic is to find a feasible solution to the optimization problem. This output has no guarantee of optimality, and the only requirement is that the algorithm produces a feasible solution"
   ]
  },
  {
   "cell_type": "markdown",
   "metadata": {},
   "source": [
    "### Constraints"
   ]
  },
  {
   "cell_type": "markdown",
   "metadata": {},
   "source": [
    "The constraints that the construction heuristic needs to follow are:\n",
    "\n",
    "1. Tables cannot overlap\n",
    "2. Tables must exist within the restaurant space\n",
    "3. The tables must be 2 meters apart from all other tables\n",
    "4. At least half of the restaurants capacity must be reached"
   ]
  },
  {
   "cell_type": "markdown",
   "metadata": {},
   "source": [
    "### Algorithm "
   ]
  },
  {
   "cell_type": "markdown",
   "metadata": {},
   "source": [
    "In order to fulfill the three constraints, the construction heuristic will follow the following algorithm:\n",
    "\n",
    "Setup:\n",
    "- Sort table array in order of descending height (max height first) (tables array indexed by i, i = 0,...,n-1)\n",
    "- Add a 2 meter margin to both width and height of all tables after sorting to account for distancing constraint\n",
    "- create variable to keep track of index of leftmost table (left)\n",
    "- create variables to keep track of restaurant boundaries (rx, ry)\n",
    "- create variables to keep track of current x and y positions to place new tables (x, y)\n",
    "- create variable to keep track of current restaurant capacity (current_capacity)\n",
    "- create variable to store minimum required capacity (required_capacity)\n",
    "- create list of table objects containing width,height and x,y bottom corner coordinates as returned solution \n",
    "\n",
    "Algorithm:\n",
    "```\n",
    "while current_capacity <= minimum_capacity and i < n:\n",
    "    if width of table i + x <= rx and height of table i + y <= ry:\n",
    "        add table i to solution list with bottom x coordinate = x, bottom y coordinate = y \n",
    "        current_capacity = current_capacity + capacity of table i\n",
    "        set x = x + width of table i\n",
    "        i = i + 1\n",
    "    else if height of table i + height of left <= ry:\n",
    "        add table i to solution list with bottom x coordinate = 0, bottom y coordinate = height of left\n",
    "        update left to be table i\n",
    "        current_capacity = current_capacity + capacity of table i\n",
    "        set x = 0\n",
    "        set y = height of left\n",
    "        i = i + 1\n",
    "    else \n",
    "        i = i + 1\n",
    "return solution list\n",
    "```\n",
    "        "
   ]
  },
  {
   "cell_type": "markdown",
   "metadata": {},
   "source": [
    "### Algorithm explained\n",
    "The construction heuristic first sorts all of the given tables in order of descending height. This is because the algorithm will attempt to fill out the x direction of a restaurant before moving onto the next \"row\" of tables. When a table is successfully placed in a row, the \"x\" variable is updated to be the end of the newly placed table. Additionally, a 2 meter margin must be added to both the width and height (1 meter each side) of all tables in our sorted list of tables. This is to account for the distancing constraint required by law in restaurants. Since every table has a meter margin on all sides, the distance from each \"table block\" to another is at least 1 + 1 = 2 meters.\n",
    "\n",
    "The check to see if table i can fit into the next row will only occur once, therefore all tables AFTER table i must be shorter than table i to ensure that they are only limited by the x direction (width) and not accidentally violate a constraint. \n",
    "\n",
    "When the \"row\" is filled out, the heuristic will attempt to place the current table i in the leftmost position of the restaurant (at x = 0). This is done by checking if the height of table i + the height of leftmost table is less than the max y direction of the restaurant. The leftmost table is always tracked. If successful, then the \"y\" variable is updated to represent the new row of tables that has been started, and the table i is also tracked as the current leftmost table. \n",
    "\n",
    "In this way, the construction heuristic moves from left to right, filling in tables as possible. When no longer possible, it will try to start a new row above the current row, again filling in tables from left to right. Once the required capacity is met, or there are no more tables to be examined either because they have all been added to the solution, or all tables have been examined and no more rows can be constructed (infeasible instance), the construction heuristic returns the list of tables as the solution. "
   ]
  },
  {
   "cell_type": "markdown",
   "metadata": {},
   "source": [
    "## Implementation"
   ]
  },
  {
   "cell_type": "markdown",
   "metadata": {},
   "source": [
    "## Fetch instances"
   ]
  },
  {
   "cell_type": "code",
   "execution_count": 401,
   "metadata": {},
   "outputs": [],
   "source": [
    "import json \n",
    "with open('generated_instances.json') as f:\n",
    "  loaded_instances = json.load(f)"
   ]
  },
  {
   "cell_type": "markdown",
   "metadata": {},
   "source": [
    "## Singular instance example"
   ]
  },
  {
   "cell_type": "code",
   "execution_count": 2,
   "metadata": {},
   "outputs": [],
   "source": [
    "# solve the first instance from loaded_instances\n",
    "example_instance = loaded_instances[0]"
   ]
  },
  {
   "cell_type": "code",
   "execution_count": 3,
   "metadata": {},
   "outputs": [
    {
     "name": "stdout",
     "output_type": "stream",
     "text": [
      "[{'size': 'large', 'width': 3, 'height': 4, 'capacity': 12}, {'size': 'large', 'width': 4, 'height': 3, 'capacity': 16}, {'size': 'medium', 'width': 3, 'height': 3, 'capacity': 12}, {'size': 'small', 'width': 2, 'height': 2, 'capacity': 8}, {'size': 'small', 'width': 2, 'height': 2, 'capacity': 8}]\n"
     ]
    }
   ],
   "source": [
    "# sort tables of example_instance by descending height\n",
    "sorted_tables = sorted(example_instance['tables'], key=lambda table: table['height'], reverse=True)\n",
    "print(sorted_tables)"
   ]
  },
  {
   "cell_type": "code",
   "execution_count": 4,
   "metadata": {},
   "outputs": [
    {
     "name": "stdout",
     "output_type": "stream",
     "text": [
      "[{'size': 'large', 'width': 5, 'height': 6, 'capacity': 12}, {'size': 'large', 'width': 6, 'height': 5, 'capacity': 16}, {'size': 'medium', 'width': 5, 'height': 5, 'capacity': 12}, {'size': 'small', 'width': 4, 'height': 4, 'capacity': 8}, {'size': 'small', 'width': 4, 'height': 4, 'capacity': 8}]\n"
     ]
    }
   ],
   "source": [
    "# add margins\n",
    "for i in range(len(sorted_tables)):\n",
    "    sorted_tables[i]['width'] += 2\n",
    "    sorted_tables[i]['height'] += 2\n",
    "print(sorted_tables)    "
   ]
  },
  {
   "cell_type": "code",
   "execution_count": 5,
   "metadata": {},
   "outputs": [],
   "source": [
    "# initialize room \n",
    "min_capacity = (sum(table['capacity'] for table in example_instance['tables']) // 2)\n",
    "x_bound = example_instance['width']\n",
    "y_bound = example_instance['height']\n",
    "x = 0\n",
    "y = 0\n",
    "current_capacity = 0\n",
    "i = 0\n",
    "solution_list = []\n",
    "leftmost = None\n",
    "\n",
    "# start placing tables\n",
    "while (current_capacity <= min_capacity) and i < len(sorted_tables):\n",
    "    # there is space to fit the table into the current \"row\"\n",
    "    if (x + sorted_tables[i]['width'] <= x_bound) and (y + sorted_tables[i]['height'] <= y_bound):\n",
    "        # add to solution list\n",
    "        table = {}\n",
    "        table['width'] = sorted_tables[i]['width']\n",
    "        table['height'] = sorted_tables[i]['height']\n",
    "        table['x_coord'] = x\n",
    "        table['y_coord'] = y\n",
    "        table['capacity'] = sorted_tables[i]['capacity']\n",
    "        solution_list.append(table)\n",
    "        \n",
    "        # set leftmost table if it has never been set yet\n",
    "        if not leftmost:\n",
    "            leftmost = table\n",
    "        \n",
    "        # update current position in row\n",
    "        x += table['width']\n",
    "        \n",
    "        # update current capacity\n",
    "        current_capacity += table['capacity']\n",
    "        \n",
    "        # examine next table\n",
    "        i += 1\n",
    "    # no more space on current row, look to build a new row on top of current row starting at left edge\n",
    "    elif (y + leftmost['height'] + sorted_tables[i]['height'] <= y_bound):\n",
    "        # add to solution list\n",
    "        table = {}\n",
    "        table['width'] = sorted_tables[i]['width']\n",
    "        table['height'] = sorted_tables[i]['height']\n",
    "        table['x_coord'] = 0\n",
    "        table['y_coord'] = y + leftmost['height']\n",
    "        table['capacity'] = sorted_tables[i]['capacity']\n",
    "        solution_list.append(table)\n",
    "        \n",
    "        # update current x and y position\n",
    "        x = table['width']\n",
    "        y = y + leftmost['height']\n",
    "        \n",
    "        # update leftmost table to this one\n",
    "        leftmost = table\n",
    "        \n",
    "        # update current capacity\n",
    "        current_capacity += table['capacity']\n",
    "        \n",
    "        # examine next table\n",
    "        i += 1\n",
    "    \n",
    "    # cannot place this table in any direction, check next table\n",
    "    else:\n",
    "        i += 1\n",
    "        "
   ]
  },
  {
   "cell_type": "code",
   "execution_count": 6,
   "metadata": {},
   "outputs": [
    {
     "name": "stdout",
     "output_type": "stream",
     "text": [
      "[{'width': 5, 'height': 6, 'x_coord': 0, 'y_coord': 0, 'capacity': 12}, {'width': 6, 'height': 5, 'x_coord': 5, 'y_coord': 0, 'capacity': 16}, {'width': 5, 'height': 5, 'x_coord': 0, 'y_coord': 6, 'capacity': 12}]\n"
     ]
    }
   ],
   "source": [
    "print(solution_list)"
   ]
  },
  {
   "cell_type": "code",
   "execution_count": 7,
   "metadata": {},
   "outputs": [
    {
     "name": "stdout",
     "output_type": "stream",
     "text": [
      "40\n"
     ]
    }
   ],
   "source": [
    "print(sum(table['capacity'] for table in solution_list))"
   ]
  },
  {
   "cell_type": "code",
   "execution_count": 8,
   "metadata": {},
   "outputs": [
    {
     "name": "stdout",
     "output_type": "stream",
     "text": [
      "{'solution_list': [{'width': 5, 'height': 6, 'x_coord': 0, 'y_coord': 0, 'capacity': 12}, {'width': 6, 'height': 5, 'x_coord': 5, 'y_coord': 0, 'capacity': 16}, {'width': 5, 'height': 5, 'x_coord': 0, 'y_coord': 6, 'capacity': 12}], 'original_list': [{'size': 'large', 'width': 5, 'height': 6, 'capacity': 12}, {'size': 'large', 'width': 6, 'height': 5, 'capacity': 16}, {'size': 'medium', 'width': 5, 'height': 5, 'capacity': 12}, {'size': 'small', 'width': 4, 'height': 4, 'capacity': 8}, {'size': 'small', 'width': 4, 'height': 4, 'capacity': 8}]}\n"
     ]
    }
   ],
   "source": [
    "constructed_heuristic = {}\n",
    "constructed_heuristic['solution_list'] = solution_list\n",
    "constructed_heuristic['original_list'] = sorted_tables\n",
    "print(constructed_heuristic)"
   ]
  },
  {
   "cell_type": "markdown",
   "metadata": {},
   "source": [
    "## Visualization"
   ]
  },
  {
   "cell_type": "code",
   "execution_count": 9,
   "metadata": {},
   "outputs": [],
   "source": [
    "import plotly.graph_objects as go"
   ]
  },
  {
   "cell_type": "code",
   "execution_count": 10,
   "metadata": {},
   "outputs": [
    {
     "data": {
      "application/vnd.plotly.v1+json": {
       "config": {
        "plotlyServerURL": "https://plot.ly"
       },
       "data": [
        {
         "fill": "toself",
         "type": "scatter",
         "x": [
          0,
          10,
          "none",
          10,
          10,
          "none",
          0,
          0,
          5,
          5,
          0,
          "none",
          0,
          10,
          "none",
          10,
          10,
          "none",
          5,
          5,
          11,
          11,
          5,
          "none",
          0,
          15,
          "none",
          15,
          15,
          "none",
          0,
          0,
          5,
          5,
          0,
          "none"
         ],
         "y": [
          10,
          10,
          "none",
          0,
          10,
          "none",
          0,
          6,
          6,
          0,
          0,
          "none",
          10,
          10,
          "none",
          0,
          10,
          "none",
          0,
          5,
          5,
          0,
          0,
          "none",
          10,
          10,
          "none",
          0,
          5,
          5,
          0,
          10,
          "none",
          5,
          9,
          9,
          5,
          5,
          "none",
          10,
          10,
          "none",
          0,
          "none",
          13,
          13,
          "none",
          0,
          13,
          "none",
          6,
          11,
          11,
          6,
          6,
          "none"
         ]
        }
       ],
       "layout": {
        "template": {
         "data": {
          "bar": [
           {
            "error_x": {
             "color": "#2a3f5f"
            },
            "error_y": {
             "color": "#2a3f5f"
            },
            "marker": {
             "line": {
              "color": "#E5ECF6",
              "width": 0.5
             }
            },
            "type": "bar"
           }
          ],
          "barpolar": [
           {
            "marker": {
             "line": {
              "color": "#E5ECF6",
              "width": 0.5
             }
            },
            "type": "barpolar"
           }
          ],
          "carpet": [
           {
            "aaxis": {
             "endlinecolor": "#2a3f5f",
             "gridcolor": "white",
             "linecolor": "white",
             "minorgridcolor": "white",
             "startlinecolor": "#2a3f5f"
            },
            "baxis": {
             "endlinecolor": "#2a3f5f",
             "gridcolor": "white",
             "linecolor": "white",
             "minorgridcolor": "white",
             "startlinecolor": "#2a3f5f"
            },
            "type": "carpet"
           }
          ],
          "choropleth": [
           {
            "colorbar": {
             "outlinewidth": 0,
             "ticks": ""
            },
            "type": "choropleth"
           }
          ],
          "contour": [
           {
            "colorbar": {
             "outlinewidth": 0,
             "ticks": ""
            },
            "colorscale": [
             [
              0,
              "#0d0887"
             ],
             [
              0.1111111111111111,
              "#46039f"
             ],
             [
              0.2222222222222222,
              "#7201a8"
             ],
             [
              0.3333333333333333,
              "#9c179e"
             ],
             [
              0.4444444444444444,
              "#bd3786"
             ],
             [
              0.5555555555555556,
              "#d8576b"
             ],
             [
              0.6666666666666666,
              "#ed7953"
             ],
             [
              0.7777777777777778,
              "#fb9f3a"
             ],
             [
              0.8888888888888888,
              "#fdca26"
             ],
             [
              1,
              "#f0f921"
             ]
            ],
            "type": "contour"
           }
          ],
          "contourcarpet": [
           {
            "colorbar": {
             "outlinewidth": 0,
             "ticks": ""
            },
            "type": "contourcarpet"
           }
          ],
          "heatmap": [
           {
            "colorbar": {
             "outlinewidth": 0,
             "ticks": ""
            },
            "colorscale": [
             [
              0,
              "#0d0887"
             ],
             [
              0.1111111111111111,
              "#46039f"
             ],
             [
              0.2222222222222222,
              "#7201a8"
             ],
             [
              0.3333333333333333,
              "#9c179e"
             ],
             [
              0.4444444444444444,
              "#bd3786"
             ],
             [
              0.5555555555555556,
              "#d8576b"
             ],
             [
              0.6666666666666666,
              "#ed7953"
             ],
             [
              0.7777777777777778,
              "#fb9f3a"
             ],
             [
              0.8888888888888888,
              "#fdca26"
             ],
             [
              1,
              "#f0f921"
             ]
            ],
            "type": "heatmap"
           }
          ],
          "heatmapgl": [
           {
            "colorbar": {
             "outlinewidth": 0,
             "ticks": ""
            },
            "colorscale": [
             [
              0,
              "#0d0887"
             ],
             [
              0.1111111111111111,
              "#46039f"
             ],
             [
              0.2222222222222222,
              "#7201a8"
             ],
             [
              0.3333333333333333,
              "#9c179e"
             ],
             [
              0.4444444444444444,
              "#bd3786"
             ],
             [
              0.5555555555555556,
              "#d8576b"
             ],
             [
              0.6666666666666666,
              "#ed7953"
             ],
             [
              0.7777777777777778,
              "#fb9f3a"
             ],
             [
              0.8888888888888888,
              "#fdca26"
             ],
             [
              1,
              "#f0f921"
             ]
            ],
            "type": "heatmapgl"
           }
          ],
          "histogram": [
           {
            "marker": {
             "colorbar": {
              "outlinewidth": 0,
              "ticks": ""
             }
            },
            "type": "histogram"
           }
          ],
          "histogram2d": [
           {
            "colorbar": {
             "outlinewidth": 0,
             "ticks": ""
            },
            "colorscale": [
             [
              0,
              "#0d0887"
             ],
             [
              0.1111111111111111,
              "#46039f"
             ],
             [
              0.2222222222222222,
              "#7201a8"
             ],
             [
              0.3333333333333333,
              "#9c179e"
             ],
             [
              0.4444444444444444,
              "#bd3786"
             ],
             [
              0.5555555555555556,
              "#d8576b"
             ],
             [
              0.6666666666666666,
              "#ed7953"
             ],
             [
              0.7777777777777778,
              "#fb9f3a"
             ],
             [
              0.8888888888888888,
              "#fdca26"
             ],
             [
              1,
              "#f0f921"
             ]
            ],
            "type": "histogram2d"
           }
          ],
          "histogram2dcontour": [
           {
            "colorbar": {
             "outlinewidth": 0,
             "ticks": ""
            },
            "colorscale": [
             [
              0,
              "#0d0887"
             ],
             [
              0.1111111111111111,
              "#46039f"
             ],
             [
              0.2222222222222222,
              "#7201a8"
             ],
             [
              0.3333333333333333,
              "#9c179e"
             ],
             [
              0.4444444444444444,
              "#bd3786"
             ],
             [
              0.5555555555555556,
              "#d8576b"
             ],
             [
              0.6666666666666666,
              "#ed7953"
             ],
             [
              0.7777777777777778,
              "#fb9f3a"
             ],
             [
              0.8888888888888888,
              "#fdca26"
             ],
             [
              1,
              "#f0f921"
             ]
            ],
            "type": "histogram2dcontour"
           }
          ],
          "mesh3d": [
           {
            "colorbar": {
             "outlinewidth": 0,
             "ticks": ""
            },
            "type": "mesh3d"
           }
          ],
          "parcoords": [
           {
            "line": {
             "colorbar": {
              "outlinewidth": 0,
              "ticks": ""
             }
            },
            "type": "parcoords"
           }
          ],
          "pie": [
           {
            "automargin": true,
            "type": "pie"
           }
          ],
          "scatter": [
           {
            "marker": {
             "colorbar": {
              "outlinewidth": 0,
              "ticks": ""
             }
            },
            "type": "scatter"
           }
          ],
          "scatter3d": [
           {
            "line": {
             "colorbar": {
              "outlinewidth": 0,
              "ticks": ""
             }
            },
            "marker": {
             "colorbar": {
              "outlinewidth": 0,
              "ticks": ""
             }
            },
            "type": "scatter3d"
           }
          ],
          "scattercarpet": [
           {
            "marker": {
             "colorbar": {
              "outlinewidth": 0,
              "ticks": ""
             }
            },
            "type": "scattercarpet"
           }
          ],
          "scattergeo": [
           {
            "marker": {
             "colorbar": {
              "outlinewidth": 0,
              "ticks": ""
             }
            },
            "type": "scattergeo"
           }
          ],
          "scattergl": [
           {
            "marker": {
             "colorbar": {
              "outlinewidth": 0,
              "ticks": ""
             }
            },
            "type": "scattergl"
           }
          ],
          "scattermapbox": [
           {
            "marker": {
             "colorbar": {
              "outlinewidth": 0,
              "ticks": ""
             }
            },
            "type": "scattermapbox"
           }
          ],
          "scatterpolar": [
           {
            "marker": {
             "colorbar": {
              "outlinewidth": 0,
              "ticks": ""
             }
            },
            "type": "scatterpolar"
           }
          ],
          "scatterpolargl": [
           {
            "marker": {
             "colorbar": {
              "outlinewidth": 0,
              "ticks": ""
             }
            },
            "type": "scatterpolargl"
           }
          ],
          "scatterternary": [
           {
            "marker": {
             "colorbar": {
              "outlinewidth": 0,
              "ticks": ""
             }
            },
            "type": "scatterternary"
           }
          ],
          "surface": [
           {
            "colorbar": {
             "outlinewidth": 0,
             "ticks": ""
            },
            "colorscale": [
             [
              0,
              "#0d0887"
             ],
             [
              0.1111111111111111,
              "#46039f"
             ],
             [
              0.2222222222222222,
              "#7201a8"
             ],
             [
              0.3333333333333333,
              "#9c179e"
             ],
             [
              0.4444444444444444,
              "#bd3786"
             ],
             [
              0.5555555555555556,
              "#d8576b"
             ],
             [
              0.6666666666666666,
              "#ed7953"
             ],
             [
              0.7777777777777778,
              "#fb9f3a"
             ],
             [
              0.8888888888888888,
              "#fdca26"
             ],
             [
              1,
              "#f0f921"
             ]
            ],
            "type": "surface"
           }
          ],
          "table": [
           {
            "cells": {
             "fill": {
              "color": "#EBF0F8"
             },
             "line": {
              "color": "white"
             }
            },
            "header": {
             "fill": {
              "color": "#C8D4E3"
             },
             "line": {
              "color": "white"
             }
            },
            "type": "table"
           }
          ]
         },
         "layout": {
          "annotationdefaults": {
           "arrowcolor": "#2a3f5f",
           "arrowhead": 0,
           "arrowwidth": 1
          },
          "coloraxis": {
           "colorbar": {
            "outlinewidth": 0,
            "ticks": ""
           }
          },
          "colorscale": {
           "diverging": [
            [
             0,
             "#8e0152"
            ],
            [
             0.1,
             "#c51b7d"
            ],
            [
             0.2,
             "#de77ae"
            ],
            [
             0.3,
             "#f1b6da"
            ],
            [
             0.4,
             "#fde0ef"
            ],
            [
             0.5,
             "#f7f7f7"
            ],
            [
             0.6,
             "#e6f5d0"
            ],
            [
             0.7,
             "#b8e186"
            ],
            [
             0.8,
             "#7fbc41"
            ],
            [
             0.9,
             "#4d9221"
            ],
            [
             1,
             "#276419"
            ]
           ],
           "sequential": [
            [
             0,
             "#0d0887"
            ],
            [
             0.1111111111111111,
             "#46039f"
            ],
            [
             0.2222222222222222,
             "#7201a8"
            ],
            [
             0.3333333333333333,
             "#9c179e"
            ],
            [
             0.4444444444444444,
             "#bd3786"
            ],
            [
             0.5555555555555556,
             "#d8576b"
            ],
            [
             0.6666666666666666,
             "#ed7953"
            ],
            [
             0.7777777777777778,
             "#fb9f3a"
            ],
            [
             0.8888888888888888,
             "#fdca26"
            ],
            [
             1,
             "#f0f921"
            ]
           ],
           "sequentialminus": [
            [
             0,
             "#0d0887"
            ],
            [
             0.1111111111111111,
             "#46039f"
            ],
            [
             0.2222222222222222,
             "#7201a8"
            ],
            [
             0.3333333333333333,
             "#9c179e"
            ],
            [
             0.4444444444444444,
             "#bd3786"
            ],
            [
             0.5555555555555556,
             "#d8576b"
            ],
            [
             0.6666666666666666,
             "#ed7953"
            ],
            [
             0.7777777777777778,
             "#fb9f3a"
            ],
            [
             0.8888888888888888,
             "#fdca26"
            ],
            [
             1,
             "#f0f921"
            ]
           ]
          },
          "colorway": [
           "#636efa",
           "#EF553B",
           "#00cc96",
           "#ab63fa",
           "#FFA15A",
           "#19d3f3",
           "#FF6692",
           "#B6E880",
           "#FF97FF",
           "#FECB52"
          ],
          "font": {
           "color": "#2a3f5f"
          },
          "geo": {
           "bgcolor": "white",
           "lakecolor": "white",
           "landcolor": "#E5ECF6",
           "showlakes": true,
           "showland": true,
           "subunitcolor": "white"
          },
          "hoverlabel": {
           "align": "left"
          },
          "hovermode": "closest",
          "mapbox": {
           "style": "light"
          },
          "paper_bgcolor": "white",
          "plot_bgcolor": "#E5ECF6",
          "polar": {
           "angularaxis": {
            "gridcolor": "white",
            "linecolor": "white",
            "ticks": ""
           },
           "bgcolor": "#E5ECF6",
           "radialaxis": {
            "gridcolor": "white",
            "linecolor": "white",
            "ticks": ""
           }
          },
          "scene": {
           "xaxis": {
            "backgroundcolor": "#E5ECF6",
            "gridcolor": "white",
            "gridwidth": 2,
            "linecolor": "white",
            "showbackground": true,
            "ticks": "",
            "zerolinecolor": "white"
           },
           "yaxis": {
            "backgroundcolor": "#E5ECF6",
            "gridcolor": "white",
            "gridwidth": 2,
            "linecolor": "white",
            "showbackground": true,
            "ticks": "",
            "zerolinecolor": "white"
           },
           "zaxis": {
            "backgroundcolor": "#E5ECF6",
            "gridcolor": "white",
            "gridwidth": 2,
            "linecolor": "white",
            "showbackground": true,
            "ticks": "",
            "zerolinecolor": "white"
           }
          },
          "shapedefaults": {
           "line": {
            "color": "#2a3f5f"
           }
          },
          "ternary": {
           "aaxis": {
            "gridcolor": "white",
            "linecolor": "white",
            "ticks": ""
           },
           "baxis": {
            "gridcolor": "white",
            "linecolor": "white",
            "ticks": ""
           },
           "bgcolor": "#E5ECF6",
           "caxis": {
            "gridcolor": "white",
            "linecolor": "white",
            "ticks": ""
           }
          },
          "title": {
           "x": 0.05
          },
          "xaxis": {
           "automargin": true,
           "gridcolor": "white",
           "linecolor": "white",
           "ticks": "",
           "title": {
            "standoff": 15
           },
           "zerolinecolor": "white",
           "zerolinewidth": 2
          },
          "yaxis": {
           "automargin": true,
           "gridcolor": "white",
           "linecolor": "white",
           "ticks": "",
           "title": {
            "standoff": 15
           },
           "zerolinecolor": "white",
           "zerolinewidth": 2
          }
         }
        }
       }
      },
      "text/html": [
       "<div>                            <div id=\"e2a0e6e5-ad56-4a49-838f-cf2341de2e8d\" class=\"plotly-graph-div\" style=\"height:525px; width:100%;\"></div>            <script type=\"text/javascript\">                require([\"plotly\"], function(Plotly) {                    window.PLOTLYENV=window.PLOTLYENV || {};                                    if (document.getElementById(\"e2a0e6e5-ad56-4a49-838f-cf2341de2e8d\")) {                    Plotly.newPlot(                        \"e2a0e6e5-ad56-4a49-838f-cf2341de2e8d\",                        [{\"fill\": \"toself\", \"type\": \"scatter\", \"x\": [0, 15, \"none\", 15, 15, \"none\", 0, 0, 5, 5, 0, \"none\", 0, 15, \"none\", 15, 15, \"none\", 5, 5, 11, 11, 5, \"none\", 0, 15, \"none\", 15, 15, \"none\", 0, 0, 5, 5, 0, \"none\"], \"y\": [13, 13, \"none\", 0, 13, \"none\", 0, 6, 6, 0, 0, \"none\", 13, 13, \"none\", 0, 13, \"none\", 0, 5, 5, 0, 0, \"none\", 13, 13, \"none\", 0, 13, \"none\", 6, 11, 11, 6, 6, \"none\"]}],                        {\"template\": {\"data\": {\"bar\": [{\"error_x\": {\"color\": \"#2a3f5f\"}, \"error_y\": {\"color\": \"#2a3f5f\"}, \"marker\": {\"line\": {\"color\": \"#E5ECF6\", \"width\": 0.5}}, \"type\": \"bar\"}], \"barpolar\": [{\"marker\": {\"line\": {\"color\": \"#E5ECF6\", \"width\": 0.5}}, \"type\": \"barpolar\"}], \"carpet\": [{\"aaxis\": {\"endlinecolor\": \"#2a3f5f\", \"gridcolor\": \"white\", \"linecolor\": \"white\", \"minorgridcolor\": \"white\", \"startlinecolor\": \"#2a3f5f\"}, \"baxis\": {\"endlinecolor\": \"#2a3f5f\", \"gridcolor\": \"white\", \"linecolor\": \"white\", \"minorgridcolor\": \"white\", \"startlinecolor\": \"#2a3f5f\"}, \"type\": \"carpet\"}], \"choropleth\": [{\"colorbar\": {\"outlinewidth\": 0, \"ticks\": \"\"}, \"type\": \"choropleth\"}], \"contour\": [{\"colorbar\": {\"outlinewidth\": 0, \"ticks\": \"\"}, \"colorscale\": [[0.0, \"#0d0887\"], [0.1111111111111111, \"#46039f\"], [0.2222222222222222, \"#7201a8\"], [0.3333333333333333, \"#9c179e\"], [0.4444444444444444, \"#bd3786\"], [0.5555555555555556, \"#d8576b\"], [0.6666666666666666, \"#ed7953\"], [0.7777777777777778, \"#fb9f3a\"], [0.8888888888888888, \"#fdca26\"], [1.0, \"#f0f921\"]], \"type\": \"contour\"}], \"contourcarpet\": [{\"colorbar\": {\"outlinewidth\": 0, \"ticks\": \"\"}, \"type\": \"contourcarpet\"}], \"heatmap\": [{\"colorbar\": {\"outlinewidth\": 0, \"ticks\": \"\"}, \"colorscale\": [[0.0, \"#0d0887\"], [0.1111111111111111, \"#46039f\"], [0.2222222222222222, \"#7201a8\"], [0.3333333333333333, \"#9c179e\"], [0.4444444444444444, \"#bd3786\"], [0.5555555555555556, \"#d8576b\"], [0.6666666666666666, \"#ed7953\"], [0.7777777777777778, \"#fb9f3a\"], [0.8888888888888888, \"#fdca26\"], [1.0, \"#f0f921\"]], \"type\": \"heatmap\"}], \"heatmapgl\": [{\"colorbar\": {\"outlinewidth\": 0, \"ticks\": \"\"}, \"colorscale\": [[0.0, \"#0d0887\"], [0.1111111111111111, \"#46039f\"], [0.2222222222222222, \"#7201a8\"], [0.3333333333333333, \"#9c179e\"], [0.4444444444444444, \"#bd3786\"], [0.5555555555555556, \"#d8576b\"], [0.6666666666666666, \"#ed7953\"], [0.7777777777777778, \"#fb9f3a\"], [0.8888888888888888, \"#fdca26\"], [1.0, \"#f0f921\"]], \"type\": \"heatmapgl\"}], \"histogram\": [{\"marker\": {\"colorbar\": {\"outlinewidth\": 0, \"ticks\": \"\"}}, \"type\": \"histogram\"}], \"histogram2d\": [{\"colorbar\": {\"outlinewidth\": 0, \"ticks\": \"\"}, \"colorscale\": [[0.0, \"#0d0887\"], [0.1111111111111111, \"#46039f\"], [0.2222222222222222, \"#7201a8\"], [0.3333333333333333, \"#9c179e\"], [0.4444444444444444, \"#bd3786\"], [0.5555555555555556, \"#d8576b\"], [0.6666666666666666, \"#ed7953\"], [0.7777777777777778, \"#fb9f3a\"], [0.8888888888888888, \"#fdca26\"], [1.0, \"#f0f921\"]], \"type\": \"histogram2d\"}], \"histogram2dcontour\": [{\"colorbar\": {\"outlinewidth\": 0, \"ticks\": \"\"}, \"colorscale\": [[0.0, \"#0d0887\"], [0.1111111111111111, \"#46039f\"], [0.2222222222222222, \"#7201a8\"], [0.3333333333333333, \"#9c179e\"], [0.4444444444444444, \"#bd3786\"], [0.5555555555555556, \"#d8576b\"], [0.6666666666666666, \"#ed7953\"], [0.7777777777777778, \"#fb9f3a\"], [0.8888888888888888, \"#fdca26\"], [1.0, \"#f0f921\"]], \"type\": \"histogram2dcontour\"}], \"mesh3d\": [{\"colorbar\": {\"outlinewidth\": 0, \"ticks\": \"\"}, \"type\": \"mesh3d\"}], \"parcoords\": [{\"line\": {\"colorbar\": {\"outlinewidth\": 0, \"ticks\": \"\"}}, \"type\": \"parcoords\"}], \"pie\": [{\"automargin\": true, \"type\": \"pie\"}], \"scatter\": [{\"marker\": {\"colorbar\": {\"outlinewidth\": 0, \"ticks\": \"\"}}, \"type\": \"scatter\"}], \"scatter3d\": [{\"line\": {\"colorbar\": {\"outlinewidth\": 0, \"ticks\": \"\"}}, \"marker\": {\"colorbar\": {\"outlinewidth\": 0, \"ticks\": \"\"}}, \"type\": \"scatter3d\"}], \"scattercarpet\": [{\"marker\": {\"colorbar\": {\"outlinewidth\": 0, \"ticks\": \"\"}}, \"type\": \"scattercarpet\"}], \"scattergeo\": [{\"marker\": {\"colorbar\": {\"outlinewidth\": 0, \"ticks\": \"\"}}, \"type\": \"scattergeo\"}], \"scattergl\": [{\"marker\": {\"colorbar\": {\"outlinewidth\": 0, \"ticks\": \"\"}}, \"type\": \"scattergl\"}], \"scattermapbox\": [{\"marker\": {\"colorbar\": {\"outlinewidth\": 0, \"ticks\": \"\"}}, \"type\": \"scattermapbox\"}], \"scatterpolar\": [{\"marker\": {\"colorbar\": {\"outlinewidth\": 0, \"ticks\": \"\"}}, \"type\": \"scatterpolar\"}], \"scatterpolargl\": [{\"marker\": {\"colorbar\": {\"outlinewidth\": 0, \"ticks\": \"\"}}, \"type\": \"scatterpolargl\"}], \"scatterternary\": [{\"marker\": {\"colorbar\": {\"outlinewidth\": 0, \"ticks\": \"\"}}, \"type\": \"scatterternary\"}], \"surface\": [{\"colorbar\": {\"outlinewidth\": 0, \"ticks\": \"\"}, \"colorscale\": [[0.0, \"#0d0887\"], [0.1111111111111111, \"#46039f\"], [0.2222222222222222, \"#7201a8\"], [0.3333333333333333, \"#9c179e\"], [0.4444444444444444, \"#bd3786\"], [0.5555555555555556, \"#d8576b\"], [0.6666666666666666, \"#ed7953\"], [0.7777777777777778, \"#fb9f3a\"], [0.8888888888888888, \"#fdca26\"], [1.0, \"#f0f921\"]], \"type\": \"surface\"}], \"table\": [{\"cells\": {\"fill\": {\"color\": \"#EBF0F8\"}, \"line\": {\"color\": \"white\"}}, \"header\": {\"fill\": {\"color\": \"#C8D4E3\"}, \"line\": {\"color\": \"white\"}}, \"type\": \"table\"}]}, \"layout\": {\"annotationdefaults\": {\"arrowcolor\": \"#2a3f5f\", \"arrowhead\": 0, \"arrowwidth\": 1}, \"coloraxis\": {\"colorbar\": {\"outlinewidth\": 0, \"ticks\": \"\"}}, \"colorscale\": {\"diverging\": [[0, \"#8e0152\"], [0.1, \"#c51b7d\"], [0.2, \"#de77ae\"], [0.3, \"#f1b6da\"], [0.4, \"#fde0ef\"], [0.5, \"#f7f7f7\"], [0.6, \"#e6f5d0\"], [0.7, \"#b8e186\"], [0.8, \"#7fbc41\"], [0.9, \"#4d9221\"], [1, \"#276419\"]], \"sequential\": [[0.0, \"#0d0887\"], [0.1111111111111111, \"#46039f\"], [0.2222222222222222, \"#7201a8\"], [0.3333333333333333, \"#9c179e\"], [0.4444444444444444, \"#bd3786\"], [0.5555555555555556, \"#d8576b\"], [0.6666666666666666, \"#ed7953\"], [0.7777777777777778, \"#fb9f3a\"], [0.8888888888888888, \"#fdca26\"], [1.0, \"#f0f921\"]], \"sequentialminus\": [[0.0, \"#0d0887\"], [0.1111111111111111, \"#46039f\"], [0.2222222222222222, \"#7201a8\"], [0.3333333333333333, \"#9c179e\"], [0.4444444444444444, \"#bd3786\"], [0.5555555555555556, \"#d8576b\"], [0.6666666666666666, \"#ed7953\"], [0.7777777777777778, \"#fb9f3a\"], [0.8888888888888888, \"#fdca26\"], [1.0, \"#f0f921\"]]}, \"colorway\": [\"#636efa\", \"#EF553B\", \"#00cc96\", \"#ab63fa\", \"#FFA15A\", \"#19d3f3\", \"#FF6692\", \"#B6E880\", \"#FF97FF\", \"#FECB52\"], \"font\": {\"color\": \"#2a3f5f\"}, \"geo\": {\"bgcolor\": \"white\", \"lakecolor\": \"white\", \"landcolor\": \"#E5ECF6\", \"showlakes\": true, \"showland\": true, \"subunitcolor\": \"white\"}, \"hoverlabel\": {\"align\": \"left\"}, \"hovermode\": \"closest\", \"mapbox\": {\"style\": \"light\"}, \"paper_bgcolor\": \"white\", \"plot_bgcolor\": \"#E5ECF6\", \"polar\": {\"angularaxis\": {\"gridcolor\": \"white\", \"linecolor\": \"white\", \"ticks\": \"\"}, \"bgcolor\": \"#E5ECF6\", \"radialaxis\": {\"gridcolor\": \"white\", \"linecolor\": \"white\", \"ticks\": \"\"}}, \"scene\": {\"xaxis\": {\"backgroundcolor\": \"#E5ECF6\", \"gridcolor\": \"white\", \"gridwidth\": 2, \"linecolor\": \"white\", \"showbackground\": true, \"ticks\": \"\", \"zerolinecolor\": \"white\"}, \"yaxis\": {\"backgroundcolor\": \"#E5ECF6\", \"gridcolor\": \"white\", \"gridwidth\": 2, \"linecolor\": \"white\", \"showbackground\": true, \"ticks\": \"\", \"zerolinecolor\": \"white\"}, \"zaxis\": {\"backgroundcolor\": \"#E5ECF6\", \"gridcolor\": \"white\", \"gridwidth\": 2, \"linecolor\": \"white\", \"showbackground\": true, \"ticks\": \"\", \"zerolinecolor\": \"white\"}}, \"shapedefaults\": {\"line\": {\"color\": \"#2a3f5f\"}}, \"ternary\": {\"aaxis\": {\"gridcolor\": \"white\", \"linecolor\": \"white\", \"ticks\": \"\"}, \"baxis\": {\"gridcolor\": \"white\", \"linecolor\": \"white\", \"ticks\": \"\"}, \"bgcolor\": \"#E5ECF6\", \"caxis\": {\"gridcolor\": \"white\", \"linecolor\": \"white\", \"ticks\": \"\"}}, \"title\": {\"x\": 0.05}, \"xaxis\": {\"automargin\": true, \"gridcolor\": \"white\", \"linecolor\": \"white\", \"ticks\": \"\", \"title\": {\"standoff\": 15}, \"zerolinecolor\": \"white\", \"zerolinewidth\": 2}, \"yaxis\": {\"automargin\": true, \"gridcolor\": \"white\", \"linecolor\": \"white\", \"ticks\": \"\", \"title\": {\"standoff\": 15}, \"zerolinecolor\": \"white\", \"zerolinewidth\": 2}}}},                        {\"responsive\": true}                    ).then(function(){\n",
       "                            \n",
       "var gd = document.getElementById('e2a0e6e5-ad56-4a49-838f-cf2341de2e8d');\n",
       "var x = new MutationObserver(function (mutations, observer) {{\n",
       "        var display = window.getComputedStyle(gd).display;\n",
       "        if (!display || display === 'none') {{\n",
       "            console.log([gd, 'removed!']);\n",
       "            Plotly.purge(gd);\n",
       "            observer.disconnect();\n",
       "        }}\n",
       "}});\n",
       "\n",
       "// Listen for the removal of the full notebook cells\n",
       "var notebookContainer = gd.closest('#notebook-container');\n",
       "if (notebookContainer) {{\n",
       "    x.observe(notebookContainer, {childList: true});\n",
       "}}\n",
       "\n",
       "// Listen for the clearing of the current output cell\n",
       "var outputEl = gd.closest('.output');\n",
       "if (outputEl) {{\n",
       "    x.observe(outputEl, {childList: true});\n",
       "}}\n",
       "\n",
       "                        })                };                });            </script>        </div>"
      ]
     },
     "metadata": {},
     "output_type": "display_data"
    }
   ],
   "source": [
    "xCoordPlot = []\n",
    "yCoordPlot = []\n",
    "for table in solution_list:\n",
    "    #top border\n",
    "    xCoordPlot.append(0)\n",
    "    xCoordPlot.append(x_bound)\n",
    "    yCoordPlot.append(y_bound)\n",
    "    yCoordPlot.append(y_bound)\n",
    "    xCoordPlot.append(\"none\")\n",
    "    yCoordPlot.append(\"none\")\n",
    "\n",
    "    #right border\n",
    "    xCoordPlot.append(x_bound)\n",
    "    xCoordPlot.append(x_bound)\n",
    "    yCoordPlot.append(0)\n",
    "    yCoordPlot.append(y_bound)\n",
    "    xCoordPlot.append(\"none\")\n",
    "    yCoordPlot.append(\"none\")\n",
    "    #x\n",
    "    xCoordPlot.append(table['x_coord'])\n",
    "    xCoordPlot.append(table['x_coord'])\n",
    "    xCoordPlot.append(table['x_coord'] + table['width'])\n",
    "    xCoordPlot.append(table['x_coord'] + table['width'])\n",
    "    xCoordPlot.append(table['x_coord'])\n",
    "    xCoordPlot.append(\"none\")\n",
    "    #y\n",
    "    yCoordPlot.append(table['y_coord'])\n",
    "    yCoordPlot.append(table['y_coord'] + table['height'])\n",
    "    yCoordPlot.append(table['y_coord'] + table['height'])\n",
    "    yCoordPlot.append(table['y_coord'])\n",
    "    yCoordPlot.append(table['y_coord'])\n",
    "    yCoordPlot.append(\"none\")\n",
    "fig = go.Figure(go.Scatter(x=xCoordPlot, y=yCoordPlot, fill=\"toself\"))\n",
    "fig.show()"
   ]
  },
  {
   "cell_type": "markdown",
   "metadata": {},
   "source": [
    "# Programmatic solution to solve all generated instances"
   ]
  },
  {
   "cell_type": "code",
   "execution_count": 11,
   "metadata": {},
   "outputs": [],
   "source": [
    "# get new instances\n",
    "with open('new_instances.json') as f:\n",
    "  new_instances = json.load(f)"
   ]
  },
  {
   "cell_type": "markdown",
   "metadata": {},
   "source": [
    "### Wrap margin adder in a function"
   ]
  },
  {
   "cell_type": "code",
   "execution_count": 12,
   "metadata": {},
   "outputs": [],
   "source": [
    "def addmargins(tables):\n",
    "    margins_added = []\n",
    "    for table in tables:\n",
    "        new_table = table\n",
    "        new_table['height'] = table['height'] + 2\n",
    "        new_table['width'] = table['width'] + 2\n",
    "        margins_added.append(new_table)\n",
    "    return margins_added"
   ]
  },
  {
   "cell_type": "markdown",
   "metadata": {},
   "source": [
    "### Wrap the construction heuristic algorithm in a function"
   ]
  },
  {
   "cell_type": "code",
   "execution_count": 13,
   "metadata": {},
   "outputs": [],
   "source": [
    "def construction_heuristic(instance):\n",
    "    # initialize room \n",
    "    max_capacity = sum(table['capacity'] for table in instance['tables'])\n",
    "    min_capacity = max_capacity // 2\n",
    "    x_bound = instance['width']\n",
    "    y_bound = instance['height']\n",
    "    x = 0\n",
    "    y = 0\n",
    "    current_capacity = 0\n",
    "    i = 0\n",
    "    solution_list = []\n",
    "    leftmost = None\n",
    "    \n",
    "    # sort tables by descending height\n",
    "    first_sorted_tables = sorted(instance['tables'], key=lambda table: table['height'], reverse=True)\n",
    "    \n",
    "    # add margins\n",
    "#     for i in range(len(sorted_tables)):\n",
    "#         sorted_tables[i]['width'] += 2\n",
    "#         sorted_tables[i]['height'] += 2 \n",
    "    sorted_tables = addmargins(first_sorted_tables)\n",
    "\n",
    "    # start placing tables\n",
    "    while (current_capacity <= min_capacity) and i < len(sorted_tables):\n",
    "        # there is space to fit the table into the current \"row\"\n",
    "        if (x + sorted_tables[i]['width'] <= x_bound) and (y + sorted_tables[i]['height'] <= y_bound):\n",
    "            # add to solution list\n",
    "            table = {}\n",
    "            table['width'] = sorted_tables[i]['width']\n",
    "            table['height'] = sorted_tables[i]['height']\n",
    "            table['x_coord'] = x\n",
    "            table['y_coord'] = y\n",
    "            table['capacity'] = sorted_tables[i]['capacity']\n",
    "            \n",
    "            # keep track of position in sorted_list for simulated annealing later on\n",
    "            table['original_index'] = i\n",
    "            solution_list.append(table)\n",
    "\n",
    "            # set leftmost table if it has never been set yet\n",
    "            if not leftmost:\n",
    "                leftmost = table\n",
    "\n",
    "            # update current position in row\n",
    "            x += table['width']\n",
    "\n",
    "            # update current capacity\n",
    "            current_capacity += table['capacity']\n",
    "\n",
    "            # examine next table\n",
    "            i += 1\n",
    "        # no more space on current row, look to build a new row on top of current row starting at left edge\n",
    "        elif (leftmost and (y + leftmost['height'] + sorted_tables[i]['height'] <= y_bound)):\n",
    "            # add to solution list\n",
    "            table = {}\n",
    "            table['width'] = sorted_tables[i]['width']\n",
    "            table['height'] = sorted_tables[i]['height']\n",
    "            table['x_coord'] = 0\n",
    "            table['y_coord'] = y + leftmost['height']\n",
    "            table['capacity'] = sorted_tables[i]['capacity']\n",
    "            \n",
    "            # keep track of position in sorted_list for simulated annealing later on\n",
    "            table['original_index'] = i\n",
    "            solution_list.append(table)\n",
    "\n",
    "            # update current x and y position\n",
    "            x = table['width']\n",
    "            y = y + leftmost['height']\n",
    "\n",
    "            # update leftmost table to this one\n",
    "            leftmost = table\n",
    "\n",
    "            # update current capacity\n",
    "            current_capacity += table['capacity']\n",
    "\n",
    "            # examine next table\n",
    "            i += 1\n",
    "        # cannot place this table in any direction, check next table\n",
    "        else:\n",
    "            i += 1\n",
    "    \n",
    "    constructed_heuristic = {}\n",
    "    constructed_heuristic['solution_list'] = solution_list\n",
    "    constructed_heuristic['original_list'] = sorted_tables\n",
    "    constructed_heuristic['original_instance'] = instance\n",
    "    constructed_heuristic['current_capacity'] = current_capacity\n",
    "    constructed_heuristic['instance_max_capacity'] = max_capacity\n",
    "    constructed_heuristic['instance_min_capacity'] = min_capacity\n",
    "    \n",
    "    return constructed_heuristic"
   ]
  },
  {
   "cell_type": "markdown",
   "metadata": {},
   "source": [
    "## Wrap visualization capabilities in a function"
   ]
  },
  {
   "cell_type": "code",
   "execution_count": 14,
   "metadata": {},
   "outputs": [],
   "source": [
    "def visualize_solution(solution_list, original_instance):\n",
    "    xCoordPlot = []\n",
    "    yCoordPlot = []\n",
    "    x_bound = original_instance['width']\n",
    "    y_bound = original_instance['height']\n",
    "    for table in solution_list:\n",
    "        #top border\n",
    "        xCoordPlot.append(0)\n",
    "        xCoordPlot.append(x_bound)\n",
    "        yCoordPlot.append(y_bound)\n",
    "        yCoordPlot.append(y_bound)\n",
    "        xCoordPlot.append(\"none\")\n",
    "        yCoordPlot.append(\"none\")\n",
    "\n",
    "        #right border\n",
    "        xCoordPlot.append(x_bound)\n",
    "        xCoordPlot.append(x_bound)\n",
    "        yCoordPlot.append(0)\n",
    "        yCoordPlot.append(y_bound)\n",
    "        xCoordPlot.append(\"none\")\n",
    "        yCoordPlot.append(\"none\")\n",
    "        #x\n",
    "        xCoordPlot.append(table['x_coord'])\n",
    "        xCoordPlot.append(table['x_coord'])\n",
    "        xCoordPlot.append(table['x_coord'] + table['width'])\n",
    "        xCoordPlot.append(table['x_coord'] + table['width'])\n",
    "        xCoordPlot.append(table['x_coord'])\n",
    "        xCoordPlot.append(\"none\")\n",
    "        #y\n",
    "        yCoordPlot.append(table['y_coord'])\n",
    "        yCoordPlot.append(table['y_coord'] + table['height'])\n",
    "        yCoordPlot.append(table['y_coord'] + table['height'])\n",
    "        yCoordPlot.append(table['y_coord'])\n",
    "        yCoordPlot.append(table['y_coord'])\n",
    "        yCoordPlot.append(\"none\")\n",
    "    fig = go.Figure(go.Scatter(x=xCoordPlot, y=yCoordPlot, fill=\"toself\"))\n",
    "    fig.show()\n",
    "    return fig"
   ]
  },
  {
   "cell_type": "markdown",
   "metadata": {},
   "source": [
    "## Solve imported new_instances created for assignment 3"
   ]
  },
  {
   "cell_type": "code",
   "execution_count": 15,
   "metadata": {},
   "outputs": [
    {
     "data": {
      "application/vnd.plotly.v1+json": {
       "config": {
        "plotlyServerURL": "https://plot.ly"
       },
       "data": [
        {
         "fill": "toself",
         "type": "scatter",
         "x": [
          0,
          7,
          "none",
          7,
          7,
          "none",
          0,
          0,
          5,
          5,
          0,
          "none",
          0,
          7,
          "none",
          7,
          7,
          "none",
          0,
          0,
          6,
          6,
          0,
          "none"
         ],
         "y": [
          12,
          12,
          "none",
          0,
          12,
          "none",
          0,
          6,
          6,
          0,
          0,
          "none",
          12,
          12,
          "none",
          0,
          12,
          "none",
          6,
          11,
          11,
          6,
          6,
          "none"
         ]
        }
       ],
       "layout": {
        "template": {
         "data": {
          "bar": [
           {
            "error_x": {
             "color": "#2a3f5f"
            },
            "error_y": {
             "color": "#2a3f5f"
            },
            "marker": {
             "line": {
              "color": "#E5ECF6",
              "width": 0.5
             }
            },
            "type": "bar"
           }
          ],
          "barpolar": [
           {
            "marker": {
             "line": {
              "color": "#E5ECF6",
              "width": 0.5
             }
            },
            "type": "barpolar"
           }
          ],
          "carpet": [
           {
            "aaxis": {
             "endlinecolor": "#2a3f5f",
             "gridcolor": "white",
             "linecolor": "white",
             "minorgridcolor": "white",
             "startlinecolor": "#2a3f5f"
            },
            "baxis": {
             "endlinecolor": "#2a3f5f",
             "gridcolor": "white",
             "linecolor": "white",
             "minorgridcolor": "white",
             "startlinecolor": "#2a3f5f"
            },
            "type": "carpet"
           }
          ],
          "choropleth": [
           {
            "colorbar": {
             "outlinewidth": 0,
             "ticks": ""
            },
            "type": "choropleth"
           }
          ],
          "contour": [
           {
            "colorbar": {
             "outlinewidth": 0,
             "ticks": ""
            },
            "colorscale": [
             [
              0,
              "#0d0887"
             ],
             [
              0.1111111111111111,
              "#46039f"
             ],
             [
              0.2222222222222222,
              "#7201a8"
             ],
             [
              0.3333333333333333,
              "#9c179e"
             ],
             [
              0.4444444444444444,
              "#bd3786"
             ],
             [
              0.5555555555555556,
              "#d8576b"
             ],
             [
              0.6666666666666666,
              "#ed7953"
             ],
             [
              0.7777777777777778,
              "#fb9f3a"
             ],
             [
              0.8888888888888888,
              "#fdca26"
             ],
             [
              1,
              "#f0f921"
             ]
            ],
            "type": "contour"
           }
          ],
          "contourcarpet": [
           {
            "colorbar": {
             "outlinewidth": 0,
             "ticks": ""
            },
            "type": "contourcarpet"
           }
          ],
          "heatmap": [
           {
            "colorbar": {
             "outlinewidth": 0,
             "ticks": ""
            },
            "colorscale": [
             [
              0,
              "#0d0887"
             ],
             [
              0.1111111111111111,
              "#46039f"
             ],
             [
              0.2222222222222222,
              "#7201a8"
             ],
             [
              0.3333333333333333,
              "#9c179e"
             ],
             [
              0.4444444444444444,
              "#bd3786"
             ],
             [
              0.5555555555555556,
              "#d8576b"
             ],
             [
              0.6666666666666666,
              "#ed7953"
             ],
             [
              0.7777777777777778,
              "#fb9f3a"
             ],
             [
              0.8888888888888888,
              "#fdca26"
             ],
             [
              1,
              "#f0f921"
             ]
            ],
            "type": "heatmap"
           }
          ],
          "heatmapgl": [
           {
            "colorbar": {
             "outlinewidth": 0,
             "ticks": ""
            },
            "colorscale": [
             [
              0,
              "#0d0887"
             ],
             [
              0.1111111111111111,
              "#46039f"
             ],
             [
              0.2222222222222222,
              "#7201a8"
             ],
             [
              0.3333333333333333,
              "#9c179e"
             ],
             [
              0.4444444444444444,
              "#bd3786"
             ],
             [
              0.5555555555555556,
              "#d8576b"
             ],
             [
              0.6666666666666666,
              "#ed7953"
             ],
             [
              0.7777777777777778,
              "#fb9f3a"
             ],
             [
              0.8888888888888888,
              "#fdca26"
             ],
             [
              1,
              "#f0f921"
             ]
            ],
            "type": "heatmapgl"
           }
          ],
          "histogram": [
           {
            "marker": {
             "colorbar": {
              "outlinewidth": 0,
              "ticks": ""
             }
            },
            "type": "histogram"
           }
          ],
          "histogram2d": [
           {
            "colorbar": {
             "outlinewidth": 0,
             "ticks": ""
            },
            "colorscale": [
             [
              0,
              "#0d0887"
             ],
             [
              0.1111111111111111,
              "#46039f"
             ],
             [
              0.2222222222222222,
              "#7201a8"
             ],
             [
              0.3333333333333333,
              "#9c179e"
             ],
             [
              0.4444444444444444,
              "#bd3786"
             ],
             [
              0.5555555555555556,
              "#d8576b"
             ],
             [
              0.6666666666666666,
              "#ed7953"
             ],
             [
              0.7777777777777778,
              "#fb9f3a"
             ],
             [
              0.8888888888888888,
              "#fdca26"
             ],
             [
              1,
              "#f0f921"
             ]
            ],
            "type": "histogram2d"
           }
          ],
          "histogram2dcontour": [
           {
            "colorbar": {
             "outlinewidth": 0,
             "ticks": ""
            },
            "colorscale": [
             [
              0,
              "#0d0887"
             ],
             [
              0.1111111111111111,
              "#46039f"
             ],
             [
              0.2222222222222222,
              "#7201a8"
             ],
             [
              0.3333333333333333,
              "#9c179e"
             ],
             [
              0.4444444444444444,
              "#bd3786"
             ],
             [
              0.5555555555555556,
              "#d8576b"
             ],
             [
              0.6666666666666666,
              "#ed7953"
             ],
             [
              0.7777777777777778,
              "#fb9f3a"
             ],
             [
              0.8888888888888888,
              "#fdca26"
             ],
             [
              1,
              "#f0f921"
             ]
            ],
            "type": "histogram2dcontour"
           }
          ],
          "mesh3d": [
           {
            "colorbar": {
             "outlinewidth": 0,
             "ticks": ""
            },
            "type": "mesh3d"
           }
          ],
          "parcoords": [
           {
            "line": {
             "colorbar": {
              "outlinewidth": 0,
              "ticks": ""
             }
            },
            "type": "parcoords"
           }
          ],
          "pie": [
           {
            "automargin": true,
            "type": "pie"
           }
          ],
          "scatter": [
           {
            "marker": {
             "colorbar": {
              "outlinewidth": 0,
              "ticks": ""
             }
            },
            "type": "scatter"
           }
          ],
          "scatter3d": [
           {
            "line": {
             "colorbar": {
              "outlinewidth": 0,
              "ticks": ""
             }
            },
            "marker": {
             "colorbar": {
              "outlinewidth": 0,
              "ticks": ""
             }
            },
            "type": "scatter3d"
           }
          ],
          "scattercarpet": [
           {
            "marker": {
             "colorbar": {
              "outlinewidth": 0,
              "ticks": ""
             }
            },
            "type": "scattercarpet"
           }
          ],
          "scattergeo": [
           {
            "marker": {
             "colorbar": {
              "outlinewidth": 0,
              "ticks": ""
             }
            },
            "type": "scattergeo"
           }
          ],
          "scattergl": [
           {
            "marker": {
             "colorbar": {
              "outlinewidth": 0,
              "ticks": ""
             }
            },
            "type": "scattergl"
           }
          ],
          "scattermapbox": [
           {
            "marker": {
             "colorbar": {
              "outlinewidth": 0,
              "ticks": ""
             }
            },
            "type": "scattermapbox"
           }
          ],
          "scatterpolar": [
           {
            "marker": {
             "colorbar": {
              "outlinewidth": 0,
              "ticks": ""
             }
            },
            "type": "scatterpolar"
           }
          ],
          "scatterpolargl": [
           {
            "marker": {
             "colorbar": {
              "outlinewidth": 0,
              "ticks": ""
             }
            },
            "type": "scatterpolargl"
           }
          ],
          "scatterternary": [
           {
            "marker": {
             "colorbar": {
              "outlinewidth": 0,
              "ticks": ""
             }
            },
            "type": "scatterternary"
           }
          ],
          "surface": [
           {
            "colorbar": {
             "outlinewidth": 0,
             "ticks": ""
            },
            "colorscale": [
             [
              0,
              "#0d0887"
             ],
             [
              0.1111111111111111,
              "#46039f"
             ],
             [
              0.2222222222222222,
              "#7201a8"
             ],
             [
              0.3333333333333333,
              "#9c179e"
             ],
             [
              0.4444444444444444,
              "#bd3786"
             ],
             [
              0.5555555555555556,
              "#d8576b"
             ],
             [
              0.6666666666666666,
              "#ed7953"
             ],
             [
              0.7777777777777778,
              "#fb9f3a"
             ],
             [
              0.8888888888888888,
              "#fdca26"
             ],
             [
              1,
              "#f0f921"
             ]
            ],
            "type": "surface"
           }
          ],
          "table": [
           {
            "cells": {
             "fill": {
              "color": "#EBF0F8"
             },
             "line": {
              "color": "white"
             }
            },
            "header": {
             "fill": {
              "color": "#C8D4E3"
             },
             "line": {
              "color": "white"
             }
            },
            "type": "table"
           }
          ]
         },
         "layout": {
          "annotationdefaults": {
           "arrowcolor": "#2a3f5f",
           "arrowhead": 0,
           "arrowwidth": 1
          },
          "coloraxis": {
           "colorbar": {
            "outlinewidth": 0,
            "ticks": ""
           }
          },
          "colorscale": {
           "diverging": [
            [
             0,
             "#8e0152"
            ],
            [
             0.1,
             "#c51b7d"
            ],
            [
             0.2,
             "#de77ae"
            ],
            [
             0.3,
             "#f1b6da"
            ],
            [
             0.4,
             "#fde0ef"
            ],
            [
             0.5,
             "#f7f7f7"
            ],
            [
             0.6,
             "#e6f5d0"
            ],
            [
             0.7,
             "#b8e186"
            ],
            [
             0.8,
             "#7fbc41"
            ],
            [
             0.9,
             "#4d9221"
            ],
            [
             1,
             "#276419"
            ]
           ],
           "sequential": [
            [
             0,
             "#0d0887"
            ],
            [
             0.1111111111111111,
             "#46039f"
            ],
            [
             0.2222222222222222,
             "#7201a8"
            ],
            [
             0.3333333333333333,
             "#9c179e"
            ],
            [
             0.4444444444444444,
             "#bd3786"
            ],
            [
             0.5555555555555556,
             "#d8576b"
            ],
            [
             0.6666666666666666,
             "#ed7953"
            ],
            [
             0.7777777777777778,
             "#fb9f3a"
            ],
            [
             0.8888888888888888,
             "#fdca26"
            ],
            [
             1,
             "#f0f921"
            ]
           ],
           "sequentialminus": [
            [
             0,
             "#0d0887"
            ],
            [
             0.1111111111111111,
             "#46039f"
            ],
            [
             0.2222222222222222,
             "#7201a8"
            ],
            [
             0.3333333333333333,
             "#9c179e"
            ],
            [
             0.4444444444444444,
             "#bd3786"
            ],
            [
             0.5555555555555556,
             "#d8576b"
            ],
            [
             0.6666666666666666,
             "#ed7953"
            ],
            [
             0.7777777777777778,
             "#fb9f3a"
            ],
            [
             0.8888888888888888,
             "#fdca26"
            ],
            [
             1,
             "#f0f921"
            ]
           ]
          },
          "colorway": [
           "#636efa",
           "#EF553B",
           "#00cc96",
           "#ab63fa",
           "#FFA15A",
           "#19d3f3",
           "#FF6692",
           "#B6E880",
           "#FF97FF",
           "#FECB52"
          ],
          "font": {
           "color": "#2a3f5f"
          },
          "geo": {
           "bgcolor": "white",
           "lakecolor": "white",
           "landcolor": "#E5ECF6",
           "showlakes": true,
           "showland": true,
           "subunitcolor": "white"
          },
          "hoverlabel": {
           "align": "left"
          },
          "hovermode": "closest",
          "mapbox": {
           "style": "light"
          },
          "paper_bgcolor": "white",
          "plot_bgcolor": "#E5ECF6",
          "polar": {
           "angularaxis": {
            "gridcolor": "white",
            "linecolor": "white",
            "ticks": ""
           },
           "bgcolor": "#E5ECF6",
           "radialaxis": {
            "gridcolor": "white",
            "linecolor": "white",
            "ticks": ""
           }
          },
          "scene": {
           "xaxis": {
            "backgroundcolor": "#E5ECF6",
            "gridcolor": "white",
            "gridwidth": 2,
            "linecolor": "white",
            "showbackground": true,
            "ticks": "",
            "zerolinecolor": "white"
           },
           "yaxis": {
            "backgroundcolor": "#E5ECF6",
            "gridcolor": "white",
            "gridwidth": 2,
            "linecolor": "white",
            "showbackground": true,
            "ticks": "",
            "zerolinecolor": "white"
           },
           "zaxis": {
            "backgroundcolor": "#E5ECF6",
            "gridcolor": "white",
            "gridwidth": 2,
            "linecolor": "white",
            "showbackground": true,
            "ticks": "",
            "zerolinecolor": "white"
           }
          },
          "shapedefaults": {
           "line": {
            "color": "#2a3f5f"
           }
          },
          "ternary": {
           "aaxis": {
            "gridcolor": "white",
            "linecolor": "white",
            "ticks": ""
           },
           "baxis": {
            "gridcolor": "white",
            "linecolor": "white",
            "ticks": ""
           },
           "bgcolor": "#E5ECF6",
           "caxis": {
            "gridcolor": "white",
            "linecolor": "white",
            "ticks": ""
           }
          },
          "title": {
           "x": 0.05
          },
          "xaxis": {
           "automargin": true,
           "gridcolor": "white",
           "linecolor": "white",
           "ticks": "",
           "title": {
            "standoff": 15
           },
           "zerolinecolor": "white",
           "zerolinewidth": 2
          },
          "yaxis": {
           "automargin": true,
           "gridcolor": "white",
           "linecolor": "white",
           "ticks": "",
           "title": {
            "standoff": 15
           },
           "zerolinecolor": "white",
           "zerolinewidth": 2
          }
         }
        }
       }
      },
      "text/html": [
       "<div>                            <div id=\"d13157de-89fc-4775-899e-659ce4204889\" class=\"plotly-graph-div\" style=\"height:525px; width:100%;\"></div>            <script type=\"text/javascript\">                require([\"plotly\"], function(Plotly) {                    window.PLOTLYENV=window.PLOTLYENV || {};                                    if (document.getElementById(\"d13157de-89fc-4775-899e-659ce4204889\")) {                    Plotly.newPlot(                        \"d13157de-89fc-4775-899e-659ce4204889\",                        [{\"fill\": \"toself\", \"type\": \"scatter\", \"x\": [0, 7, \"none\", 7, 7, \"none\", 0, 0, 5, 5, 0, \"none\", 0, 7, \"none\", 7, 7, \"none\", 0, 0, 6, 6, 0, \"none\"], \"y\": [12, 12, \"none\", 0, 12, \"none\", 0, 6, 6, 0, 0, \"none\", 12, 12, \"none\", 0, 12, \"none\", 6, 11, 11, 6, 6, \"none\"]}],                        {\"template\": {\"data\": {\"bar\": [{\"error_x\": {\"color\": \"#2a3f5f\"}, \"error_y\": {\"color\": \"#2a3f5f\"}, \"marker\": {\"line\": {\"color\": \"#E5ECF6\", \"width\": 0.5}}, \"type\": \"bar\"}], \"barpolar\": [{\"marker\": {\"line\": {\"color\": \"#E5ECF6\", \"width\": 0.5}}, \"type\": \"barpolar\"}], \"carpet\": [{\"aaxis\": {\"endlinecolor\": \"#2a3f5f\", \"gridcolor\": \"white\", \"linecolor\": \"white\", \"minorgridcolor\": \"white\", \"startlinecolor\": \"#2a3f5f\"}, \"baxis\": {\"endlinecolor\": \"#2a3f5f\", \"gridcolor\": \"white\", \"linecolor\": \"white\", \"minorgridcolor\": \"white\", \"startlinecolor\": \"#2a3f5f\"}, \"type\": \"carpet\"}], \"choropleth\": [{\"colorbar\": {\"outlinewidth\": 0, \"ticks\": \"\"}, \"type\": \"choropleth\"}], \"contour\": [{\"colorbar\": {\"outlinewidth\": 0, \"ticks\": \"\"}, \"colorscale\": [[0.0, \"#0d0887\"], [0.1111111111111111, \"#46039f\"], [0.2222222222222222, \"#7201a8\"], [0.3333333333333333, \"#9c179e\"], [0.4444444444444444, \"#bd3786\"], [0.5555555555555556, \"#d8576b\"], [0.6666666666666666, \"#ed7953\"], [0.7777777777777778, \"#fb9f3a\"], [0.8888888888888888, \"#fdca26\"], [1.0, \"#f0f921\"]], \"type\": \"contour\"}], \"contourcarpet\": [{\"colorbar\": {\"outlinewidth\": 0, \"ticks\": \"\"}, \"type\": \"contourcarpet\"}], \"heatmap\": [{\"colorbar\": {\"outlinewidth\": 0, \"ticks\": \"\"}, \"colorscale\": [[0.0, \"#0d0887\"], [0.1111111111111111, \"#46039f\"], [0.2222222222222222, \"#7201a8\"], [0.3333333333333333, \"#9c179e\"], [0.4444444444444444, \"#bd3786\"], [0.5555555555555556, \"#d8576b\"], [0.6666666666666666, \"#ed7953\"], [0.7777777777777778, \"#fb9f3a\"], [0.8888888888888888, \"#fdca26\"], [1.0, \"#f0f921\"]], \"type\": \"heatmap\"}], \"heatmapgl\": [{\"colorbar\": {\"outlinewidth\": 0, \"ticks\": \"\"}, \"colorscale\": [[0.0, \"#0d0887\"], [0.1111111111111111, \"#46039f\"], [0.2222222222222222, \"#7201a8\"], [0.3333333333333333, \"#9c179e\"], [0.4444444444444444, \"#bd3786\"], [0.5555555555555556, \"#d8576b\"], [0.6666666666666666, \"#ed7953\"], [0.7777777777777778, \"#fb9f3a\"], [0.8888888888888888, \"#fdca26\"], [1.0, \"#f0f921\"]], \"type\": \"heatmapgl\"}], \"histogram\": [{\"marker\": {\"colorbar\": {\"outlinewidth\": 0, \"ticks\": \"\"}}, \"type\": \"histogram\"}], \"histogram2d\": [{\"colorbar\": {\"outlinewidth\": 0, \"ticks\": \"\"}, \"colorscale\": [[0.0, \"#0d0887\"], [0.1111111111111111, \"#46039f\"], [0.2222222222222222, \"#7201a8\"], [0.3333333333333333, \"#9c179e\"], [0.4444444444444444, \"#bd3786\"], [0.5555555555555556, \"#d8576b\"], [0.6666666666666666, \"#ed7953\"], [0.7777777777777778, \"#fb9f3a\"], [0.8888888888888888, \"#fdca26\"], [1.0, \"#f0f921\"]], \"type\": \"histogram2d\"}], \"histogram2dcontour\": [{\"colorbar\": {\"outlinewidth\": 0, \"ticks\": \"\"}, \"colorscale\": [[0.0, \"#0d0887\"], [0.1111111111111111, \"#46039f\"], [0.2222222222222222, \"#7201a8\"], [0.3333333333333333, \"#9c179e\"], [0.4444444444444444, \"#bd3786\"], [0.5555555555555556, \"#d8576b\"], [0.6666666666666666, \"#ed7953\"], [0.7777777777777778, \"#fb9f3a\"], [0.8888888888888888, \"#fdca26\"], [1.0, \"#f0f921\"]], \"type\": \"histogram2dcontour\"}], \"mesh3d\": [{\"colorbar\": {\"outlinewidth\": 0, \"ticks\": \"\"}, \"type\": \"mesh3d\"}], \"parcoords\": [{\"line\": {\"colorbar\": {\"outlinewidth\": 0, \"ticks\": \"\"}}, \"type\": \"parcoords\"}], \"pie\": [{\"automargin\": true, \"type\": \"pie\"}], \"scatter\": [{\"marker\": {\"colorbar\": {\"outlinewidth\": 0, \"ticks\": \"\"}}, \"type\": \"scatter\"}], \"scatter3d\": [{\"line\": {\"colorbar\": {\"outlinewidth\": 0, \"ticks\": \"\"}}, \"marker\": {\"colorbar\": {\"outlinewidth\": 0, \"ticks\": \"\"}}, \"type\": \"scatter3d\"}], \"scattercarpet\": [{\"marker\": {\"colorbar\": {\"outlinewidth\": 0, \"ticks\": \"\"}}, \"type\": \"scattercarpet\"}], \"scattergeo\": [{\"marker\": {\"colorbar\": {\"outlinewidth\": 0, \"ticks\": \"\"}}, \"type\": \"scattergeo\"}], \"scattergl\": [{\"marker\": {\"colorbar\": {\"outlinewidth\": 0, \"ticks\": \"\"}}, \"type\": \"scattergl\"}], \"scattermapbox\": [{\"marker\": {\"colorbar\": {\"outlinewidth\": 0, \"ticks\": \"\"}}, \"type\": \"scattermapbox\"}], \"scatterpolar\": [{\"marker\": {\"colorbar\": {\"outlinewidth\": 0, \"ticks\": \"\"}}, \"type\": \"scatterpolar\"}], \"scatterpolargl\": [{\"marker\": {\"colorbar\": {\"outlinewidth\": 0, \"ticks\": \"\"}}, \"type\": \"scatterpolargl\"}], \"scatterternary\": [{\"marker\": {\"colorbar\": {\"outlinewidth\": 0, \"ticks\": \"\"}}, \"type\": \"scatterternary\"}], \"surface\": [{\"colorbar\": {\"outlinewidth\": 0, \"ticks\": \"\"}, \"colorscale\": [[0.0, \"#0d0887\"], [0.1111111111111111, \"#46039f\"], [0.2222222222222222, \"#7201a8\"], [0.3333333333333333, \"#9c179e\"], [0.4444444444444444, \"#bd3786\"], [0.5555555555555556, \"#d8576b\"], [0.6666666666666666, \"#ed7953\"], [0.7777777777777778, \"#fb9f3a\"], [0.8888888888888888, \"#fdca26\"], [1.0, \"#f0f921\"]], \"type\": \"surface\"}], \"table\": [{\"cells\": {\"fill\": {\"color\": \"#EBF0F8\"}, \"line\": {\"color\": \"white\"}}, \"header\": {\"fill\": {\"color\": \"#C8D4E3\"}, \"line\": {\"color\": \"white\"}}, \"type\": \"table\"}]}, \"layout\": {\"annotationdefaults\": {\"arrowcolor\": \"#2a3f5f\", \"arrowhead\": 0, \"arrowwidth\": 1}, \"coloraxis\": {\"colorbar\": {\"outlinewidth\": 0, \"ticks\": \"\"}}, \"colorscale\": {\"diverging\": [[0, \"#8e0152\"], [0.1, \"#c51b7d\"], [0.2, \"#de77ae\"], [0.3, \"#f1b6da\"], [0.4, \"#fde0ef\"], [0.5, \"#f7f7f7\"], [0.6, \"#e6f5d0\"], [0.7, \"#b8e186\"], [0.8, \"#7fbc41\"], [0.9, \"#4d9221\"], [1, \"#276419\"]], \"sequential\": [[0.0, \"#0d0887\"], [0.1111111111111111, \"#46039f\"], [0.2222222222222222, \"#7201a8\"], [0.3333333333333333, \"#9c179e\"], [0.4444444444444444, \"#bd3786\"], [0.5555555555555556, \"#d8576b\"], [0.6666666666666666, \"#ed7953\"], [0.7777777777777778, \"#fb9f3a\"], [0.8888888888888888, \"#fdca26\"], [1.0, \"#f0f921\"]], \"sequentialminus\": [[0.0, \"#0d0887\"], [0.1111111111111111, \"#46039f\"], [0.2222222222222222, \"#7201a8\"], [0.3333333333333333, \"#9c179e\"], [0.4444444444444444, \"#bd3786\"], [0.5555555555555556, \"#d8576b\"], [0.6666666666666666, \"#ed7953\"], [0.7777777777777778, \"#fb9f3a\"], [0.8888888888888888, \"#fdca26\"], [1.0, \"#f0f921\"]]}, \"colorway\": [\"#636efa\", \"#EF553B\", \"#00cc96\", \"#ab63fa\", \"#FFA15A\", \"#19d3f3\", \"#FF6692\", \"#B6E880\", \"#FF97FF\", \"#FECB52\"], \"font\": {\"color\": \"#2a3f5f\"}, \"geo\": {\"bgcolor\": \"white\", \"lakecolor\": \"white\", \"landcolor\": \"#E5ECF6\", \"showlakes\": true, \"showland\": true, \"subunitcolor\": \"white\"}, \"hoverlabel\": {\"align\": \"left\"}, \"hovermode\": \"closest\", \"mapbox\": {\"style\": \"light\"}, \"paper_bgcolor\": \"white\", \"plot_bgcolor\": \"#E5ECF6\", \"polar\": {\"angularaxis\": {\"gridcolor\": \"white\", \"linecolor\": \"white\", \"ticks\": \"\"}, \"bgcolor\": \"#E5ECF6\", \"radialaxis\": {\"gridcolor\": \"white\", \"linecolor\": \"white\", \"ticks\": \"\"}}, \"scene\": {\"xaxis\": {\"backgroundcolor\": \"#E5ECF6\", \"gridcolor\": \"white\", \"gridwidth\": 2, \"linecolor\": \"white\", \"showbackground\": true, \"ticks\": \"\", \"zerolinecolor\": \"white\"}, \"yaxis\": {\"backgroundcolor\": \"#E5ECF6\", \"gridcolor\": \"white\", \"gridwidth\": 2, \"linecolor\": \"white\", \"showbackground\": true, \"ticks\": \"\", \"zerolinecolor\": \"white\"}, \"zaxis\": {\"backgroundcolor\": \"#E5ECF6\", \"gridcolor\": \"white\", \"gridwidth\": 2, \"linecolor\": \"white\", \"showbackground\": true, \"ticks\": \"\", \"zerolinecolor\": \"white\"}}, \"shapedefaults\": {\"line\": {\"color\": \"#2a3f5f\"}}, \"ternary\": {\"aaxis\": {\"gridcolor\": \"white\", \"linecolor\": \"white\", \"ticks\": \"\"}, \"baxis\": {\"gridcolor\": \"white\", \"linecolor\": \"white\", \"ticks\": \"\"}, \"bgcolor\": \"#E5ECF6\", \"caxis\": {\"gridcolor\": \"white\", \"linecolor\": \"white\", \"ticks\": \"\"}}, \"title\": {\"x\": 0.05}, \"xaxis\": {\"automargin\": true, \"gridcolor\": \"white\", \"linecolor\": \"white\", \"ticks\": \"\", \"title\": {\"standoff\": 15}, \"zerolinecolor\": \"white\", \"zerolinewidth\": 2}, \"yaxis\": {\"automargin\": true, \"gridcolor\": \"white\", \"linecolor\": \"white\", \"ticks\": \"\", \"title\": {\"standoff\": 15}, \"zerolinecolor\": \"white\", \"zerolinewidth\": 2}}}},                        {\"responsive\": true}                    ).then(function(){\n",
       "                            \n",
       "var gd = document.getElementById('d13157de-89fc-4775-899e-659ce4204889');\n",
       "var x = new MutationObserver(function (mutations, observer) {{\n",
       "        var display = window.getComputedStyle(gd).display;\n",
       "        if (!display || display === 'none') {{\n",
       "            console.log([gd, 'removed!']);\n",
       "            Plotly.purge(gd);\n",
       "            observer.disconnect();\n",
       "        }}\n",
       "}});\n",
       "\n",
       "// Listen for the removal of the full notebook cells\n",
       "var notebookContainer = gd.closest('#notebook-container');\n",
       "if (notebookContainer) {{\n",
       "    x.observe(notebookContainer, {childList: true});\n",
       "}}\n",
       "\n",
       "// Listen for the clearing of the current output cell\n",
       "var outputEl = gd.closest('.output');\n",
       "if (outputEl) {{\n",
       "    x.observe(outputEl, {childList: true});\n",
       "}}\n",
       "\n",
       "                        })                };                });            </script>        </div>"
      ]
     },
     "metadata": {},
     "output_type": "display_data"
    },
    {
     "data": {
      "application/vnd.plotly.v1+json": {
       "config": {
        "plotlyServerURL": "https://plot.ly"
       },
       "data": [
        {
         "fill": "toself",
         "type": "scatter",
         "x": [
          0,
          14,
          "none",
          14,
          14,
          "none",
          0,
          0,
          15,
          15,
          0,
          "none",
          0,
          14,
          "none",
          14,
          14,
          "none",
          5,
          5,
          11,
          11,
          5,
          "none",
          0,
          14,
          "none",
          14,
          14,
          "none",
          0,
          0,
          5,
          5,
          0,
          "none"
         ],
         "y": [
          12,
          12,
          "none",
          0,
          12,
          "none",
          0,
          6,
          6,
          0,
          0,
          "none",
          12,
          12,
          "none",
          0,
          12,
          "none",
          0,
          5,
          5,
          0,
          0,
          "none",
          12,
          12,
          "none",
          0,
          12,
          "none",
          6,
          11,
          11,
          6,
          6,
          "none"
         ]
        }
       ],
       "layout": {
        "template": {
         "data": {
          "bar": [
           {
            "error_x": {
             "color": "#2a3f5f"
            },
            "error_y": {
             "color": "#2a3f5f"
            },
            "marker": {
             "line": {
              "color": "#E5ECF6",
              "width": 0.5
             }
            },
            "type": "bar"
           }
          ],
          "barpolar": [
           {
          "none"
         ]
        }
       ],
       "layout": {
        "template": {
         "data": {
          "bar": [
           {
            "error_x": {
             "color": "#2a3f5f"
            },
            "error_y": {
             "color": "#2a3f5f"
            },
            "marker": {
             "line": {
              "color": "#E5ECF6",
              "width": 0.5
             }
            },
            "type": "bar"
           }
          ],
          "barpolar": [
           {
            "marker": {
             "line": {
              "color": "#E5ECF6",
              "width": 0.5
             }
            },
            "type": "barpolar"
           }
          ],
          "carpet": [
           {
            "aaxis": {
             "endlinecolor": "#2a3f5f",
             "gridcolor": "white",
             "linecolor": "white",
             "minorgridcolor": "white",
             "startlinecolor": "#2a3f5f"
            },
            "baxis": {
             "endlinecolor": "#2a3f5f",
             "gridcolor": "white",
             "linecolor": "white",
             "minorgridcolor": "white",
             "startlinecolor": "#2a3f5f"
            },
            "type": "carpet"
           }
          ],
          "choropleth": [
           {
            "colorbar": {
             "outlinewidth": 0,
             "ticks": ""
            },
            "type": "choropleth"
           }
          ],
          "contour": [
           {
            "colorbar": {
             "outlinewidth": 0,
             "ticks": ""
            },
            "colorscale": [
             [
              0,
              "#0d0887"
             ],
             [
              0.1111111111111111,
              "#46039f"
             ],
             [
              0.2222222222222222,
              "#7201a8"
             ],
             [
              0.3333333333333333,
              "#9c179e"
             ],
             [
              0.4444444444444444,
              "#bd3786"
             ],
             [
              0.5555555555555556,
              "#d8576b"
             ],
             [
              0.6666666666666666,
              "#ed7953"
             ],
             [
              0.7777777777777778,
              "#fb9f3a"
             ],
             [
              0.8888888888888888,
              "#fdca26"
             ],
             [
              1,
              "#f0f921"
             ]
            ],
            "type": "contour"
           }
          ],
          "contourcarpet": [
           {
            "colorbar": {
             "outlinewidth": 0,
             "ticks": ""
            },
            "type": "contourcarpet"
           }
          ],
          "heatmap": [
           {
            "colorbar": {
             "outlinewidth": 0,
             "ticks": ""
            },
            "colorscale": [
             [
              0,
              "#0d0887"
             ],
             [
              0.1111111111111111,
              "#46039f"
             ],
             [
              0.2222222222222222,
              "#7201a8"
             ],
             [
              0.3333333333333333,
              "#9c179e"
             ],
             [
              0.4444444444444444,
              "#bd3786"
             ],
             [
              0.5555555555555556,
              "#d8576b"
             ],
             [
              0.6666666666666666,
              "#ed7953"
             ],
             [
              0.7777777777777778,
              "#fb9f3a"
             ],
             [
              0.8888888888888888,
              "#fdca26"
             ],
             [
              1,
              "#f0f921"
             ]
            ],
            "type": "heatmap"
           }
          ],
          "heatmapgl": [
           {
            "colorbar": {
             "outlinewidth": 0,
             "ticks": ""
            },
            "colorscale": [
             [
              0,
              "#0d0887"
             ],
             [
              0.1111111111111111,
              "#46039f"
             ],
             [
              0.2222222222222222,
              "#7201a8"
             ],
             [
              0.3333333333333333,
              "#9c179e"
             ],
             [
              0.4444444444444444,
              "#bd3786"
             ],
             [
              0.5555555555555556,
              "#d8576b"
             ],
             [
              0.6666666666666666,
              "#ed7953"
             ],
             [
              0.7777777777777778,
              "#fb9f3a"
             ],
             [
              0.8888888888888888,
              "#fdca26"
             ],
             [
              1,
              "#f0f921"
             ]
            ],
            "type": "heatmapgl"
           }
          ],
          "histogram": [
           {
            "marker": {
             "colorbar": {
              "outlinewidth": 0,
              "ticks": ""
             }
            },
            "type": "histogram"
           }
          ],
          "histogram2d": [
           {
            "colorbar": {
             "outlinewidth": 0,
             "ticks": ""
            },
            "colorscale": [
             [
              0,
              "#0d0887"
             ],
             [
              0.1111111111111111,
              "#46039f"
             ],
             [
              0.2222222222222222,
              "#7201a8"
             ],
             [
              0.3333333333333333,
              "#9c179e"
             ],
             [
              0.4444444444444444,
              "#bd3786"
             ],
             [
              0.5555555555555556,
              "#d8576b"
             ],
             [
              0.6666666666666666,
              "#ed7953"
             ],
             [
              0.7777777777777778,
              "#fb9f3a"
             ],
             [
              0.8888888888888888,
              "#fdca26"
             ],
             [
              1,
              "#f0f921"
             ]
            ],
            "type": "histogram2d"
           }
          ],
          "histogram2dcontour": [
           {
            "colorbar": {
             "outlinewidth": 0,
             "ticks": ""
            },
            "colorscale": [
             [
              0,
              "#0d0887"
             ],
             [
              0.1111111111111111,
              "#46039f"
             ],
             [
              0.2222222222222222,
              "#7201a8"
             ],
             [
              0.3333333333333333,
              "#9c179e"
             ],
             [
              0.4444444444444444,
              "#bd3786"
             ],
             [
              0.5555555555555556,
              "#d8576b"
             ],
             [
              0.6666666666666666,
              "#ed7953"
             ],
             [
              0.7777777777777778,
              "#fb9f3a"
             ],
             [
              0.8888888888888888,
              "#fdca26"
             ],
             [
              1,
              "#f0f921"
             ]
            ],
            "type": "histogram2dcontour"
           }
          ],
          "mesh3d": [
           {
            "colorbar": {
             "outlinewidth": 0,
             "ticks": ""
            },
            "type": "mesh3d"
           }
          ],
          "parcoords": [
           {
            "line": {
             "colorbar": {
              "outlinewidth": 0,
              "ticks": ""
             }
            },
            "type": "parcoords"
           }
          ],
          "pie": [
           {
            "automargin": true,
            "type": "pie"
           }
          ],
          "scatter": [
           {
            "marker": {
             "colorbar": {
              "outlinewidth": 0,
              "ticks": ""
             }
            },
            "type": "scatter"
           }
          ],
          "scatter3d": [
           {
            "line": {
             "colorbar": {
              "outlinewidth": 0,
              "ticks": ""
             }
            },
            "marker": {
             "colorbar": {
              "outlinewidth": 0,
              "ticks": ""
             }
            },
            "type": "scatter3d"
           }
          ],
          "scattercarpet": [
           {
            "marker": {
             "colorbar": {
              "outlinewidth": 0,
              "ticks": ""
             }
            },
            "type": "scattercarpet"
           }
          ],
          "scattergeo": [
           {
            "marker": {
             "colorbar": {
              "outlinewidth": 0,
              "ticks": ""
             }
            },
            "type": "scattergeo"
           }
          ],
          "scattergl": [
           {
            "marker": {
             "colorbar": {
              "outlinewidth": 0,
              "ticks": ""
             }
            },
            "type": "scattergl"
           }
          ],
          "scattermapbox": [
           {
            "marker": {
             "colorbar": {
              "outlinewidth": 0,
              "ticks": ""
             }
            },
            "type": "scattermapbox"
           }
          ],
          "scatterpolar": [
           {
            "marker": {
             "colorbar": {
              "outlinewidth": 0,
              "ticks": ""
             }
            },
            "type": "scatterpolar"
           }
          ],
          "scatterpolargl": [
           {
            "marker": {
             "colorbar": {
              "outlinewidth": 0,
              "ticks": ""
             }
            },
            "type": "scatterpolargl"
           }
          ],
          "scatterternary": [
           {
            "marker": {
             "colorbar": {
              "outlinewidth": 0,
              "ticks": ""
             }
            },
            "type": "scatterternary"
           }
          ],
          "surface": [
           {
            "colorbar": {
             "outlinewidth": 0,
             "ticks": ""
            },
            "colorscale": [
             [
              0,
              "#0d0887"
             ],
             [
              0.1111111111111111,
              "#46039f"
             ],
             [
              0.2222222222222222,
              "#7201a8"
             ],
             [
              0.3333333333333333,
              "#9c179e"
             ],
             [
              0.4444444444444444,
              "#bd3786"
             ],
             [
              0.5555555555555556,
              "#d8576b"
             ],
             [
              0.6666666666666666,
              "#ed7953"
             ],
             [
              0.7777777777777778,
              "#fb9f3a"
             ],
             [
              0.8888888888888888,
              "#fdca26"
             ],
             [
              1,
              "#f0f921"
             ]
            ],
            "type": "surface"
           }
          ],
          "table": [
           {
            "cells": {
             "fill": {
              "color": "#EBF0F8"
             },
             "line": {
              "color": "white"
             }
            },
            "header": {
             "fill": {
              "color": "#C8D4E3"
             },
             "line": {
              "color": "white"
             }
            },
            "type": "table"
           }
          ]
         },
         "layout": {
          "annotationdefaults": {
           "arrowcolor": "#2a3f5f",
           "arrowhead": 0,
           "arrowwidth": 1
          },
          "coloraxis": {
           "colorbar": {
            "outlinewidth": 0,
            "ticks": ""
           }
          },
          "colorscale": {
           "diverging": [
            [
             0,
             "#8e0152"
            ],
            [
             0.1,
             "#c51b7d"
            ],
            [
             0.2,
             "#de77ae"
            ],
            [
             0.3,
             "#f1b6da"
            ],
            [
             0.4,
             "#fde0ef"
            ],
            [
             0.5,
             "#f7f7f7"
            ],
            [
             0.6,
             "#e6f5d0"
            ],
            [
             0.7,
             "#b8e186"
            ],
            [
             0.8,
             "#7fbc41"
            ],
            [
             0.9,
             "#4d9221"
            ],
            [
             1,
             "#276419"
            ]
           ],
           "sequential": [
            [
             0,
             "#0d0887"
            ],
            [
             0.1111111111111111,
             "#46039f"
            ],
            [
             0.2222222222222222,
             "#7201a8"
            ],
            [
             0.3333333333333333,
             "#9c179e"
            ],
            [
             0.4444444444444444,
             "#bd3786"
            ],
            [
             0.5555555555555556,
             "#d8576b"
            ],
            [
             0.6666666666666666,
             "#ed7953"
            ],
            [
             0.7777777777777778,
             "#fb9f3a"
            ],
            [
             0.8888888888888888,
             "#fdca26"
            ],
            [
             1,
             "#f0f921"
            ]
           ],
           "sequentialminus": [
            [
             0,
             "#0d0887"
            ],
            [
             0.1111111111111111,
             "#46039f"
            ],
            [
             0.2222222222222222,
             "#7201a8"
            ],
            [
             0.3333333333333333,
             "#9c179e"
            ],
            [
             0.4444444444444444,
             "#bd3786"
            ],
            [
             0.5555555555555556,
             "#d8576b"
            ],
            [
             0.6666666666666666,
             "#ed7953"
            ],
            [
             0.7777777777777778,
             "#fb9f3a"
            ],
            [
             0.8888888888888888,
             "#fdca26"
            ],
            [
             1,
             "#f0f921"
            ]
           ]
          },
          "colorway": [
           "#636efa",
           "#EF553B",
           "#00cc96",
           "#ab63fa",
           "#FFA15A",
           "#19d3f3",
           "#FF6692",
           "#B6E880",
           "#FF97FF",
           "#FECB52"
          ],
          "font": {
           "color": "#2a3f5f"
          },
          "geo": {
           "bgcolor": "white",
           "lakecolor": "white",
           "landcolor": "#E5ECF6",
           "showlakes": true,
           "showland": true,
           "subunitcolor": "white"
          },
          "hoverlabel": {
           "align": "left"
          },
          "hovermode": "closest",
          "mapbox": {
           "style": "light"
          },
          "paper_bgcolor": "white",
          "plot_bgcolor": "#E5ECF6",
          "polar": {
           "angularaxis": {
            "gridcolor": "white",
            "linecolor": "white",
            "ticks": ""
           },
           "bgcolor": "#E5ECF6",
           "radialaxis": {
            "gridcolor": "white",
            "linecolor": "white",
            "ticks": ""
           }
          },
          "scene": {
           "xaxis": {
            "backgroundcolor": "#E5ECF6",
            "gridcolor": "white",
            "gridwidth": 2,
            "linecolor": "white",
            "showbackground": true,
            "ticks": "",
            "zerolinecolor": "white"
           },
           "yaxis": {
            "backgroundcolor": "#E5ECF6",
            "gridcolor": "white",
            "gridwidth": 2,
            "linecolor": "white",
            "showbackground": true,
            "ticks": "",
            "zerolinecolor": "white"
           },
           "zaxis": {
            "backgroundcolor": "#E5ECF6",
            "gridcolor": "white",
            "gridwidth": 2,
            "linecolor": "white",
            "showbackground": true,
            "ticks": "",
            "zerolinecolor": "white"
           }
          },
          "shapedefaults": {
           "line": {
            "color": "#2a3f5f"
           }
          },
          "ternary": {
           "aaxis": {
            "gridcolor": "white",
            "linecolor": "white",
            "ticks": ""
           },
           "baxis": {
            "gridcolor": "white",
            "linecolor": "white",
            "ticks": ""
           },
           "bgcolor": "#E5ECF6",
           "caxis": {
            "gridcolor": "white",
            "linecolor": "white",
            "ticks": ""
           }
          },
          "title": {
           "x": 0.05
          },
          "xaxis": {
           "automargin": true,
           "gridcolor": "white",
           "linecolor": "white",
           "ticks": "",
           "title": {
            "standoff": 15
           },
           "zerolinecolor": "white",
           "zerolinewidth": 2
          },
          "yaxis": {
           "automargin": true,
           "gridcolor": "white",
           "linecolor": "white",
           "ticks": "",
           "title": {
            "standoff": 15
           },
           "zerolinecolor": "white",
           "zerolinewidth": 2
          }
         }
        }
       }
      },
      "text/html": [
       "<div>                            <div id=\"72f3a919-c4b8-4dc7-87b0-7faf6951b9cd\" class=\"plotly-graph-div\" style=\"height:525px; width:100%;\"></div>            <script type=\"text/javascript\">                require([\"plotly\"], function(Plotly) {                    window.PLOTLYENV=window.PLOTLYENV || {};                                    if (document.getElementById(\"72f3a919-c4b8-4dc7-87b0-7faf6951b9cd\")) {                    Plotly.newPlot(                        \"72f3a919-c4b8-4dc7-87b0-7faf6951b9cd\",                        [{\"fill\": \"toself\", \"type\": \"scatter\", \"x\": [0, 14, \"none\", 14, 14, \"none\", 0, 0, 5, 5, 0, \"none\", 0, 14, \"none\", 14, 14, \"none\", 5, 5, 11, 11, 5, \"none\", 0, 14, \"none\", 14, 14, \"none\", 0, 0, 5, 5, 0, \"none\"], \"y\": [12, 12, \"none\", 0, 12, \"none\", 0, 6, 6, 0, 0, \"none\", 12, 12, \"none\", 0, 12, \"none\", 0, 5, 5, 0, 0, \"none\", 12, 12, \"none\", 0, 12, \"none\", 6, 11, 11, 6, 6, \"none\"]}],                        {\"template\": {\"data\": {\"bar\": [{\"error_x\": {\"color\": \"#2a3f5f\"}, \"error_y\": {\"color\": \"#2a3f5f\"}, \"marker\": {\"line\": {\"color\": \"#E5ECF6\", \"width\": 0.5}}, \"type\": \"bar\"}], \"barpolar\": [{\"marker\": {\"line\": {\"color\": \"#E5ECF6\", \"width\": 0.5}}, \"type\": \"barpolar\"}], \"carpet\": [{\"aaxis\": {\"endlinecolor\": \"#2a3f5f\", \"gridcolor\": \"white\", \"linecolor\": \"white\", \"minorgridcolor\": \"white\", \"startlinecolor\": \"#2a3f5f\"}, \"baxis\": {\"endlinecolor\": \"#2a3f5f\", \"gridcolor\": \"white\", \"linecolor\": \"white\", \"minorgridcolor\": \"white\", \"startlinecolor\": \"#2a3f5f\"}, \"type\": \"carpet\"}], \"choropleth\": [{\"colorbar\": {\"outlinewidth\": 0, \"ticks\": \"\"}, \"type\": \"choropleth\"}], \"contour\": [{\"colorbar\": {\"outlinewidth\": 0, \"ticks\": \"\"}, \"colorscale\": [[0.0, \"#0d0887\"], [0.1111111111111111, \"#46039f\"], [0.2222222222222222, \"#7201a8\"], [0.3333333333333333, \"#9c179e\"], [0.4444444444444444, \"#bd3786\"], [0.5555555555555556, \"#d8576b\"], [0.6666666666666666, \"#ed7953\"], [0.7777777777777778, \"#fb9f3a\"], [0.8888888888888888, \"#fdca26\"], [1.0, \"#f0f921\"]], \"type\": \"contour\"}], \"contourcarpet\": [{\"colorbar\": {\"outlinewidth\": 0, \"ticks\": \"\"}, \"type\": \"contourcarpet\"}], \"heatmap\": [{\"colorbar\": {\"outlinewidth\": 0, \"ticks\": \"\"}, \"colorscale\": [[0.0, \"#0d0887\"], [0.1111111111111111, \"#46039f\"], [0.2222222222222222, \"#7201a8\"], [0.3333333333333333, \"#9c179e\"], [0.4444444444444444, \"#bd3786\"], [0.5555555555555556, \"#d8576b\"], [0.6666666666666666, \"#ed7953\"], [0.7777777777777778, \"#fb9f3a\"], [0.8888888888888888, \"#fdca26\"], [1.0, \"#f0f921\"]], \"type\": \"heatmap\"}], \"heatmapgl\": [{\"colorbar\": {\"outlinewidth\": 0, \"ticks\": \"\"}, \"colorscale\": [[0.0, \"#0d0887\"], [0.1111111111111111, \"#46039f\"], [0.2222222222222222, \"#7201a8\"], [0.3333333333333333, \"#9c179e\"], [0.4444444444444444, \"#bd3786\"], [0.5555555555555556, \"#d8576b\"], [0.6666666666666666, \"#ed7953\"], [0.7777777777777778, \"#fb9f3a\"], [0.8888888888888888, \"#fdca26\"], [1.0, \"#f0f921\"]], \"type\": \"heatmapgl\"}], \"histogram\": [{\"marker\": {\"colorbar\": {\"outlinewidth\": 0, \"ticks\": \"\"}}, \"type\": \"histogram\"}], \"histogram2d\": [{\"colorbar\": {\"outlinewidth\": 0, \"ticks\": \"\"}, \"colorscale\": [[0.0, \"#0d0887\"], [0.1111111111111111, \"#46039f\"], [0.2222222222222222, \"#7201a8\"], [0.3333333333333333, \"#9c179e\"], [0.4444444444444444, \"#bd3786\"], [0.5555555555555556, \"#d8576b\"], [0.6666666666666666, \"#ed7953\"], [0.7777777777777778, \"#fb9f3a\"], [0.8888888888888888, \"#fdca26\"], [1.0, \"#f0f921\"]], \"type\": \"histogram2d\"}], \"histogram2dcontour\": [{\"colorbar\": {\"outlinewidth\": 0, \"ticks\": \"\"}, \"colorscale\": [[0.0, \"#0d0887\"], [0.1111111111111111, \"#46039f\"], [0.2222222222222222, \"#7201a8\"], [0.3333333333333333, \"#9c179e\"], [0.4444444444444444, \"#bd3786\"], [0.5555555555555556, \"#d8576b\"], [0.6666666666666666, \"#ed7953\"], [0.7777777777777778, \"#fb9f3a\"], [0.8888888888888888, \"#fdca26\"], [1.0, \"#f0f921\"]], \"type\": \"histogram2dcontour\"}], \"mesh3d\": [{\"colorbar\": {\"outlinewidth\": 0, \"ticks\": \"\"}, \"type\": \"mesh3d\"}], \"parcoords\": [{\"line\": {\"colorbar\": {\"outlinewidth\": 0, \"ticks\": \"\"}}, \"type\": \"parcoords\"}], \"pie\": [{\"automargin\": true, \"type\": \"pie\"}], \"scatter\": [{\"marker\": {\"colorbar\": {\"outlinewidth\": 0, \"ticks\": \"\"}}, \"type\": \"scatter\"}], \"scatter3d\": [{\"line\": {\"colorbar\": {\"outlinewidth\": 0, \"ticks\": \"\"}}, \"marker\": {\"colorbar\": {\"outlinewidth\": 0, \"ticks\": \"\"}}, \"type\": \"scatter3d\"}], \"scattercarpet\": [{\"marker\": {\"colorbar\": {\"outlinewidth\": 0, \"ticks\": \"\"}}, \"type\": \"scattercarpet\"}], \"scattergeo\": [{\"marker\": {\"colorbar\": {\"outlinewidth\": 0, \"ticks\": \"\"}}, \"type\": \"scattergeo\"}], \"scattergl\": [{\"marker\": {\"colorbar\": {\"outlinewidth\": 0, \"ticks\": \"\"}}, \"type\": \"scattergl\"}], \"scattermapbox\": [{\"marker\": {\"colorbar\": {\"outlinewidth\": 0, \"ticks\": \"\"}}, \"type\": \"scattermapbox\"}], \"scatterpolar\": [{\"marker\": {\"colorbar\": {\"outlinewidth\": 0, \"ticks\": \"\"}}, \"type\": \"scatterpolar\"}], \"scatterpolargl\": [{\"marker\": {\"colorbar\": {\"outlinewidth\": 0, \"ticks\": \"\"}}, \"type\": \"scatterpolargl\"}], \"scatterternary\": [{\"marker\": {\"colorbar\": {\"outlinewidth\": 0, \"ticks\": \"\"}}, \"type\": \"scatterternary\"}], \"surface\": [{\"colorbar\": {\"outlinewidth\": 0, \"ticks\": \"\"}, \"colorscale\": [[0.0, \"#0d0887\"], [0.1111111111111111, \"#46039f\"], [0.2222222222222222, \"#7201a8\"], [0.3333333333333333, \"#9c179e\"], [0.4444444444444444, \"#bd3786\"], [0.5555555555555556, \"#d8576b\"], [0.6666666666666666, \"#ed7953\"], [0.7777777777777778, \"#fb9f3a\"], [0.8888888888888888, \"#fdca26\"], [1.0, \"#f0f921\"]], \"type\": \"surface\"}], \"table\": [{\"cells\": {\"fill\": {\"color\": \"#EBF0F8\"}, \"line\": {\"color\": \"white\"}}, \"header\": {\"fill\": {\"color\": \"#C8D4E3\"}, \"line\": {\"color\": \"white\"}}, \"type\": \"table\"}]}, \"layout\": {\"annotationdefaults\": {\"arrowcolor\": \"#2a3f5f\", \"arrowhead\": 0, \"arrowwidth\": 1}, \"coloraxis\": {\"colorbar\": {\"outlinewidth\": 0, \"ticks\": \"\"}}, \"colorscale\": {\"diverging\": [[0, \"#8e0152\"], [0.1, \"#c51b7d\"], [0.2, \"#de77ae\"], [0.3, \"#f1b6da\"], [0.4, \"#fde0ef\"], [0.5, \"#f7f7f7\"], [0.6, \"#e6f5d0\"], [0.7, \"#b8e186\"], [0.8, \"#7fbc41\"], [0.9, \"#4d9221\"], [1, \"#276419\"]], \"sequential\": [[0.0, \"#0d0887\"], [0.1111111111111111, \"#46039f\"], [0.2222222222222222, \"#7201a8\"], [0.3333333333333333, \"#9c179e\"], [0.4444444444444444, \"#bd3786\"], [0.5555555555555556, \"#d8576b\"], [0.6666666666666666, \"#ed7953\"], [0.7777777777777778, \"#fb9f3a\"], [0.8888888888888888, \"#fdca26\"], [1.0, \"#f0f921\"]], \"sequentialminus\": [[0.0, \"#0d0887\"], [0.1111111111111111, \"#46039f\"], [0.2222222222222222, \"#7201a8\"], [0.3333333333333333, \"#9c179e\"], [0.4444444444444444, \"#bd3786\"], [0.5555555555555556, \"#d8576b\"], [0.6666666666666666, \"#ed7953\"], [0.7777777777777778, \"#fb9f3a\"], [0.8888888888888888, \"#fdca26\"], [1.0, \"#f0f921\"]]}, \"colorway\": [\"#636efa\", \"#EF553B\", \"#00cc96\", \"#ab63fa\", \"#FFA15A\", \"#19d3f3\", \"#FF6692\", \"#B6E880\", \"#FF97FF\", \"#FECB52\"], \"font\": {\"color\": \"#2a3f5f\"}, \"geo\": {\"bgcolor\": \"white\", \"lakecolor\": \"white\", \"landcolor\": \"#E5ECF6\", \"showlakes\": true, \"showland\": true, \"subunitcolor\": \"white\"}, \"hoverlabel\": {\"align\": \"left\"}, \"hovermode\": \"closest\", \"mapbox\": {\"style\": \"light\"}, \"paper_bgcolor\": \"white\", \"plot_bgcolor\": \"#E5ECF6\", \"polar\": {\"angularaxis\": {\"gridcolor\": \"white\", \"linecolor\": \"white\", \"ticks\": \"\"}, \"bgcolor\": \"#E5ECF6\", \"radialaxis\": {\"gridcolor\": \"white\", \"linecolor\": \"white\", \"ticks\": \"\"}}, \"scene\": {\"xaxis\": {\"backgroundcolor\": \"#E5ECF6\", \"gridcolor\": \"white\", \"gridwidth\": 2, \"linecolor\": \"white\", \"showbackground\": true, \"ticks\": \"\", \"zerolinecolor\": \"white\"}, \"yaxis\": {\"backgroundcolor\": \"#E5ECF6\", \"gridcolor\": \"white\", \"gridwidth\": 2, \"linecolor\": \"white\", \"showbackground\": true, \"ticks\": \"\", \"zerolinecolor\": \"white\"}, \"zaxis\": {\"backgroundcolor\": \"#E5ECF6\", \"gridcolor\": \"white\", \"gridwidth\": 2, \"linecolor\": \"white\", \"showbackground\": true, \"ticks\": \"\", \"zerolinecolor\": \"white\"}}, \"shapedefaults\": {\"line\": {\"color\": \"#2a3f5f\"}}, \"ternary\": {\"aaxis\": {\"gridcolor\": \"white\", \"linecolor\": \"white\", \"ticks\": \"\"}, \"baxis\": {\"gridcolor\": \"white\", \"linecolor\": \"white\", \"ticks\": \"\"}, \"bgcolor\": \"#E5ECF6\", \"caxis\": {\"gridcolor\": \"white\", \"linecolor\": \"white\", \"ticks\": \"\"}}, \"title\": {\"x\": 0.05}, \"xaxis\": {\"automargin\": true, \"gridcolor\": \"white\", \"linecolor\": \"white\", \"ticks\": \"\", \"title\": {\"standoff\": 15}, \"zerolinecolor\": \"white\", \"zerolinewidth\": 2}, \"yaxis\": {\"automargin\": true, \"gridcolor\": \"white\", \"linecolor\": \"white\", \"ticks\": \"\", \"title\": {\"standoff\": 15}, \"zerolinecolor\": \"white\", \"zerolinewidth\": 2}}}},                        {\"responsive\": true}                    ).then(function(){\n",
       "                            \n",
       "var gd = document.getElementById('72f3a919-c4b8-4dc7-87b0-7faf6951b9cd');\n",
       "var x = new MutationObserver(function (mutations, observer) {{\n",
       "        var display = window.getComputedStyle(gd).display;\n",
       "        if (!display || display === 'none') {{\n",
       "            console.log([gd, 'removed!']);\n",
       "            Plotly.purge(gd);\n",
       "            observer.disconnect();\n",
       "        }}\n",
       "}});\n",
       "\n",
       "// Listen for the removal of the full notebook cells\n",
       "var notebookContainer = gd.closest('#notebook-container');\n",
       "if (notebookContainer) {{\n",
       "    x.observe(notebookContainer, {childList: true});\n",
       "}}\n",
       "\n",
       "// Listen for the clearing of the current output cell\n",
       "var outputEl = gd.closest('.output');\n",
       "if (outputEl) {{\n",
       "    x.observe(outputEl, {childList: true});\n",
       "}}\n",
       "\n",
       "                        })                };                });            </script>        </div>"
      ]
     },
     "metadata": {},
     "output_type": "display_data"
    },
    {
     "data": {
      "application/vnd.plotly.v1+json": {
       "config": {
        "plotlyServerURL": "https://plot.ly"
       },
       "data": [
        {
         "fill": "toself",
         "type": "scatter",
         "x": [
          0,
          11,
          "none",
          11,
          11,
          "none",
          0,
          0,
          7,
          7,
          0,
          "none",
          0,
          11,
          "none",
          11,
          11,
          "none",
          0,
          0,
          5,
          5,
          0,
          "none",
          0,
          11,
          "none",
          11,
          11,
          "none",
          5,
          5,
          10,
          10,
          5,
          "none",
          0,
          11,
          "none",
          11,
          11,
          "none",
          0,
          0,
          5,
          5,
          0,
          "none"
         ],
         "y": [
          16,
          16,
          "none",
          0,
          16,
          "none",
          0,
          6,
          6,
          0,
          0,
          "none",
          16,
          16,
          "none",
          0,
          16,
          "none",
          6,
          11,
          11,
          6,
          6,
          "none",
          16,
          16,
          "none",
          0,
          16,
          "none",
          6,
          11,
          11,
          6,
          6,
          "none",
          16,
          16,
          "none",
          0,
          16,
          "none",
          11,
          16,
          16,
          11,
          11,
          "none"
         ]
        }
       ],
       "layout": {
        "template": {
         "data": {
          "bar": [
           {
            "error_x": {
             "color": "#2a3f5f"
            },
            "error_y": {
             "color": "#2a3f5f"
            },
            "marker": {
             "line": {
              "color": "#E5ECF6",
              "width": 0.5
             }
            },
            "type": "bar"
           }
          ],
          "barpolar": [
           {
            "marker": {
             "line": {
              "color": "#E5ECF6",
              "width": 0.5
             }
            },
            "type": "barpolar"
           }
          ],
          "carpet": [
           {
            "aaxis": {
             "endlinecolor": "#2a3f5f",
             "gridcolor": "white",
             "linecolor": "white",
             "minorgridcolor": "white",
             "startlinecolor": "#2a3f5f"
            },
            "baxis": {
             "endlinecolor": "#2a3f5f",
             "gridcolor": "white",
             "linecolor": "white",
             "minorgridcolor": "white",
             "startlinecolor": "#2a3f5f"
            },
            "type": "carpet"
           }
          ],
          "choropleth": [
           {
            "colorbar": {
             "outlinewidth": 0,
             "ticks": ""
            },
            "type": "choropleth"
           }
          ],
          "contour": [
           {
            "colorbar": {
             "outlinewidth": 0,
             "ticks": ""
            },
            "colorscale": [
             [
              0,
              "#0d0887"
             ],
             [
              0.1111111111111111,
              "#46039f"
             ],
             [
              0.2222222222222222,
              "#7201a8"
             ],
             [
              0.3333333333333333,
              "#9c179e"
             ],
             [
              0.4444444444444444,
              "#bd3786"
             ],
             [
              0.5555555555555556,
              "#d8576b"
             ],
             [
              0.6666666666666666,
              "#ed7953"
             ],
             [
              0.7777777777777778,
              "#fb9f3a"
             ],
             [
              0.8888888888888888,
              "#fdca26"
             ],
             [
              1,
              "#f0f921"
             ]
            ],
            "type": "contour"
           }
          ],
          "contourcarpet": [
           {
            "colorbar": {
             "outlinewidth": 0,
             "ticks": ""
            },
            "type": "contourcarpet"
           }
          ],
          "heatmap": [
           {
            "colorbar": {
          "none"
         ]
        }
       ],
       "layout": {
        "template": {
         "data": {
          "bar": [
           {
            "error_x": {
             "color": "#2a3f5f"
            },
            "error_y": {
             "color": "#2a3f5f"
            },
            "marker": {
             "line": {
              "color": "#E5ECF6",
              "width": 0.5
             }
            },
            "type": "bar"
           }
          ],
          "barpolar": [
           {
            "marker": {
             "line": {
              "color": "#E5ECF6",
              "width": 0.5
             }
            },
            "type": "barpolar"
           }
          ],
          "carpet": [
           {
            "aaxis": {
             "endlinecolor": "#2a3f5f",
             "gridcolor": "white",
             "linecolor": "white",
             "minorgridcolor": "white",
             "startlinecolor": "#2a3f5f"
            },
            "baxis": {
             "endlinecolor": "#2a3f5f",
             "gridcolor": "white",
             "linecolor": "white",
             "minorgridcolor": "white",
             "startlinecolor": "#2a3f5f"
            },
            "type": "carpet"
           }
          ],
          "choropleth": [
           {
            "colorbar": {
             "outlinewidth": 0,
             "ticks": ""
            },
            "type": "choropleth"
           }
          ],
          "contour": [
           {
            "colorbar": {
             "outlinewidth": 0,
             "ticks": ""
            },
            "colorscale": [
             [
              0,
              "#0d0887"
             ],
             [
              0.1111111111111111,
              "#46039f"
             ],
             [
              0.2222222222222222,
              "#7201a8"
             ],
             [
              0.3333333333333333,
              "#9c179e"
             ],
             [
              0.4444444444444444,
              "#bd3786"
             ],
             [
              0.5555555555555556,
              "#d8576b"
             ],
             [
              0.6666666666666666,
              "#ed7953"
             ],
             [
              0.7777777777777778,
              "#fb9f3a"
             ],
             [
              0.8888888888888888,
              "#fdca26"
             ],
             [
              1,
              "#f0f921"
             ]
            ],
            "type": "contour"
           }
          ],
          "contourcarpet": [
           {
            "colorbar": {
             "outlinewidth": 0,
             "ticks": ""
            },
            "type": "contourcarpet"
           }
          ],
          "heatmap": [
           {
            "colorbar": {
             "outlinewidth": 0,
             "ticks": ""
            },
            "colorscale": [
             [
              0,
              "#0d0887"
             ],
             [
              0.1111111111111111,
              "#46039f"
             ],
             [
              0.2222222222222222,
              "#7201a8"
             ],
             [
              0.3333333333333333,
              "#9c179e"
             ],
             [
              0.4444444444444444,
              "#bd3786"
             ],
             [
              0.5555555555555556,
              "#d8576b"
             ],
             [
              0.6666666666666666,
              "#ed7953"
             ],
             [
              0.7777777777777778,
              "#fb9f3a"
             ],
             [
              0.8888888888888888,
              "#fdca26"
             ],
             [
              1,
              "#f0f921"
             ]
            ],
            "type": "heatmap"
           }
          ],
          "heatmapgl": [
           {
            "colorbar": {
             "outlinewidth": 0,
             "ticks": ""
            },
            "colorscale": [
             [
              0,
              "#0d0887"
             ],
             [
              0.1111111111111111,
              "#46039f"
             ],
             [
              0.2222222222222222,
              "#7201a8"
             ],
             [
              0.3333333333333333,
              "#9c179e"
             ],
             [
              0.4444444444444444,
              "#bd3786"
             ],
             [
              0.5555555555555556,
              "#d8576b"
             ],
             [
              0.6666666666666666,
              "#ed7953"
             ],
             [
              0.7777777777777778,
              "#fb9f3a"
             ],
             [
              0.8888888888888888,
              "#fdca26"
             ],
             [
              1,
              "#f0f921"
             ]
            ],
            "type": "heatmapgl"
           }
          ],
          "histogram": [
           {
            "marker": {
             "colorbar": {
              "outlinewidth": 0,
              "ticks": ""
             }
            },
            "type": "histogram"
           }
          ],
          "histogram2d": [
           {
            "colorbar": {
             "outlinewidth": 0,
             "ticks": ""
            },
            "colorscale": [
             [
              0,
              "#0d0887"
             ],
             [
              0.1111111111111111,
              "#46039f"
             ],
             [
              0.2222222222222222,
              "#7201a8"
             ],
             [
              0.3333333333333333,
              "#9c179e"
             ],
             [
              0.4444444444444444,
              "#bd3786"
             ],
             [
              0.5555555555555556,
              "#d8576b"
             ],
             [
              0.6666666666666666,
              "#ed7953"
             ],
             [
              0.7777777777777778,
              "#fb9f3a"
             ],
             [
              0.8888888888888888,
              "#fdca26"
             ],
             [
              1,
              "#f0f921"
             ]
            ],
            "type": "histogram2d"
           }
          ],
          "histogram2dcontour": [
           {
            "colorbar": {
             "outlinewidth": 0,
             "ticks": ""
            },
            "colorscale": [
             [
              0,
              "#0d0887"
             ],
             [
              0.1111111111111111,
              "#46039f"
             ],
             [
              0.2222222222222222,
              "#7201a8"
             ],
             [
              0.3333333333333333,
              "#9c179e"
             ],
             [
              0.4444444444444444,
              "#bd3786"
             ],
             [
              0.5555555555555556,
              "#d8576b"
             ],
             [
              0.6666666666666666,
              "#ed7953"
             ],
             [
              0.7777777777777778,
              "#fb9f3a"
             ],
             [
              0.8888888888888888,
              "#fdca26"
             ],
             [
              1,
              "#f0f921"
             ]
            ],
            "type": "histogram2dcontour"
           }
          ],
          "mesh3d": [
           {
            "colorbar": {
             "outlinewidth": 0,
             "ticks": ""
            },
            "type": "mesh3d"
           }
          ],
          "parcoords": [
           {
            "line": {
             "colorbar": {
              "outlinewidth": 0,
              "ticks": ""
             }
            },
            "type": "parcoords"
           }
          ],
          "pie": [
           {
            "automargin": true,
            "type": "pie"
           }
          ],
          "scatter": [
           {
            "marker": {
             "colorbar": {
              "outlinewidth": 0,
              "ticks": ""
             }
            },
            "type": "scatter"
           }
          ],
          "scatter3d": [
           {
            "line": {
             "colorbar": {
              "outlinewidth": 0,
              "ticks": ""
             }
            },
            "marker": {
             "colorbar": {
              "outlinewidth": 0,
              "ticks": ""
             }
            },
            "type": "scatter3d"
           }
          ],
          "scattercarpet": [
           {
            "marker": {
             "colorbar": {
              "outlinewidth": 0,
              "ticks": ""
             }
            },
            "type": "scattercarpet"
           }
          ],
          "scattergeo": [
           {
            "marker": {
             "colorbar": {
              "outlinewidth": 0,
              "ticks": ""
             }
            },
            "type": "scattergeo"
           }
          ],
          "scattergl": [
           {
            "marker": {
             "colorbar": {
              "outlinewidth": 0,
              "ticks": ""
             }
            },
            "type": "scattergl"
           }
          ],
          "scattermapbox": [
           {
            "marker": {
             "colorbar": {
              "outlinewidth": 0,
              "ticks": ""
             }
            },
            "type": "scattermapbox"
           }
          ],
          "scatterpolar": [
           {
            "marker": {
             "colorbar": {
              "outlinewidth": 0,
              "ticks": ""
             }
            },
            "type": "scatterpolar"
           }
          ],
          "scatterpolargl": [
           {
            "marker": {
             "colorbar": {
              "outlinewidth": 0,
              "ticks": ""
             }
            },
            "type": "scatterpolargl"
           }
          ],
          "scatterternary": [
           {
            "marker": {
             "colorbar": {
              "outlinewidth": 0,
              "ticks": ""
             }
            },
            "type": "scatterternary"
           }
          ],
          "surface": [
           {
            "colorbar": {
             "outlinewidth": 0,
             "ticks": ""
            },
            "colorscale": [
             [
              0,
              "#0d0887"
             ],
             [
              0.1111111111111111,
              "#46039f"
             ],
             [
              0.2222222222222222,
              "#7201a8"
             ],
             [
              0.3333333333333333,
              "#9c179e"
             ],
             [
              0.4444444444444444,
              "#bd3786"
             ],
             [
              0.5555555555555556,
              "#d8576b"
             ],
             [
              0.6666666666666666,
              "#ed7953"
             ],
             [
              0.7777777777777778,
              "#fb9f3a"
             ],
             [
              0.8888888888888888,
              "#fdca26"
             ],
             [
              1,
              "#f0f921"
             ]
            ],
            "type": "surface"
           }
          ],
          "table": [
           {
            "cells": {
             "fill": {
              "color": "#EBF0F8"
             },
             "line": {
              "color": "white"
             }
            },
            "header": {
             "fill": {
              "color": "#C8D4E3"
             },
             "line": {
              "color": "white"
             }
            },
            "type": "table"
           }
          ]
         },
         "layout": {
          "annotationdefaults": {
           "arrowcolor": "#2a3f5f",
           "arrowhead": 0,
           "arrowwidth": 1
          },
          "coloraxis": {
           "colorbar": {
            "outlinewidth": 0,
            "ticks": ""
           }
          },
          "colorscale": {
           "diverging": [
            [
             0,
             "#8e0152"
            ],
            [
             0.1,
             "#c51b7d"
            ],
            [
             0.2,
             "#de77ae"
            ],
            [
             0.3,
             "#f1b6da"
            ],
            [
             0.4,
             "#fde0ef"
            ],
            [
             0.5,
             "#f7f7f7"
            ],
            [
             0.6,
             "#e6f5d0"
            ],
            [
             0.7,
             "#b8e186"
            ],
            [
             0.8,
             "#7fbc41"
            ],
            [
             0.9,
             "#4d9221"
            ],
            [
             1,
             "#276419"
            ]
           ],
           "sequential": [
            [
             0,
             "#0d0887"
            ],
            [
             0.1111111111111111,
             "#46039f"
            ],
            [
             0.2222222222222222,
             "#7201a8"
            ],
            [
             0.3333333333333333,
             "#9c179e"
            ],
            [
             0.4444444444444444,
             "#bd3786"
            ],
            [
             0.5555555555555556,
             "#d8576b"
            ],
            [
             0.6666666666666666,
             "#ed7953"
            ],
            [
             0.7777777777777778,
             "#fb9f3a"
            ],
            [
             0.8888888888888888,
             "#fdca26"
            ],
            [
             1,
             "#f0f921"
            ]
           ],
           "sequentialminus": [
            [
             0,
             "#0d0887"
            ],
            [
             0.1111111111111111,
             "#46039f"
            ],
            [
             0.2222222222222222,
             "#7201a8"
            ],
            [
             0.3333333333333333,
             "#9c179e"
            ],
            [
             0.4444444444444444,
             "#bd3786"
            ],
            [
             0.5555555555555556,
             "#d8576b"
            ],
            [
             0.6666666666666666,
             "#ed7953"
            ],
            [
             0.7777777777777778,
             "#fb9f3a"
            ],
            [
             0.8888888888888888,
             "#fdca26"
            ],
            [
             1,
             "#f0f921"
            ]
           ]
          },
          "colorway": [
           "#636efa",
           "#EF553B",
           "#00cc96",
           "#ab63fa",
           "#FFA15A",
           "#19d3f3",
           "#FF6692",
           "#B6E880",
           "#FF97FF",
           "#FECB52"
          ],
          "font": {
           "color": "#2a3f5f"
          },
          "geo": {
           "bgcolor": "white",
           "lakecolor": "white",
           "landcolor": "#E5ECF6",
           "showlakes": true,
           "showland": true,
           "subunitcolor": "white"
          },
          "hoverlabel": {
           "align": "left"
          },
          "hovermode": "closest",
          "mapbox": {
           "style": "light"
          },
          "paper_bgcolor": "white",
          "plot_bgcolor": "#E5ECF6",
          "polar": {
           "angularaxis": {
            "gridcolor": "white",
            "linecolor": "white",
            "ticks": ""
           },
           "bgcolor": "#E5ECF6",
           "radialaxis": {
            "gridcolor": "white",
            "linecolor": "white",
            "ticks": ""
           }
          },
          "scene": {
           "xaxis": {
            "backgroundcolor": "#E5ECF6",
            "gridcolor": "white",
            "gridwidth": 2,
            "linecolor": "white",
            "showbackground": true,
            "ticks": "",
            "zerolinecolor": "white"
           },
           "yaxis": {
            "backgroundcolor": "#E5ECF6",
            "gridcolor": "white",
            "gridwidth": 2,
            "linecolor": "white",
            "showbackground": true,
            "ticks": "",
            "zerolinecolor": "white"
           },
           "zaxis": {
            "backgroundcolor": "#E5ECF6",
            "gridcolor": "white",
            "gridwidth": 2,
            "linecolor": "white",
            "showbackground": true,
            "ticks": "",
            "zerolinecolor": "white"
           }
          },
          "shapedefaults": {
           "line": {
            "color": "#2a3f5f"
           }
          },
          "ternary": {
           "aaxis": {
            "gridcolor": "white",
            "linecolor": "white",
            "ticks": ""
           },
           "baxis": {
            "gridcolor": "white",
            "linecolor": "white",
            "ticks": ""
           },
           "bgcolor": "#E5ECF6",
           "caxis": {
            "gridcolor": "white",
            "linecolor": "white",
            "ticks": ""
           }
          },
          "title": {
           "x": 0.05
          },
          "xaxis": {
           "automargin": true,
           "gridcolor": "white",
           "linecolor": "white",
           "ticks": "",
           "title": {
            "standoff": 15
           },
           "zerolinecolor": "white",
           "zerolinewidth": 2
          },
          "yaxis": {
           "automargin": true,
           "gridcolor": "white",
           "linecolor": "white",
           "ticks": "",
           "title": {
            "standoff": 15
           },
           "zerolinecolor": "white",
           "zerolinewidth": 2
          }
         }
        }
       }
      },
      "text/html": [
       "<div>                            <div id=\"39d872b3-e759-4b88-93cc-6b64174cc25e\" class=\"plotly-graph-div\" style=\"height:525px; width:100%;\"></div>            <script type=\"text/javascript\">                require([\"plotly\"], function(Plotly) {                    window.PLOTLYENV=window.PLOTLYENV || {};                                    if (document.getElementById(\"39d872b3-e759-4b88-93cc-6b64174cc25e\")) {                    Plotly.newPlot(                        \"39d872b3-e759-4b88-93cc-6b64174cc25e\",                        [{\"fill\": \"toself\", \"type\": \"scatter\", \"x\": [0, 11, \"none\", 11, 11, \"none\", 0, 0, 7, 7, 0, \"none\", 0, 11, \"none\", 11, 11, \"none\", 0, 0, 5, 5, 0, \"none\", 0, 11, \"none\", 11, 11, \"none\", 5, 5, 10, 10, 5, \"none\", 0, 11, \"none\", 11, 11, \"none\", 0, 0, 5, 5, 0, \"none\"], \"y\": [16, 16, \"none\", 0, 16, \"none\", 0, 6, 6, 0, 0, \"none\", 16, 16, \"none\", 0, 16, \"none\", 6, 11, 11, 6, 6, \"none\", 16, 16, \"none\", 0, 16, \"none\", 6, 11, 11, 6, 6, \"none\", 16, 16, \"none\", 0, 16, \"none\", 11, 16, 16, 11, 11, \"none\"]}],                        {\"template\": {\"data\": {\"bar\": [{\"error_x\": {\"color\": \"#2a3f5f\"}, \"error_y\": {\"color\": \"#2a3f5f\"}, \"marker\": {\"line\": {\"color\": \"#E5ECF6\", \"width\": 0.5}}, \"type\": \"bar\"}], \"barpolar\": [{\"marker\": {\"line\": {\"color\": \"#E5ECF6\", \"width\": 0.5}}, \"type\": \"barpolar\"}], \"carpet\": [{\"aaxis\": {\"endlinecolor\": \"#2a3f5f\", \"gridcolor\": \"white\", \"linecolor\": \"white\", \"minorgridcolor\": \"white\", \"startlinecolor\": \"#2a3f5f\"}, \"baxis\": {\"endlinecolor\": \"#2a3f5f\", \"gridcolor\": \"white\", \"linecolor\": \"white\", \"minorgridcolor\": \"white\", \"startlinecolor\": \"#2a3f5f\"}, \"type\": \"carpet\"}], \"choropleth\": [{\"colorbar\": {\"outlinewidth\": 0, \"ticks\": \"\"}, \"type\": \"choropleth\"}], \"contour\": [{\"colorbar\": {\"outlinewidth\": 0, \"ticks\": \"\"}, \"colorscale\": [[0.0, \"#0d0887\"], [0.1111111111111111, \"#46039f\"], [0.2222222222222222, \"#7201a8\"], [0.3333333333333333, \"#9c179e\"], [0.4444444444444444, \"#bd3786\"], [0.5555555555555556, \"#d8576b\"], [0.6666666666666666, \"#ed7953\"], [0.7777777777777778, \"#fb9f3a\"], [0.8888888888888888, \"#fdca26\"], [1.0, \"#f0f921\"]], \"type\": \"contour\"}], \"contourcarpet\": [{\"colorbar\": {\"outlinewidth\": 0, \"ticks\": \"\"}, \"type\": \"contourcarpet\"}], \"heatmap\": [{\"colorbar\": {\"outlinewidth\": 0, \"ticks\": \"\"}, \"colorscale\": [[0.0, \"#0d0887\"], [0.1111111111111111, \"#46039f\"], [0.2222222222222222, \"#7201a8\"], [0.3333333333333333, \"#9c179e\"], [0.4444444444444444, \"#bd3786\"], [0.5555555555555556, \"#d8576b\"], [0.6666666666666666, \"#ed7953\"], [0.7777777777777778, \"#fb9f3a\"], [0.8888888888888888, \"#fdca26\"], [1.0, \"#f0f921\"]], \"type\": \"heatmap\"}], \"heatmapgl\": [{\"colorbar\": {\"outlinewidth\": 0, \"ticks\": \"\"}, \"colorscale\": [[0.0, \"#0d0887\"], [0.1111111111111111, \"#46039f\"], [0.2222222222222222, \"#7201a8\"], [0.3333333333333333, \"#9c179e\"], [0.4444444444444444, \"#bd3786\"], [0.5555555555555556, \"#d8576b\"], [0.6666666666666666, \"#ed7953\"], [0.7777777777777778, \"#fb9f3a\"], [0.8888888888888888, \"#fdca26\"], [1.0, \"#f0f921\"]], \"type\": \"heatmapgl\"}], \"histogram\": [{\"marker\": {\"colorbar\": {\"outlinewidth\": 0, \"ticks\": \"\"}}, \"type\": \"histogram\"}], \"histogram2d\": [{\"colorbar\": {\"outlinewidth\": 0, \"ticks\": \"\"}, \"colorscale\": [[0.0, \"#0d0887\"], [0.1111111111111111, \"#46039f\"], [0.2222222222222222, \"#7201a8\"], [0.3333333333333333, \"#9c179e\"], [0.4444444444444444, \"#bd3786\"], [0.5555555555555556, \"#d8576b\"], [0.6666666666666666, \"#ed7953\"], [0.7777777777777778, \"#fb9f3a\"], [0.8888888888888888, \"#fdca26\"], [1.0, \"#f0f921\"]], \"type\": \"histogram2d\"}], \"histogram2dcontour\": [{\"colorbar\": {\"outlinewidth\": 0, \"ticks\": \"\"}, \"colorscale\": [[0.0, \"#0d0887\"], [0.1111111111111111, \"#46039f\"], [0.2222222222222222, \"#7201a8\"], [0.3333333333333333, \"#9c179e\"], [0.4444444444444444, \"#bd3786\"], [0.5555555555555556, \"#d8576b\"], [0.6666666666666666, \"#ed7953\"], [0.7777777777777778, \"#fb9f3a\"], [0.8888888888888888, \"#fdca26\"], [1.0, \"#f0f921\"]], \"type\": \"histogram2dcontour\"}], \"mesh3d\": [{\"colorbar\": {\"outlinewidth\": 0, \"ticks\": \"\"}, \"type\": \"mesh3d\"}], \"parcoords\": [{\"line\": {\"colorbar\": {\"outlinewidth\": 0, \"ticks\": \"\"}}, \"type\": \"parcoords\"}], \"pie\": [{\"automargin\": true, \"type\": \"pie\"}], \"scatter\": [{\"marker\": {\"colorbar\": {\"outlinewidth\": 0, \"ticks\": \"\"}}, \"type\": \"scatter\"}], \"scatter3d\": [{\"line\": {\"colorbar\": {\"outlinewidth\": 0, \"ticks\": \"\"}}, \"marker\": {\"colorbar\": {\"outlinewidth\": 0, \"ticks\": \"\"}}, \"type\": \"scatter3d\"}], \"scattercarpet\": [{\"marker\": {\"colorbar\": {\"outlinewidth\": 0, \"ticks\": \"\"}}, \"type\": \"scattercarpet\"}], \"scattergeo\": [{\"marker\": {\"colorbar\": {\"outlinewidth\": 0, \"ticks\": \"\"}}, \"type\": \"scattergeo\"}], \"scattergl\": [{\"marker\": {\"colorbar\": {\"outlinewidth\": 0, \"ticks\": \"\"}}, \"type\": \"scattergl\"}], \"scattermapbox\": [{\"marker\": {\"colorbar\": {\"outlinewidth\": 0, \"ticks\": \"\"}}, \"type\": \"scattermapbox\"}], \"scatterpolar\": [{\"marker\": {\"colorbar\": {\"outlinewidth\": 0, \"ticks\": \"\"}}, \"type\": \"scatterpolar\"}], \"scatterpolargl\": [{\"marker\": {\"colorbar\": {\"outlinewidth\": 0, \"ticks\": \"\"}}, \"type\": \"scatterpolargl\"}], \"scatterternary\": [{\"marker\": {\"colorbar\": {\"outlinewidth\": 0, \"ticks\": \"\"}}, \"type\": \"scatterternary\"}], \"surface\": [{\"colorbar\": {\"outlinewidth\": 0, \"ticks\": \"\"}, \"colorscale\": [[0.0, \"#0d0887\"], [0.1111111111111111, \"#46039f\"], [0.2222222222222222, \"#7201a8\"], [0.3333333333333333, \"#9c179e\"], [0.4444444444444444, \"#bd3786\"], [0.5555555555555556, \"#d8576b\"], [0.6666666666666666, \"#ed7953\"], [0.7777777777777778, \"#fb9f3a\"], [0.8888888888888888, \"#fdca26\"], [1.0, \"#f0f921\"]], \"type\": \"surface\"}], \"table\": [{\"cells\": {\"fill\": {\"color\": \"#EBF0F8\"}, \"line\": {\"color\": \"white\"}}, \"header\": {\"fill\": {\"color\": \"#C8D4E3\"}, \"line\": {\"color\": \"white\"}}, \"type\": \"table\"}]}, \"layout\": {\"annotationdefaults\": {\"arrowcolor\": \"#2a3f5f\", \"arrowhead\": 0, \"arrowwidth\": 1}, \"coloraxis\": {\"colorbar\": {\"outlinewidth\": 0, \"ticks\": \"\"}}, \"colorscale\": {\"diverging\": [[0, \"#8e0152\"], [0.1, \"#c51b7d\"], [0.2, \"#de77ae\"], [0.3, \"#f1b6da\"], [0.4, \"#fde0ef\"], [0.5, \"#f7f7f7\"], [0.6, \"#e6f5d0\"], [0.7, \"#b8e186\"], [0.8, \"#7fbc41\"], [0.9, \"#4d9221\"], [1, \"#276419\"]], \"sequential\": [[0.0, \"#0d0887\"], [0.1111111111111111, \"#46039f\"], [0.2222222222222222, \"#7201a8\"], [0.3333333333333333, \"#9c179e\"], [0.4444444444444444, \"#bd3786\"], [0.5555555555555556, \"#d8576b\"], [0.6666666666666666, \"#ed7953\"], [0.7777777777777778, \"#fb9f3a\"], [0.8888888888888888, \"#fdca26\"], [1.0, \"#f0f921\"]], \"sequentialminus\": [[0.0, \"#0d0887\"], [0.1111111111111111, \"#46039f\"], [0.2222222222222222, \"#7201a8\"], [0.3333333333333333, \"#9c179e\"], [0.4444444444444444, \"#bd3786\"], [0.5555555555555556, \"#d8576b\"], [0.6666666666666666, \"#ed7953\"], [0.7777777777777778, \"#fb9f3a\"], [0.8888888888888888, \"#fdca26\"], [1.0, \"#f0f921\"]]}, \"colorway\": [\"#636efa\", \"#EF553B\", \"#00cc96\", \"#ab63fa\", \"#FFA15A\", \"#19d3f3\", \"#FF6692\", \"#B6E880\", \"#FF97FF\", \"#FECB52\"], \"font\": {\"color\": \"#2a3f5f\"}, \"geo\": {\"bgcolor\": \"white\", \"lakecolor\": \"white\", \"landcolor\": \"#E5ECF6\", \"showlakes\": true, \"showland\": true, \"subunitcolor\": \"white\"}, \"hoverlabel\": {\"align\": \"left\"}, \"hovermode\": \"closest\", \"mapbox\": {\"style\": \"light\"}, \"paper_bgcolor\": \"white\", \"plot_bgcolor\": \"#E5ECF6\", \"polar\": {\"angularaxis\": {\"gridcolor\": \"white\", \"linecolor\": \"white\", \"ticks\": \"\"}, \"bgcolor\": \"#E5ECF6\", \"radialaxis\": {\"gridcolor\": \"white\", \"linecolor\": \"white\", \"ticks\": \"\"}}, \"scene\": {\"xaxis\": {\"backgroundcolor\": \"#E5ECF6\", \"gridcolor\": \"white\", \"gridwidth\": 2, \"linecolor\": \"white\", \"showbackground\": true, \"ticks\": \"\", \"zerolinecolor\": \"white\"}, \"yaxis\": {\"backgroundcolor\": \"#E5ECF6\", \"gridcolor\": \"white\", \"gridwidth\": 2, \"linecolor\": \"white\", \"showbackground\": true, \"ticks\": \"\", \"zerolinecolor\": \"white\"}, \"zaxis\": {\"backgroundcolor\": \"#E5ECF6\", \"gridcolor\": \"white\", \"gridwidth\": 2, \"linecolor\": \"white\", \"showbackground\": true, \"ticks\": \"\", \"zerolinecolor\": \"white\"}}, \"shapedefaults\": {\"line\": {\"color\": \"#2a3f5f\"}}, \"ternary\": {\"aaxis\": {\"gridcolor\": \"white\", \"linecolor\": \"white\", \"ticks\": \"\"}, \"baxis\": {\"gridcolor\": \"white\", \"linecolor\": \"white\", \"ticks\": \"\"}, \"bgcolor\": \"#E5ECF6\", \"caxis\": {\"gridcolor\": \"white\", \"linecolor\": \"white\", \"ticks\": \"\"}}, \"title\": {\"x\": 0.05}, \"xaxis\": {\"automargin\": true, \"gridcolor\": \"white\", \"linecolor\": \"white\", \"ticks\": \"\", \"title\": {\"standoff\": 15}, \"zerolinecolor\": \"white\", \"zerolinewidth\": 2}, \"yaxis\": {\"automargin\": true, \"gridcolor\": \"white\", \"linecolor\": \"white\", \"ticks\": \"\", \"title\": {\"standoff\": 15}, \"zerolinecolor\": \"white\", \"zerolinewidth\": 2}}}},                        {\"responsive\": true}                    ).then(function(){\n",
       "                            \n",
       "var gd = document.getElementById('39d872b3-e759-4b88-93cc-6b64174cc25e');\n",
       "var x = new MutationObserver(function (mutations, observer) {{\n",
       "        var display = window.getComputedStyle(gd).display;\n",
       "        if (!display || display === 'none') {{\n",
       "            console.log([gd, 'removed!']);\n",
       "            Plotly.purge(gd);\n",
       "            observer.disconnect();\n",
       "        }}\n",
       "}});\n",
       "\n",
       "// Listen for the removal of the full notebook cells\n",
       "var notebookContainer = gd.closest('#notebook-container');\n",
       "if (notebookContainer) {{\n",
       "    x.observe(notebookContainer, {childList: true});\n",
       "}}\n",
       "\n",
       "// Listen for the clearing of the current output cell\n",
       "var outputEl = gd.closest('.output');\n",
       "if (outputEl) {{\n",
       "    x.observe(outputEl, {childList: true});\n",
       "}}\n",
       "\n",
       "                        })                };                });            </script>        </div>"
      ]
     },
     "metadata": {},
     "output_type": "display_data"
    },
    {
     "name": "stdout",
     "output_type": "stream",
     "text": [
      "[ { 'current_capacity': 81,\n",
      "    'instance_max_capacity': 135,\n",
      "    'instance_min_capacity': 67,\n",
      "    'original_instance': { 'height': 10,\n",
      "                           'num_tables': 4,\n",
      "                           'restaurant_size': 'medium',\n",
      "                           'tables': [ { 'capacity': 12,\n",
      "                                         'height': 2,\n",
      "                                         'size': 'small',\n",
      "                                         'width': 2},\n",
      "                                       { 'capacity': 15,\n",
      "                                         'height': 5,\n",
      "                                         'size': 'small',\n",
      "                                         'width': 5},\n",
      "                                       { 'capacity': 12,\n",
      "                                         'height': 4,\n",
      "                                         'size': 'small',\n",
      "                                         'width': 4},\n",
      "                                       { 'capacity': 10,\n",
      "                                         'height': 3,\n",
      "                                         'size': 'small',\n",
      "                                         'width': 3},\n",
      "                                       { 'capacity': 12,\n",
      "                                         'height': 2,\n",
      "                                         'size': 'small',\n",
      "                                         'width': 2},\n",
      "                                       { 'capacity': 15,\n",
      "                                         'height': 5,\n",
      "                                         'size': 'small',\n",
      "                                         'width': 5},\n",
      "                                       { 'capacity': 12,\n",
      "                                         'height': 4,\n",
      "                                         'size': 'small',\n",
      "                                         'width': 4},\n",
      "                                       { 'capacity': 10,\n",
      "                                         'height': 3,\n",
      "                                         'size': 'small',\n",
      "                                         'width': 3},\n",
      "                                       { 'capacity': 15,\n",
      "                                         'height': 5,\n",
      "                                         'size': 'small',\n",
      "                                         'width': 5},\n",
      "                                       { 'capacity': 12,\n",
      "                                         'height': 4,\n",
      "                                         'size': 'small',\n",
      "                                         'width': 4},\n",
      "                                       { 'capacity': 10,\n",
      "                                         'height': 3,\n",
      "                                         'size': 'small',\n",
     "data": {
      "application/vnd.plotly.v1+json": {
       "config": {
        "plotlyServerURL": "https://plot.ly"
       },
       "data": [
        {
         "fill": "toself",
         "type": "scatter",
         "x": [
          0,
          22,
          "none",
          22,
          22,
          "none",
          0,
          0,
          7,
          7,
          0,
          "none",
          0,
          22,
          "none",
          22,
          22,
          "none",
          7,
          7,
          12,
          12,
          7,
          "none",
          0,
          22,
          "none",
          22,
          22,
          "none",
          12,
          12,
          17,
          17,
          12,
          "none",
          0,
          22,
          "none",
          22,
          22,
          "none",
          17,
          17,
          22,
          22,
          17,
          "none"
         ],
         "y": [
          8,
          8,
          "none",
          0,
          8,
          "none",
          0,
          6,
          6,
          0,
          0,
          "none",
          8,
          8,
          "none",
          0,
          8,
          "none",
          0,
          5,
          5,
          0,
          0,
          "none",
          8,
          8,
          "none",
          0,
          8,
          "none",
          0,
          5,
          5,
          0,
          0,
          "none",
          8,
          8,
          "none",
          0,
          8,
          "none",
          0,
          5,
          5,
          0,
          0,
          "none"
         ]
        }
       ],
       "layout": {
        "template": {
         "data": {
          "bar": [
           {
            "error_x": {
             "color": "#2a3f5f"
            },
            "error_y": {
             "color": "#2a3f5f"
            },
            "marker": {
             "line": {
              "color": "#E5ECF6",
              "width": 0.5
             }
            },
            "type": "bar"
           }
          ],
          "barpolar": [
           {
            "marker": {
             "line": {
              "color": "#E5ECF6",
              "width": 0.5
             }
            },
            "type": "barpolar"
           }
          ],
          "carpet": [
           {
            "aaxis": {
             "endlinecolor": "#2a3f5f",
             "gridcolor": "white",
             "linecolor": "white",
             "minorgridcolor": "white",
             "startlinecolor": "#2a3f5f"
            },
            "baxis": {
             "endlinecolor": "#2a3f5f",
             "gridcolor": "white",
             "linecolor": "white",
             "minorgridcolor": "white",
             "startlinecolor": "#2a3f5f"
            },
            "type": "carpet"
           }
          ],
          "choropleth": [
           {
            "colorbar": {
             "outlinewidth": 0,
             "ticks": ""
            },
            "type": "choropleth"
           }
          ],
          "contour": [
           {
            "colorbar": {
             "outlinewidth": 0,
             "ticks": ""
            },
            "colorscale": [
             [
              0,
              "#0d0887"
             ],
             [
              0.1111111111111111,
              "#46039f"
             ],
             [
              0.2222222222222222,
              "#7201a8"
             ],
             [
              0.3333333333333333,
              "#9c179e"
             ],
             [
              0.4444444444444444,
              "#bd3786"
             ],
             [
              0.5555555555555556,
              "#d8576b"
             ],
             [
              0.6666666666666666,
              "#ed7953"
             ],
             [
              0.7777777777777778,
              "#fb9f3a"
             ],
             [
              0.8888888888888888,
              "#fdca26"
             ],
             [
              1,
              "#f0f921"
             ]
            ],
            "type": "contour"
           }
          ],
          "contourcarpet": [
           {
            "colorbar": {
             "outlinewidth": 0,
             "ticks": ""
            },
            "type": "contourcarpet"
           }
          ],
          "heatmap": [
           {
            "colorbar": {
             "outlinewidth": 0,
             "ticks": ""
            },
            "colorscale": [
             [
              0,
              "#0d0887"
             ],
             [
              0.1111111111111111,
              "#46039f"
             ],
             [
              0.2222222222222222,
              "#7201a8"
             ],
             [
              0.3333333333333333,
              "#9c179e"
             ],
             [
              0.4444444444444444,
              "#bd3786"
             ],
             [
              0.5555555555555556,
              "#d8576b"
             ],
             [
              0.6666666666666666,
              "#ed7953"
             ],
             [
              0.7777777777777778,
              "#fb9f3a"
             ],
             [
              0.8888888888888888,
              "#fdca26"
             ],
             [
              1,
              "#f0f921"
             ]
            ],
            "type": "heatmap"
           }
          ],
          "heatmapgl": [
           {
            "colorbar": {
             "outlinewidth": 0,
             "ticks": ""
            },
            "colorscale": [
             [
              0,
              "#0d0887"
             ],
             [
              0.1111111111111111,
              "#46039f"
             ],
             [
              0.2222222222222222,
              "#7201a8"
             ],
             [
              0.3333333333333333,
              "#9c179e"
             ],
             [
              0.4444444444444444,
              "#bd3786"
             ],
             [
              0.5555555555555556,
              "#d8576b"
             ],
             [
              0.6666666666666666,
              "#ed7953"
             ],
             [
              0.7777777777777778,
              "#fb9f3a"
             ],
             [
              0.8888888888888888,
              "#fdca26"
             ],
             [
              1,
              "#f0f921"
             ]
            ],
            "type": "heatmapgl"
           }
          ],
          "histogram": [
           {
            "marker": {
             "colorbar": {
              "outlinewidth": 0,
              "ticks": ""
             }
            },
            "type": "histogram"
           }
          ],
          "histogram2d": [
           {
            "colorbar": {
             "outlinewidth": 0,
             "ticks": ""
            },
            "colorscale": [
             [
              0,
              "#0d0887"
             ],
             [
              0.1111111111111111,
              "#46039f"
             ],
             [
              0.2222222222222222,
              "#7201a8"
             ],
             [
              0.3333333333333333,
              "#9c179e"
             ],
             [
              0.4444444444444444,
              "#bd3786"
             ],
             [
              0.5555555555555556,
              "#d8576b"
             ],
             [
              0.6666666666666666,
              "#ed7953"
             ],
             [
              0.7777777777777778,
              "#fb9f3a"
             ],
             [
              0.8888888888888888,
              "#fdca26"
             ],
             [
              1,
              "#f0f921"
             ]
            ],
            "type": "histogram2d"
           }
          ],
          "histogram2dcontour": [
           {
            "colorbar": {
             "outlinewidth": 0,
             "ticks": ""
            },
            "colorscale": [
             [
              0,
              "#0d0887"
             ],
             [
              0.1111111111111111,
              "#46039f"
             ],
             [
              0.2222222222222222,
              "#7201a8"
             ],
             [
              0.3333333333333333,
              "#9c179e"
             ],
             [
              0.4444444444444444,
              "#bd3786"
             ],
             [
              0.5555555555555556,
              "#d8576b"
             ],
             [
              0.6666666666666666,
              "#ed7953"
             ],
             [
              0.7777777777777778,
              "#fb9f3a"
             ],
             [
              0.8888888888888888,
              "#fdca26"
             ],
             [
              1,
              "#f0f921"
             ]
            ],
            "type": "histogram2dcontour"
           }
          ],
          "mesh3d": [
           {
            "colorbar": {
             "outlinewidth": 0,
             "ticks": ""
            },
            "type": "mesh3d"
           }
          ],
          "parcoords": [
           {
            "line": {
             "colorbar": {
              "outlinewidth": 0,
              "ticks": ""
             }
            },
            "type": "parcoords"
           }
          ],
          "pie": [
           {
            "automargin": true,
            "type": "pie"
           }
          ],
          "scatter": [
           {
            "marker": {
             "colorbar": {
              "outlinewidth": 0,
              "ticks": ""
             }
            },
            "type": "scatter"
           }
          ],
          "scatter3d": [
           {
            "line": {
             "colorbar": {
              "outlinewidth": 0,
              "ticks": ""
             }
            },
            "marker": {
             "colorbar": {
              "outlinewidth": 0,
              "ticks": ""
             }
            },
            "type": "scatter3d"
           }
          ],
          "scattercarpet": [
           {
            "marker": {
             "colorbar": {
              "outlinewidth": 0,
              "ticks": ""
             }
            },
            "type": "scattercarpet"
           }
          ],
          "scattergeo": [
           {
            "marker": {
             "colorbar": {
              "outlinewidth": 0,
              "ticks": ""
             }
            },
            "type": "scattergeo"
           }
          ],
          "scattergl": [
           {
            "marker": {
             "colorbar": {
              "outlinewidth": 0,
              "ticks": ""
             }
            },
            "type": "scattergl"
           }
          ],
          "scattermapbox": [
           {
            "marker": {
             "colorbar": {
              "outlinewidth": 0,
              "ticks": ""
             }
            },
            "type": "scattermapbox"
           }
          ],
          "scatterpolar": [
           {
            "marker": {
             "colorbar": {
              "outlinewidth": 0,
              "ticks": ""
             }
            },
            "type": "scatterpolar"
           }
          ],
          "scatterpolargl": [
           {
            "marker": {
             "colorbar": {
              "outlinewidth": 0,
              "ticks": ""
             }
            },
            "type": "scatterpolargl"
           }
          ],
          "scatterternary": [
           {
            "marker": {
             "colorbar": {
              "outlinewidth": 0,
              "ticks": ""
             }
            },
            "type": "scatterternary"
           }
          ],
          "surface": [
           {
            "colorbar": {
             "outlinewidth": 0,
             "ticks": ""
            },
            "colorscale": [
             [
              0,
              "#0d0887"
             ],
             [
              0.1111111111111111,
              "#46039f"
             ],
             [
              0.2222222222222222,
              "#7201a8"
             ],
             [
              0.3333333333333333,
              "#9c179e"
             ],
             [
              0.4444444444444444,
              "#bd3786"
             ],
             [
              0.5555555555555556,
              "#d8576b"
             ],
             [
              0.6666666666666666,
              "#ed7953"
             ],
             [
              0.7777777777777778,
              "#fb9f3a"
             ],
             [
              0.8888888888888888,
              "#fdca26"
             ],
             [
              1,
              "#f0f921"
             ]
            ],
            "type": "surface"
           }
          ],
          "table": [
           {
            "cells": {
             "fill": {
              "color": "#EBF0F8"
             },
             "line": {
              "color": "white"
             }
            },
            "header": {
             "fill": {
              "color": "#C8D4E3"
             },
             "line": {
              "color": "white"
             }
            },
            "type": "table"
           }
          ]
         },
         "layout": {
          "annotationdefaults": {
           "arrowcolor": "#2a3f5f",
           "arrowhead": 0,
           "arrowwidth": 1
          },
          "coloraxis": {
           "colorbar": {
            "outlinewidth": 0,
            "ticks": ""
           }
          },
          "colorscale": {
           "diverging": [
            [
             0,
             "#8e0152"
            ],
            [
             0.1,
             "#c51b7d"
            ],
            [
             0.2,
             "#de77ae"
            ],
            [
             0.3,
             "#f1b6da"
            ],
            [
             0.4,
             "#fde0ef"
            ],
            [
             0.5,
             "#f7f7f7"
            ],
            [
             0.6,
             "#e6f5d0"
            ],
            [
             0.7,
             "#b8e186"
            ],
            [
             0.8,
             "#7fbc41"
            ],
            [
             0.9,
             "#4d9221"
            ],
            [
             1,
             "#276419"
            ]
           ],
           "sequential": [
            [
             0,
             "#0d0887"
            ],
            [
             0.1111111111111111,
             "#46039f"
            ],
            [
             0.2222222222222222,
             "#7201a8"
            ],
            [
             0.3333333333333333,
             "#9c179e"
            ],
            [
             0.4444444444444444,
             "#bd3786"
            ],
            [
             0.5555555555555556,
             "#d8576b"
            ],
            [
             0.6666666666666666,
             "#ed7953"
            ],
            [
             0.7777777777777778,
             "#fb9f3a"
            ],
            [
             0.8888888888888888,
             "#fdca26"
            ],
            [
             1,
             "#f0f921"
            ]
           ],
           "sequentialminus": [
            [
             0,
             "#0d0887"
            ],
            [
             0.1111111111111111,
             "#46039f"
            ],
            [
             0.2222222222222222,
             "#7201a8"
            ],
            [
             0.3333333333333333,
             "#9c179e"
            ],
            [
             0.4444444444444444,
             "#bd3786"
            ],
            [
             0.5555555555555556,
             "#d8576b"
            ],
            [
             0.6666666666666666,
             "#ed7953"
            ],
            [
             0.7777777777777778,
             "#fb9f3a"
            ],
            [
             0.8888888888888888,
             "#fdca26"
            ],
            [
             1,
             "#f0f921"
            ]
           ]
          },
          "colorway": [
           "#636efa",
           "#EF553B",
           "#00cc96",
           "#ab63fa",
           "#FFA15A",
           "#19d3f3",
           "#FF6692",
           "#B6E880",
           "#FF97FF",
           "#FECB52"
          ],
          "font": {
           "color": "#2a3f5f"
          },
          "geo": {
           "bgcolor": "white",
           "lakecolor": "white",
           "landcolor": "#E5ECF6",
           "showlakes": true,
           "showland": true,
           "subunitcolor": "white"
          },
          "hoverlabel": {
           "align": "left"
          },
          "hovermode": "closest",
          "mapbox": {
           "style": "light"
          },
          "paper_bgcolor": "white",
          "plot_bgcolor": "#E5ECF6",
          "polar": {
           "angularaxis": {
            "gridcolor": "white",
            "linecolor": "white",
            "ticks": ""
           },
           "bgcolor": "#E5ECF6",
           "radialaxis": {
            "gridcolor": "white",
            "linecolor": "white",
            "ticks": ""
           }
          },
          "scene": {
           "xaxis": {
            "backgroundcolor": "#E5ECF6",
            "gridcolor": "white",
            "gridwidth": 2,
            "linecolor": "white",
            "showbackground": true,
            "ticks": "",
            "zerolinecolor": "white"
           },
           "yaxis": {
            "backgroundcolor": "#E5ECF6",
            "gridcolor": "white",
            "gridwidth": 2,
            "linecolor": "white",
            "showbackground": true,
            "ticks": "",
            "zerolinecolor": "white"
           },
           "zaxis": {
            "backgroundcolor": "#E5ECF6",
            "gridcolor": "white",
            "gridwidth": 2,
            "linecolor": "white",
            "showbackground": true,
            "ticks": "",
            "zerolinecolor": "white"
           }
          },
          "shapedefaults": {
           "line": {
            "color": "#2a3f5f"
           }
          },
          "ternary": {
           "aaxis": {
            "gridcolor": "white",
            "linecolor": "white",
            "ticks": ""
           },
           "baxis": {
            "gridcolor": "white",
            "linecolor": "white",
            "ticks": ""
           },
           "bgcolor": "#E5ECF6",
           "caxis": {
            "gridcolor": "white",
            "linecolor": "white",
            "ticks": ""
           }
          },
          "title": {
           "x": 0.05
          },
          "xaxis": {
           "automargin": true,
           "gridcolor": "white",
           "linecolor": "white",
           "ticks": "",
           "title": {
            "standoff": 15
           },
           "zerolinecolor": "white",
           "zerolinewidth": 2
          },
          "yaxis": {
           "automargin": true,
           "gridcolor": "white",
           "linecolor": "white",
           "ticks": "",
           "title": {
            "standoff": 15
           },
           "zerolinecolor": "white",
           "zerolinewidth": 2
          }
         }
        }
       }
      },
      "text/html": [
       "<div>                            <div id=\"12523020-2001-484c-bd6a-ecfa1e7da281\" class=\"plotly-graph-div\" style=\"height:525px; width:100%;\"></div>            <script type=\"text/javascript\">                require([\"plotly\"], function(Plotly) {                    window.PLOTLYENV=window.PLOTLYENV || {};                                    if (document.getElementById(\"12523020-2001-484c-bd6a-ecfa1e7da281\")) {                    Plotly.newPlot(                        \"12523020-2001-484c-bd6a-ecfa1e7da281\",                        [{\"fill\": \"toself\", \"type\": \"scatter\", \"x\": [0, 22, \"none\", 22, 22, \"none\", 0, 0, 7, 7, 0, \"none\", 0, 22, \"none\", 22, 22, \"none\", 7, 7, 12, 12, 7, \"none\", 0, 22, \"none\", 22, 22, \"none\", 12, 12, 17, 17, 12, \"none\", 0, 22, \"none\", 22, 22, \"none\", 17, 17, 22, 22, 17, \"none\"], \"y\": [8, 8, \"none\", 0, 8, \"none\", 0, 6, 6, 0, 0, \"none\", 8, 8, \"none\", 0, 8, \"none\", 0, 5, 5, 0, 0, \"none\", 8, 8, \"none\", 0, 8, \"none\", 0, 5, 5, 0, 0, \"none\", 8, 8, \"none\", 0, 8, \"none\", 0, 5, 5, 0, 0, \"none\"]}],                        {\"template\": {\"data\": {\"bar\": [{\"error_x\": {\"color\": \"#2a3f5f\"}, \"error_y\": {\"color\": \"#2a3f5f\"}, \"marker\": {\"line\": {\"color\": \"#E5ECF6\", \"width\": 0.5}}, \"type\": \"bar\"}], \"barpolar\": [{\"marker\": {\"line\": {\"color\": \"#E5ECF6\", \"width\": 0.5}}, \"type\": \"barpolar\"}], \"carpet\": [{\"aaxis\": {\"endlinecolor\": \"#2a3f5f\", \"gridcolor\": \"white\", \"linecolor\": \"white\", \"minorgridcolor\": \"white\", \"startlinecolor\": \"#2a3f5f\"}, \"baxis\": {\"endlinecolor\": \"#2a3f5f\", \"gridcolor\": \"white\", \"linecolor\": \"white\", \"minorgridcolor\": \"white\", \"startlinecolor\": \"#2a3f5f\"}, \"type\": \"carpet\"}], \"choropleth\": [{\"colorbar\": {\"outlinewidth\": 0, \"ticks\": \"\"}, \"type\": \"choropleth\"}], \"contour\": [{\"colorbar\": {\"outlinewidth\": 0, \"ticks\": \"\"}, \"colorscale\": [[0.0, \"#0d0887\"], [0.1111111111111111, \"#46039f\"], [0.2222222222222222, \"#7201a8\"], [0.3333333333333333, \"#9c179e\"], [0.4444444444444444, \"#bd3786\"], [0.5555555555555556, \"#d8576b\"], [0.6666666666666666, \"#ed7953\"], [0.7777777777777778, \"#fb9f3a\"], [0.8888888888888888, \"#fdca26\"], [1.0, \"#f0f921\"]], \"type\": \"contour\"}], \"contourcarpet\": [{\"colorbar\": {\"outlinewidth\": 0, \"ticks\": \"\"}, \"type\": \"contourcarpet\"}], \"heatmap\": [{\"colorbar\": {\"outlinewidth\": 0, \"ticks\": \"\"}, \"colorscale\": [[0.0, \"#0d0887\"], [0.1111111111111111, \"#46039f\"], [0.2222222222222222, \"#7201a8\"], [0.3333333333333333, \"#9c179e\"], [0.4444444444444444, \"#bd3786\"], [0.5555555555555556, \"#d8576b\"], [0.6666666666666666, \"#ed7953\"], [0.7777777777777778, \"#fb9f3a\"], [0.8888888888888888, \"#fdca26\"], [1.0, \"#f0f921\"]], \"type\": \"heatmap\"}], \"heatmapgl\": [{\"colorbar\": {\"outlinewidth\": 0, \"ticks\": \"\"}, \"colorscale\": [[0.0, \"#0d0887\"], [0.1111111111111111, \"#46039f\"], [0.2222222222222222, \"#7201a8\"], [0.3333333333333333, \"#9c179e\"], [0.4444444444444444, \"#bd3786\"], [0.5555555555555556, \"#d8576b\"], [0.6666666666666666, \"#ed7953\"], [0.7777777777777778, \"#fb9f3a\"], [0.8888888888888888, \"#fdca26\"], [1.0, \"#f0f921\"]], \"type\": \"heatmapgl\"}], \"histogram\": [{\"marker\": {\"colorbar\": {\"outlinewidth\": 0, \"ticks\": \"\"}}, \"type\": \"histogram\"}], \"histogram2d\": [{\"colorbar\": {\"outlinewidth\": 0, \"ticks\": \"\"}, \"colorscale\": [[0.0, \"#0d0887\"], [0.1111111111111111, \"#46039f\"], [0.2222222222222222, \"#7201a8\"], [0.3333333333333333, \"#9c179e\"], [0.4444444444444444, \"#bd3786\"], [0.5555555555555556, \"#d8576b\"], [0.6666666666666666, \"#ed7953\"], [0.7777777777777778, \"#fb9f3a\"], [0.8888888888888888, \"#fdca26\"], [1.0, \"#f0f921\"]], \"type\": \"histogram2d\"}], \"histogram2dcontour\": [{\"colorbar\": {\"outlinewidth\": 0, \"ticks\": \"\"}, \"colorscale\": [[0.0, \"#0d0887\"], [0.1111111111111111, \"#46039f\"], [0.2222222222222222, \"#7201a8\"], [0.3333333333333333, \"#9c179e\"], [0.4444444444444444, \"#bd3786\"], [0.5555555555555556, \"#d8576b\"], [0.6666666666666666, \"#ed7953\"], [0.7777777777777778, \"#fb9f3a\"], [0.8888888888888888, \"#fdca26\"], [1.0, \"#f0f921\"]], \"type\": \"histogram2dcontour\"}], \"mesh3d\": [{\"colorbar\": {\"outlinewidth\": 0, \"ticks\": \"\"}, \"type\": \"mesh3d\"}], \"parcoords\": [{\"line\": {\"colorbar\": {\"outlinewidth\": 0, \"ticks\": \"\"}}, \"type\": \"parcoords\"}], \"pie\": [{\"automargin\": true, \"type\": \"pie\"}], \"scatter\": [{\"marker\": {\"colorbar\": {\"outlinewidth\": 0, \"ticks\": \"\"}}, \"type\": \"scatter\"}], \"scatter3d\": [{\"line\": {\"colorbar\": {\"outlinewidth\": 0, \"ticks\": \"\"}}, \"marker\": {\"colorbar\": {\"outlinewidth\": 0, \"ticks\": \"\"}}, \"type\": \"scatter3d\"}], \"scattercarpet\": [{\"marker\": {\"colorbar\": {\"outlinewidth\": 0, \"ticks\": \"\"}}, \"type\": \"scattercarpet\"}], \"scattergeo\": [{\"marker\": {\"colorbar\": {\"outlinewidth\": 0, \"ticks\": \"\"}}, \"type\": \"scattergeo\"}], \"scattergl\": [{\"marker\": {\"colorbar\": {\"outlinewidth\": 0, \"ticks\": \"\"}}, \"type\": \"scattergl\"}], \"scattermapbox\": [{\"marker\": {\"colorbar\": {\"outlinewidth\": 0, \"ticks\": \"\"}}, \"type\": \"scattermapbox\"}], \"scatterpolar\": [{\"marker\": {\"colorbar\": {\"outlinewidth\": 0, \"ticks\": \"\"}}, \"type\": \"scatterpolar\"}], \"scatterpolargl\": [{\"marker\": {\"colorbar\": {\"outlinewidth\": 0, \"ticks\": \"\"}}, \"type\": \"scatterpolargl\"}], \"scatterternary\": [{\"marker\": {\"colorbar\": {\"outlinewidth\": 0, \"ticks\": \"\"}}, \"type\": \"scatterternary\"}], \"surface\": [{\"colorbar\": {\"outlinewidth\": 0, \"ticks\": \"\"}, \"colorscale\": [[0.0, \"#0d0887\"], [0.1111111111111111, \"#46039f\"], [0.2222222222222222, \"#7201a8\"], [0.3333333333333333, \"#9c179e\"], [0.4444444444444444, \"#bd3786\"], [0.5555555555555556, \"#d8576b\"], [0.6666666666666666, \"#ed7953\"], [0.7777777777777778, \"#fb9f3a\"], [0.8888888888888888, \"#fdca26\"], [1.0, \"#f0f921\"]], \"type\": \"surface\"}], \"table\": [{\"cells\": {\"fill\": {\"color\": \"#EBF0F8\"}, \"line\": {\"color\": \"white\"}}, \"header\": {\"fill\": {\"color\": \"#C8D4E3\"}, \"line\": {\"color\": \"white\"}}, \"type\": \"table\"}]}, \"layout\": {\"annotationdefaults\": {\"arrowcolor\": \"#2a3f5f\", \"arrowhead\": 0, \"arrowwidth\": 1}, \"coloraxis\": {\"colorbar\": {\"outlinewidth\": 0, \"ticks\": \"\"}}, \"colorscale\": {\"diverging\": [[0, \"#8e0152\"], [0.1, \"#c51b7d\"], [0.2, \"#de77ae\"], [0.3, \"#f1b6da\"], [0.4, \"#fde0ef\"], [0.5, \"#f7f7f7\"], [0.6, \"#e6f5d0\"], [0.7, \"#b8e186\"], [0.8, \"#7fbc41\"], [0.9, \"#4d9221\"], [1, \"#276419\"]], \"sequential\": [[0.0, \"#0d0887\"], [0.1111111111111111, \"#46039f\"], [0.2222222222222222, \"#7201a8\"], [0.3333333333333333, \"#9c179e\"], [0.4444444444444444, \"#bd3786\"], [0.5555555555555556, \"#d8576b\"], [0.6666666666666666, \"#ed7953\"], [0.7777777777777778, \"#fb9f3a\"], [0.8888888888888888, \"#fdca26\"], [1.0, \"#f0f921\"]], \"sequentialminus\": [[0.0, \"#0d0887\"], [0.1111111111111111, \"#46039f\"], [0.2222222222222222, \"#7201a8\"], [0.3333333333333333, \"#9c179e\"], [0.4444444444444444, \"#bd3786\"], [0.5555555555555556, \"#d8576b\"], [0.6666666666666666, \"#ed7953\"], [0.7777777777777778, \"#fb9f3a\"], [0.8888888888888888, \"#fdca26\"], [1.0, \"#f0f921\"]]}, \"colorway\": [\"#636efa\", \"#EF553B\", \"#00cc96\", \"#ab63fa\", \"#FFA15A\", \"#19d3f3\", \"#FF6692\", \"#B6E880\", \"#FF97FF\", \"#FECB52\"], \"font\": {\"color\": \"#2a3f5f\"}, \"geo\": {\"bgcolor\": \"white\", \"lakecolor\": \"white\", \"landcolor\": \"#E5ECF6\", \"showlakes\": true, \"showland\": true, \"subunitcolor\": \"white\"}, \"hoverlabel\": {\"align\": \"left\"}, \"hovermode\": \"closest\", \"mapbox\": {\"style\": \"light\"}, \"paper_bgcolor\": \"white\", \"plot_bgcolor\": \"#E5ECF6\", \"polar\": {\"angularaxis\": {\"gridcolor\": \"white\", \"linecolor\": \"white\", \"ticks\": \"\"}, \"bgcolor\": \"#E5ECF6\", \"radialaxis\": {\"gridcolor\": \"white\", \"linecolor\": \"white\", \"ticks\": \"\"}}, \"scene\": {\"xaxis\": {\"backgroundcolor\": \"#E5ECF6\", \"gridcolor\": \"white\", \"gridwidth\": 2, \"linecolor\": \"white\", \"showbackground\": true, \"ticks\": \"\", \"zerolinecolor\": \"white\"}, \"yaxis\": {\"backgroundcolor\": \"#E5ECF6\", \"gridcolor\": \"white\", \"gridwidth\": 2, \"linecolor\": \"white\", \"showbackground\": true, \"ticks\": \"\", \"zerolinecolor\": \"white\"}, \"zaxis\": {\"backgroundcolor\": \"#E5ECF6\", \"gridcolor\": \"white\", \"gridwidth\": 2, \"linecolor\": \"white\", \"showbackground\": true, \"ticks\": \"\", \"zerolinecolor\": \"white\"}}, \"shapedefaults\": {\"line\": {\"color\": \"#2a3f5f\"}}, \"ternary\": {\"aaxis\": {\"gridcolor\": \"white\", \"linecolor\": \"white\", \"ticks\": \"\"}, \"baxis\": {\"gridcolor\": \"white\", \"linecolor\": \"white\", \"ticks\": \"\"}, \"bgcolor\": \"#E5ECF6\", \"caxis\": {\"gridcolor\": \"white\", \"linecolor\": \"white\", \"ticks\": \"\"}}, \"title\": {\"x\": 0.05}, \"xaxis\": {\"automargin\": true, \"gridcolor\": \"white\", \"linecolor\": \"white\", \"ticks\": \"\", \"title\": {\"standoff\": 15}, \"zerolinecolor\": \"white\", \"zerolinewidth\": 2}, \"yaxis\": {\"automargin\": true, \"gridcolor\": \"white\", \"linecolor\": \"white\", \"ticks\": \"\", \"title\": {\"standoff\": 15}, \"zerolinecolor\": \"white\", \"zerolinewidth\": 2}}}},                        {\"responsive\": true}                    ).then(function(){\n",
       "                            \n",
       "var gd = document.getElementById('12523020-2001-484c-bd6a-ecfa1e7da281');\n",
       "var x = new MutationObserver(function (mutations, observer) {{\n",
       "        var display = window.getComputedStyle(gd).display;\n",
       "        if (!display || display === 'none') {{\n",
       "            console.log([gd, 'removed!']);\n",
       "            Plotly.purge(gd);\n",
       "            observer.disconnect();\n",
       "        }}\n",
       "}});\n",
       "\n",
       "// Listen for the removal of the full notebook cells\n",
       "var notebookContainer = gd.closest('#notebook-container');\n",
       "if (notebookContainer) {{\n",
       "    x.observe(notebookContainer, {childList: true});\n",
       "}}\n",
       "\n",
       "// Listen for the clearing of the current output cell\n",
       "var outputEl = gd.closest('.output');\n",
       "if (outputEl) {{\n",
       "    x.observe(outputEl, {childList: true});\n",
       "}}\n",
       "\n",
       "                        })                };                });            </script>        </div>"
      ]
     },
     "metadata": {},
     "output_type": "display_data"
    },
    {
     "data": {
      "application/vnd.plotly.v1+json": {
       "config": {
        "plotlyServerURL": "https://plot.ly"
       },
       "data": [
        {
         "fill": "toself",
         "type": "scatter",
         "x": [
          0,
          27,
          "none",
          27,
          27,
          "none",
          0,
          0,
          5,
          5,
          0,
          "none",
          0,
          27,
          "none",
          27,
          27,
          "none",
          5,
          5,
          11,
          11,
          5,
          "none",
          0,
          27,
          "none",
          27,
          27,
          "none",
          11,
          11,
          16,
          16,
          11,
          "none",
          0,
          27,
          "none",
          27,
          27,
          "none",
          16,
          16,
          21,
          21,
          16,
          "none",
          0,
          27,
          "none",
          27,
          27,
          "none",
          21,
          21,
          26,
          26,
          21,
          "none",
          0,
          27,
          "none",
          27,
          27,
          "none",
          0,
          0,
          5,
          5,
          0,
          "none",
          0,
          27,
          "none",
          27,
          27,
          "none",
          5,
          5,
          12,
          12,
          5,
          "none",
          0,
          27,
          "none",
          27,
          27,
          "none",
          12,
          12,
          17,
          17,
          12,
          "none",
          0,
          27,
          "none",
          27,
          27,
          "none",
          17,
          17,
          22,
          22,
          17,
          "none"
         ],
         "y": [
          25,
          25,
          "none",
          0,
          25,
          "none",
          0,
          7,
          7,
          0,
          0,
          "none",
          25,
          25,
          "none",
          0,
          25,
          "none",
          0,
          7,
          7,
          0,
          0,
          "none",
          25,
          25,
          "none",
          0,
          25,
          "none",
          0,
          7,
          7,
          0,
          0,
          "none",
          25,
          25,
          "none",
          0,
          25,
          "none",
          0,
          6,
          6,
          0,
          0,
          "none",
          25,
          25,
          "none",
          0,
          25,
          "none",
          0,
          6,
          6,
          0,
          0,
          "none",
          25,
          25,
          "none",
          0,
          25,
          "none",
          7,
          12,
          12,
          7,
          7,
          "none",
          25,
          25,
          "none",
          0,
          25,
          "none",
          7,
          12,
          12,
          7,
          7,
          "none",
          25,
          25,
          "none",
          0,
          25,
          "none",
          7,
          12,
          12,
          7,
          7,
          "none",
          25,
          25,
          "none",
          0,
          25,
          "none",
          7,
          12,
          12,
          7,
          7,
          "none"
         ]
        }
       ],
       "layout": {
        "template": {
         "data": {
          "bar": [
           {
            "error_x": {
             "color": "#2a3f5f"
            },
            "error_y": {
             "color": "#2a3f5f"
            },
            "marker": {
             "line": {
              "color": "#E5ECF6",
              "width": 0.5
             }
            },
            "type": "bar"
           }
          ],
          "barpolar": [
           {
            "marker": {
             "line": {
              "color": "#E5ECF6",
              "width": 0.5
             }
            },
            "type": "barpolar"
           }
          ],
          "carpet": [
           {
            "aaxis": {
             "endlinecolor": "#2a3f5f",
             "gridcolor": "white",
             "linecolor": "white",
             "minorgridcolor": "white",
             "startlinecolor": "#2a3f5f"
            },
            "baxis": {
             "endlinecolor": "#2a3f5f",
             "gridcolor": "white",
             "linecolor": "white",
             "minorgridcolor": "white",
             "startlinecolor": "#2a3f5f"
            },
            "type": "carpet"
           }
          ],
          "choropleth": [
           {
            "colorbar": {
             "outlinewidth": 0,
             "ticks": ""
            },
            "type": "choropleth"
           }
          ],
          "contour": [
           {
            "colorbar": {
             "outlinewidth": 0,
             "ticks": ""
            },
            "colorscale": [
             [
              0,
              "#0d0887"
             ],
             [
              0.1111111111111111,
              "#46039f"
             ],
             [
              0.2222222222222222,
              "#7201a8"
             ],
             [
              0.3333333333333333,
              "#9c179e"
             ],
             [
              0.4444444444444444,
              "#bd3786"
             ],
             [
              0.5555555555555556,
              "#d8576b"
             ],
             [
              0.6666666666666666,
              "#ed7953"
             ],
             [
              0.7777777777777778,
              "#fb9f3a"
             ],
             [
              0.8888888888888888,
              "#fdca26"
             ],
             [
              1,
              "#f0f921"
             ]
            ],
            "type": "contour"
           }
          ],
          "contourcarpet": [
           {
            "colorbar": {
             "outlinewidth": 0,
             "ticks": ""
            },
            "type": "contourcarpet"
           }
          ],
          "heatmap": [
           {
            "colorbar": {
             "outlinewidth": 0,
             "ticks": ""
            },
            "colorscale": [
             [
              0,
              "#0d0887"
             ],
             [
              0.1111111111111111,
              "#46039f"
             ],
             [
              0.2222222222222222,
              "#7201a8"
             ],
             [
              0.3333333333333333,
              "#9c179e"
             ],
             [
              0.4444444444444444,
              "#bd3786"
             ],
             [
              0.5555555555555556,
              "#d8576b"
             ],
             [
              0.6666666666666666,
              "#ed7953"
             ],
             [
              0.7777777777777778,
              "#fb9f3a"
             ],
             [
              0.8888888888888888,
              "#fdca26"
             ],
             [
              1,
              "#f0f921"
             ]
            ],
            "type": "heatmap"
           }
          ],
          "heatmapgl": [
           {
            "colorbar": {
             "outlinewidth": 0,
             "ticks": ""
            },
            "colorscale": [
             [
              0,
              "#0d0887"
             ],
             [
              0.1111111111111111,
              "#46039f"
             ],
             [
              0.2222222222222222,
              "#7201a8"
             ],
             [
              0.3333333333333333,
              "#9c179e"
             ],
             [
              0.4444444444444444,
              "#bd3786"
             ],
             [
              0.5555555555555556,
              "#d8576b"
             ],
             [
              0.6666666666666666,
              "#ed7953"
             ],
             [
              0.7777777777777778,
              "#fb9f3a"
             ],
             [
              0.8888888888888888,
              "#fdca26"
             ],
             [
              1,
              "#f0f921"
             ]
            ],
            "type": "heatmapgl"
           }
          ],
          "histogram": [
           {
            "marker": {
             "colorbar": {
              "outlinewidth": 0,
              "ticks": ""
             }
            },
            "type": "histogram"
           }
          ],
          "histogram2d": [
           {
            "colorbar": {
             "outlinewidth": 0,
             "ticks": ""
            },
            "colorscale": [
             [
              0,
              "#0d0887"
             ],
             [
              0.1111111111111111,
              "#46039f"
             ],
             [
              0.2222222222222222,
              "#7201a8"
             ],
             [
              0.3333333333333333,
              "#9c179e"
             ],
             [
              0.4444444444444444,
              "#bd3786"
             ],
             [
              0.5555555555555556,
              "#d8576b"
             ],
             [
              0.6666666666666666,
              "#ed7953"
             ],
             [
              0.7777777777777778,
              "#fb9f3a"
             ],
             [
              0.8888888888888888,
              "#fdca26"
             ],
             [
              1,
              "#f0f921"
             ]
            ],
            "type": "histogram2d"
           }
          ],
          "histogram2dcontour": [
           {
            "colorbar": {
             "outlinewidth": 0,
             "ticks": ""
            },
            "colorscale": [
             [
              0,
              "#0d0887"
             ],
             [
              0.1111111111111111,
              "#46039f"
             ],
             [
              0.2222222222222222,
              "#7201a8"
             ],
             [
              0.3333333333333333,
              "#9c179e"
             ],
             [
              0.4444444444444444,
              "#bd3786"
             ],
             [
              0.5555555555555556,
              "#d8576b"
             ],
             [
              0.6666666666666666,
              "#ed7953"
             ],
             [
              0.7777777777777778,
              "#fb9f3a"
             ],
             [
              0.8888888888888888,
              "#fdca26"
             ],
             [
              1,
              "#f0f921"
             ]
            ],
            "type": "histogram2dcontour"
           }
          ],
          "mesh3d": [
           {
            "colorbar": {
             "outlinewidth": 0,
             "ticks": ""
            },
            "type": "mesh3d"
           }
          ],
          "parcoords": [
           {
            "line": {
             "colorbar": {
              "outlinewidth": 0,
              "ticks": ""
             }
            },
            "type": "parcoords"
           }
          ],
          "pie": [
           {
            "automargin": true,
            "type": "pie"
           }
          ],
          "scatter": [
           {
            "marker": {
             "colorbar": {
              "outlinewidth": 0,
              "ticks": ""
             }
            },
            "type": "scatter"
           }
          ],
          "scatter3d": [
           {
            "line": {
             "colorbar": {
              "outlinewidth": 0,
              "ticks": ""
             }
            },
            "marker": {
             "colorbar": {
              "outlinewidth": 0,
              "ticks": ""
             }
            },
            "type": "scatter3d"
           }
          ],
          "scattercarpet": [
           {
            "marker": {
             "colorbar": {
              "outlinewidth": 0,
              "ticks": ""
             }
            },
            "type": "scattercarpet"
           }
          ],
          "scattergeo": [
           {
            "marker": {
             "colorbar": {
              "outlinewidth": 0,
              "ticks": ""
             }
            },
            "type": "scattergeo"
           }
          ],
          "scattergl": [
           {
            "marker": {
             "colorbar": {
              "outlinewidth": 0,
              "ticks": ""
             }
            },
            "type": "scattergl"
           }
          ],
          "scattermapbox": [
           {
            "marker": {
             "colorbar": {
              "outlinewidth": 0,
              "ticks": ""
             }
            },
            "type": "scattermapbox"
           }
          ],
          "scatterpolar": [
           {
            "marker": {
             "colorbar": {
              "outlinewidth": 0,
              "ticks": ""
             }
            },
            "type": "scatterpolar"
           }
          ],
          "scatterpolargl": [
           {
            "marker": {
             "colorbar": {
              "outlinewidth": 0,
              "ticks": ""
             }
            },
            "type": "scatterpolargl"
           }
          ],
          "scatterternary": [
           {
            "marker": {
             "colorbar": {
              "outlinewidth": 0,
              "ticks": ""
             }
            },
            "type": "scatterternary"
           }
          ],
          "surface": [
           {
            "colorbar": {
             "outlinewidth": 0,
             "ticks": ""
            },
            "colorscale": [
             [
              0,
              "#0d0887"
             ],
             [
              0.1111111111111111,
              "#46039f"
             ],
             [
              0.2222222222222222,
              "#7201a8"
             ],
             [
              0.3333333333333333,
              "#9c179e"
             ],
             [
              0.4444444444444444,
              "#bd3786"
             ],
             [
              0.5555555555555556,
              "#d8576b"
             ],
             [
              0.6666666666666666,
              "#ed7953"
             ],
             [
              0.7777777777777778,
              "#fb9f3a"
             ],
             [
              0.8888888888888888,
              "#fdca26"
             ],
             [
              1,
              "#f0f921"
             ]
            ],
            "type": "surface"
           }
          ],
          "table": [
           {
            "cells": {
             "fill": {
              "color": "#EBF0F8"
             },
             "line": {
              "color": "white"
             }
            },
            "header": {
             "fill": {
              "color": "#C8D4E3"
             },
             "line": {
              "color": "white"
             }
            },
            "type": "table"
           }
          ]
         },
         "layout": {
          "annotationdefaults": {
           "arrowcolor": "#2a3f5f",
           "arrowhead": 0,
           "arrowwidth": 1
          },
          "coloraxis": {
           "colorbar": {
            "outlinewidth": 0,
            "ticks": ""
           }
          },
          "colorscale": {
           "diverging": [
            [
             0,
             "#8e0152"
            ],
            [
             0.1,
             "#c51b7d"
            ],
            [
             0.2,
             "#de77ae"
            ],
            [
             0.3,
             "#f1b6da"
            ],
            [
             0.4,
             "#fde0ef"
            ],
            [
             0.5,
             "#f7f7f7"
            ],
            [
             0.6,
             "#e6f5d0"
            ],
            [
             0.7,
             "#b8e186"
            ],
            [
             0.8,
             "#7fbc41"
            ],
            [
             0.9,
             "#4d9221"
            ],
            [
             1,
             "#276419"
            ]
           ],
           "sequential": [
            [
             0,
             "#0d0887"
            ],
            [
             0.1111111111111111,
             "#46039f"
            ],
            [
             0.2222222222222222,
             "#7201a8"
            ],
            [
             0.3333333333333333,
             "#9c179e"
            ],
            [
             0.4444444444444444,
             "#bd3786"
            ],
            [
             0.5555555555555556,
             "#d8576b"
            ],
            [
             0.6666666666666666,
             "#ed7953"
            ],
            [
             0.7777777777777778,
             "#fb9f3a"
            ],
            [
             0.8888888888888888,
             "#fdca26"
            ],
            [
             1,
             "#f0f921"
            ]
           ],
           "sequentialminus": [
            [
             0,
             "#0d0887"
            ],
            [
             0.1111111111111111,
             "#46039f"
            ],
            [
             0.2222222222222222,
             "#7201a8"
            ],
            [
             0.3333333333333333,
             "#9c179e"
            ],
            [
             0.4444444444444444,
             "#bd3786"
            ],
            [
             0.5555555555555556,
             "#d8576b"
            ],
            [
             0.6666666666666666,
             "#ed7953"
            ],
            [
             0.7777777777777778,
             "#fb9f3a"
            ],
            [
             0.8888888888888888,
             "#fdca26"
            ],
            [
             1,
             "#f0f921"
            ]
           ]
          },
          "colorway": [
           "#636efa",
           "#EF553B",
           "#00cc96",
           "#ab63fa",
           "#FFA15A",
           "#19d3f3",
           "#FF6692",
           "#B6E880",
           "#FF97FF",
           "#FECB52"
          ],
          "font": {
           "color": "#2a3f5f"
          },
          "geo": {
           "bgcolor": "white",
           "lakecolor": "white",
           "landcolor": "#E5ECF6",
           "showlakes": true,
           "showland": true,
           "subunitcolor": "white"
          },
          "hoverlabel": {
           "align": "left"
          },
          "hovermode": "closest",
          "mapbox": {
           "style": "light"
          },
          "paper_bgcolor": "white",
          "plot_bgcolor": "#E5ECF6",
          "polar": {
           "angularaxis": {
            "gridcolor": "white",
            "linecolor": "white",
            "ticks": ""
           },
           "bgcolor": "#E5ECF6",
           "radialaxis": {
            "gridcolor": "white",
            "linecolor": "white",
            "ticks": ""
           }
          },
          "scene": {
           "xaxis": {
            "backgroundcolor": "#E5ECF6",
            "gridcolor": "white",
            "gridwidth": 2,
            "linecolor": "white",
            "showbackground": true,
            "ticks": "",
            "zerolinecolor": "white"
           },
           "yaxis": {
            "backgroundcolor": "#E5ECF6",
            "gridcolor": "white",
            "gridwidth": 2,
            "linecolor": "white",
            "showbackground": true,
            "ticks": "",
            "zerolinecolor": "white"
           },
           "zaxis": {
            "backgroundcolor": "#E5ECF6",
            "gridcolor": "white",
            "gridwidth": 2,
            "linecolor": "white",
            "showbackground": true,
            "ticks": "",
            "zerolinecolor": "white"
           }
          },
          "shapedefaults": {
           "line": {
            "color": "#2a3f5f"
           }
          },
          "ternary": {
           "aaxis": {
            "gridcolor": "white",
            "linecolor": "white",
            "ticks": ""
           },
           "baxis": {
            "gridcolor": "white",
            "linecolor": "white",
            "ticks": ""
           },
           "bgcolor": "#E5ECF6",
           "caxis": {
            "gridcolor": "white",
            "linecolor": "white",
            "ticks": ""
           }
          },
          "title": {
           "x": 0.05
          },
          "xaxis": {
           "automargin": true,
           "gridcolor": "white",
           "linecolor": "white",
           "ticks": "",
           "title": {
            "standoff": 15
           },
           "zerolinecolor": "white",
           "zerolinewidth": 2
          },
          "yaxis": {
           "automargin": true,
           "gridcolor": "white",
           "linecolor": "white",
           "ticks": "",
           "title": {
            "standoff": 15
           },
           "zerolinecolor": "white",
           "zerolinewidth": 2
          }
         }
        }
       }
      },
      "text/html": [
       "<div>                            <div id=\"4ad904db-c02e-43ac-a38d-3cd324d0b1c4\" class=\"plotly-graph-div\" style=\"height:525px; width:100%;\"></div>            <script type=\"text/javascript\">                require([\"plotly\"], function(Plotly) {                    window.PLOTLYENV=window.PLOTLYENV || {};                                    if (document.getElementById(\"4ad904db-c02e-43ac-a38d-3cd324d0b1c4\")) {                    Plotly.newPlot(                        \"4ad904db-c02e-43ac-a38d-3cd324d0b1c4\",                        [{\"fill\": \"toself\", \"type\": \"scatter\", \"x\": [0, 27.0, \"none\", 27.0, 27.0, \"none\", 0, 0, 5, 5, 0, \"none\", 0, 27.0, \"none\", 27.0, 27.0, \"none\", 5, 5, 11, 11, 5, \"none\", 0, 27.0, \"none\", 27.0, 27.0, \"none\", 11, 11, 16, 16, 11, \"none\", 0, 27.0, \"none\", 27.0, 27.0, \"none\", 16, 16, 21, 21, 16, \"none\", 0, 27.0, \"none\", 27.0, 27.0, \"none\", 21, 21, 26, 26, 21, \"none\", 0, 27.0, \"none\", 27.0, 27.0, \"none\", 0, 0, 5, 5, 0, \"none\", 0, 27.0, \"none\", 27.0, 27.0, \"none\", 5, 5, 12, 12, 5, \"none\", 0, 27.0, \"none\", 27.0, 27.0, \"none\", 12, 12, 17, 17, 12, \"none\", 0, 27.0, \"none\", 27.0, 27.0, \"none\", 17, 17, 22, 22, 17, \"none\"], \"y\": [25, 25, \"none\", 0, 25, \"none\", 0, 7, 7, 0, 0, \"none\", 25, 25, \"none\", 0, 25, \"none\", 0, 7, 7, 0, 0, \"none\", 25, 25, \"none\", 0, 25, \"none\", 0, 7, 7, 0, 0, \"none\", 25, 25, \"none\", 0, 25, \"none\", 0, 6, 6, 0, 0, \"none\", 25, 25, \"none\", 0, 25, \"none\", 0, 6, 6, 0, 0, \"none\", 25, 25, \"none\", 0, 25, \"none\", 7, 12, 12, 7, 7, \"none\", 25, 25, \"none\", 0, 25, \"none\", 7, 12, 12, 7, 7, \"none\", 25, 25, \"none\", 0, 25, \"none\", 7, 12, 12, 7, 7, \"none\", 25, 25, \"none\", 0, 25, \"none\", 7, 12, 12, 7, 7, \"none\"]}],                        {\"template\": {\"data\": {\"bar\": [{\"error_x\": {\"color\": \"#2a3f5f\"}, \"error_y\": {\"color\": \"#2a3f5f\"}, \"marker\": {\"line\": {\"color\": \"#E5ECF6\", \"width\": 0.5}}, \"type\": \"bar\"}], \"barpolar\": [{\"marker\": {\"line\": {\"color\": \"#E5ECF6\", \"width\": 0.5}}, \"type\": \"barpolar\"}], \"carpet\": [{\"aaxis\": {\"endlinecolor\": \"#2a3f5f\", \"gridcolor\": \"white\", \"linecolor\": \"white\", \"minorgridcolor\": \"white\", \"startlinecolor\": \"#2a3f5f\"}, \"baxis\": {\"endlinecolor\": \"#2a3f5f\", \"gridcolor\": \"white\", \"linecolor\": \"white\", \"minorgridcolor\": \"white\", \"startlinecolor\": \"#2a3f5f\"}, \"type\": \"carpet\"}], \"choropleth\": [{\"colorbar\": {\"outlinewidth\": 0, \"ticks\": \"\"}, \"type\": \"choropleth\"}], \"contour\": [{\"colorbar\": {\"outlinewidth\": 0, \"ticks\": \"\"}, \"colorscale\": [[0.0, \"#0d0887\"], [0.1111111111111111, \"#46039f\"], [0.2222222222222222, \"#7201a8\"], [0.3333333333333333, \"#9c179e\"], [0.4444444444444444, \"#bd3786\"], [0.5555555555555556, \"#d8576b\"], [0.6666666666666666, \"#ed7953\"], [0.7777777777777778, \"#fb9f3a\"], [0.8888888888888888, \"#fdca26\"], [1.0, \"#f0f921\"]], \"type\": \"contour\"}], \"contourcarpet\": [{\"colorbar\": {\"outlinewidth\": 0, \"ticks\": \"\"}, \"type\": \"contourcarpet\"}], \"heatmap\": [{\"colorbar\": {\"outlinewidth\": 0, \"ticks\": \"\"}, \"colorscale\": [[0.0, \"#0d0887\"], [0.1111111111111111, \"#46039f\"], [0.2222222222222222, \"#7201a8\"], [0.3333333333333333, \"#9c179e\"], [0.4444444444444444, \"#bd3786\"], [0.5555555555555556, \"#d8576b\"], [0.6666666666666666, \"#ed7953\"], [0.7777777777777778, \"#fb9f3a\"], [0.8888888888888888, \"#fdca26\"], [1.0, \"#f0f921\"]], \"type\": \"heatmap\"}], \"heatmapgl\": [{\"colorbar\": {\"outlinewidth\": 0, \"ticks\": \"\"}, \"colorscale\": [[0.0, \"#0d0887\"], [0.1111111111111111, \"#46039f\"], [0.2222222222222222, \"#7201a8\"], [0.3333333333333333, \"#9c179e\"], [0.4444444444444444, \"#bd3786\"], [0.5555555555555556, \"#d8576b\"], [0.6666666666666666, \"#ed7953\"], [0.7777777777777778, \"#fb9f3a\"], [0.8888888888888888, \"#fdca26\"], [1.0, \"#f0f921\"]], \"type\": \"heatmapgl\"}], \"histogram\": [{\"marker\": {\"colorbar\": {\"outlinewidth\": 0, \"ticks\": \"\"}}, \"type\": \"histogram\"}], \"histogram2d\": [{\"colorbar\": {\"outlinewidth\": 0, \"ticks\": \"\"}, \"colorscale\": [[0.0, \"#0d0887\"], [0.1111111111111111, \"#46039f\"], [0.2222222222222222, \"#7201a8\"], [0.3333333333333333, \"#9c179e\"], [0.4444444444444444, \"#bd3786\"], [0.5555555555555556, \"#d8576b\"], [0.6666666666666666, \"#ed7953\"], [0.7777777777777778, \"#fb9f3a\"], [0.8888888888888888, \"#fdca26\"], [1.0, \"#f0f921\"]], \"type\": \"histogram2d\"}], \"histogram2dcontour\": [{\"colorbar\": {\"outlinewidth\": 0, \"ticks\": \"\"}, \"colorscale\": [[0.0, \"#0d0887\"], [0.1111111111111111, \"#46039f\"], [0.2222222222222222, \"#7201a8\"], [0.3333333333333333, \"#9c179e\"], [0.4444444444444444, \"#bd3786\"], [0.5555555555555556, \"#d8576b\"], [0.6666666666666666, \"#ed7953\"], [0.7777777777777778, \"#fb9f3a\"], [0.8888888888888888, \"#fdca26\"], [1.0, \"#f0f921\"]], \"type\": \"histogram2dcontour\"}], \"mesh3d\": [{\"colorbar\": {\"outlinewidth\": 0, \"ticks\": \"\"}, \"type\": \"mesh3d\"}], \"parcoords\": [{\"line\": {\"colorbar\": {\"outlinewidth\": 0, \"ticks\": \"\"}}, \"type\": \"parcoords\"}], \"pie\": [{\"automargin\": true, \"type\": \"pie\"}], \"scatter\": [{\"marker\": {\"colorbar\": {\"outlinewidth\": 0, \"ticks\": \"\"}}, \"type\": \"scatter\"}], \"scatter3d\": [{\"line\": {\"colorbar\": {\"outlinewidth\": 0, \"ticks\": \"\"}}, \"marker\": {\"colorbar\": {\"outlinewidth\": 0, \"ticks\": \"\"}}, \"type\": \"scatter3d\"}], \"scattercarpet\": [{\"marker\": {\"colorbar\": {\"outlinewidth\": 0, \"ticks\": \"\"}}, \"type\": \"scattercarpet\"}], \"scattergeo\": [{\"marker\": {\"colorbar\": {\"outlinewidth\": 0, \"ticks\": \"\"}}, \"type\": \"scattergeo\"}], \"scattergl\": [{\"marker\": {\"colorbar\": {\"outlinewidth\": 0, \"ticks\": \"\"}}, \"type\": \"scattergl\"}], \"scattermapbox\": [{\"marker\": {\"colorbar\": {\"outlinewidth\": 0, \"ticks\": \"\"}}, \"type\": \"scattermapbox\"}], \"scatterpolar\": [{\"marker\": {\"colorbar\": {\"outlinewidth\": 0, \"ticks\": \"\"}}, \"type\": \"scatterpolar\"}], \"scatterpolargl\": [{\"marker\": {\"colorbar\": {\"outlinewidth\": 0, \"ticks\": \"\"}}, \"type\": \"scatterpolargl\"}], \"scatterternary\": [{\"marker\": {\"colorbar\": {\"outlinewidth\": 0, \"ticks\": \"\"}}, \"type\": \"scatterternary\"}], \"surface\": [{\"colorbar\": {\"outlinewidth\": 0, \"ticks\": \"\"}, \"colorscale\": [[0.0, \"#0d0887\"], [0.1111111111111111, \"#46039f\"], [0.2222222222222222, \"#7201a8\"], [0.3333333333333333, \"#9c179e\"], [0.4444444444444444, \"#bd3786\"], [0.5555555555555556, \"#d8576b\"], [0.6666666666666666, \"#ed7953\"], [0.7777777777777778, \"#fb9f3a\"], [0.8888888888888888, \"#fdca26\"], [1.0, \"#f0f921\"]], \"type\": \"surface\"}], \"table\": [{\"cells\": {\"fill\": {\"color\": \"#EBF0F8\"}, \"line\": {\"color\": \"white\"}}, \"header\": {\"fill\": {\"color\": \"#C8D4E3\"}, \"line\": {\"color\": \"white\"}}, \"type\": \"table\"}]}, \"layout\": {\"annotationdefaults\": {\"arrowcolor\": \"#2a3f5f\", \"arrowhead\": 0, \"arrowwidth\": 1}, \"coloraxis\": {\"colorbar\": {\"outlinewidth\": 0, \"ticks\": \"\"}}, \"colorscale\": {\"diverging\": [[0, \"#8e0152\"], [0.1, \"#c51b7d\"], [0.2, \"#de77ae\"], [0.3, \"#f1b6da\"], [0.4, \"#fde0ef\"], [0.5, \"#f7f7f7\"], [0.6, \"#e6f5d0\"], [0.7, \"#b8e186\"], [0.8, \"#7fbc41\"], [0.9, \"#4d9221\"], [1, \"#276419\"]], \"sequential\": [[0.0, \"#0d0887\"], [0.1111111111111111, \"#46039f\"], [0.2222222222222222, \"#7201a8\"], [0.3333333333333333, \"#9c179e\"], [0.4444444444444444, \"#bd3786\"], [0.5555555555555556, \"#d8576b\"], [0.6666666666666666, \"#ed7953\"], [0.7777777777777778, \"#fb9f3a\"], [0.8888888888888888, \"#fdca26\"], [1.0, \"#f0f921\"]], \"sequentialminus\": [[0.0, \"#0d0887\"], [0.1111111111111111, \"#46039f\"], [0.2222222222222222, \"#7201a8\"], [0.3333333333333333, \"#9c179e\"], [0.4444444444444444, \"#bd3786\"], [0.5555555555555556, \"#d8576b\"], [0.6666666666666666, \"#ed7953\"], [0.7777777777777778, \"#fb9f3a\"], [0.8888888888888888, \"#fdca26\"], [1.0, \"#f0f921\"]]}, \"colorway\": [\"#636efa\", \"#EF553B\", \"#00cc96\", \"#ab63fa\", \"#FFA15A\", \"#19d3f3\", \"#FF6692\", \"#B6E880\", \"#FF97FF\", \"#FECB52\"], \"font\": {\"color\": \"#2a3f5f\"}, \"geo\": {\"bgcolor\": \"white\", \"lakecolor\": \"white\", \"landcolor\": \"#E5ECF6\", \"showlakes\": true, \"showland\": true, \"subunitcolor\": \"white\"}, \"hoverlabel\": {\"align\": \"left\"}, \"hovermode\": \"closest\", \"mapbox\": {\"style\": \"light\"}, \"paper_bgcolor\": \"white\", \"plot_bgcolor\": \"#E5ECF6\", \"polar\": {\"angularaxis\": {\"gridcolor\": \"white\", \"linecolor\": \"white\", \"ticks\": \"\"}, \"bgcolor\": \"#E5ECF6\", \"radialaxis\": {\"gridcolor\": \"white\", \"linecolor\": \"white\", \"ticks\": \"\"}}, \"scene\": {\"xaxis\": {\"backgroundcolor\": \"#E5ECF6\", \"gridcolor\": \"white\", \"gridwidth\": 2, \"linecolor\": \"white\", \"showbackground\": true, \"ticks\": \"\", \"zerolinecolor\": \"white\"}, \"yaxis\": {\"backgroundcolor\": \"#E5ECF6\", \"gridcolor\": \"white\", \"gridwidth\": 2, \"linecolor\": \"white\", \"showbackground\": true, \"ticks\": \"\", \"zerolinecolor\": \"white\"}, \"zaxis\": {\"backgroundcolor\": \"#E5ECF6\", \"gridcolor\": \"white\", \"gridwidth\": 2, \"linecolor\": \"white\", \"showbackground\": true, \"ticks\": \"\", \"zerolinecolor\": \"white\"}}, \"shapedefaults\": {\"line\": {\"color\": \"#2a3f5f\"}}, \"ternary\": {\"aaxis\": {\"gridcolor\": \"white\", \"linecolor\": \"white\", \"ticks\": \"\"}, \"baxis\": {\"gridcolor\": \"white\", \"linecolor\": \"white\", \"ticks\": \"\"}, \"bgcolor\": \"#E5ECF6\", \"caxis\": {\"gridcolor\": \"white\", \"linecolor\": \"white\", \"ticks\": \"\"}}, \"title\": {\"x\": 0.05}, \"xaxis\": {\"automargin\": true, \"gridcolor\": \"white\", \"linecolor\": \"white\", \"ticks\": \"\", \"title\": {\"standoff\": 15}, \"zerolinecolor\": \"white\", \"zerolinewidth\": 2}, \"yaxis\": {\"automargin\": true, \"gridcolor\": \"white\", \"linecolor\": \"white\", \"ticks\": \"\", \"title\": {\"standoff\": 15}, \"zerolinecolor\": \"white\", \"zerolinewidth\": 2}}}},                        {\"responsive\": true}                    ).then(function(){\n",
       "                            \n",
       "var gd = document.getElementById('4ad904db-c02e-43ac-a38d-3cd324d0b1c4');\n",
       "var x = new MutationObserver(function (mutations, observer) {{\n",
       "        var display = window.getComputedStyle(gd).display;\n",
       "        if (!display || display === 'none') {{\n",
       "            console.log([gd, 'removed!']);\n",
       "            Plotly.purge(gd);\n",
       "            observer.disconnect();\n",
       "        }}\n",
       "}});\n",
       "\n",
       "// Listen for the removal of the full notebook cells\n",
       "var notebookContainer = gd.closest('#notebook-container');\n",
       "if (notebookContainer) {{\n",
       "    x.observe(notebookContainer, {childList: true});\n",
       "}}\n",
       "\n",
       "// Listen for the clearing of the current output cell\n",
       "var outputEl = gd.closest('.output');\n",
       "if (outputEl) {{\n",
       "    x.observe(outputEl, {childList: true});\n",
       "}}\n",
       "\n",
       "                        })                };                });            </script>        </div>"
      ]
     },
     "metadata": {},
     "output_type": "display_data"
    },
    {
     "data": {
      "application/vnd.plotly.v1+json": {
       "config": {
        "plotlyServerURL": "https://plot.ly"
       },
       "data": [
        {
         "fill": "toself",
         "type": "scatter",
         "x": [
          0,
          54,
          "none",
          54,
          54,
          "none",
          0,
          0,
          5,
          5,
          0,
          "none",
          0,
          54,
          "none",
          54,
          54,
          "none",
          5,
          5,
          11,
          11,
          5,
          "none",
          0,
          54,
          "none",
          54,
          54,
          "none",
          11,
          11,
          16,
          16,
          11,
          "none",
          0,
          54,
          "none",
          54,
          54,
          "none",
          16,
          16,
          21,
          21,
          16,
          "none",
          0,
          54,
          "none",
          54,
          54,
          "none",
          21,
          21,
          26,
          26,
          21,
          "none",
          0,
          54,
          "none",
          54,
          54,
          "none",
          26,
          26,
          31,
          31,
          26,
          "none",
          0,
          54,
          "none",
          54,
          54,
          "none",
          31,
          31,
          38,
          38,
          31,
          "none",
          0,
          54,
          "none",
          54,
          54,
          "none",
          38,
          38,
          43,
          43,
          38,
          "none",
          0,
          54,
          "none",
          54,
          54,
          "none",
          43,
          43,
          48,
          48,
          43,
          "none"
         ],
         "y": [
          15,
          15,
          "none",
          0,
          15,
          "none",
          0,
          7,
          7,
          0,
          0,
          "none",
          15,
          15,
          "none",
          0,
          15,
          "none",
          0,
          7,
          7,
          0,
          0,
          "none",
          15,
          15,
          "none",
          0,
          15,
          "none",
          0,
          7,
          7,
          0,
          0,
          "none",
          15,
          15,
          "none",
          0,
          15,
          "none",
          0,
          6,
          6,
          0,
          0,
          "none",
          15,
          15,
          "none",
          0,
          15,
          "none",
          0,
          6,
          6,
          0,
          0,
          "none",
          15,
          15,
          "none",
          0,
          15,
          "none",
          0,
          5,
          5,
          0,
          0,
          "none",
          15,
          15,
          "none",
          0,
          15,
          "none",
          0,
          5,
          5,
          0,
          0,
          "none",
          15,
          15,
          "none",
          0,
          15,
          "none",
          0,
          5,
          5,
          0,
          0,
          "none",
          15,
          15,
          "none",
          0,
          15,
          "none",
          0,
          5,
          5,
          0,
          0,
          "none"
         ]
        }
       ],
       "layout": {
        "template": {
         "data": {
          "bar": [
           {
            "error_x": {
             "color": "#2a3f5f"
            },
            "error_y": {
             "color": "#2a3f5f"
            },
            "marker": {
             "line": {
              "color": "#E5ECF6",
              "width": 0.5
             }
            },
            "type": "bar"
           }
          ],
          "barpolar": [
           {
            "marker": {
             "line": {
              "color": "#E5ECF6",
              "width": 0.5
             }
            },
            "type": "barpolar"
           }
          ],
          "carpet": [
           {
            "aaxis": {
             "endlinecolor": "#2a3f5f",
             "gridcolor": "white",
             "linecolor": "white",
             "minorgridcolor": "white",
             "startlinecolor": "#2a3f5f"
            },
            "baxis": {
             "endlinecolor": "#2a3f5f",
             "gridcolor": "white",
             "linecolor": "white",
             "minorgridcolor": "white",
             "startlinecolor": "#2a3f5f"
            },
            "type": "carpet"
           }
          ],
          "choropleth": [
           {
            "colorbar": {
             "outlinewidth": 0,
             "ticks": ""
            },
            "type": "choropleth"
           }
          ],
          "contour": [
           {
            "colorbar": {
             "outlinewidth": 0,
             "ticks": ""
            },
            "colorscale": [
             [
              0,
              "#0d0887"
             ],
             [
              0.1111111111111111,
              "#46039f"
             ],
             [
              0.2222222222222222,
              "#7201a8"
             ],
             [
              0.3333333333333333,
              "#9c179e"
             ],
             [
              0.4444444444444444,
              "#bd3786"
             ],
             [
              0.5555555555555556,
              "#d8576b"
             ],
             [
              0.6666666666666666,
              "#ed7953"
             ],
             [
              0.7777777777777778,
              "#fb9f3a"
             ],
             [
              0.8888888888888888,
              "#fdca26"
             ],
             [
              1,
              "#f0f921"
             ]
            ],
            "type": "contour"
           }
          ],
          "contourcarpet": [
           {
            "colorbar": {
             "outlinewidth": 0,
             "ticks": ""
            },
            "type": "contourcarpet"
           }
          ],
          "heatmap": [
           {
            "colorbar": {
             "outlinewidth": 0,
             "ticks": ""
            },
            "colorscale": [
             [
              0,
              "#0d0887"
             ],
             [
              0.1111111111111111,
              "#46039f"
             ],
             [
              0.2222222222222222,
              "#7201a8"
             ],
             [
              0.3333333333333333,
              "#9c179e"
             ],
             [
              0.4444444444444444,
              "#bd3786"
             ],
             [
              0.5555555555555556,
              "#d8576b"
             ],
             [
              0.6666666666666666,
              "#ed7953"
             ],
             [
              0.7777777777777778,
              "#fb9f3a"
             ],
             [
              0.8888888888888888,
              "#fdca26"
             ],
             [
              1,
              "#f0f921"
             ]
            ],
            "type": "heatmap"
           }
          ],
          "heatmapgl": [
           {
            "colorbar": {
             "outlinewidth": 0,
             "ticks": ""
            },
            "colorscale": [
             [
              0,
              "#0d0887"
             ],
             [
              0.1111111111111111,
              "#46039f"
             ],
             [
              0.2222222222222222,
              "#7201a8"
             ],
             [
              0.3333333333333333,
              "#9c179e"
             ],
             [
              0.4444444444444444,
              "#bd3786"
             ],
             [
              0.5555555555555556,
              "#d8576b"
             ],
             [
              0.6666666666666666,
              "#ed7953"
             ],
             [
              0.7777777777777778,
              "#fb9f3a"
             ],
             [
              0.8888888888888888,
              "#fdca26"
             ],
             [
              1,
              "#f0f921"
             ]
            ],
            "type": "heatmapgl"
           }
          ],
          "histogram": [
           {
            "marker": {
             "colorbar": {
              "outlinewidth": 0,
              "ticks": ""
             }
            },
            "type": "histogram"
           }
          ],
          "histogram2d": [
           {
            "colorbar": {
             "outlinewidth": 0,
             "ticks": ""
            },
            "colorscale": [
             [
              0,
              "#0d0887"
             ],
             [
              0.1111111111111111,
              "#46039f"
             ],
             [
              0.2222222222222222,
              "#7201a8"
             ],
             [
              0.3333333333333333,
              "#9c179e"
             ],
             [
              0.4444444444444444,
              "#bd3786"
             ],
             [
              0.5555555555555556,
              "#d8576b"
             ],
             [
              0.6666666666666666,
              "#ed7953"
             ],
             [
              0.7777777777777778,
              "#fb9f3a"
             ],
             [
              0.8888888888888888,
              "#fdca26"
             ],
             [
              1,
              "#f0f921"
             ]
            ],
            "type": "histogram2d"
           }
          ],
          "histogram2dcontour": [
           {
            "colorbar": {
             "outlinewidth": 0,
             "ticks": ""
            },
            "colorscale": [
             [
              0,
              "#0d0887"
             ],
             [
              0.1111111111111111,
              "#46039f"
             ],
             [
              0.2222222222222222,
              "#7201a8"
             ],
             [
              0.3333333333333333,
              "#9c179e"
             ],
             [
              0.4444444444444444,
              "#bd3786"
             ],
             [
              0.5555555555555556,
              "#d8576b"
             ],
             [
              0.6666666666666666,
              "#ed7953"
             ],
             [
              0.7777777777777778,
              "#fb9f3a"
             ],
             [
              0.8888888888888888,
              "#fdca26"
             ],
             [
              1,
              "#f0f921"
             ]
            ],
            "type": "histogram2dcontour"
           }
          ],
          "mesh3d": [
           {
            "colorbar": {
             "outlinewidth": 0,
             "ticks": ""
            },
            "type": "mesh3d"
           }
          ],
          "parcoords": [
           {
            "line": {
             "colorbar": {
              "outlinewidth": 0,
              "ticks": ""
             }
            },
            "type": "parcoords"
           }
          ],
          "pie": [
           {
            "automargin": true,
            "type": "pie"
           }
          ],
          "scatter": [
           {
            "marker": {
             "colorbar": {
              "outlinewidth": 0,
              "ticks": ""
             }
            },
            "type": "scatter"
           }
          ],
          "scatter3d": [
           {
            "line": {
             "colorbar": {
              "outlinewidth": 0,
              "ticks": ""
             }
            },
            "marker": {
             "colorbar": {
              "outlinewidth": 0,
              "ticks": ""
             }
            },
            "type": "scatter3d"
           }
          ],
          "scattercarpet": [
           {
            "marker": {
             "colorbar": {
              "outlinewidth": 0,
              "ticks": ""
             }
            },
            "type": "scattercarpet"
           }
          ],
          "scattergeo": [
           {
            "marker": {
             "colorbar": {
              "outlinewidth": 0,
              "ticks": ""
             }
            },
            "type": "scattergeo"
           }
          ],
          "scattergl": [
           {
            "marker": {
             "colorbar": {
              "outlinewidth": 0,
              "ticks": ""
             }
            },
            "type": "scattergl"
           }
          ],
          "scattermapbox": [
           {
            "marker": {
             "colorbar": {
              "outlinewidth": 0,
              "ticks": ""
             }
            },
            "type": "scattermapbox"
           }
          ],
          "scatterpolar": [
           {
            "marker": {
             "colorbar": {
              "outlinewidth": 0,
              "ticks": ""
             }
            },
            "type": "scatterpolar"
           }
          ],
          "scatterpolargl": [
           {
            "marker": {
             "colorbar": {
              "outlinewidth": 0,
              "ticks": ""
             }
            },
            "type": "scatterpolargl"
           }
          ],
          "scatterternary": [
           {
            "marker": {
             "colorbar": {
              "outlinewidth": 0,
              "ticks": ""
             }
            },
            "type": "scatterternary"
           }
          ],
          "surface": [
           {
            "colorbar": {
             "outlinewidth": 0,
             "ticks": ""
            },
            "colorscale": [
             [
              0,
              "#0d0887"
             ],
             [
              0.1111111111111111,
              "#46039f"
             ],
             [
              0.2222222222222222,
              "#7201a8"
             ],
             [
              0.3333333333333333,
              "#9c179e"
             ],
             [
              0.4444444444444444,
              "#bd3786"
             ],
             [
              0.5555555555555556,
              "#d8576b"
             ],
             [
              0.6666666666666666,
              "#ed7953"
             ],
             [
              0.7777777777777778,
              "#fb9f3a"
             ],
             [
              0.8888888888888888,
              "#fdca26"
             ],
             [
              1,
              "#f0f921"
             ]
            ],
            "type": "surface"
           }
          ],
          "table": [
           {
            "cells": {
             "fill": {
              "color": "#EBF0F8"
             },
             "line": {
              "color": "white"
             }
            },
            "header": {
             "fill": {
              "color": "#C8D4E3"
             },
             "line": {
              "color": "white"
             }
            },
            "type": "table"
           }
          ]
         },
         "layout": {
          "annotationdefaults": {
           "arrowcolor": "#2a3f5f",
           "arrowhead": 0,
           "arrowwidth": 1
          },
          "coloraxis": {
           "colorbar": {
            "outlinewidth": 0,
            "ticks": ""
           }
          },
          "colorscale": {
           "diverging": [
            [
             0,
             "#8e0152"
            ],
            [
             0.1,
             "#c51b7d"
            ],
            [
             0.2,
             "#de77ae"
            ],
            [
             0.3,
             "#f1b6da"
            ],
            [
             0.4,
             "#fde0ef"
            ],
            [
             0.5,
             "#f7f7f7"
            ],
            [
             0.6,
             "#e6f5d0"
            ],
            [
             0.7,
             "#b8e186"
            ],
            [
             0.8,
             "#7fbc41"
            ],
            [
             0.9,
             "#4d9221"
            ],
            [
             1,
             "#276419"
            ]
           ],
           "sequential": [
            [
             0,
             "#0d0887"
            ],
            [
             0.1111111111111111,
             "#46039f"
            ],
            [
             0.2222222222222222,
             "#7201a8"
            ],
            [
             0.3333333333333333,
             "#9c179e"
            ],
            [
             0.4444444444444444,
             "#bd3786"
            ],
            [
             0.5555555555555556,
             "#d8576b"
            ],
            [
             0.6666666666666666,
             "#ed7953"
            ],
            [
             0.7777777777777778,
             "#fb9f3a"
            ],
            [
             0.8888888888888888,
             "#fdca26"
            ],
            [
             1,
             "#f0f921"
            ]
           ],
           "sequentialminus": [
            [
             0,
             "#0d0887"
            ],
            [
             0.1111111111111111,
             "#46039f"
            ],
            [
             0.2222222222222222,
             "#7201a8"
            ],
            [
             0.3333333333333333,
             "#9c179e"
            ],
            [
             0.4444444444444444,
             "#bd3786"
            ],
            [
             0.5555555555555556,
             "#d8576b"
            ],
            [
             0.6666666666666666,
             "#ed7953"
            ],
            [
             0.7777777777777778,
             "#fb9f3a"
            ],
            [
             0.8888888888888888,
             "#fdca26"
            ],
            [
             1,
             "#f0f921"
            ]
           ]
          },
          "colorway": [
           "#636efa",
           "#EF553B",
           "#00cc96",
           "#ab63fa",
           "#FFA15A",
           "#19d3f3",
           "#FF6692",
           "#B6E880",
           "#FF97FF",
           "#FECB52"
          ],
          "font": {
           "color": "#2a3f5f"
          },
          "geo": {
           "bgcolor": "white",
           "lakecolor": "white",
           "landcolor": "#E5ECF6",
           "showlakes": true,
           "showland": true,
           "subunitcolor": "white"
          },
          "hoverlabel": {
           "align": "left"
          },
          "hovermode": "closest",
          "mapbox": {
           "style": "light"
          },
          "paper_bgcolor": "white",
          "plot_bgcolor": "#E5ECF6",
          "polar": {
           "angularaxis": {
            "gridcolor": "white",
            "linecolor": "white",
            "ticks": ""
           },
           "bgcolor": "#E5ECF6",
           "radialaxis": {
            "gridcolor": "white",
            "linecolor": "white",
            "ticks": ""
           }
          },
          "scene": {
           "xaxis": {
            "backgroundcolor": "#E5ECF6",
            "gridcolor": "white",
            "gridwidth": 2,
            "linecolor": "white",
            "showbackground": true,
            "ticks": "",
            "zerolinecolor": "white"
           },
           "yaxis": {
            "backgroundcolor": "#E5ECF6",
            "gridcolor": "white",
            "gridwidth": 2,
            "linecolor": "white",
            "showbackground": true,
            "ticks": "",
            "zerolinecolor": "white"
           },
           "zaxis": {
            "backgroundcolor": "#E5ECF6",
            "gridcolor": "white",
            "gridwidth": 2,
            "linecolor": "white",
            "showbackground": true,
            "ticks": "",
            "zerolinecolor": "white"
           }
          },
          "shapedefaults": {
           "line": {
            "color": "#2a3f5f"
           }
          },
          "ternary": {
           "aaxis": {
            "gridcolor": "white",
            "linecolor": "white",
            "ticks": ""
           },
           "baxis": {
            "gridcolor": "white",
            "linecolor": "white",
            "ticks": ""
           },
           "bgcolor": "#E5ECF6",
           "caxis": {
            "gridcolor": "white",
            "linecolor": "white",
            "ticks": ""
           }
          },
          "title": {
           "x": 0.05
          },
          "xaxis": {
           "automargin": true,
           "gridcolor": "white",
           "linecolor": "white",
           "ticks": "",
           "title": {
            "standoff": 15
           },
           "zerolinecolor": "white",
           "zerolinewidth": 2
          },
          "yaxis": {
           "automargin": true,
           "gridcolor": "white",
           "linecolor": "white",
           "ticks": "",
           "title": {
            "standoff": 15
           },
           "zerolinecolor": "white",
           "zerolinewidth": 2
          }
         }
        }
       }
      },
      "text/html": [
       "<div>                            <div id=\"cc6e5b98-897e-4fc2-8a3d-3daa69f10e6c\" class=\"plotly-graph-div\" style=\"height:525px; width:100%;\"></div>            <script type=\"text/javascript\">                require([\"plotly\"], function(Plotly) {                    window.PLOTLYENV=window.PLOTLYENV || {};                                    if (document.getElementById(\"cc6e5b98-897e-4fc2-8a3d-3daa69f10e6c\")) {                    Plotly.newPlot(                        \"cc6e5b98-897e-4fc2-8a3d-3daa69f10e6c\",                        [{\"fill\": \"toself\", \"type\": \"scatter\", \"x\": [0, 54, \"none\", 54, 54, \"none\", 0, 0, 5, 5, 0, \"none\", 0, 54, \"none\", 54, 54, \"none\", 5, 5, 11, 11, 5, \"none\", 0, 54, \"none\", 54, 54, \"none\", 11, 11, 16, 16, 11, \"none\", 0, 54, \"none\", 54, 54, \"none\", 16, 16, 21, 21, 16, \"none\", 0, 54, \"none\", 54, 54, \"none\", 21, 21, 26, 26, 21, \"none\", 0, 54, \"none\", 54, 54, \"none\", 26, 26, 31, 31, 26, \"none\", 0, 54, \"none\", 54, 54, \"none\", 31, 31, 38, 38, 31, \"none\", 0, 54, \"none\", 54, 54, \"none\", 38, 38, 43, 43, 38, \"none\", 0, 54, \"none\", 54, 54, \"none\", 43, 43, 48, 48, 43, \"none\"], \"y\": [15, 15, \"none\", 0, 15, \"none\", 0, 7, 7, 0, 0, \"none\", 15, 15, \"none\", 0, 15, \"none\", 0, 7, 7, 0, 0, \"none\", 15, 15, \"none\", 0, 15, \"none\", 0, 7, 7, 0, 0, \"none\", 15, 15, \"none\", 0, 15, \"none\", 0, 6, 6, 0, 0, \"none\", 15, 15, \"none\", 0, 15, \"none\", 0, 6, 6, 0, 0, \"none\", 15, 15, \"none\", 0, 15, \"none\", 0, 5, 5, 0, 0, \"none\", 15, 15, \"none\", 0, 15, \"none\", 0, 5, 5, 0, 0, \"none\", 15, 15, \"none\", 0, 15, \"none\", 0, 5, 5, 0, 0, \"none\", 15, 15, \"none\", 0, 15, \"none\", 0, 5, 5, 0, 0, \"none\"]}],                        {\"template\": {\"data\": {\"bar\": [{\"error_x\": {\"color\": \"#2a3f5f\"}, \"error_y\": {\"color\": \"#2a3f5f\"}, \"marker\": {\"line\": {\"color\": \"#E5ECF6\", \"width\": 0.5}}, \"type\": \"bar\"}], \"barpolar\": [{\"marker\": {\"line\": {\"color\": \"#E5ECF6\", \"width\": 0.5}}, \"type\": \"barpolar\"}], \"carpet\": [{\"aaxis\": {\"endlinecolor\": \"#2a3f5f\", \"gridcolor\": \"white\", \"linecolor\": \"white\", \"minorgridcolor\": \"white\", \"startlinecolor\": \"#2a3f5f\"}, \"baxis\": {\"endlinecolor\": \"#2a3f5f\", \"gridcolor\": \"white\", \"linecolor\": \"white\", \"minorgridcolor\": \"white\", \"startlinecolor\": \"#2a3f5f\"}, \"type\": \"carpet\"}], \"choropleth\": [{\"colorbar\": {\"outlinewidth\": 0, \"ticks\": \"\"}, \"type\": \"choropleth\"}], \"contour\": [{\"colorbar\": {\"outlinewidth\": 0, \"ticks\": \"\"}, \"colorscale\": [[0.0, \"#0d0887\"], [0.1111111111111111, \"#46039f\"], [0.2222222222222222, \"#7201a8\"], [0.3333333333333333, \"#9c179e\"], [0.4444444444444444, \"#bd3786\"], [0.5555555555555556, \"#d8576b\"], [0.6666666666666666, \"#ed7953\"], [0.7777777777777778, \"#fb9f3a\"], [0.8888888888888888, \"#fdca26\"], [1.0, \"#f0f921\"]], \"type\": \"contour\"}], \"contourcarpet\": [{\"colorbar\": {\"outlinewidth\": 0, \"ticks\": \"\"}, \"type\": \"contourcarpet\"}], \"heatmap\": [{\"colorbar\": {\"outlinewidth\": 0, \"ticks\": \"\"}, \"colorscale\": [[0.0, \"#0d0887\"], [0.1111111111111111, \"#46039f\"], [0.2222222222222222, \"#7201a8\"], [0.3333333333333333, \"#9c179e\"], [0.4444444444444444, \"#bd3786\"], [0.5555555555555556, \"#d8576b\"], [0.6666666666666666, \"#ed7953\"], [0.7777777777777778, \"#fb9f3a\"], [0.8888888888888888, \"#fdca26\"], [1.0, \"#f0f921\"]], \"type\": \"heatmap\"}], \"heatmapgl\": [{\"colorbar\": {\"outlinewidth\": 0, \"ticks\": \"\"}, \"colorscale\": [[0.0, \"#0d0887\"], [0.1111111111111111, \"#46039f\"], [0.2222222222222222, \"#7201a8\"], [0.3333333333333333, \"#9c179e\"], [0.4444444444444444, \"#bd3786\"], [0.5555555555555556, \"#d8576b\"], [0.6666666666666666, \"#ed7953\"], [0.7777777777777778, \"#fb9f3a\"], [0.8888888888888888, \"#fdca26\"], [1.0, \"#f0f921\"]], \"type\": \"heatmapgl\"}], \"histogram\": [{\"marker\": {\"colorbar\": {\"outlinewidth\": 0, \"ticks\": \"\"}}, \"type\": \"histogram\"}], \"histogram2d\": [{\"colorbar\": {\"outlinewidth\": 0, \"ticks\": \"\"}, \"colorscale\": [[0.0, \"#0d0887\"], [0.1111111111111111, \"#46039f\"], [0.2222222222222222, \"#7201a8\"], [0.3333333333333333, \"#9c179e\"], [0.4444444444444444, \"#bd3786\"], [0.5555555555555556, \"#d8576b\"], [0.6666666666666666, \"#ed7953\"], [0.7777777777777778, \"#fb9f3a\"], [0.8888888888888888, \"#fdca26\"], [1.0, \"#f0f921\"]], \"type\": \"histogram2d\"}], \"histogram2dcontour\": [{\"colorbar\": {\"outlinewidth\": 0, \"ticks\": \"\"}, \"colorscale\": [[0.0, \"#0d0887\"], [0.1111111111111111, \"#46039f\"], [0.2222222222222222, \"#7201a8\"], [0.3333333333333333, \"#9c179e\"], [0.4444444444444444, \"#bd3786\"], [0.5555555555555556, \"#d8576b\"], [0.6666666666666666, \"#ed7953\"], [0.7777777777777778, \"#fb9f3a\"], [0.8888888888888888, \"#fdca26\"], [1.0, \"#f0f921\"]], \"type\": \"histogram2dcontour\"}], \"mesh3d\": [{\"colorbar\": {\"outlinewidth\": 0, \"ticks\": \"\"}, \"type\": \"mesh3d\"}], \"parcoords\": [{\"line\": {\"colorbar\": {\"outlinewidth\": 0, \"ticks\": \"\"}}, \"type\": \"parcoords\"}], \"pie\": [{\"automargin\": true, \"type\": \"pie\"}], \"scatter\": [{\"marker\": {\"colorbar\": {\"outlinewidth\": 0, \"ticks\": \"\"}}, \"type\": \"scatter\"}], \"scatter3d\": [{\"line\": {\"colorbar\": {\"outlinewidth\": 0, \"ticks\": \"\"}}, \"marker\": {\"colorbar\": {\"outlinewidth\": 0, \"ticks\": \"\"}}, \"type\": \"scatter3d\"}], \"scattercarpet\": [{\"marker\": {\"colorbar\": {\"outlinewidth\": 0, \"ticks\": \"\"}}, \"type\": \"scattercarpet\"}], \"scattergeo\": [{\"marker\": {\"colorbar\": {\"outlinewidth\": 0, \"ticks\": \"\"}}, \"type\": \"scattergeo\"}], \"scattergl\": [{\"marker\": {\"colorbar\": {\"outlinewidth\": 0, \"ticks\": \"\"}}, \"type\": \"scattergl\"}], \"scattermapbox\": [{\"marker\": {\"colorbar\": {\"outlinewidth\": 0, \"ticks\": \"\"}}, \"type\": \"scattermapbox\"}], \"scatterpolar\": [{\"marker\": {\"colorbar\": {\"outlinewidth\": 0, \"ticks\": \"\"}}, \"type\": \"scatterpolar\"}], \"scatterpolargl\": [{\"marker\": {\"colorbar\": {\"outlinewidth\": 0, \"ticks\": \"\"}}, \"type\": \"scatterpolargl\"}], \"scatterternary\": [{\"marker\": {\"colorbar\": {\"outlinewidth\": 0, \"ticks\": \"\"}}, \"type\": \"scatterternary\"}], \"surface\": [{\"colorbar\": {\"outlinewidth\": 0, \"ticks\": \"\"}, \"colorscale\": [[0.0, \"#0d0887\"], [0.1111111111111111, \"#46039f\"], [0.2222222222222222, \"#7201a8\"], [0.3333333333333333, \"#9c179e\"], [0.4444444444444444, \"#bd3786\"], [0.5555555555555556, \"#d8576b\"], [0.6666666666666666, \"#ed7953\"], [0.7777777777777778, \"#fb9f3a\"], [0.8888888888888888, \"#fdca26\"], [1.0, \"#f0f921\"]], \"type\": \"surface\"}], \"table\": [{\"cells\": {\"fill\": {\"color\": \"#EBF0F8\"}, \"line\": {\"color\": \"white\"}}, \"header\": {\"fill\": {\"color\": \"#C8D4E3\"}, \"line\": {\"color\": \"white\"}}, \"type\": \"table\"}]}, \"layout\": {\"annotationdefaults\": {\"arrowcolor\": \"#2a3f5f\", \"arrowhead\": 0, \"arrowwidth\": 1}, \"coloraxis\": {\"colorbar\": {\"outlinewidth\": 0, \"ticks\": \"\"}}, \"colorscale\": {\"diverging\": [[0, \"#8e0152\"], [0.1, \"#c51b7d\"], [0.2, \"#de77ae\"], [0.3, \"#f1b6da\"], [0.4, \"#fde0ef\"], [0.5, \"#f7f7f7\"], [0.6, \"#e6f5d0\"], [0.7, \"#b8e186\"], [0.8, \"#7fbc41\"], [0.9, \"#4d9221\"], [1, \"#276419\"]], \"sequential\": [[0.0, \"#0d0887\"], [0.1111111111111111, \"#46039f\"], [0.2222222222222222, \"#7201a8\"], [0.3333333333333333, \"#9c179e\"], [0.4444444444444444, \"#bd3786\"], [0.5555555555555556, \"#d8576b\"], [0.6666666666666666, \"#ed7953\"], [0.7777777777777778, \"#fb9f3a\"], [0.8888888888888888, \"#fdca26\"], [1.0, \"#f0f921\"]], \"sequentialminus\": [[0.0, \"#0d0887\"], [0.1111111111111111, \"#46039f\"], [0.2222222222222222, \"#7201a8\"], [0.3333333333333333, \"#9c179e\"], [0.4444444444444444, \"#bd3786\"], [0.5555555555555556, \"#d8576b\"], [0.6666666666666666, \"#ed7953\"], [0.7777777777777778, \"#fb9f3a\"], [0.8888888888888888, \"#fdca26\"], [1.0, \"#f0f921\"]]}, \"colorway\": [\"#636efa\", \"#EF553B\", \"#00cc96\", \"#ab63fa\", \"#FFA15A\", \"#19d3f3\", \"#FF6692\", \"#B6E880\", \"#FF97FF\", \"#FECB52\"], \"font\": {\"color\": \"#2a3f5f\"}, \"geo\": {\"bgcolor\": \"white\", \"lakecolor\": \"white\", \"landcolor\": \"#E5ECF6\", \"showlakes\": true, \"showland\": true, \"subunitcolor\": \"white\"}, \"hoverlabel\": {\"align\": \"left\"}, \"hovermode\": \"closest\", \"mapbox\": {\"style\": \"light\"}, \"paper_bgcolor\": \"white\", \"plot_bgcolor\": \"#E5ECF6\", \"polar\": {\"angularaxis\": {\"gridcolor\": \"white\", \"linecolor\": \"white\", \"ticks\": \"\"}, \"bgcolor\": \"#E5ECF6\", \"radialaxis\": {\"gridcolor\": \"white\", \"linecolor\": \"white\", \"ticks\": \"\"}}, \"scene\": {\"xaxis\": {\"backgroundcolor\": \"#E5ECF6\", \"gridcolor\": \"white\", \"gridwidth\": 2, \"linecolor\": \"white\", \"showbackground\": true, \"ticks\": \"\", \"zerolinecolor\": \"white\"}, \"yaxis\": {\"backgroundcolor\": \"#E5ECF6\", \"gridcolor\": \"white\", \"gridwidth\": 2, \"linecolor\": \"white\", \"showbackground\": true, \"ticks\": \"\", \"zerolinecolor\": \"white\"}, \"zaxis\": {\"backgroundcolor\": \"#E5ECF6\", \"gridcolor\": \"white\", \"gridwidth\": 2, \"linecolor\": \"white\", \"showbackground\": true, \"ticks\": \"\", \"zerolinecolor\": \"white\"}}, \"shapedefaults\": {\"line\": {\"color\": \"#2a3f5f\"}}, \"ternary\": {\"aaxis\": {\"gridcolor\": \"white\", \"linecolor\": \"white\", \"ticks\": \"\"}, \"baxis\": {\"gridcolor\": \"white\", \"linecolor\": \"white\", \"ticks\": \"\"}, \"bgcolor\": \"#E5ECF6\", \"caxis\": {\"gridcolor\": \"white\", \"linecolor\": \"white\", \"ticks\": \"\"}}, \"title\": {\"x\": 0.05}, \"xaxis\": {\"automargin\": true, \"gridcolor\": \"white\", \"linecolor\": \"white\", \"ticks\": \"\", \"title\": {\"standoff\": 15}, \"zerolinecolor\": \"white\", \"zerolinewidth\": 2}, \"yaxis\": {\"automargin\": true, \"gridcolor\": \"white\", \"linecolor\": \"white\", \"ticks\": \"\", \"title\": {\"standoff\": 15}, \"zerolinecolor\": \"white\", \"zerolinewidth\": 2}}}},                        {\"responsive\": true}                    ).then(function(){\n",
       "                            \n",
       "var gd = document.getElementById('cc6e5b98-897e-4fc2-8a3d-3daa69f10e6c');\n",
       "var x = new MutationObserver(function (mutations, observer) {{\n",
       "        var display = window.getComputedStyle(gd).display;\n",
       "        if (!display || display === 'none') {{\n",
       "            console.log([gd, 'removed!']);\n",
       "            Plotly.purge(gd);\n",
       "            observer.disconnect();\n",
       "        }}\n",
       "}});\n",
       "\n",
       "// Listen for the removal of the full notebook cells\n",
       "var notebookContainer = gd.closest('#notebook-container');\n",
       "if (notebookContainer) {{\n",
       "    x.observe(notebookContainer, {childList: true});\n",
       "}}\n",
       "\n",
       "// Listen for the clearing of the current output cell\n",
       "var outputEl = gd.closest('.output');\n",
       "if (outputEl) {{\n",
       "    x.observe(outputEl, {childList: true});\n",
       "}}\n",
       "\n",
       "                        })                };                });            </script>        </div>"
      ]
     },
     "metadata": {},
     "output_type": "display_data"
    }
   ],
   "source": [
    "solved_instances = []\n",
    "\n",
    "iteration = 0\n",
    "\n",
    "for instance in new_instances:\n",
    "    feasible_solution = construction_heuristic(instance)\n",
    "    solved_instances.append(feasible_solution)\n",
    "    visualization = visualize_solution(feasible_solution['solution_list'], feasible_solution['original_instance'])\n",
    "    \n",
    "    # save visualization to folder\n",
    "    visualization.write_image('feasible_solution_visualizations/instance_%d_fig.png' % iteration, engine='kaleido')\n",
    "    \n",
    "    iteration+=1\n",
    "    \n"
   ]
  },
  {
   "cell_type": "code",
   "execution_count": 16,
   "metadata": {},
   "outputs": [
    {
     "name": "stdout",
     "output_type": "stream",
     "text": [
      "[ { 'current_capacity': 28,\n",
      "    'instance_max_capacity': 56,\n",
      "    'instance_min_capacity': 28,\n",
      "    'original_instance': { 'height': 12,\n",
      "                           'tables': [ { 'capacity': 16,\n",
      "                                         'height': 5,\n",
      "                                         'size': 'large',\n",
      "                                         'width': 6},\n",
      "                                       { 'capacity': 12,\n",
      "                                         'height': 5,\n",
      "                                         'size': 'medium',\n",
      "                                         'width': 5},\n",
      "                                       { 'capacity': 12,\n",
      "                                         'height': 6,\n",
      "                                         'size': 'large',\n",
      "                                         'width': 5},\n",
      "                                       { 'capacity': 8,\n",
      "                                         'height': 4,\n",
      "                                         'size': 'small',\n",
      "                                         'width': 4},\n",
      "                                       { 'capacity': 8,\n",
      "                                         'height': 4,\n",
      "                                         'size': 'small',\n",
      "                                         'width': 4}],\n",
      "                           'width': 7},\n",
      "    'original_list': [ { 'capacity': 12,\n",
      "                         'height': 6,\n",
      "                         'size': 'large',\n",
      "                         'width': 5},\n",
      "                       { 'capacity': 16,\n",
      "                         'height': 5,\n",
      "                         'size': 'large',\n",
      "                         'width': 6},\n",
      "                       { 'capacity': 12,\n",
      "                         'height': 5,\n",
      "                         'size': 'medium',\n",
      "                         'width': 5},\n",
      "                       { 'capacity': 8,\n",
      "                         'height': 4,\n",
      "                         'size': 'small',\n",
      "                         'width': 4},\n",
      "                       { 'capacity': 8,\n",
      "                         'height': 4,\n",
      "                         'size': 'small',\n",
      "                         'width': 4}],\n",
      "    'solution_list': [ { 'capacity': 12,\n",
      "                         'height': 6,\n",
      "                         'original_index': 0,\n",
      "                         'width': 5,\n",
      "                         'x_coord': 0,\n",
      "                         'y_coord': 0},\n",
      "                       { 'capacity': 16,\n",
      "                         'height': 5,\n",
      "                         'original_index': 1,\n",
      "                         'width': 6,\n",
      "                         'x_coord': 0,\n",
      "                         'y_coord': 6}]},\n",
      "  { 'current_capacity': 40,\n",
      "    'instance_max_capacity': 56,\n",
      "    'instance_min_capacity': 28,\n",
      "    'original_instance': { 'height': 12,\n",
      "                           'tables': [ { 'capacity': 16,\n",
      "                                         'height': 5,\n",
      "                                         'size': 'large',\n",
      "                                         'width': 6},\n",
      "                                       { 'capacity': 12,\n",
      "                                         'height': 5,\n",
      "                                         'size': 'medium',\n",
      "                                         'width': 5},\n",
      "                                       { 'capacity': 12,\n",
      "                                         'height': 6,\n",
      "                                         'size': 'large',\n",
      "                                         'width': 5},\n",
      "                                       { 'capacity': 8,\n",
      "                                         'height': 4,\n",
      "                                         'size': 'small',\n",
      "                                         'width': 4},\n",
      "                                       { 'capacity': 8,\n",
      "                                         'height': 4,\n",
      "                                         'size': 'small',\n",
      "                                         'width': 4}],\n",
      "                           'width': 14},\n",
      "    'original_list': [ { 'capacity': 12,\n",
      "                         'height': 6,\n",
      "                         'size': 'large',\n",
      "                         'width': 5},\n",
      "                       { 'capacity': 16,\n",
      "                         'height': 5,\n",
      "                         'size': 'large',\n",
      "                         'width': 6},\n",
      "                       { 'capacity': 12,\n",
      "                         'height': 5,\n",
      "                         'size': 'medium',\n",
      "                         'width': 5},\n",
      "                       { 'capacity': 8,\n",
      "                         'height': 4,\n",
      "                         'size': 'small',\n",
      "                         'width': 4},\n",
      "                       { 'capacity': 8,\n",
      "                         'height': 4,\n",
      "                         'size': 'small',\n",
      "                         'width': 4}],\n",
      "    'solution_list': [ { 'capacity': 12,\n",
      "                         'height': 6,\n",
      "                         'original_index': 0,\n",
      "                         'width': 5,\n",
      "                         'x_coord': 0,\n",
      "                         'y_coord': 0},\n",
      "                       { 'capacity': 16,\n",
      "                         'height': 5,\n",
      "                         'original_index': 1,\n",
      "                         'width': 6,\n",
      "                         'x_coord': 5,\n",
      "                         'y_coord': 0},\n",
      "                       { 'capacity': 12,\n",
      "                         'height': 5,\n",
      "                         'original_index': 2,\n",
      "                         'width': 5,\n",
      "                         'x_coord': 0,\n",
      "                         'y_coord': 6}]},\n",
      "  { 'current_capacity': 56,\n",
      "    'instance_max_capacity': 88,\n",
      "    'instance_min_capacity': 44,\n",
      "    'original_instance': { 'height': 16,\n",
      "                           'tables': [ { 'capacity': 8,\n",
      "                                         'height': 4,\n",
      "                                         'size': 'small',\n",
      "                                         'width': 4},\n",
      "                                       { 'capacity': 12,\n",
      "                                         'height': 5,\n",
      "                                         'size': 'large',\n",
      "                                         'width': 5},\n",
      "                                       { 'capacity': 20,\n",
      "                                         'height': 6,\n",
      "                                         'size': 'large',\n",
      "                                         'width': 7},\n",
      "                                       { 'capacity': 8,\n",
      "                                         'height': 4,\n",
      "                                         'size': 'small',\n",
      "                                         'width': 4},\n",
      "                                       { 'capacity': 12,\n",
      "                                         'height': 5,\n",
      "                                         'size': 'medium',\n",
      "                                         'width': 5},\n",
      "                                       { 'capacity': 12,\n",
      "                                         'height': 5,\n",
      "                                         'size': 'medium',\n",
      "                                         'width': 5},\n",
      "                                       { 'capacity': 8,\n",
      "                                         'height': 4,\n",
      "                                         'size': 'small',\n",
      "                                         'width': 4},\n",
      "                                       { 'capacity': 8,\n",
      "                                         'height': 4,\n",
      "                                         'size': 'small',\n",
      "                                         'width': 4}],\n",
      "                           'width': 11},\n",
      "    'original_list': [ { 'capacity': 20,\n",
      "                         'height': 6,\n",
      "                         'size': 'large',\n",
      "                         'width': 7},\n",
      "                       { 'capacity': 12,\n",
      "                         'height': 5,\n",
      "                         'size': 'large',\n",
      "                         'width': 5},\n",
      "                       { 'capacity': 12,\n",
      "                         'height': 5,\n",
      "                         'size': 'medium',\n",
      "                         'width': 5},\n",
      "                       { 'capacity': 12,\n",
      "                         'height': 5,\n",
      "                         'size': 'medium',\n",
      "                         'width': 5},\n",
      "                       { 'capacity': 8,\n",
      "                         'height': 4,\n",
      "                         'size': 'small',\n",
      "                         'width': 4},\n",
      "                       { 'capacity': 8,\n",
      "                         'height': 4,\n",
      "                         'size': 'small',\n",
      "                         'width': 4},\n",
      "                       { 'capacity': 8,\n",
      "                         'height': 4,\n",
      "                         'size': 'small',\n",
      "                         'width': 4},\n",
      "                       { 'capacity': 8,\n",
      "                         'height': 4,\n",
      "                         'size': 'small',\n",
      "                         'width': 4}],\n",
      "    'solution_list': [ { 'capacity': 20,\n",
      "                         'height': 6,\n",
      "                         'original_index': 0,\n",
      "                         'width': 7,\n",
      "                         'x_coord': 0,\n",
      "                         'y_coord': 0},\n",
      "                       { 'capacity': 12,\n",
      "                         'height': 5,\n",
      "                         'original_index': 1,\n",
      "                         'width': 5,\n",
      "                         'x_coord': 0,\n",
      "                         'y_coord': 6},\n",
      "                       { 'capacity': 12,\n",
      "                         'height': 5,\n",
      "                         'original_index': 2,\n",
      "                         'width': 5,\n",
      "                         'x_coord': 5,\n",
      "                         'y_coord': 6},\n",
      "                       { 'capacity': 12,\n",
      "                         'height': 5,\n",
      "                         'original_index': 3,\n",
      "                         'width': 5,\n",
      "                         'x_coord': 0,\n",
      "                         'y_coord': 11}]},\n",
      "  { 'current_capacity': 56,\n",
      "    'instance_max_capacity': 88,\n",
      "    'instance_min_capacity': 44,\n",
      "    'original_instance': { 'height': 8,\n",
      "                           'tables': [ { 'capacity': 8,\n",
      "                                         'height': 4,\n",
      "                                         'size': 'small',\n",
      "                                         'width': 4},\n",
      "                                       { 'capacity': 12,\n",
      "                                         'height': 5,\n",
      "                                         'size': 'large',\n",
      "                                         'width': 5},\n",
      "                                       { 'capacity': 20,\n",
      "                                         'height': 6,\n",
      "                                         'size': 'large',\n",
      "                                         'width': 7},\n",
      "                                       { 'capacity': 8,\n",
      "                                         'height': 4,\n",
      "                                         'size': 'small',\n",
      "                                         'width': 4},\n",
      "                                       { 'capacity': 12,\n",
      "                                         'height': 5,\n",
      "                                         'size': 'medium',\n",
      "                                         'width': 5},\n",
      "                                       { 'capacity': 12,\n",
      "                                         'height': 5,\n",
      "                                         'size': 'medium',\n",
      "                                         'width': 5},\n",
      "                                       { 'capacity': 8,\n",
      "                                         'height': 4,\n",
      "                                         'size': 'small',\n",
      "                                         'width': 4},\n",
      "                                       { 'capacity': 8,\n",
      "                                         'height': 4,\n",
      "                                         'size': 'small',\n",
      "                                         'width': 4}],\n",
      "                           'width': 22},\n",
      "    'original_list': [ { 'capacity': 20,\n",
      "                         'height': 6,\n",
      "                         'size': 'large',\n",
      "                         'width': 7},\n",
      "                       { 'capacity': 12,\n",
      "                         'height': 5,\n",
      "                         'size': 'large',\n",
      "                         'width': 5},\n",
      "                       { 'capacity': 12,\n",
      "                         'height': 5,\n",
      "                         'size': 'medium',\n",
      "                         'width': 5},\n",
      "                       { 'capacity': 12,\n",
      "                         'height': 5,\n",
      "                         'size': 'medium',\n",
      "                         'width': 5},\n",
      "                       { 'capacity': 8,\n",
      "                         'height': 4,\n",
      "                         'size': 'small',\n",
      "                         'width': 4},\n",
      "                       { 'capacity': 8,\n",
      "                         'height': 4,\n",
      "                         'size': 'small',\n",
      "                         'width': 4},\n",
      "                       { 'capacity': 8,\n",
      "                         'height': 4,\n",
      "                         'size': 'small',\n",
      "                         'width': 4},\n",
      "                       { 'capacity': 8,\n",
      "                         'height': 4,\n",
      "                         'size': 'small',\n",
      "                         'width': 4}],\n",
      "    'solution_list': [ { 'capacity': 20,\n",
      "                         'height': 6,\n",
      "                         'original_index': 0,\n",
      "                         'width': 7,\n",
      "                         'x_coord': 0,\n",
      "                         'original_index': 0,\n",
      "                         'width': 7,\n",
      "                         'x_coord': 0,\n",
      "                         'y_coord': 0},\n",
      "                       { 'capacity': 12,\n",
      "                         'height': 5,\n",
      "                         'original_index': 1,\n",
      "                         'width': 5,\n",
      "                         'x_coord': 7,\n",
      "                         'y_coord': 0},\n",
      "                       { 'capacity': 12,\n",
      "                         'height': 5,\n",
      "                         'original_index': 2,\n",
      "                         'width': 5,\n",
      "                         'x_coord': 12,\n",
      "                         'y_coord': 0},\n",
      "                       { 'capacity': 12,\n",
      "                         'height': 5,\n",
      "                         'original_index': 3,\n",
      "                         'width': 5,\n",
      "                         'x_coord': 17,\n",
      "                         'y_coord': 0}]},\n",
      "  { 'current_capacity': 120,\n",
      "    'instance_max_capacity': 216,\n",
      "    'instance_min_capacity': 108,\n",
      "    'original_instance': { 'height': 25,\n",
      "                           'tables': [ { 'capacity': 12,\n",
      "                                         'height': 6,\n",
      "                                         'size': 'large',\n",
      "                                         'width': 5},\n",
      "                                       { 'capacity': 8,\n",
      "                                         'height': 4,\n",
      "                                         'size': 'small',\n",
      "                                         'width': 4},\n",
      "                                       { 'capacity': 12,\n",
      "                                         'height': 6,\n",
      "                                         'size': 'large',\n",
      "                                         'width': 5},\n",
      "                                       { 'capacity': 12,\n",
      "                                         'height': 5,\n",
      "                                         'size': 'medium',\n",
      "                                         'width': 5},\n",
      "                                       { 'capacity': 20,\n",
      "                                         'height': 5,\n",
      "                                         'size': 'large',\n",
      "                                         'width': 7},\n",
      "                                       { 'capacity': 8,\n",
      "                                         'height': 4,\n",
      "                                         'size': 'small',\n",
      "                                         'width': 4},\n",
      "                                       { 'capacity': 12,\n",
      "                                         'height': 5,\n",
      "                                         'size': 'medium',\n",
      "                                         'width': 5},\n",
      "                                       { 'capacity': 8,\n",
      "                                         'height': 4,\n",
      "                                         'size': 'small',\n",
      "                                         'width': 4},\n",
      "                                       { 'capacity': 12,\n",
      "                                         'height': 7,\n",
      "                                         'size': 'large',\n",
      "                                         'width': 5},\n",
      "                                       { 'capacity': 12,\n",
      "                                         'height': 5,\n",
      "                                         'size': 'medium',\n",
      "                                         'width': 5},\n",
      "                                       { 'capacity': 20,\n",
      "                                         'height': 5,\n",
      "                                         'size': 'large',\n",
      "                                         'width': 7},\n",
      "                                       { 'capacity': 12,\n",
      "                                         'height': 5,\n",
      "                                         'size': 'large',\n",
      "                                         'width': 5},\n",
      "                                       { 'capacity': 12,\n",
      "                                         'height': 5,\n",
      "                                         'size': 'medium',\n",
      "                                         'width': 5},\n",
      "                                       { 'capacity': 16,\n",
      "                                         'height': 7,\n",
      "                                         'size': 'large',\n",
      "                                         'width': 6},\n",
      "                                       { 'capacity': 8,\n",
      "                                         'height': 4,\n",
      "                                         'size': 'small',\n",
      "                                         'width': 4},\n",
      "                                       { 'capacity': 8,\n",
      "                                         'height': 4,\n",
      "                                         'size': 'small',\n",
      "                                         'width': 4},\n",
      "                                       { 'capacity': 12,\n",
      "                                         'height': 5,\n",
      "                                         'size': 'medium',\n",
      "                                         'width': 5},\n",
      "                                       { 'capacity': 12,\n",
      "                                         'height': 7,\n",
      "                                         'size': 'large',\n",
      "                                         'width': 5}],\n",
      "                           'width': 27.0},\n",
      "    'original_list': [ { 'capacity': 12,\n",
      "                         'height': 7,\n",
      "                         'size': 'large',\n",
      "                         'width': 5},\n",
      "                       { 'capacity': 16,\n",
      "                         'height': 7,\n",
      "                         'size': 'large',\n",
      "                         'width': 6},\n",
      "                       { 'capacity': 12,\n",
      "                         'height': 7,\n",
      "                         'size': 'large',\n",
      "                         'width': 5},\n",
      "                       { 'capacity': 12,\n",
      "                         'height': 6,\n",
      "                         'size': 'large',\n",
      "                         'width': 5},\n",
      "                       { 'capacity': 12,\n",
      "                         'height': 6,\n",
      "                         'size': 'large',\n",
      "                         'width': 5},\n",
      "                       { 'capacity': 12,\n",
      "                         'height': 5,\n",
      "                         'size': 'medium',\n",
      "                         'width': 5},\n",
      "                       { 'capacity': 20,\n",
      "                         'height': 5,\n",
      "                         'size': 'large',\n",
      "                         'width': 7},\n",
      "                       { 'capacity': 12,\n",
      "                         'height': 5,\n",
      "                         'size': 'medium',\n",
      "                         'width': 5},\n",
      "                       { 'capacity': 12,\n",
      "                         'height': 5,\n",
      "                         'size': 'medium',\n",
      "                         'width': 5},\n",
      "                       { 'capacity': 20,\n",
      "                         'height': 5,\n",
      "                         'size': 'large',\n",
      "                         'width': 7},\n",
      "                       { 'capacity': 12,\n",
      "                         'height': 5,\n",
      "                         'size': 'large',\n",
      "                         'width': 5},\n",
      "                       { 'capacity': 12,\n",
      "                         'height': 5,\n",
      "                         'size': 'medium',\n",
      "                         'width': 5},\n",
      "                       { 'capacity': 12,\n",
      "                         'height': 5,\n",
      "                         'size': 'medium',\n",
      "                         'width': 5},\n",
      "                       { 'capacity': 8,\n",
      "                         'height': 4,\n",
      "                         'size': 'small',\n",
      "                         'width': 4},\n",
      "                       { 'capacity': 8,\n",
      "                         'height': 4,\n",
      "                         'size': 'small',\n",
      "                         'width': 4},\n",
      "                       { 'capacity': 8,\n",
      "                         'height': 4,\n",
      "                         'size': 'small',\n",
      "                         'width': 4},\n",
      "                       { 'capacity': 8,\n",
      "                         'height': 4,\n",
      "                         'size': 'small',\n",
      "                         'width': 4},\n",
      "                       { 'capacity': 8,\n",
      "                         'height': 4,\n",
      "                         'size': 'small',\n",
      "                         'width': 4}],\n",
      "    'solution_list': [ { 'capacity': 12,\n",
      "                         'height': 7,\n",
      "                         'original_index': 0,\n",
      "                         'width': 5,\n",
      "                         'x_coord': 0,\n",
      "                         'y_coord': 0},\n",
      "                       { 'capacity': 16,\n",
      "                         'height': 7,\n",
      "                         'original_index': 1,\n",
      "                         'width': 6,\n",
      "                         'x_coord': 5,\n",
      "                         'y_coord': 0},\n",
      "                       { 'capacity': 12,\n",
      "                         'height': 7,\n",
      "                         'original_index': 2,\n",
      "                         'width': 5,\n",
      "                         'x_coord': 11,\n",
      "                         'y_coord': 0},\n",
      "                       { 'capacity': 12,\n",
      "                         'height': 6,\n",
      "                         'original_index': 3,\n",
      "                         'width': 5,\n",
      "                         'x_coord': 16,\n",
      "                         'y_coord': 0},\n",
      "                       { 'capacity': 12,\n",
      "                         'height': 6,\n",
      "                         'original_index': 4,\n",
      "                         'width': 5,\n",
      "                         'x_coord': 21,\n",
      "                         'y_coord': 0},\n",
      "                       { 'capacity': 12,\n",
      "                         'height': 5,\n",
      "                         'original_index': 1,\n",
      "                         'original_index': 5,\n",
      "                         'width': 5,\n",
      "                         'x_coord': 7,\n",
      "                         'y_coord': 0},\n",
      "                         'x_coord': 0,\n",
      "                         'y_coord': 7},\n",
      "                       { 'capacity': 20,\n",
      "                         'height': 5,\n",
      "                         'original_index': 6,\n",
      "                         'width': 7,\n",
      "                         'x_coord': 5,\n",
      "                         'y_coord': 7},\n",
      "                       { 'capacity': 12,\n",
      "                         'height': 5,\n",
      "                         'original_index': 2,\n",
      "                         'original_index': 7,\n",
      "                         'width': 5,\n",
      "                         'x_coord': 12,\n",
      "                         'y_coord': 0},\n",
      "                         'y_coord': 7},\n",
      "                       { 'capacity': 12,\n",
      "                         'height': 5,\n",
      "                         'original_index': 3,\n",
      "                         'original_index': 8,\n",
      "                         'width': 5,\n",
      "                         'x_coord': 17,\n",
      "                         'y_coord': 0}]},\n",
      "                         'y_coord': 7}]},\n",
      "  { 'current_capacity': 120,\n",
      "    'instance_max_capacity': 216,\n",
      "    'instance_min_capacity': 108,\n",
      "    'original_instance': { 'height': 25,\n",
      "    'original_instance': { 'height': 15,\n",
      "                           'tables': [ { 'capacity': 12,\n",
      "                                         'height': 6,\n",
      "                                         'size': 'large',\n",
      "                                         'width': 5},\n",
      "                                       { 'capacity': 8,\n",
      "                                         'height': 4,\n",
      "                                         'size': 'small',\n",
      "                                         'width': 4},\n",
      "                                       { 'capacity': 12,\n",
      "                                         'height': 6,\n",
      "                                         'size': 'large',\n",
      "                                         'width': 5},\n",
      "                                       { 'capacity': 12,\n",
      "                                         'height': 5,\n",
      "                                         'size': 'medium',\n",
      "                                         'width': 5},\n",
      "                                       { 'capacity': 20,\n",
      "                                         'height': 5,\n",
      "                                         'size': 'large',\n",
      "                                         'width': 7},\n",
      "                                       { 'capacity': 8,\n",
      "                                         'height': 4,\n",
      "                                         'size': 'small',\n",
      "                                         'width': 4},\n",
      "                                       { 'capacity': 12,\n",
      "                                         'height': 5,\n",
      "                                         'size': 'medium',\n",
      "                                         'width': 5},\n",
      "                                       { 'capacity': 8,\n",
      "                                         'height': 4,\n",
      "                                         'size': 'small',\n",
      "                                         'width': 4},\n",
      "                                       { 'capacity': 12,\n",
      "                                         'height': 7,\n",
      "                                         'size': 'large',\n",
      "                                         'width': 5},\n",
      "                                       { 'capacity': 12,\n",
      "                                         'height': 5,\n",
      "                                         'size': 'medium',\n",
      "                                         'width': 5},\n",
      "                                       { 'capacity': 20,\n",
      "                                         'height': 5,\n",
      "                                         'size': 'large',\n",
      "                                         'width': 7},\n",
      "                                       { 'capacity': 12,\n",
      "                                         'height': 5,\n",
      "                                         'size': 'large',\n",
      "                                         'width': 5},\n",
      "                                       { 'capacity': 12,\n",
      "                                         'height': 5,\n",
      "                                         'size': 'medium',\n",
      "                                         'width': 5},\n",
      "                                       { 'capacity': 16,\n",
      "                                         'height': 7,\n",
      "                                         'size': 'large',\n",
      "                                         'width': 6},\n",
      "                                       { 'capacity': 8,\n",
      "                                         'height': 4,\n",
      "                                         'size': 'small',\n",
      "                                         'width': 4},\n",
      "                                       { 'capacity': 8,\n",
      "                                         'height': 4,\n",
      "                                         'size': 'small',\n",
      "                                         'width': 4},\n",
      "                                       { 'capacity': 12,\n",
      "                                         'height': 5,\n",
      "                                         'size': 'medium',\n",
      "                                         'width': 5},\n",
      "                                       { 'capacity': 12,\n",
      "                                         'height': 7,\n",
      "                                         'size': 'large',\n",
      "                                         'width': 5}],\n",
      "                           'width': 27.0},\n",
      "                           'width': 54},\n",
      "    'original_list': [ { 'capacity': 12,\n",
      "                         'height': 7,\n",
      "                         'size': 'large',\n",
      "                         'width': 5},\n",
      "                       { 'capacity': 16,\n",
      "                         'height': 7,\n",
      "                         'size': 'large',\n",
      "                         'width': 6},\n",
      "                       { 'capacity': 12,\n",
      "                         'height': 7,\n",
      "                         'size': 'large',\n",
      "                         'width': 5},\n",
      "                       { 'capacity': 12,\n",
      "                         'height': 6,\n",
      "                         'size': 'large',\n",
      "                         'width': 5},\n",
      "                       { 'capacity': 12,\n",
      "                         'height': 6,\n",
      "                         'size': 'large',\n",
      "                         'width': 5},\n",
      "                       { 'capacity': 12,\n",
      "                         'height': 5,\n",
      "                         'size': 'medium',\n",
      "                         'width': 5},\n",
      "                       { 'capacity': 20,\n",
      "                         'height': 5,\n",
      "                         'size': 'large',\n",
      "                         'width': 7},\n",
      "                       { 'capacity': 12,\n",
      "                         'height': 5,\n",
      "                         'size': 'medium',\n",
      "                         'width': 5},\n",
      "                       { 'capacity': 12,\n",
      "                         'height': 5,\n",
      "                         'size': 'medium',\n",
      "                         'width': 5},\n",
      "                       { 'capacity': 20,\n",
      "                         'height': 5,\n",
      "                         'size': 'large',\n",
      "                         'width': 7},\n",
      "                       { 'capacity': 12,\n",
      "                         'height': 5,\n",
      "                         'size': 'large',\n",
      "                         'width': 5},\n",
      "                       { 'capacity': 12,\n",
      "                         'height': 5,\n",
      "                         'size': 'medium',\n",
      "                         'width': 5},\n",
      "                       { 'capacity': 12,\n",
      "                         'height': 5,\n",
      "                         'size': 'medium',\n",
      "                         'width': 5},\n",
      "                       { 'capacity': 8,\n",
      "                         'height': 4,\n",
      "                         'size': 'small',\n",
      "                         'width': 4},\n",
      "                       { 'capacity': 8,\n",
      "                         'height': 4,\n",
      "                         'size': 'small',\n",
      "                         'width': 4},\n",
      "                       { 'capacity': 8,\n",
      "                         'height': 4,\n",
      "                         'size': 'small',\n",
      "                         'width': 4},\n",
      "                       { 'capacity': 8,\n",
      "                         'height': 4,\n",
      "                         'size': 'small',\n",
      "                         'width': 4},\n",
      "                       { 'capacity': 8,\n",
      "                         'height': 4,\n",
      "                         'size': 'small',\n",
      "                         'width': 4}],\n",
      "    'solution_list': [ { 'capacity': 12,\n",
      "                         'height': 7,\n",
      "                         'original_index': 0,\n",
      "                         'width': 5,\n",
      "                         'x_coord': 0,\n",
      "                         'y_coord': 0},\n",
      "                       { 'capacity': 16,\n",
      "                         'height': 7,\n",
      "                         'original_index': 1,\n",
      "                         'width': 6,\n",
      "                         'x_coord': 5,\n",
      "                         'y_coord': 0},\n",
      "                       { 'capacity': 12,\n",
      "                         'height': 7,\n",
      "                         'original_index': 2,\n",
      "                         'width': 5,\n",
      "                         'x_coord': 11,\n",
      "                         'y_coord': 0},\n",
      "                       { 'capacity': 12,\n",
      "                         'height': 6,\n",
      "                         'original_index': 3,\n",
      "                         'width': 5,\n",
      "                         'x_coord': 16,\n",
      "                         'y_coord': 0},\n",
      "                       { 'capacity': 12,\n",
      "                         'height': 6,\n",
      "                         'original_index': 4,\n",
      "                         'width': 5,\n",
      "                         'x_coord': 21,\n",
      "                         'y_coord': 0},\n",
      "                       { 'capacity': 12,\n",
      "                         'height': 5,\n",
      "                         'original_index': 5,\n",
      "                         'width': 5,\n",
      "                         'x_coord': 0,\n",
      "                         'y_coord': 7},\n",
      "                         'x_coord': 26,\n",
      "                         'y_coord': 0},\n",
      "                       { 'capacity': 20,\n",
      "                         'height': 5,\n",
      "                         'original_index': 6,\n",
      "                         'width': 7,\n",
      "                         'x_coord': 31,\n",
      "                         'y_coord': 0},\n",
      "                       { 'capacity': 12,\n",
      "                         'height': 5,\n",
      "                         'original_index': 7,\n",
      "                         'width': 5,\n",
      "                         'x_coord': 38,\n",
      "                         'y_coord': 0},\n",
      "                       { 'capacity': 12,\n",
      "                         'height': 5,\n",
      "                         'original_index': 8,\n",
      "                         'width': 5,\n",
      "                         'x_coord': 43,\n",
      "                         'y_coord': 0}]}]\n"
     ]
    }
   ],
   "source": [
    "import pprint\n",
    "pp = pprint.PrettyPrinter(indent=2)\n",
    "pp.pprint(solved_instances)"
   ]
  },
  {
   "cell_type": "code",
   "execution_count": 17,
   "metadata": {},
   "outputs": [],
   "source": [
    "# export to file for simulated annealing process\n",
    "\n",
    "with open('feasible_solutions.json', 'w') as json_file:\n",
    "  json.dump(solved_instances, json_file)"
   ]
  },
  {
   "cell_type": "code",
   "execution_count": 18,
   "metadata": {},
   "outputs": [
    {
     "name": "stdout",
     "output_type": "stream",
     "text": [
      "True\n",
      "[ { 'current_capacity': 28,\n",
      "    'instance_max_capacity': 56,\n",
      "    'instance_min_capacity': 28,\n",
      "    'original_instance': { 'height': 12,\n",
      "                           'tables': [ { 'capacity': 16,\n",
      "                                         'height': 5,\n",
      "                                         'size': 'large',\n",
      "                                         'width': 6},\n",
      "                                       { 'capacity': 12,\n",
      "                                         'height': 5,\n",
      "                                         'size': 'medium',\n",
      "                                         'width': 5},\n",
      "                                       { 'capacity': 12,\n",
      "                                         'height': 6,\n",
      "                                         'size': 'large',\n",
      "                                         'width': 5},\n",
      "                                       { 'capacity': 8,\n",
      "                                         'height': 4,\n",
      "                                         'size': 'small',\n",
      "                                         'width': 4},\n",
      "                                       { 'capacity': 8,\n",
      "                                         'height': 4,\n",
      "                                         'size': 'small',\n",
      "                                         'width': 4}],\n",
      "                           'width': 7},\n",
      "    'original_list': [ { 'capacity': 12,\n",
      "                         'height': 6,\n",
      "                         'size': 'large',\n",
      "                         'width': 5},\n",
      "                       { 'capacity': 16,\n",
      "                         'height': 5,\n",
      "                         'size': 'large',\n",
      "                         'width': 6},\n",
      "                       { 'capacity': 12,\n",
      "                         'height': 5,\n",
      "                         'size': 'medium',\n",
      "                         'width': 5},\n",
      "                       { 'capacity': 8,\n",
      "                         'height': 4,\n",
      "                         'size': 'small',\n",
      "                         'width': 4},\n",
      "                       { 'capacity': 8,\n",
      "                         'height': 4,\n",
      "                         'size': 'small',\n",
      "                         'width': 4}],\n",
      "    'solution_list': [ { 'capacity': 12,\n",
      "                         'height': 6,\n",
      "                         'original_index': 0,\n",
      "                         'width': 5,\n",
      "                         'x_coord': 0,\n",
      "                         'y_coord': 0},\n",
      "                       { 'capacity': 16,\n",
      "                         'height': 5,\n",
      "                         'original_index': 1,\n",
      "                         'width': 6,\n",
      "                         'x_coord': 0,\n",
      "                         'y_coord': 6}]},\n",
      "  { 'current_capacity': 40,\n",
      "    'instance_max_capacity': 56,\n",
      "    'instance_min_capacity': 28,\n",
      "    'original_instance': { 'height': 12,\n",
      "                           'tables': [ { 'capacity': 16,\n",
      "                                         'height': 5,\n",
      "                                         'size': 'large',\n",
      "                                         'width': 6},\n",
      "                                       { 'capacity': 12,\n",
      "                                         'height': 5,\n",
      "                                         'size': 'medium',\n",
      "                                         'width': 5},\n",
      "                                       { 'capacity': 12,\n",
      "                                         'height': 6,\n",
      "                                         'size': 'large',\n",
      "                                         'width': 5},\n",
      "                                       { 'capacity': 8,\n",
      "                                         'height': 4,\n",
      "                                         'size': 'small',\n",
      "                                         'width': 4},\n",
      "                                       { 'capacity': 8,\n",
      "                                         'height': 4,\n",
      "                                         'size': 'small',\n",
      "                                         'width': 4}],\n",
      "                           'width': 14},\n",
      "    'original_list': [ { 'capacity': 12,\n",
      "                         'height': 6,\n",
      "                         'size': 'large',\n",
      "                         'width': 5},\n",
      "                       { 'capacity': 16,\n",
      "                         'height': 5,\n",
      "                         'size': 'large',\n",
      "                         'width': 6},\n",
      "                       { 'capacity': 12,\n",
      "                         'height': 5,\n",
      "                         'size': 'medium',\n",
      "                         'width': 5},\n",
      "                       { 'capacity': 8,\n",
      "                         'height': 4,\n",
      "                         'size': 'small',\n",
      "                         'width': 4},\n",
      "                       { 'capacity': 8,\n",
      "                         'height': 4,\n",
      "                         'size': 'small',\n",
      "                         'width': 4}],\n",
      "    'solution_list': [ { 'capacity': 12,\n",
      "                         'height': 6,\n",
      "                         'width': 4}],\n",
      "    'solution_list': [ { 'capacity': 12,\n",
      "                         'height': 6,\n",
      "                         'original_index': 0,\n",
      "                         'width': 5,\n",
      "                         'x_coord': 0,\n",
      "                         'y_coord': 0},\n",
      "                       { 'capacity': 16,\n",
      "                         'height': 5,\n",
      "                         'original_index': 1,\n",
      "                         'width': 6,\n",
      "                         'x_coord': 5,\n",
      "                         'y_coord': 0},\n",
      "                       { 'capacity': 12,\n",
      "                         'height': 5,\n",
      "                         'original_index': 2,\n",
      "                         'width': 5,\n",
      "                         'x_coord': 0,\n",
      "                         'y_coord': 6}]},\n",
      "  { 'current_capacity': 56,\n",
      "    'instance_max_capacity': 88,\n",
      "    'instance_min_capacity': 44,\n",
      "    'original_instance': { 'height': 16,\n",
      "                           'tables': [ { 'capacity': 8,\n",
      "                                         'height': 4,\n",
      "                                         'size': 'small',\n",
      "                                         'width': 4},\n",
      "                                       { 'capacity': 12,\n",
      "                                         'height': 5,\n",
      "                                         'size': 'large',\n",
      "                                         'width': 5},\n",
      "                                       { 'capacity': 20,\n",
      "                                         'height': 6,\n",
      "                                         'size': 'large',\n",
      "                                         'width': 7},\n",
      "                                       { 'capacity': 8,\n",
      "                                         'height': 4,\n",
      "                                         'size': 'small',\n",
      "                                         'width': 4},\n",
      "                                       { 'capacity': 12,\n",
      "                                         'height': 5,\n",
      "                                         'size': 'medium',\n",
      "                                         'width': 5},\n",
      "                                       { 'capacity': 12,\n",
      "                                         'height': 5,\n",
      "                                         'size': 'medium',\n",
      "                                         'width': 5},\n",
      "                                       { 'capacity': 8,\n",
      "                                         'height': 4,\n",
      "                                         'size': 'small',\n",
      "                                         'width': 4},\n",
      "                                       { 'capacity': 8,\n",
      "                                         'height': 4,\n",
      "                                         'size': 'small',\n",
      "                                         'width': 4}],\n",
      "                           'width': 11},\n",
      "    'original_list': [ { 'capacity': 20,\n",
      "                         'height': 6,\n",
      "                         'size': 'large',\n",
      "                         'width': 7},\n",
      "                       { 'capacity': 12,\n",
      "                         'height': 5,\n",
      "                         'size': 'large',\n",
      "                         'width': 5},\n",
      "                       { 'capacity': 12,\n",
      "                         'height': 5,\n",
      "                         'size': 'medium',\n",
      "                         'width': 5},\n",
      "                       { 'capacity': 12,\n",
      "                         'height': 5,\n",
      "                         'size': 'medium',\n",
      "                         'width': 5},\n",
      "                       { 'capacity': 8,\n",
      "                         'height': 4,\n",
      "                         'size': 'small',\n",
      "                         'width': 4},\n",
      "                       { 'capacity': 8,\n",
      "                         'height': 4,\n",
      "                         'size': 'small',\n",
      "                         'width': 4},\n",
      "                       { 'capacity': 8,\n",
      "                         'height': 4,\n",
      "                         'size': 'small',\n",
      "                         'width': 4},\n",
      "                       { 'capacity': 8,\n",
      "                         'height': 4,\n",
      "                         'size': 'small',\n",
      "                         'width': 4}],\n",
      "    'solution_list': [ { 'capacity': 20,\n",
      "                         'height': 6,\n",
      "                         'original_index': 0,\n",
      "                         'width': 7,\n",
      "                         'x_coord': 0,\n",
      "                         'y_coord': 0},\n",
      "                       { 'capacity': 12,\n",
      "                         'height': 5,\n",
      "                         'original_index': 1,\n",
      "                         'width': 6,\n",
      "                         'x_coord': 5,\n",
      "                         'y_coord': 0},\n",
      "                         'width': 5,\n",
      "                         'x_coord': 0,\n",
      "                         'y_coord': 6},\n",
      "                       { 'capacity': 12,\n",
      "                         'height': 5,\n",
      "                         'original_index': 2,\n",
      "                         'width': 5,\n",
      "                         'x_coord': 5,\n",
      "                         'y_coord': 6},\n",
      "                       { 'capacity': 12,\n",
      "                         'height': 5,\n",
      "                         'original_index': 3,\n",
      "                         'width': 5,\n",
      "                         'x_coord': 0,\n",
      "                         'y_coord': 6}]},\n",
      "                         'y_coord': 11}]},\n",
      "  { 'current_capacity': 56,\n",
      "    'instance_max_capacity': 88,\n",
      "    'instance_min_capacity': 44,\n",
      "    'original_instance': { 'height': 16,\n",
      "    'original_instance': { 'height': 8,\n",
      "                           'tables': [ { 'capacity': 8,\n",
      "                                         'height': 4,\n",
      "                                         'size': 'small',\n",
      "                                         'width': 4},\n",
      "                                       { 'capacity': 12,\n",
      "                                         'height': 5,\n",
      "                                         'size': 'large',\n",
      "                                         'width': 5},\n",
      "                                       { 'capacity': 20,\n",
      "                                         'height': 6,\n",
      "                                         'size': 'large',\n",
      "                                         'width': 7},\n",
      "                                       { 'capacity': 8,\n",
      "                                         'height': 4,\n",
      "                                         'size': 'small',\n",
      "                                         'width': 4},\n",
      "                                       { 'capacity': 12,\n",
      "                                         'height': 5,\n",
      "                                         'size': 'medium',\n",
      "                                         'width': 5},\n",
      "                                       { 'capacity': 12,\n",
      "                                         'height': 5,\n",
      "                                         'size': 'medium',\n",
      "                                         'width': 5},\n",
      "                                       { 'capacity': 8,\n",
      "                                         'height': 4,\n",
      "                                         'size': 'small',\n",
      "                                         'width': 4},\n",
      "                                       { 'capacity': 8,\n",
      "                                         'height': 4,\n",
      "                                         'size': 'small',\n",
      "                                         'width': 4}],\n",
      "                           'width': 11},\n",
      "                           'width': 22},\n",
      "    'original_list': [ { 'capacity': 20,\n",
      "                         'height': 6,\n",
      "                         'size': 'large',\n",
      "                         'width': 7},\n",
      "                       { 'capacity': 12,\n",
      "                         'height': 5,\n",
      "                         'size': 'large',\n",
      "                         'width': 5},\n",
      "                       { 'capacity': 12,\n",
      "                         'height': 5,\n",
      "                         'size': 'medium',\n",
      "                         'width': 5},\n",
      "                       { 'capacity': 12,\n",
      "                         'height': 5,\n",
      "                         'size': 'medium',\n",
      "                         'width': 5},\n",
      "                       { 'capacity': 8,\n",
      "                         'height': 4,\n",
      "                         'size': 'small',\n",
      "                         'width': 4},\n",
      "                       { 'capacity': 8,\n",
      "                         'height': 4,\n",
      "                         'size': 'small',\n",
      "                         'width': 4},\n",
      "                       { 'capacity': 8,\n",
      "                         'height': 4,\n",
      "                         'size': 'small',\n",
      "                         'width': 4},\n",
      "                       { 'capacity': 8,\n",
      "                         'height': 4,\n",
      "                         'size': 'small',\n",
      "                         'width': 4}],\n",
      "    'solution_list': [ { 'capacity': 20,\n",
      "                         'height': 6,\n",
      "                         'original_index': 0,\n",
      "                         'width': 5,\n",
      "                         'x_coord': 0,\n",
      "                         'y_coord': 0},\n",
      "                         'width': 7,\n",
      "                         'x_coord': 0,\n",
      "                         'y_coord': 0},\n",
      "                       { 'capacity': 12,\n",
      "                         'x_coord': 0,\n",
      "                         'y_coord': 0},\n",
      "                       { 'capacity': 15,\n",
      "                         'height': 5,\n",
      "                         'original_index': 1,\n",
      "                         'width': 5,\n",
      "                         'x_coord': 7,\n",
      "                         'y_coord': 0},\n",
      "                       { 'capacity': 12,\n",
      "                         'height': 5,\n",
      "                         'original_index': 2,\n",
      "                         'width': 5,\n",
      "                         'x_coord': 12,\n",
      "                         'y_coord': 0},\n",
      "                       { 'capacity': 12,\n",
      "                         'height': 5,\n",
      "                         'original_index': 3,\n",
      "                         'width': 5,\n",
      "                         'x_coord': 17,\n",
      "                         'y_coord': 0}]},\n",
      "  { 'current_capacity': 120,\n",
      "    'instance_max_capacity': 216,\n",
      "    'instance_min_capacity': 108,\n",
      "    'original_instance': { 'height': 25,\n",
      "                           'tables': [ { 'capacity': 12,\n",
      "                                         'height': 6,\n",
      "                                         'size': 'large',\n",
      "                                         'width': 5},\n",
      "                                       { 'capacity': 8,\n",
      "                                         'height': 4,\n",
      "                                         'size': 'small',\n",
      "                                         'width': 4},\n",
      "                                       { 'capacity': 12,\n",
      "                                         'height': 6,\n",
      "                                         'size': 'large',\n",
      "                                         'width': 5},\n",
      "                                       { 'capacity': 12,\n",
      "                                         'height': 5,\n",
      "                                         'size': 'medium',\n",
      "                                         'width': 5},\n",
      "                                       { 'capacity': 20,\n",
      "                                         'height': 5,\n",
      "                                         'size': 'large',\n",
      "                                         'width': 7},\n",
      "                                       { 'capacity': 8,\n",
      "                                         'height': 4,\n",
      "                                         'size': 'small',\n",
      "                                         'width': 4},\n",
      "                                       { 'capacity': 12,\n",
      "                                         'height': 5,\n",
      "                                         'size': 'medium',\n",
      "                                         'width': 5},\n",
      "                                       { 'capacity': 8,\n",
      "                                         'height': 4,\n",
      "                                         'size': 'small',\n",
      "                                         'width': 4},\n",
      "                                       { 'capacity': 12,\n",
      "                                         'height': 7,\n",
      "                                         'size': 'large',\n",
      "                                         'width': 5},\n",
      "                                       { 'capacity': 12,\n",
      "                                         'height': 5,\n",
      "                                         'size': 'medium',\n",
      "                                         'width': 5},\n",
      "                                       { 'capacity': 20,\n",
      "                                         'height': 5,\n",
      "                                         'size': 'large',\n",
      "                                         'width': 7},\n",
      "                                       { 'capacity': 12,\n",
      "                                         'height': 5,\n",
      "                                         'size': 'large',\n",
      "                                         'width': 5},\n",
      "                                       { 'capacity': 12,\n",
      "                                         'height': 5,\n",
      "                                         'size': 'medium',\n",
      "                                         'width': 5},\n",
      "                                       { 'capacity': 16,\n",
      "                                         'height': 7,\n",
      "                                         'size': 'large',\n",
      "                                         'width': 6},\n",
      "                                       { 'capacity': 8,\n",
      "                                         'height': 4,\n",
      "                                         'size': 'small',\n",
      "                                         'width': 4},\n",
      "                                       { 'capacity': 8,\n",
      "                                         'height': 4,\n",
      "                                         'size': 'small',\n",
      "                                         'width': 4},\n",
      "                                       { 'capacity': 12,\n",
      "                                         'height': 5,\n",
      "                                         'size': 'medium',\n",
      "                                         'width': 5},\n",
      "                                       { 'capacity': 12,\n",
      "                                         'height': 7,\n",
      "                                         'size': 'large',\n",
      "                                         'width': 5}],\n",
      "                           'width': 27.0},\n",
      "    'original_list': [ { 'capacity': 12,\n",
      "                         'height': 7,\n",
      "                         'size': 'large',\n",
      "                         'width': 5},\n",
      "                       { 'capacity': 16,\n",
      "                         'height': 7,\n",
      "                         'size': 'large',\n",
      "                         'width': 6},\n",
      "                       { 'capacity': 12,\n",
      "                         'height': 7,\n",
      "                         'size': 'large',\n",
      "                         'width': 5},\n",
      "                       { 'capacity': 12,\n",
      "                         'height': 6,\n",
      "                         'size': 'large',\n",
      "                         'width': 5},\n",
      "                       { 'capacity': 12,\n",
      "                         'height': 6,\n",
      "                         'size': 'large',\n",
      "                         'width': 5},\n",
      "                       { 'capacity': 12,\n",
      "                         'height': 5,\n",
      "                         'size': 'medium',\n",
      "                         'width': 5},\n",
      "                       { 'capacity': 20,\n",
      "                         'height': 5,\n",
      "                         'size': 'large',\n",
      "                         'width': 7},\n",
      "                       { 'capacity': 12,\n",
      "                         'height': 5,\n",
      "                         'size': 'medium',\n",
      "                         'width': 5},\n",
      "                       { 'capacity': 12,\n",
      "                         'height': 5,\n",
      "                         'size': 'medium',\n",
      "                         'width': 5},\n",
      "                       { 'capacity': 20,\n",
      "                         'height': 5,\n",
      "                         'size': 'large',\n",
      "                         'width': 7},\n",
      "                       { 'capacity': 12,\n",
      "                         'height': 5,\n",
      "                         'size': 'large',\n",
      "                         'width': 5},\n",
      "                       { 'capacity': 12,\n",
      "                         'height': 5,\n",
      "                         'size': 'medium',\n",
      "                         'width': 5},\n",
      "                       { 'capacity': 12,\n",
      "                         'height': 5,\n",
      "                         'size': 'medium',\n",
      "                         'width': 5},\n",
      "                       { 'capacity': 8,\n",
      "                         'height': 4,\n",
      "                         'size': 'small',\n",
      "                         'width': 4},\n",
      "                       { 'capacity': 8,\n",
      "                         'height': 4,\n",
      "                         'size': 'small',\n",
      "                         'width': 4},\n",
      "                       { 'capacity': 8,\n",
      "                         'height': 4,\n",
      "                         'size': 'small',\n",
      "                         'width': 4},\n",
      "                       { 'capacity': 8,\n",
      "                         'height': 4,\n",
      "                         'size': 'small',\n",
      "                         'width': 4},\n",
      "                       { 'capacity': 8,\n",
      "                         'height': 4,\n",
      "                         'size': 'small',\n",
      "                         'width': 4}],\n",
      "    'solution_list': [ { 'capacity': 12,\n",
      "                         'height': 7,\n",
      "                         'original_index': 0,\n",
      "                         'width': 5,\n",
      "                         'x_coord': 0,\n",
      "                         'y_coord': 0},\n",
      "                       { 'capacity': 16,\n",
      "                         'height': 7,\n",
      "                         'original_index': 1,\n",
      "                         'width': 6,\n",
      "                         'x_coord': 5,\n",
      "                         'y_coord': 0},\n",
      "                       { 'capacity': 12,\n",
      "                         'height': 7,\n",
      "                         'original_index': 2,\n",
      "                         'width': 5,\n",
      "                         'x_coord': 11,\n",
      "                         'y_coord': 0},\n",
      "                       { 'capacity': 12,\n",
      "                         'height': 6,\n",
      "                         'original_index': 3,\n",
      "                         'width': 5,\n",
      "                         'x_coord': 16,\n",
      "                         'y_coord': 0},\n",
      "                       { 'capacity': 12,\n",
      "                         'height': 6,\n",
      "                         'original_index': 4,\n",
      "                         'width': 5,\n",
      "                         'x_coord': 21,\n",
      "                         'y_coord': 0},\n",
      "                       { 'capacity': 12,\n",
      "                         'height': 5,\n",
      "                         'original_index': 5,\n",
      "                         'width': 5,\n",
      "                         'x_coord': 0,\n",
      "                         'y_coord': 7},\n",
      "                       { 'capacity': 20,\n",
      "                         'height': 5,\n",
      "                         'original_index': 6,\n",
      "                         'width': 7,\n",
      "                         'x_coord': 5,\n",
      "                         'y_coord': 7},\n",
      "                       { 'capacity': 12,\n",
      "                         'height': 5,\n",
      "                         'original_index': 7,\n",
      "                         'width': 5,\n",
      "                         'x_coord': 12,\n",
      "                         'y_coord': 7},\n",
      "                       { 'capacity': 12,\n",
      "                         'height': 5,\n",
      "                         'original_index': 8,\n",
      "                         'width': 5,\n",
      "                         'x_coord': 17,\n",
      "                         'y_coord': 7}]},\n",
      "  { 'current_capacity': 120,\n",
      "    'instance_max_capacity': 216,\n",
      "    'instance_min_capacity': 108,\n",
      "    'original_instance': { 'height': 15,\n",
      "                           'tables': [ { 'capacity': 12,\n",
      "                                         'height': 6,\n",
      "                                         'size': 'large',\n",
      "                                         'width': 5},\n",
      "                                       { 'capacity': 8,\n",
      "                                       { 'capacity': 8,\n",
      "                                         'height': 4,\n",
      "                                         'size': 'small',\n",
      "                                         'width': 4},\n",
      "                                       { 'capacity': 12,\n",
      "                                         'height': 6,\n",
      "                                         'size': 'large',\n",
      "                                         'width': 5},\n",
      "                                       { 'capacity': 12,\n",
      "                                         'height': 5,\n",
      "                                         'size': 'medium',\n",
      "                                         'width': 5},\n",
      "                                       { 'capacity': 20,\n",
      "                                         'height': 5,\n",
      "                                         'size': 'large',\n",
      "                                         'width': 7},\n",
      "                                       { 'capacity': 8,\n",
      "                                         'height': 4,\n",
      "                                         'size': 'small',\n",
      "                                         'width': 4},\n",
      "                                       { 'capacity': 12,\n",
      "                                         'height': 5,\n",
      "                                         'size': 'medium',\n",
      "                                         'width': 5},\n",
      "                                       { 'capacity': 8,\n",
      "                                         'height': 4,\n",
      "                                         'size': 'small',\n",
      "                                         'width': 4},\n",
      "                                       { 'capacity': 12,\n",
      "                                         'height': 7,\n",
      "                                         'size': 'large',\n",
      "                                         'width': 5},\n",
      "                                       { 'capacity': 12,\n",
      "                                         'height': 5,\n",
      "                                         'size': 'medium',\n",
      "                                         'width': 5},\n",
      "                                       { 'capacity': 20,\n",
      "                                         'height': 5,\n",
      "                                         'size': 'large',\n",
      "                                         'width': 7},\n",
      "                                       { 'capacity': 12,\n",
      "                                         'height': 5,\n",
      "                                         'size': 'large',\n",
      "                                         'width': 5},\n",
      "                                       { 'capacity': 12,\n",
      "                                         'height': 5,\n",
      "                                         'size': 'medium',\n",
      "                                         'width': 5},\n",
      "                                       { 'capacity': 16,\n",
      "                                         'height': 7,\n",
      "                                         'size': 'large',\n",
      "                                         'width': 6},\n",
      "                                       { 'capacity': 8,\n",
      "                                         'height': 4,\n",
      "                                         'size': 'small',\n",
      "                                         'width': 4},\n",
      "                                       { 'capacity': 8,\n",
      "                                         'height': 4,\n",
      "                                         'size': 'small',\n",
      "                                         'width': 4},\n",
      "                                       { 'capacity': 12,\n",
      "                                         'height': 5,\n",
      "                                         'size': 'medium',\n",
      "                                         'width': 5},\n",
      "                                       { 'capacity': 12,\n",
      "                                         'height': 7,\n",
      "                                         'size': 'large',\n"
     ]
    },
    {
     "name": "stdout",
     "output_type": "stream",
     "text": [
      "                                         'width': 5}],\n",
      "                           'width': 54},\n",
      "    'original_list': [ { 'capacity': 12,\n",
      "                         'height': 7,\n",
      "                         'size': 'large',\n",
      "                         'width': 5},\n",
      "                       { 'capacity': 16,\n",
      "                         'height': 7,\n",
      "                         'size': 'large',\n",
      "                         'width': 6},\n",
      "                       { 'capacity': 12,\n",
      "                         'height': 7,\n",
      "                         'size': 'large',\n",
      "                         'width': 5},\n",
      "                       { 'capacity': 12,\n",
      "                         'height': 6,\n",
      "                         'size': 'large',\n",
      "                         'width': 5},\n",
      "                       { 'capacity': 12,\n",
      "                         'height': 6,\n",
      "                         'size': 'large',\n",
      "                         'width': 5},\n",
      "                       { 'capacity': 12,\n",
      "                         'height': 5,\n",
      "                         'size': 'medium',\n",
      "                         'width': 5},\n",
      "                       { 'capacity': 20,\n",
      "                         'height': 5,\n",
      "                         'size': 'large',\n",
      "                         'width': 7},\n",
      "                       { 'capacity': 12,\n",
      "                         'height': 5,\n",
      "                         'size': 'medium',\n",
      "                         'width': 5},\n",
      "                       { 'capacity': 12,\n",
      "                         'height': 5,\n",
      "                         'size': 'medium',\n",
      "                         'width': 5},\n",
      "                       { 'capacity': 20,\n",
      "                         'height': 5,\n",
      "                         'size': 'large',\n",
      "                         'width': 7},\n",
      "                       { 'capacity': 12,\n",
      "                         'height': 5,\n",
      "                         'size': 'large',\n",
      "                         'width': 5},\n",
      "                       { 'capacity': 12,\n",
      "                         'height': 5,\n",
      "                         'size': 'medium',\n",
      "                         'width': 5},\n",
      "                       { 'capacity': 12,\n",
      "                         'height': 5,\n",
      "                         'size': 'medium',\n",
      "                         'width': 5},\n",
      "                       { 'capacity': 8,\n",
      "                         'height': 4,\n",
      "                         'size': 'small',\n",
      "                         'width': 4},\n",
      "                       { 'capacity': 8,\n",
      "                         'height': 4,\n",
      "                         'size': 'small',\n",
      "                         'width': 4},\n",
      "                       { 'capacity': 8,\n",
      "                         'height': 4,\n",
      "                         'size': 'small',\n",
      "                         'width': 4},\n",
      "                       { 'capacity': 8,\n",
      "                         'height': 4,\n",
      "                         'size': 'small',\n",
      "                         'width': 4},\n",
      "                       { 'capacity': 8,\n",
      "                         'height': 4,\n",
      "                         'size': 'small',\n",
      "                         'width': 4}],\n",
      "    'solution_list': [ { 'capacity': 12,\n",
      "                         'height': 7,\n",
      "                         'original_index': 0,\n",
      "                         'width': 5,\n",
      "                         'x_coord': 0,\n",
      "                         'y_coord': 0},\n",
      "                       { 'capacity': 16,\n",
      "                         'height': 7,\n",
      "                         'original_index': 1,\n",
      "                         'width': 6,\n",
      "                         'x_coord': 5,\n",
      "                         'y_coord': 0},\n",
      "                       { 'capacity': 12,\n",
      "                         'height': 7,\n",
      "                         'original_index': 2,\n",
      "                         'width': 5,\n",
      "                         'x_coord': 11,\n",
      "                         'y_coord': 0},\n",
      "                       { 'capacity': 12,\n",
      "                         'height': 6,\n",
      "                         'original_index': 3,\n",
      "                         'width': 5,\n",
      "                         'x_coord': 16,\n",
      "                         'y_coord': 0},\n",
      "                       { 'capacity': 12,\n",
      "                         'height': 6,\n",
      "                         'original_index': 4,\n",
      "                         'width': 5,\n",
      "                         'x_coord': 21,\n",
      "                         'y_coord': 0},\n",
      "                       { 'capacity': 12,\n",
      "                         'height': 5,\n",
      "                         'original_index': 5,\n",
      "                         'width': 5,\n",
      "                         'x_coord': 26,\n",
      "                         'y_coord': 0},\n",
      "                       { 'capacity': 20,\n",
      "                         'height': 5,\n",
      "                         'original_index': 6,\n",
      "                         'width': 7,\n",
      "                         'x_coord': 31,\n",
      "                         'y_coord': 0},\n",
      "                       { 'capacity': 12,\n",
      "                         'height': 5,\n",
      "                         'original_index': 7,\n",
      "                         'width': 5,\n",
      "                         'x_coord': 38,\n",
      "                         'y_coord': 0},\n",
      "                       { 'capacity': 12,\n",
      "                         'height': 5,\n",
      "                         'original_index': 8,\n",
      "                         'width': 5,\n",
      "                         'x_coord': 43,\n",
      "                         'y_coord': 0}]}]\n"
     ]
    }
   ],
   "source": [
    "# test load and confirm solved_instances is equal to loaded instances\n",
    "\n",
    "with open('feasible_solutions.json') as f:\n",
    "  test_loaded_instances = json.load(f)\n",
    "\n",
    "print (test_loaded_instances == solved_instances)\n",
    "\n",
    "pp.pprint(test_loaded_instances)\n"
   ]
  }
 ],
 "metadata": {
  "kernelspec": {
   "display_name": "Python 3",
   "language": "python",
   "name": "python3"
  },
  "language_info": {
   "codemirror_mode": {
    "name": "ipython",
    "version": 3
   },
   "file_extension": ".py",
   "mimetype": "text/x-python",
   "name": "python",
   "nbconvert_exporter": "python",
   "pygments_lexer": "ipython3",
   "version": "3.8.3"
  }
 },
 "nbformat": 4,
 "nbformat_minor": 4
}
