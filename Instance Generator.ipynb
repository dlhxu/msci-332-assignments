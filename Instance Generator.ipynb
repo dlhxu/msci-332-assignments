{
 "cells": [
  {
   "cell_type": "markdown",
   "metadata": {},
   "source": [
    "# Instance generator"
   ]
  },
  {
   "cell_type": "markdown",
   "metadata": {},
   "source": [
    "Note: Refer to readme file for run instructions"
   ]
  },
  {
   "cell_type": "markdown",
   "metadata": {},
   "source": [
    "In this notebook, we will be reading in restaurant and table parameters in csv format and generating a list of instances based on them. The instances will be written in JSON format to a .json file, which will be loaded by the actual model solver component of this assignment"
   ]
  },
  {
   "cell_type": "code",
   "execution_count": 1,
   "metadata": {},
   "outputs": [],
   "source": [
    "import csv\n",
    "import math"
   ]
  },
  {
   "cell_type": "code",
   "execution_count": 2,
   "metadata": {},
   "outputs": [],
   "source": [
    "restaurant_configs = {}\n",
    "with open('restaurant_data.csv', newline='') as csvfile:\n",
    "    reader = csv.DictReader(csvfile)\n",
    "    for row in reader:\n",
    "        restaurant_configs[row['restaurant_size']]=row"
   ]
  },
  {
   "cell_type": "markdown",
   "metadata": {},
   "source": [
    "## Generate instances\n",
    "5 instances are generated for each restaurant size type, with width, height, and number of tables +-25% of the maximum for each value for each generated instance"
   ]
  },
  {
   "cell_type": "code",
   "execution_count": 3,
   "metadata": {},
   "outputs": [],
   "source": [
    "import random\n",
    "\n",
    "def randomScale(size, restaurant_feature, b):\n",
    "    val = int(restaurant_configs[size][restaurant_feature])\n",
    "    scaleVal = int(math.floor(val*b))\n",
    "    return random.randint(val-scaleVal, val+scaleVal)"
   ]
  },
  {
   "cell_type": "code",
   "execution_count": 4,
   "metadata": {},
   "outputs": [
    {
     "data": {
      "text/plain": [
       "4"
      ]
     },
     "execution_count": 4,
     "metadata": {},
     "output_type": "execute_result"
    }
   ],
   "source": [
    "randomScale('small', 'max_tables', 0.25)"
   ]
  },
  {
   "cell_type": "code",
   "execution_count": 5,
   "metadata": {},
   "outputs": [],
   "source": [
    "def generateInstance(size, scaleFactor):\n",
    "    instance = {}\n",
    "    instance['restaurant_size'] = size\n",
    "    instance['num_tables'] = randomScale(size, 'max_tables', scaleFactor)\n",
    "    instance['width'] = randomScale(size, 'max_width', scaleFactor)\n",
    "    instance['height'] = randomScale(size, 'max_height', scaleFactor)\n",
    "    return instance"
   ]
  },
  {
   "cell_type": "code",
   "execution_count": 6,
   "metadata": {},
   "outputs": [],
   "source": [
    "instances = []\n",
    "scaleFactor = 0.25\n",
    "def generateInstances():\n",
    "    # generate 5 instances for small restaurant\n",
    "    for i in range(5):\n",
    "        instances.append(generateInstance('small', scaleFactor))\n",
    "        instances.append(generateInstance('medium', scaleFactor))\n",
    "        instances.append(generateInstance('large', scaleFactor))"
   ]
  },
  {
   "cell_type": "code",
   "execution_count": 7,
   "metadata": {},
   "outputs": [],
   "source": [
    "generateInstances()"
   ]
  },
  {
   "cell_type": "code",
   "execution_count": 8,
   "metadata": {},
   "outputs": [
    {
     "name": "stdout",
     "output_type": "stream",
     "text": [
      "[{'restaurant_size': 'small', 'num_tables': 5, 'width': 15, 'height': 13}, {'restaurant_size': 'medium', 'num_tables': 8, 'width': 34, 'height': 26}, {'restaurant_size': 'large', 'num_tables': 18, 'width': 52, 'height': 54}, {'restaurant_size': 'small', 'num_tables': 5, 'width': 12, 'height': 12}, {'restaurant_size': 'medium', 'num_tables': 12, 'width': 27, 'height': 24}, {'restaurant_size': 'large', 'num_tables': 16, 'width': 49, 'height': 48}, {'restaurant_size': 'small', 'num_tables': 4, 'width': 17, 'height': 14}, {'restaurant_size': 'medium', 'num_tables': 11, 'width': 24, 'height': 35}, {'restaurant_size': 'large', 'num_tables': 14, 'width': 39, 'height': 36}, {'restaurant_size': 'small', 'num_tables': 6, 'width': 17, 'height': 12}, {'restaurant_size': 'medium', 'num_tables': 11, 'width': 26, 'height': 31}, {'restaurant_size': 'large', 'num_tables': 16, 'width': 46, 'height': 40}, {'restaurant_size': 'small', 'num_tables': 6, 'width': 15, 'height': 18}, {'restaurant_size': 'medium', 'num_tables': 12, 'width': 25, 'height': 35}, {'restaurant_size': 'large', 'num_tables': 18, 'width': 48, 'height': 44}]\n"
     ]
    }
   ],
   "source": [
    "print(instances)"
   ]
  },
  {
   "cell_type": "markdown",
   "metadata": {},
   "source": [
    "## Generate tables\n",
    "for every instance in the instances array, tables will be generated according to the value of the tables field of that instance"
   ]
  },
  {
   "cell_type": "code",
   "execution_count": 9,
   "metadata": {},
   "outputs": [],
   "source": [
    "table_configs = {}\n",
    "with open('table_data.csv', newline='') as csvfile:\n",
    "    reader = csv.DictReader(csvfile)\n",
    "    for row in reader:\n",
    "        table_configs[row['table_size']]=row"
   ]
  },
  {
   "cell_type": "code",
   "execution_count": 10,
   "metadata": {},
   "outputs": [],
   "source": [
    "def tableFeatureScaler(size,table_feature,scale_factor):\n",
    "    val = int(table_configs[size][table_feature])\n",
    "    scaleVal = int(math.floor(val*scale_factor))\n",
    "    return random.randint(val-scaleVal, val+scaleVal)"
   ]
  },
  {
   "cell_type": "code",
   "execution_count": 11,
   "metadata": {},
   "outputs": [],
   "source": [
    "# here, capacity is assumed to be 1 person/meter on table perimeter\n",
    "def getCapacity(width, height):\n",
    "    return ((2*width) + (2*height))"
   ]
  },
  {
   "cell_type": "code",
   "execution_count": 12,
   "metadata": {},
   "outputs": [],
   "source": [
    "def generateTable():\n",
    "    table = {}\n",
    "    scale_factor = 0.25\n",
    "    # get a random number int out of 1-3 to determine type of table to generate\n",
    "    val = random.randint(1,3)\n",
    "    if(val == 1):\n",
    "        table['size'] = 'small'\n",
    "        table['width'] = tableFeatureScaler('small', 'max_width', scale_factor)\n",
    "        table['height'] = tableFeatureScaler('small', 'max_height', scale_factor)\n",
    "    elif(val == 2): \n",
    "        table['size'] = 'medium'\n",
    "        table['width'] = tableFeatureScaler('medium', 'max_width', scale_factor)\n",
    "        table['height'] = tableFeatureScaler('medium', 'max_height', scale_factor)\n",
    "    # val is 3\n",
    "    else: \n",
    "        table['size'] = 'large'\n",
    "        table['width'] = tableFeatureScaler('large', 'max_width', scale_factor)\n",
    "        table['height'] = tableFeatureScaler('large', 'max_height', scale_factor)\n",
    "    table['capacity'] = getCapacity(table['width'], table['width'])\n",
    "    return table"
   ]
  },
  {
   "cell_type": "code",
   "execution_count": 13,
   "metadata": {},
   "outputs": [],
   "source": [
    "def generateTables(num_tables):\n",
    "    tables = []\n",
    "    for i in range(num_tables):\n",
    "        tables.append(generateTable())\n",
    "    return tables"
   ]
  },
  {
   "cell_type": "code",
   "execution_count": 14,
   "metadata": {},
   "outputs": [],
   "source": [
    "for instance in instances:\n",
    "    instance['tables'] = generateTables(instance['num_tables'])"
   ]
  },
  {
   "cell_type": "code",
   "execution_count": 15,
   "metadata": {},
   "outputs": [
    {
     "name": "stdout",
     "output_type": "stream",
     "text": [
      "\n",
      " instance details: \n",
      " restaurant size: small \n",
      " tables: 5 \n",
      " width: 15 \n",
      " height: 13 \n",
      " tables: [{'size': 'large', 'width': 4, 'height': 3, 'capacity': 16}, {'size': 'medium', 'width': 3, 'height': 3, 'capacity': 12}, {'size': 'large', 'width': 3, 'height': 4, 'capacity': 12}, {'size': 'small', 'width': 2, 'height': 2, 'capacity': 8}, {'size': 'small', 'width': 2, 'height': 2, 'capacity': 8}] \n",
      "  \n",
      "\n",
      " instance details: \n",
      " restaurant size: medium \n",
      " tables: 8 \n",
      " width: 34 \n",
      " height: 26 \n",
      " tables: [{'size': 'small', 'width': 2, 'height': 2, 'capacity': 8}, {'size': 'large', 'width': 3, 'height': 3, 'capacity': 12}, {'size': 'large', 'width': 5, 'height': 4, 'capacity': 20}, {'size': 'small', 'width': 2, 'height': 2, 'capacity': 8}, {'size': 'medium', 'width': 3, 'height': 3, 'capacity': 12}, {'size': 'medium', 'width': 3, 'height': 3, 'capacity': 12}, {'size': 'small', 'width': 2, 'height': 2, 'capacity': 8}, {'size': 'small', 'width': 2, 'height': 2, 'capacity': 8}] \n",
      "  \n",
      "\n",
      " instance details: \n",
      " restaurant size: large \n",
      " tables: 18 \n",
      " width: 52 \n",
      " height: 54 \n",
      " tables: [{'size': 'large', 'width': 3, 'height': 4, 'capacity': 12}, {'size': 'small', 'width': 2, 'height': 2, 'capacity': 8}, {'size': 'large', 'width': 3, 'height': 4, 'capacity': 12}, {'size': 'medium', 'width': 3, 'height': 3, 'capacity': 12}, {'size': 'large', 'width': 5, 'height': 3, 'capacity': 20}, {'size': 'small', 'width': 2, 'height': 2, 'capacity': 8}, {'size': 'medium', 'width': 3, 'height': 3, 'capacity': 12}, {'size': 'small', 'width': 2, 'height': 2, 'capacity': 8}, {'size': 'large', 'width': 3, 'height': 5, 'capacity': 12}, {'size': 'medium', 'width': 3, 'height': 3, 'capacity': 12}, {'size': 'large', 'width': 5, 'height': 3, 'capacity': 20}, {'size': 'large', 'width': 3, 'height': 3, 'capacity': 12}, {'size': 'medium', 'width': 3, 'height': 3, 'capacity': 12}, {'size': 'large', 'width': 4, 'height': 5, 'capacity': 16}, {'size': 'small', 'width': 2, 'height': 2, 'capacity': 8}, {'size': 'small', 'width': 2, 'height': 2, 'capacity': 8}, {'size': 'medium', 'width': 3, 'height': 3, 'capacity': 12}, {'size': 'large', 'width': 3, 'height': 5, 'capacity': 12}] \n",
      "  \n",
      "\n",
      " instance details: \n",
      " restaurant size: small \n",
      " tables: 5 \n",
      " width: 12 \n",
      " height: 12 \n",
      " tables: [{'size': 'medium', 'width': 3, 'height': 3, 'capacity': 12}, {'size': 'medium', 'width': 3, 'height': 3, 'capacity': 12}, {'size': 'medium', 'width': 3, 'height': 3, 'capacity': 12}, {'size': 'large', 'width': 5, 'height': 4, 'capacity': 20}, {'size': 'large', 'width': 3, 'height': 3, 'capacity': 12}] \n",
      "  \n",
      "\n",
      " instance details: \n",
      " restaurant size: medium \n",
      " tables: 12 \n",
      " width: 27 \n",
      " height: 24 \n",
      " tables: [{'size': 'large', 'width': 3, 'height': 4, 'capacity': 12}, {'size': 'small', 'width': 2, 'height': 2, 'capacity': 8}, {'size': 'medium', 'width': 3, 'height': 3, 'capacity': 12}, {'size': 'small', 'width': 2, 'height': 2, 'capacity': 8}, {'size': 'small', 'width': 2, 'height': 2, 'capacity': 8}, {'size': 'large', 'width': 5, 'height': 3, 'capacity': 20}, {'size': 'medium', 'width': 3, 'height': 3, 'capacity': 12}, {'size': 'large', 'width': 3, 'height': 4, 'capacity': 12}, {'size': 'medium', 'width': 3, 'height': 3, 'capacity': 12}, {'size': 'small', 'width': 2, 'height': 2, 'capacity': 8}, {'size': 'medium', 'width': 3, 'height': 3, 'capacity': 12}, {'size': 'medium', 'width': 3, 'height': 3, 'capacity': 12}] \n",
      "  \n",
      "\n",
      " instance details: \n",
      " restaurant size: large \n",
      " tables: 16 \n",
      " width: 49 \n",
      " height: 48 \n",
      " tables: [{'size': 'large', 'width': 4, 'height': 4, 'capacity': 16}, {'size': 'small', 'width': 2, 'height': 2, 'capacity': 8}, {'size': 'medium', 'width': 3, 'height': 3, 'capacity': 12}, {'size': 'medium', 'width': 3, 'height': 3, 'capacity': 12}, {'size': 'medium', 'width': 3, 'height': 3, 'capacity': 12}, {'size': 'medium', 'width': 3, 'height': 3, 'capacity': 12}, {'size': 'large', 'width': 3, 'height': 4, 'capacity': 12}, {'size': 'medium', 'width': 3, 'height': 3, 'capacity': 12}, {'size': 'medium', 'width': 3, 'height': 3, 'capacity': 12}, {'size': 'large', 'width': 3, 'height': 5, 'capacity': 12}, {'size': 'small', 'width': 2, 'height': 2, 'capacity': 8}, {'size': 'small', 'width': 2, 'height': 2, 'capacity': 8}, {'size': 'medium', 'width': 3, 'height': 3, 'capacity': 12}, {'size': 'large', 'width': 4, 'height': 5, 'capacity': 16}, {'size': 'small', 'width': 2, 'height': 2, 'capacity': 8}, {'size': 'small', 'width': 2, 'height': 2, 'capacity': 8}] \n",
      "  \n",
      "\n",
      " instance details: \n",
      " restaurant size: small \n",
      " tables: 4 \n",
      " width: 17 \n",
      " height: 14 \n",
      " tables: [{'size': 'medium', 'width': 3, 'height': 3, 'capacity': 12}, {'size': 'medium', 'width': 3, 'height': 3, 'capacity': 12}, {'size': 'small', 'width': 2, 'height': 2, 'capacity': 8}, {'size': 'large', 'width': 3, 'height': 5, 'capacity': 12}] \n",
      "  \n",
      "\n",
      " instance details: \n",
      " restaurant size: medium \n",
      " tables: 11 \n",
      " width: 24 \n",
      " height: 35 \n",
      " tables: [{'size': 'large', 'width': 3, 'height': 5, 'capacity': 12}, {'size': 'large', 'width': 4, 'height': 4, 'capacity': 16}, {'size': 'large', 'width': 4, 'height': 3, 'capacity': 16}, {'size': 'small', 'width': 2, 'height': 2, 'capacity': 8}, {'size': 'medium', 'width': 3, 'height': 3, 'capacity': 12}, {'size': 'large', 'width': 4, 'height': 5, 'capacity': 16}, {'size': 'small', 'width': 2, 'height': 2, 'capacity': 8}, {'size': 'small', 'width': 2, 'height': 2, 'capacity': 8}, {'size': 'large', 'width': 5, 'height': 5, 'capacity': 20}, {'size': 'small', 'width': 2, 'height': 2, 'capacity': 8}, {'size': 'medium', 'width': 3, 'height': 3, 'capacity': 12}] \n",
      "  \n",
      "\n",
      " instance details: \n",
      " restaurant size: large \n",
      " tables: 14 \n",
      " width: 39 \n",
      " height: 36 \n",
      " tables: [{'size': 'large', 'width': 4, 'height': 3, 'capacity': 16}, {'size': 'small', 'width': 2, 'height': 2, 'capacity': 8}, {'size': 'small', 'width': 2, 'height': 2, 'capacity': 8}, {'size': 'large', 'width': 4, 'height': 3, 'capacity': 16}, {'size': 'medium', 'width': 3, 'height': 3, 'capacity': 12}, {'size': 'small', 'width': 2, 'height': 2, 'capacity': 8}, {'size': 'large', 'width': 4, 'height': 3, 'capacity': 16}, {'size': 'medium', 'width': 3, 'height': 3, 'capacity': 12}, {'size': 'small', 'width': 2, 'height': 2, 'capacity': 8}, {'size': 'large', 'width': 4, 'height': 3, 'capacity': 16}, {'size': 'small', 'width': 2, 'height': 2, 'capacity': 8}, {'size': 'large', 'width': 3, 'height': 3, 'capacity': 12}, {'size': 'medium', 'width': 3, 'height': 3, 'capacity': 12}, {'size': 'medium', 'width': 3, 'height': 3, 'capacity': 12}] \n",
      "  \n",
      "\n",
      " instance details: \n",
      " restaurant size: small \n",
      " tables: 6 \n",
      " width: 17 \n",
      " height: 12 \n",
      " tables: [{'size': 'small', 'width': 2, 'height': 2, 'capacity': 8}, {'size': 'small', 'width': 2, 'height': 2, 'capacity': 8}, {'size': 'large', 'width': 4, 'height': 4, 'capacity': 16}, {'size': 'medium', 'width': 3, 'height': 3, 'capacity': 12}, {'size': 'medium', 'width': 3, 'height': 3, 'capacity': 12}, {'size': 'small', 'width': 2, 'height': 2, 'capacity': 8}] \n",
      "  \n",
      "\n",
      " instance details: \n",
      " restaurant size: medium \n",
      " tables: 11 \n",
      " width: 26 \n",
      " height: 31 \n",
      " tables: [{'size': 'medium', 'width': 3, 'height': 3, 'capacity': 12}, {'size': 'small', 'width': 2, 'height': 2, 'capacity': 8}, {'size': 'medium', 'width': 3, 'height': 3, 'capacity': 12}, {'size': 'large', 'width': 3, 'height': 3, 'capacity': 12}, {'size': 'large', 'width': 5, 'height': 5, 'capacity': 20}, {'size': 'small', 'width': 2, 'height': 2, 'capacity': 8}, {'size': 'large', 'width': 3, 'height': 5, 'capacity': 12}, {'size': 'small', 'width': 2, 'height': 2, 'capacity': 8}, {'size': 'small', 'width': 2, 'height': 2, 'capacity': 8}, {'size': 'large', 'width': 3, 'height': 3, 'capacity': 12}, {'size': 'medium', 'width': 3, 'height': 3, 'capacity': 12}] \n",
      "  \n",
      "\n",
      " instance details: \n",
      " restaurant size: large \n",
      " tables: 16 \n",
      " width: 46 \n",
      " height: 40 \n",
      " tables: [{'size': 'medium', 'width': 3, 'height': 3, 'capacity': 12}, {'size': 'medium', 'width': 3, 'height': 3, 'capacity': 12}, {'size': 'medium', 'width': 3, 'height': 3, 'capacity': 12}, {'size': 'small', 'width': 2, 'height': 2, 'capacity': 8}, {'size': 'small', 'width': 2, 'height': 2, 'capacity': 8}, {'size': 'large', 'width': 5, 'height': 5, 'capacity': 20}, {'size': 'small', 'width': 2, 'height': 2, 'capacity': 8}, {'size': 'small', 'width': 2, 'height': 2, 'capacity': 8}, {'size': 'medium', 'width': 3, 'height': 3, 'capacity': 12}, {'size': 'medium', 'width': 3, 'height': 3, 'capacity': 12}, {'size': 'medium', 'width': 3, 'height': 3, 'capacity': 12}, {'size': 'small', 'width': 2, 'height': 2, 'capacity': 8}, {'size': 'small', 'width': 2, 'height': 2, 'capacity': 8}, {'size': 'large', 'width': 3, 'height': 5, 'capacity': 12}, {'size': 'large', 'width': 5, 'height': 3, 'capacity': 20}, {'size': 'small', 'width': 2, 'height': 2, 'capacity': 8}] \n",
      "  \n",
      "\n",
      " instance details: \n",
      " restaurant size: small \n",
      " tables: 6 \n",
      " width: 15 \n",
      " height: 18 \n",
      " tables: [{'size': 'medium', 'width': 3, 'height': 3, 'capacity': 12}, {'size': 'medium', 'width': 3, 'height': 3, 'capacity': 12}, {'size': 'large', 'width': 3, 'height': 3, 'capacity': 12}, {'size': 'small', 'width': 2, 'height': 2, 'capacity': 8}, {'size': 'large', 'width': 4, 'height': 4, 'capacity': 16}, {'size': 'large', 'width': 3, 'height': 4, 'capacity': 12}] \n",
      "  \n",
      "\n",
      " instance details: \n",
      " restaurant size: medium \n",
      " tables: 12 \n",
      " width: 25 \n",
      " height: 35 \n",
      " tables: [{'size': 'large', 'width': 3, 'height': 4, 'capacity': 12}, {'size': 'large', 'width': 5, 'height': 5, 'capacity': 20}, {'size': 'small', 'width': 2, 'height': 2, 'capacity': 8}, {'size': 'medium', 'width': 3, 'height': 3, 'capacity': 12}, {'size': 'small', 'width': 2, 'height': 2, 'capacity': 8}, {'size': 'medium', 'width': 3, 'height': 3, 'capacity': 12}, {'size': 'large', 'width': 4, 'height': 5, 'capacity': 16}, {'size': 'large', 'width': 5, 'height': 3, 'capacity': 20}, {'size': 'large', 'width': 4, 'height': 3, 'capacity': 16}, {'size': 'large', 'width': 5, 'height': 4, 'capacity': 20}, {'size': 'small', 'width': 2, 'height': 2, 'capacity': 8}, {'size': 'large', 'width': 4, 'height': 5, 'capacity': 16}] \n",
      "  \n",
      "\n",
      " instance details: \n",
      " restaurant size: large \n",
      " tables: 18 \n",
      " width: 48 \n",
      " height: 44 \n",
      " tables: [{'size': 'small', 'width': 2, 'height': 2, 'capacity': 8}, {'size': 'medium', 'width': 3, 'height': 3, 'capacity': 12}, {'size': 'medium', 'width': 3, 'height': 3, 'capacity': 12}, {'size': 'large', 'width': 3, 'height': 5, 'capacity': 12}, {'size': 'medium', 'width': 3, 'height': 3, 'capacity': 12}, {'size': 'small', 'width': 2, 'height': 2, 'capacity': 8}, {'size': 'large', 'width': 4, 'height': 5, 'capacity': 16}, {'size': 'large', 'width': 4, 'height': 3, 'capacity': 16}, {'size': 'medium', 'width': 3, 'height': 3, 'capacity': 12}, {'size': 'large', 'width': 3, 'height': 4, 'capacity': 12}, {'size': 'large', 'width': 5, 'height': 4, 'capacity': 20}, {'size': 'large', 'width': 4, 'height': 5, 'capacity': 16}, {'size': 'small', 'width': 2, 'height': 2, 'capacity': 8}, {'size': 'small', 'width': 2, 'height': 2, 'capacity': 8}, {'size': 'large', 'width': 4, 'height': 3, 'capacity': 16}, {'size': 'medium', 'width': 3, 'height': 3, 'capacity': 12}, {'size': 'large', 'width': 5, 'height': 3, 'capacity': 20}, {'size': 'large', 'width': 3, 'height': 3, 'capacity': 12}] \n",
      "  \n"
     ]
    }
   ],
   "source": [
    "for instance in instances:\n",
    "    print('\\n instance details: \\n restaurant size: %s \\n tables: %d \\n width: %d \\n height: %d \\n tables: %s \\n  ' % (instance['restaurant_size'], instance['num_tables'], instance['width'], instance['height'], instance['tables']))"
   ]
  },
  {
   "cell_type": "code",
   "execution_count": 16,
   "metadata": {},
   "outputs": [],
   "source": [
    "import json \n",
    "\n",
    "with open('generated_instances.json', 'w') as json_file:\n",
    "  json.dump(instances, json_file)"
   ]
  },
  {
   "cell_type": "markdown",
   "metadata": {},
   "source": [
    "## Test load created instances from json\n",
    "instances that are loaded from a json file containing instance data that we have previously generated, which will be solved as part of assignment 2"
   ]
  },
  {
   "cell_type": "code",
   "execution_count": 17,
   "metadata": {},
   "outputs": [],
   "source": [
    "with open('generated_instances.json') as f:\n",
    "  loaded_instances = json.load(f)"
   ]
  }
 ],
 "metadata": {
  "kernelspec": {
   "display_name": "Python 3",
   "language": "python",
   "name": "python3"
  },
  "language_info": {
   "codemirror_mode": {
    "name": "ipython",
    "version": 3
   },
   "file_extension": ".py",
   "mimetype": "text/x-python",
   "name": "python",
   "nbconvert_exporter": "python",
   "pygments_lexer": "ipython3",
   "version": "3.8.3"
  }
 },
 "nbformat": 4,
 "nbformat_minor": 4
}
