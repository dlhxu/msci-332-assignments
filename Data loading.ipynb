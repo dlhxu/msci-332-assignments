{
 "cells": [
  {
   "cell_type": "code",
   "execution_count": 2,
   "metadata": {},
   "outputs": [],
   "source": [
    "import csv"
   ]
  },
  {
   "cell_type": "code",
   "execution_count": 3,
   "metadata": {},
   "outputs": [],
   "source": [
    "restaurant_configs = {}\n",
    "with open('restaurant_data.csv', newline='') as csvfile:\n",
    "    reader = csv.DictReader(csvfile)\n",
    "    for row in reader:\n",
    "#         print(row['restaurant_size'], row['max_tables'], row['max_width'],row['max_height'])\n",
    "        restaurant_configs[row['restaurant_size']]=row"
   ]
  },
  {
   "cell_type": "markdown",
   "metadata": {},
   "source": [
    "## Generate instances\n",
    "5 instances are generated for each restaurant size type, with width, height, and number of tables +-25% of the maximum for each value for each generated instance"
   ]
  },
  {
   "cell_type": "code",
   "execution_count": 30,
   "metadata": {},
   "outputs": [],
   "source": [
    "import random\n",
    "\n",
    "def randomScale(size, restaurant_feature, b):\n",
    "    val = int(restaurant_configs[size][restaurant_feature])\n",
    "    scaleVal = int(val*b)\n",
    "    return random.randint(val-scaleVal, val+scaleVal)"
   ]
  },
  {
   "cell_type": "code",
   "execution_count": 31,
   "metadata": {},
   "outputs": [
    {
     "data": {
      "text/plain": [
       "6"
      ]
     },
     "execution_count": 31,
     "metadata": {},
     "output_type": "execute_result"
    }
   ],
   "source": [
    "randomScale('small', 'max_tables', 0.25)"
   ]
  },
  {
   "cell_type": "code",
   "execution_count": 32,
   "metadata": {},
   "outputs": [],
   "source": [
    "def generateInstance(size, scaleFactor):\n",
    "    instance = {}\n",
    "    instance['restaurant_size'] = size\n",
    "    instance['tables'] = randomScale(size, 'max_tables', scaleFactor)\n",
    "    instance['width'] = randomScale(size, 'max_width', scaleFactor)\n",
    "    instance['height'] = randomScale(size, 'max_height', scaleFactor)\n",
    "    return instance"
   ]
  },
  {
   "cell_type": "code",
   "execution_count": 33,
   "metadata": {},
   "outputs": [],
   "source": [
    "instances = []\n",
    "scaleFactor = 0.25\n",
    "def generateInstances():\n",
    "    # generate 5 instances for small restaurant\n",
    "    for i in range(5):\n",
    "        instances.append(generateInstance('small', scaleFactor))\n",
    "        instances.append(generateInstance('medium', scaleFactor))\n",
    "        instances.append(generateInstance('large', scaleFactor))"
   ]
  },
  {
   "cell_type": "code",
   "execution_count": 34,
   "metadata": {},
   "outputs": [],
   "source": [
    "generateInstances()"
   ]
  },
  {
   "cell_type": "code",
   "execution_count": 35,
   "metadata": {},
   "outputs": [
    {
     "name": "stdout",
     "output_type": "stream",
     "text": [
      "[{'restaurant_size': 'small', 'tables': 7, 'width': 14, 'height': 13}, {'restaurant_size': 'medium', 'tables': 20, 'width': 28, 'height': 23}, {'restaurant_size': 'large', 'tables': 25, 'width': 46, 'height': 45}, {'restaurant_size': 'small', 'tables': 7, 'width': 12, 'height': 17}, {'restaurant_size': 'medium', 'tables': 19, 'width': 34, 'height': 35}, {'restaurant_size': 'large', 'tables': 20, 'width': 34, 'height': 34}, {'restaurant_size': 'small', 'tables': 9, 'width': 18, 'height': 12}, {'restaurant_size': 'medium', 'tables': 18, 'width': 25, 'height': 23}, {'restaurant_size': 'large', 'tables': 27, 'width': 43, 'height': 43}, {'restaurant_size': 'small', 'tables': 7, 'width': 13, 'height': 15}, {'restaurant_size': 'medium', 'tables': 19, 'width': 36, 'height': 37}, {'restaurant_size': 'large', 'tables': 21, 'width': 43, 'height': 49}, {'restaurant_size': 'small', 'tables': 10, 'width': 14, 'height': 12}, {'restaurant_size': 'medium', 'tables': 13, 'width': 23, 'height': 33}, {'restaurant_size': 'large', 'tables': 22, 'width': 56, 'height': 34}]\n"
     ]
    }
   ],
   "source": [
    "print(instances)"
   ]
  },
  {
   "cell_type": "code",
   "execution_count": 36,
   "metadata": {},
   "outputs": [
    {
     "name": "stdout",
     "output_type": "stream",
     "text": [
      "\n",
      " instance details: \n",
      " restaurant size: small \n",
      " tables: 7 \n",
      " width: 14 \n",
      " height: 13 \n",
      " \n",
      "\n",
      " instance details: \n",
      " restaurant size: medium \n",
      " tables: 20 \n",
      " width: 28 \n",
      " height: 23 \n",
      " \n",
      "\n",
      " instance details: \n",
      " restaurant size: large \n",
      " tables: 25 \n",
      " width: 46 \n",
      " height: 45 \n",
      " \n",
      "\n",
      " instance details: \n",
      " restaurant size: small \n",
      " tables: 7 \n",
      " width: 12 \n",
      " height: 17 \n",
      " \n",
      "\n",
      " instance details: \n",
      " restaurant size: medium \n",
      " tables: 19 \n",
      " width: 34 \n",
      " height: 35 \n",
      " \n",
      "\n",
      " instance details: \n",
      " restaurant size: large \n",
      " tables: 20 \n",
      " width: 34 \n",
      " height: 34 \n",
      " \n",
      "\n",
      " instance details: \n",
      " restaurant size: small \n",
      " tables: 9 \n",
      " width: 18 \n",
      " height: 12 \n",
      " \n",
      "\n",
      " instance details: \n",
      " restaurant size: medium \n",
      " tables: 18 \n",
      " width: 25 \n",
      " height: 23 \n",
      " \n",
      "\n",
      " instance details: \n",
      " restaurant size: large \n",
      " tables: 27 \n",
      " width: 43 \n",
      " height: 43 \n",
      " \n",
      "\n",
      " instance details: \n",
      " restaurant size: small \n",
      " tables: 7 \n",
      " width: 13 \n",
      " height: 15 \n",
      " \n",
      "\n",
      " instance details: \n",
      " restaurant size: medium \n",
      " tables: 19 \n",
      " width: 36 \n",
      " height: 37 \n",
      " \n",
      "\n",
      " instance details: \n",
      " restaurant size: large \n",
      " tables: 21 \n",
      " width: 43 \n",
      " height: 49 \n",
      " \n",
      "\n",
      " instance details: \n",
      " restaurant size: small \n",
      " tables: 10 \n",
      " width: 14 \n",
      " height: 12 \n",
      " \n",
      "\n",
      " instance details: \n",
      " restaurant size: medium \n",
      " tables: 13 \n",
      " width: 23 \n",
      " height: 33 \n",
      " \n",
      "\n",
      " instance details: \n",
      " restaurant size: large \n",
      " tables: 22 \n",
      " width: 56 \n",
      " height: 34 \n",
      " \n"
     ]
    }
   ],
   "source": [
    "for instance in instances:\n",
    "    print('\\n instance details: \\n restaurant size: %s \\n tables: %d \\n width: %d \\n height: %d \\n ' % (instance['restaurant_size'], instance['tables'], instance['width'], instance['height']))"
   ]
  }
 ],
 "metadata": {
  "kernelspec": {
   "display_name": "Python 3",
   "language": "python",
   "name": "python3"
  },
  "language_info": {
   "codemirror_mode": {
    "name": "ipython",
    "version": 3
   },
   "file_extension": ".py",
   "mimetype": "text/x-python",
   "name": "python",
   "nbconvert_exporter": "python",
   "pygments_lexer": "ipython3",
   "version": "3.8.3"
  }
 },
 "nbformat": 4,
 "nbformat_minor": 4
}
